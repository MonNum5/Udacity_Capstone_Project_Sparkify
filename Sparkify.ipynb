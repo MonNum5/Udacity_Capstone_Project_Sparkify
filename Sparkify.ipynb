{
 "cells": [
  {
   "cell_type": "markdown",
   "metadata": {},
   "source": [
    "# Sparkify Project Workspace\n",
    "This workspace contains a tiny subset (128MB) of the full dataset available (12GB). Feel free to use this workspace to build your project, or to explore a smaller subset with Spark before deploying your cluster on the cloud. Instructions for setting up your Spark cluster is included in the last lesson of the Extracurricular Spark Course content.\n",
    "\n",
    "You can follow the steps below to guide your data analysis and model building portion of this project."
   ]
  },
  {
   "cell_type": "code",
   "execution_count": 2,
   "metadata": {},
   "outputs": [],
   "source": [
    "# import libraries\n",
    "import pyspark as spark\n",
    "from pyspark.sql import SparkSession\n",
    "import zipfile\n",
    "import numpy as np\n",
    "import plotly.graph_objects as go\n",
    "\n",
    "# unzip compressed data file\n",
    "zip_ref = zipfile.ZipFile('mini_sparkify_event_data.json.zip', 'r')\n",
    "zip_ref.extractall()\n",
    "zip_ref.close()"
   ]
  },
  {
   "cell_type": "code",
   "execution_count": 3,
   "metadata": {},
   "outputs": [],
   "source": [
    "# create a Spark session\n",
    "spark = SparkSession.builder \\\n",
    "        .appName(\"Sparkify\") \\\n",
    "        .getOrCreate()\n"
   ]
  },
  {
   "cell_type": "markdown",
   "metadata": {},
   "source": [
    "# Load and Clean Dataset\n",
    "In this workspace, the mini-dataset file is `mini_sparkify_event_data.json`. Load and clean the dataset, checking for invalid or missing data - for example, records without userids or sessionids. "
   ]
  },
  {
   "cell_type": "code",
   "execution_count": 4,
   "metadata": {},
   "outputs": [
    {
     "output_type": "stream",
     "name": "stdout",
     "text": "+--------------------+---------+---------+------+-------------+--------+---------+-----+--------------------+------+---------------+-------------+---------+--------------------+------+-------------+--------------------+------+\n|              artist|     auth|firstName|gender|itemInSession|lastName|   length|level|            location|method|           page| registration|sessionId|                song|status|           ts|           userAgent|userId|\n+--------------------+---------+---------+------+-------------+--------+---------+-----+--------------------+------+---------------+-------------+---------+--------------------+------+-------------+--------------------+------+\n|      Martha Tilston|Logged In|    Colin|     M|           50| Freeman|277.89016| paid|     Bakersfield, CA|   PUT|       NextSong|1538173362000|       29|           Rockpools|   200|1538352117000|Mozilla/5.0 (Wind...|    30|\n|    Five Iron Frenzy|Logged In|    Micah|     M|           79|    Long|236.09424| free|Boston-Cambridge-...|   PUT|       NextSong|1538331630000|        8|              Canada|   200|1538352180000|\"Mozilla/5.0 (Win...|     9|\n|        Adam Lambert|Logged In|    Colin|     M|           51| Freeman| 282.8273| paid|     Bakersfield, CA|   PUT|       NextSong|1538173362000|       29|   Time For Miracles|   200|1538352394000|Mozilla/5.0 (Wind...|    30|\n|              Enigma|Logged In|    Micah|     M|           80|    Long|262.71302| free|Boston-Cambridge-...|   PUT|       NextSong|1538331630000|        8|Knocking On Forbi...|   200|1538352416000|\"Mozilla/5.0 (Win...|     9|\n|           Daft Punk|Logged In|    Colin|     M|           52| Freeman|223.60771| paid|     Bakersfield, CA|   PUT|       NextSong|1538173362000|       29|Harder Better Fas...|   200|1538352676000|Mozilla/5.0 (Wind...|    30|\n|The All-American ...|Logged In|    Micah|     M|           81|    Long|208.29995| free|Boston-Cambridge-...|   PUT|       NextSong|1538331630000|        8|      Don't Leave Me|   200|1538352678000|\"Mozilla/5.0 (Win...|     9|\n|The Velvet Underg...|Logged In|    Micah|     M|           82|    Long|260.46649| free|Boston-Cambridge-...|   PUT|       NextSong|1538331630000|        8|         Run Run Run|   200|1538352886000|\"Mozilla/5.0 (Win...|     9|\n|        Starflyer 59|Logged In|    Colin|     M|           53| Freeman|185.44281| paid|     Bakersfield, CA|   PUT|       NextSong|1538173362000|       29|Passengers (Old A...|   200|1538352899000|Mozilla/5.0 (Wind...|    30|\n|                null|Logged In|    Colin|     M|           54| Freeman|     null| paid|     Bakersfield, CA|   PUT|Add to Playlist|1538173362000|       29|                null|   200|1538352905000|Mozilla/5.0 (Wind...|    30|\n|            Frumpies|Logged In|    Colin|     M|           55| Freeman|134.47791| paid|     Bakersfield, CA|   PUT|       NextSong|1538173362000|       29|          Fuck Kitty|   200|1538353084000|Mozilla/5.0 (Wind...|    30|\n|        Britt Nicole|Logged In|    Micah|     M|           83|    Long| 229.8771| free|Boston-Cambridge-...|   PUT|       NextSong|1538331630000|        8|   Walk On The Water|   200|1538353146000|\"Mozilla/5.0 (Win...|     9|\n|                null|Logged In|    Micah|     M|           84|    Long|     null| free|Boston-Cambridge-...|   GET|    Roll Advert|1538331630000|        8|                null|   200|1538353150000|\"Mozilla/5.0 (Win...|     9|\n|Edward Sharpe & T...|Logged In|    Colin|     M|           56| Freeman|223.58159| paid|     Bakersfield, CA|   PUT|       NextSong|1538173362000|       29|                Jade|   200|1538353218000|Mozilla/5.0 (Wind...|    30|\n|               Tesla|Logged In|    Micah|     M|           85|    Long|201.06404| free|Boston-Cambridge-...|   PUT|       NextSong|1538331630000|        8|      Gettin' Better|   200|1538353375000|\"Mozilla/5.0 (Win...|     9|\n|                null|Logged In|    Micah|     M|           86|    Long|     null| free|Boston-Cambridge-...|   PUT|      Thumbs Up|1538331630000|        8|                null|   307|1538353376000|\"Mozilla/5.0 (Win...|     9|\n|         Stan Mosley|Logged In|    Colin|     M|           57| Freeman|246.69995| paid|     Bakersfield, CA|   PUT|       NextSong|1538173362000|       29|   So-Called Friends|   200|1538353441000|Mozilla/5.0 (Wind...|    30|\n|Florence + The Ma...|Logged In|    Micah|     M|           87|    Long|168.64608| free|Boston-Cambridge-...|   PUT|       NextSong|1538331630000|        8| You've Got The Love|   200|1538353576000|\"Mozilla/5.0 (Win...|     9|\n|   Tokyo Police Club|Logged In|  Ashlynn|     F|            0|Williams| 166.1122| free|     Tallahassee, FL|   PUT|       NextSong|1537365219000|      217|Citizens Of Tomorrow|   200|1538353668000|\"Mozilla/5.0 (Mac...|    74|\n|             Orishas|Logged In|    Colin|     M|           58| Freeman|222.22322| paid|     Bakersfield, CA|   PUT|       NextSong|1538173362000|       29|           Represent|   200|1538353687000|Mozilla/5.0 (Wind...|    30|\n|             Ratatat|Logged In|    Micah|     M|           88|    Long|229.77261| free|Boston-Cambridge-...|   PUT|       NextSong|1538331630000|        8|              Swisha|   200|1538353744000|\"Mozilla/5.0 (Win...|     9|\n+--------------------+---------+---------+------+-------------+--------+---------+-----+--------------------+------+---------------+-------------+---------+--------------------+------+-------------+--------------------+------+\nonly showing top 20 rows\n\n"
    },
    {
     "output_type": "execute_result",
     "data": {
      "text/plain": "286500"
     },
     "metadata": {},
     "execution_count": 4
    }
   ],
   "source": [
    "# load data set\n",
    "data = spark.read.json(\"mini_sparkify_event_data.json\")\n",
    "data.show()\n",
    "data.columns\n",
    "data.count()"
   ]
  },
  {
   "cell_type": "code",
   "execution_count": 19,
   "metadata": {},
   "outputs": [],
   "source": [
    "data.createOrReplaceTempView(\"data\")"
   ]
  },
  {
   "cell_type": "code",
   "execution_count": 20,
   "metadata": {},
   "outputs": [
    {
     "output_type": "stream",
     "name": "stdout",
     "text": "Check if Null\nartist 58392\nauth 0\nfirstName 8346\ngender 8346\nitemInSession 0\nlastName 8346\nlength 58392\nlevel 0\nlocation 8346\nmethod 0\npage 0\nregistration 8346\nsessionId 0\nsong 58392\nstatus 0\nts 0\nuserAgent 8346\nuserId 0\n\nCheck if empty string\nartist 0\nauth 0\nfirstName 0\ngender 0\nitemInSession 0\nlastName 0\nlength 0\nlevel 0\nlocation 0\nmethod 0\npage 0\nregistration 0\nsessionId 0\nsong 0\nstatus 0\nts 0\nuserAgent 0\nuserId 8346\n"
    }
   ],
   "source": [
    "# clean data\n",
    "# Try to figure out which columns have missing values, are NULL\n",
    "#for column in in data.columns\n",
    "\n",
    "print('Check if Null')\n",
    "for column in data.columns:\n",
    "    print(column,spark.sql(f\"SELECT * FROM data WHERE {column} IS NULL\").count())\n",
    "print()\n",
    "print('Check if empty string')\n",
    "for column in data.columns:\n",
    "    print(column,spark.sql(f\"SELECT * FROM data WHERE {column} = ''\").count())"
   ]
  },
  {
   "cell_type": "markdown",
   "metadata": {},
   "source": [
    "- No missing values for auth, itemInSession, level, method, page, sessionID, status, ts, userID\n",
    "- but 8346 empty string userIds\n",
    "We are not going to consider empty string userIds therefore we create a new data frame"
   ]
  },
  {
   "cell_type": "code",
   "execution_count": 21,
   "metadata": {},
   "outputs": [],
   "source": [
    "data_cleaned = spark.sql(f\"SELECT * FROM data WHERE userId != ''\")\n",
    "data_cleaned.createOrReplaceTempView(\"data_cleaned\")"
   ]
  },
  {
   "cell_type": "code",
   "execution_count": 22,
   "metadata": {},
   "outputs": [
    {
     "output_type": "stream",
     "name": "stdout",
     "text": "artist 17655\nauth 2\nfirstName 189\ngender 2\nitemInSession 1311\nlastName 173\nlength 14865\nlevel 2\nlocation 114\nmethod 2\npage 19\nregistration 225\nsessionId 2312\nsong 58480\nstatus 3\nts 269770\nuserAgent 56\nuserId 225\n"
    }
   ],
   "source": [
    "# Number of unique items in each row\n",
    "for column in data_cleaned.columns:\n",
    "    print(column,spark.sql(f\"SELECT COUNT(DISTINCT({column})) FROM data_cleaned\").collect()[0][0])"
   ]
  },
  {
   "cell_type": "markdown",
   "metadata": {},
   "source": [
    "- So 225 unique users, that we have to make predictions\n",
    "- Lets make a plot "
   ]
  },
  {
   "cell_type": "code",
   "execution_count": 23,
   "metadata": {},
   "outputs": [
    {
     "output_type": "display_data",
     "data": {
      "application/vnd.plotly.v1+json": {
       "config": {
        "plotlyServerURL": "https://plot.ly"
       },
       "data": [
        {
         "labels": [
          "free",
          "paid"
         ],
         "type": "pie",
         "values": [
          195,
          165
         ]
        }
       ],
       "layout": {
        "template": {
         "data": {
          "bar": [
           {
            "error_x": {
             "color": "#2a3f5f"
            },
            "error_y": {
             "color": "#2a3f5f"
            },
            "marker": {
             "line": {
              "color": "white",
              "width": 0.5
             }
            },
            "type": "bar"
           }
          ],
          "barpolar": [
           {
            "marker": {
             "line": {
              "color": "white",
              "width": 0.5
             }
            },
            "type": "barpolar"
           }
          ],
          "carpet": [
           {
            "aaxis": {
             "endlinecolor": "#2a3f5f",
             "gridcolor": "#C8D4E3",
             "linecolor": "#C8D4E3",
             "minorgridcolor": "#C8D4E3",
             "startlinecolor": "#2a3f5f"
            },
            "baxis": {
             "endlinecolor": "#2a3f5f",
             "gridcolor": "#C8D4E3",
             "linecolor": "#C8D4E3",
             "minorgridcolor": "#C8D4E3",
             "startlinecolor": "#2a3f5f"
            },
            "type": "carpet"
           }
          ],
          "choropleth": [
           {
            "colorbar": {
             "outlinewidth": 0,
             "ticks": ""
            },
            "type": "choropleth"
           }
          ],
          "contour": [
           {
            "colorbar": {
             "outlinewidth": 0,
             "ticks": ""
            },
            "colorscale": [
             [
              0,
              "#0d0887"
             ],
             [
              0.1111111111111111,
              "#46039f"
             ],
             [
              0.2222222222222222,
              "#7201a8"
             ],
             [
              0.3333333333333333,
              "#9c179e"
             ],
             [
              0.4444444444444444,
              "#bd3786"
             ],
             [
              0.5555555555555556,
              "#d8576b"
             ],
             [
              0.6666666666666666,
              "#ed7953"
             ],
             [
              0.7777777777777778,
              "#fb9f3a"
             ],
             [
              0.8888888888888888,
              "#fdca26"
             ],
             [
              1,
              "#f0f921"
             ]
            ],
            "type": "contour"
           }
          ],
          "contourcarpet": [
           {
            "colorbar": {
             "outlinewidth": 0,
             "ticks": ""
            },
            "type": "contourcarpet"
           }
          ],
          "heatmap": [
           {
            "colorbar": {
             "outlinewidth": 0,
             "ticks": ""
            },
            "colorscale": [
             [
              0,
              "#0d0887"
             ],
             [
              0.1111111111111111,
              "#46039f"
             ],
             [
              0.2222222222222222,
              "#7201a8"
             ],
             [
              0.3333333333333333,
              "#9c179e"
             ],
             [
              0.4444444444444444,
              "#bd3786"
             ],
             [
              0.5555555555555556,
              "#d8576b"
             ],
             [
              0.6666666666666666,
              "#ed7953"
             ],
             [
              0.7777777777777778,
              "#fb9f3a"
             ],
             [
              0.8888888888888888,
              "#fdca26"
             ],
             [
              1,
              "#f0f921"
             ]
            ],
            "type": "heatmap"
           }
          ],
          "heatmapgl": [
           {
            "colorbar": {
             "outlinewidth": 0,
             "ticks": ""
            },
            "colorscale": [
             [
              0,
              "#0d0887"
             ],
             [
              0.1111111111111111,
              "#46039f"
             ],
             [
              0.2222222222222222,
              "#7201a8"
             ],
             [
              0.3333333333333333,
              "#9c179e"
             ],
             [
              0.4444444444444444,
              "#bd3786"
             ],
             [
              0.5555555555555556,
              "#d8576b"
             ],
             [
              0.6666666666666666,
              "#ed7953"
             ],
             [
              0.7777777777777778,
              "#fb9f3a"
             ],
             [
              0.8888888888888888,
              "#fdca26"
             ],
             [
              1,
              "#f0f921"
             ]
            ],
            "type": "heatmapgl"
           }
          ],
          "histogram": [
           {
            "marker": {
             "colorbar": {
              "outlinewidth": 0,
              "ticks": ""
             }
            },
            "type": "histogram"
           }
          ],
          "histogram2d": [
           {
            "colorbar": {
             "outlinewidth": 0,
             "ticks": ""
            },
            "colorscale": [
             [
              0,
              "#0d0887"
             ],
             [
              0.1111111111111111,
              "#46039f"
             ],
             [
              0.2222222222222222,
              "#7201a8"
             ],
             [
              0.3333333333333333,
              "#9c179e"
             ],
             [
              0.4444444444444444,
              "#bd3786"
             ],
             [
              0.5555555555555556,
              "#d8576b"
             ],
             [
              0.6666666666666666,
              "#ed7953"
             ],
             [
              0.7777777777777778,
              "#fb9f3a"
             ],
             [
              0.8888888888888888,
              "#fdca26"
             ],
             [
              1,
              "#f0f921"
             ]
            ],
            "type": "histogram2d"
           }
          ],
          "histogram2dcontour": [
           {
            "colorbar": {
             "outlinewidth": 0,
             "ticks": ""
            },
            "colorscale": [
             [
              0,
              "#0d0887"
             ],
             [
              0.1111111111111111,
              "#46039f"
             ],
             [
              0.2222222222222222,
              "#7201a8"
             ],
             [
              0.3333333333333333,
              "#9c179e"
             ],
             [
              0.4444444444444444,
              "#bd3786"
             ],
             [
              0.5555555555555556,
              "#d8576b"
             ],
             [
              0.6666666666666666,
              "#ed7953"
             ],
             [
              0.7777777777777778,
              "#fb9f3a"
             ],
             [
              0.8888888888888888,
              "#fdca26"
             ],
             [
              1,
              "#f0f921"
             ]
            ],
            "type": "histogram2dcontour"
           }
          ],
          "mesh3d": [
           {
            "colorbar": {
             "outlinewidth": 0,
             "ticks": ""
            },
            "type": "mesh3d"
           }
          ],
          "parcoords": [
           {
            "line": {
             "colorbar": {
              "outlinewidth": 0,
              "ticks": ""
             }
            },
            "type": "parcoords"
           }
          ],
          "pie": [
           {
            "automargin": true,
            "type": "pie"
           }
          ],
          "scatter": [
           {
            "marker": {
             "colorbar": {
              "outlinewidth": 0,
              "ticks": ""
             }
            },
            "type": "scatter"
           }
          ],
          "scatter3d": [
           {
            "line": {
             "colorbar": {
              "outlinewidth": 0,
              "ticks": ""
             }
            },
            "marker": {
             "colorbar": {
              "outlinewidth": 0,
              "ticks": ""
             }
            },
            "type": "scatter3d"
           }
          ],
          "scattercarpet": [
           {
            "marker": {
             "colorbar": {
              "outlinewidth": 0,
              "ticks": ""
             }
            },
            "type": "scattercarpet"
           }
          ],
          "scattergeo": [
           {
            "marker": {
             "colorbar": {
              "outlinewidth": 0,
              "ticks": ""
             }
            },
            "type": "scattergeo"
           }
          ],
          "scattergl": [
           {
            "marker": {
             "colorbar": {
              "outlinewidth": 0,
              "ticks": ""
             }
            },
            "type": "scattergl"
           }
          ],
          "scattermapbox": [
           {
            "marker": {
             "colorbar": {
              "outlinewidth": 0,
              "ticks": ""
             }
            },
            "type": "scattermapbox"
           }
          ],
          "scatterpolar": [
           {
            "marker": {
             "colorbar": {
              "outlinewidth": 0,
              "ticks": ""
             }
            },
            "type": "scatterpolar"
           }
          ],
          "scatterpolargl": [
           {
            "marker": {
             "colorbar": {
              "outlinewidth": 0,
              "ticks": ""
             }
            },
            "type": "scatterpolargl"
           }
          ],
          "scatterternary": [
           {
            "marker": {
             "colorbar": {
              "outlinewidth": 0,
              "ticks": ""
             }
            },
            "type": "scatterternary"
           }
          ],
          "surface": [
           {
            "colorbar": {
             "outlinewidth": 0,
             "ticks": ""
            },
            "colorscale": [
             [
              0,
              "#0d0887"
             ],
             [
              0.1111111111111111,
              "#46039f"
             ],
             [
              0.2222222222222222,
              "#7201a8"
             ],
             [
              0.3333333333333333,
              "#9c179e"
             ],
             [
              0.4444444444444444,
              "#bd3786"
             ],
             [
              0.5555555555555556,
              "#d8576b"
             ],
             [
              0.6666666666666666,
              "#ed7953"
             ],
             [
              0.7777777777777778,
              "#fb9f3a"
             ],
             [
              0.8888888888888888,
              "#fdca26"
             ],
             [
              1,
              "#f0f921"
             ]
            ],
            "type": "surface"
           }
          ],
          "table": [
           {
            "cells": {
             "fill": {
              "color": "#EBF0F8"
             },
             "line": {
              "color": "white"
             }
            },
            "header": {
             "fill": {
              "color": "#C8D4E3"
             },
             "line": {
              "color": "white"
             }
            },
            "type": "table"
           }
          ]
         },
         "layout": {
          "annotationdefaults": {
           "arrowcolor": "#2a3f5f",
           "arrowhead": 0,
           "arrowwidth": 1
          },
          "coloraxis": {
           "colorbar": {
            "outlinewidth": 0,
            "ticks": ""
           }
          },
          "colorscale": {
           "diverging": [
            [
             0,
             "#8e0152"
            ],
            [
             0.1,
             "#c51b7d"
            ],
            [
             0.2,
             "#de77ae"
            ],
            [
             0.3,
             "#f1b6da"
            ],
            [
             0.4,
             "#fde0ef"
            ],
            [
             0.5,
             "#f7f7f7"
            ],
            [
             0.6,
             "#e6f5d0"
            ],
            [
             0.7,
             "#b8e186"
            ],
            [
             0.8,
             "#7fbc41"
            ],
            [
             0.9,
             "#4d9221"
            ],
            [
             1,
             "#276419"
            ]
           ],
           "sequential": [
            [
             0,
             "#0d0887"
            ],
            [
             0.1111111111111111,
             "#46039f"
            ],
            [
             0.2222222222222222,
             "#7201a8"
            ],
            [
             0.3333333333333333,
             "#9c179e"
            ],
            [
             0.4444444444444444,
             "#bd3786"
            ],
            [
             0.5555555555555556,
             "#d8576b"
            ],
            [
             0.6666666666666666,
             "#ed7953"
            ],
            [
             0.7777777777777778,
             "#fb9f3a"
            ],
            [
             0.8888888888888888,
             "#fdca26"
            ],
            [
             1,
             "#f0f921"
            ]
           ],
           "sequentialminus": [
            [
             0,
             "#0d0887"
            ],
            [
             0.1111111111111111,
             "#46039f"
            ],
            [
             0.2222222222222222,
             "#7201a8"
            ],
            [
             0.3333333333333333,
             "#9c179e"
            ],
            [
             0.4444444444444444,
             "#bd3786"
            ],
            [
             0.5555555555555556,
             "#d8576b"
            ],
            [
             0.6666666666666666,
             "#ed7953"
            ],
            [
             0.7777777777777778,
             "#fb9f3a"
            ],
            [
             0.8888888888888888,
             "#fdca26"
            ],
            [
             1,
             "#f0f921"
            ]
           ]
          },
          "colorway": [
           "#636efa",
           "#EF553B",
           "#00cc96",
           "#ab63fa",
           "#FFA15A",
           "#19d3f3",
           "#FF6692",
           "#B6E880",
           "#FF97FF",
           "#FECB52"
          ],
          "font": {
           "color": "#2a3f5f"
          },
          "geo": {
           "bgcolor": "white",
           "lakecolor": "white",
           "landcolor": "white",
           "showlakes": true,
           "showland": true,
           "subunitcolor": "#C8D4E3"
          },
          "hoverlabel": {
           "align": "left"
          },
          "hovermode": "closest",
          "mapbox": {
           "style": "light"
          },
          "paper_bgcolor": "white",
          "plot_bgcolor": "white",
          "polar": {
           "angularaxis": {
            "gridcolor": "#EBF0F8",
            "linecolor": "#EBF0F8",
            "ticks": ""
           },
           "bgcolor": "white",
           "radialaxis": {
            "gridcolor": "#EBF0F8",
            "linecolor": "#EBF0F8",
            "ticks": ""
           }
          },
          "scene": {
           "xaxis": {
            "backgroundcolor": "white",
            "gridcolor": "#DFE8F3",
            "gridwidth": 2,
            "linecolor": "#EBF0F8",
            "showbackground": true,
            "ticks": "",
            "zerolinecolor": "#EBF0F8"
           },
           "yaxis": {
            "backgroundcolor": "white",
            "gridcolor": "#DFE8F3",
            "gridwidth": 2,
            "linecolor": "#EBF0F8",
            "showbackground": true,
            "ticks": "",
            "zerolinecolor": "#EBF0F8"
           },
           "zaxis": {
            "backgroundcolor": "white",
            "gridcolor": "#DFE8F3",
            "gridwidth": 2,
            "linecolor": "#EBF0F8",
            "showbackground": true,
            "ticks": "",
            "zerolinecolor": "#EBF0F8"
           }
          },
          "shapedefaults": {
           "line": {
            "color": "#2a3f5f"
           }
          },
          "ternary": {
           "aaxis": {
            "gridcolor": "#DFE8F3",
            "linecolor": "#A2B1C6",
            "ticks": ""
           },
           "baxis": {
            "gridcolor": "#DFE8F3",
            "linecolor": "#A2B1C6",
            "ticks": ""
           },
           "bgcolor": "white",
           "caxis": {
            "gridcolor": "#DFE8F3",
            "linecolor": "#A2B1C6",
            "ticks": ""
           }
          },
          "title": {
           "x": 0.05
          },
          "xaxis": {
           "automargin": true,
           "gridcolor": "#EBF0F8",
           "linecolor": "#EBF0F8",
           "ticks": "",
           "title": {
            "standoff": 15
           },
           "zerolinecolor": "#EBF0F8",
           "zerolinewidth": 2
          },
          "yaxis": {
           "automargin": true,
           "gridcolor": "#EBF0F8",
           "linecolor": "#EBF0F8",
           "ticks": "",
           "title": {
            "standoff": 15
           },
           "zerolinecolor": "#EBF0F8",
           "zerolinewidth": 2
          }
         }
        },
        "title": {
         "text": "Fraction of free and paying users"
        }
       }
      }
     },
     "metadata": {}
    },
    {
     "output_type": "display_data",
     "data": {
      "application/vnd.plotly.v1+json": {
       "config": {
        "plotlyServerURL": "https://plot.ly"
       },
       "data": [
        {
         "name": "free",
         "type": "histogram",
         "x": [
          2041,
          1853,
          1218,
          1202,
          1163,
          1139,
          1100,
          1006,
          964,
          851,
          837,
          818,
          808,
          786,
          740,
          701,
          691,
          655,
          653,
          623,
          619,
          597,
          585,
          578,
          566,
          546,
          541,
          533,
          518,
          515,
          489,
          488,
          483,
          478,
          474,
          464,
          456,
          445,
          442,
          438,
          435,
          434,
          429,
          429,
          402,
          391,
          390,
          381,
          369,
          355,
          351,
          349,
          349,
          347,
          346,
          345,
          342,
          336,
          334,
          332,
          330,
          324,
          319,
          317,
          315,
          309,
          303,
          300,
          292,
          291,
          279,
          276,
          272,
          270,
          268,
          262,
          257,
          256,
          251,
          240,
          240,
          239,
          235,
          234,
          233,
          228,
          226,
          225,
          223,
          221,
          219,
          218,
          216,
          211,
          210,
          206,
          205,
          202,
          201,
          196,
          195,
          191,
          189,
          187,
          187,
          186,
          179,
          163,
          162,
          160,
          158,
          156,
          152,
          149,
          148,
          144,
          141,
          140,
          139,
          138,
          137,
          129,
          125,
          124,
          120,
          120,
          118,
          117,
          112,
          110,
          107,
          107,
          105,
          103,
          103,
          102,
          98,
          98,
          97,
          97,
          96,
          96,
          93,
          89,
          84,
          84,
          84,
          79,
          79,
          78,
          78,
          76,
          75,
          73,
          73,
          72,
          70,
          68,
          64,
          63,
          62,
          53,
          52,
          48,
          45,
          44,
          44,
          41,
          40,
          40,
          39,
          37,
          36,
          36,
          35,
          35,
          35,
          34,
          25,
          24,
          23,
          23,
          21,
          21,
          16,
          12,
          12,
          11,
          9,
          7,
          6,
          6,
          5,
          4,
          4
         ]
        },
        {
         "name": "paid",
         "type": "histogram",
         "x": [
          7779,
          6091,
          5662,
          5456,
          4825,
          4650,
          4428,
          4128,
          3747,
          3677,
          3213,
          2967,
          2934,
          2914,
          2862,
          2859,
          2664,
          2559,
          2518,
          2464,
          2408,
          2404,
          2396,
          2301,
          2294,
          2278,
          2270,
          2228,
          2220,
          2207,
          2195,
          2187,
          2130,
          2125,
          2073,
          2063,
          2011,
          1997,
          1988,
          1956,
          1948,
          1940,
          1915,
          1889,
          1889,
          1883,
          1865,
          1850,
          1842,
          1797,
          1783,
          1760,
          1728,
          1714,
          1672,
          1672,
          1630,
          1603,
          1557,
          1529,
          1510,
          1503,
          1474,
          1432,
          1403,
          1387,
          1347,
          1303,
          1283,
          1275,
          1269,
          1248,
          1141,
          1131,
          1127,
          1116,
          1089,
          1054,
          1040,
          1017,
          999,
          981,
          972,
          957,
          931,
          916,
          902,
          899,
          881,
          873,
          867,
          858,
          858,
          853,
          795,
          759,
          733,
          714,
          706,
          703,
          694,
          693,
          675,
          657,
          622,
          592,
          591,
          589,
          584,
          569,
          554,
          543,
          541,
          526,
          520,
          513,
          507,
          474,
          467,
          454,
          452,
          446,
          441,
          429,
          428,
          421,
          413,
          411,
          399,
          397,
          391,
          360,
          354,
          349,
          335,
          330,
          324,
          310,
          296,
          259,
          255,
          254,
          249,
          233,
          229,
          218,
          210,
          196,
          163,
          162,
          159,
          154,
          152,
          152,
          143,
          115,
          102,
          96,
          87,
          82,
          76,
          53,
          45,
          37,
          1
         ]
        }
       ],
       "layout": {
        "template": {
         "data": {
          "bar": [
           {
            "error_x": {
             "color": "#2a3f5f"
            },
            "error_y": {
             "color": "#2a3f5f"
            },
            "marker": {
             "line": {
              "color": "white",
              "width": 0.5
             }
            },
            "type": "bar"
           }
          ],
          "barpolar": [
           {
            "marker": {
             "line": {
              "color": "white",
              "width": 0.5
             }
            },
            "type": "barpolar"
           }
          ],
          "carpet": [
           {
            "aaxis": {
             "endlinecolor": "#2a3f5f",
             "gridcolor": "#C8D4E3",
             "linecolor": "#C8D4E3",
             "minorgridcolor": "#C8D4E3",
             "startlinecolor": "#2a3f5f"
            },
            "baxis": {
             "endlinecolor": "#2a3f5f",
             "gridcolor": "#C8D4E3",
             "linecolor": "#C8D4E3",
             "minorgridcolor": "#C8D4E3",
             "startlinecolor": "#2a3f5f"
            },
            "type": "carpet"
           }
          ],
          "choropleth": [
           {
            "colorbar": {
             "outlinewidth": 0,
             "ticks": ""
            },
            "type": "choropleth"
           }
          ],
          "contour": [
           {
            "colorbar": {
             "outlinewidth": 0,
             "ticks": ""
            },
            "colorscale": [
             [
              0,
              "#0d0887"
             ],
             [
              0.1111111111111111,
              "#46039f"
             ],
             [
              0.2222222222222222,
              "#7201a8"
             ],
             [
              0.3333333333333333,
              "#9c179e"
             ],
             [
              0.4444444444444444,
              "#bd3786"
             ],
             [
              0.5555555555555556,
              "#d8576b"
             ],
             [
              0.6666666666666666,
              "#ed7953"
             ],
             [
              0.7777777777777778,
              "#fb9f3a"
             ],
             [
              0.8888888888888888,
              "#fdca26"
             ],
             [
              1,
              "#f0f921"
             ]
            ],
            "type": "contour"
           }
          ],
          "contourcarpet": [
           {
            "colorbar": {
             "outlinewidth": 0,
             "ticks": ""
            },
            "type": "contourcarpet"
           }
          ],
          "heatmap": [
           {
            "colorbar": {
             "outlinewidth": 0,
             "ticks": ""
            },
            "colorscale": [
             [
              0,
              "#0d0887"
             ],
             [
              0.1111111111111111,
              "#46039f"
             ],
             [
              0.2222222222222222,
              "#7201a8"
             ],
             [
              0.3333333333333333,
              "#9c179e"
             ],
             [
              0.4444444444444444,
              "#bd3786"
             ],
             [
              0.5555555555555556,
              "#d8576b"
             ],
             [
              0.6666666666666666,
              "#ed7953"
             ],
             [
              0.7777777777777778,
              "#fb9f3a"
             ],
             [
              0.8888888888888888,
              "#fdca26"
             ],
             [
              1,
              "#f0f921"
             ]
            ],
            "type": "heatmap"
           }
          ],
          "heatmapgl": [
           {
            "colorbar": {
             "outlinewidth": 0,
             "ticks": ""
            },
            "colorscale": [
             [
              0,
              "#0d0887"
             ],
             [
              0.1111111111111111,
              "#46039f"
             ],
             [
              0.2222222222222222,
              "#7201a8"
             ],
             [
              0.3333333333333333,
              "#9c179e"
             ],
             [
              0.4444444444444444,
              "#bd3786"
             ],
             [
              0.5555555555555556,
              "#d8576b"
             ],
             [
              0.6666666666666666,
              "#ed7953"
             ],
             [
              0.7777777777777778,
              "#fb9f3a"
             ],
             [
              0.8888888888888888,
              "#fdca26"
             ],
             [
              1,
              "#f0f921"
             ]
            ],
            "type": "heatmapgl"
           }
          ],
          "histogram": [
           {
            "marker": {
             "colorbar": {
              "outlinewidth": 0,
              "ticks": ""
             }
            },
            "type": "histogram"
           }
          ],
          "histogram2d": [
           {
            "colorbar": {
             "outlinewidth": 0,
             "ticks": ""
            },
            "colorscale": [
             [
              0,
              "#0d0887"
             ],
             [
              0.1111111111111111,
              "#46039f"
             ],
             [
              0.2222222222222222,
              "#7201a8"
             ],
             [
              0.3333333333333333,
              "#9c179e"
             ],
             [
              0.4444444444444444,
              "#bd3786"
             ],
             [
              0.5555555555555556,
              "#d8576b"
             ],
             [
              0.6666666666666666,
              "#ed7953"
             ],
             [
              0.7777777777777778,
              "#fb9f3a"
             ],
             [
              0.8888888888888888,
              "#fdca26"
             ],
             [
              1,
              "#f0f921"
             ]
            ],
            "type": "histogram2d"
           }
          ],
          "histogram2dcontour": [
           {
            "colorbar": {
             "outlinewidth": 0,
             "ticks": ""
            },
            "colorscale": [
             [
              0,
              "#0d0887"
             ],
             [
              0.1111111111111111,
              "#46039f"
             ],
             [
              0.2222222222222222,
              "#7201a8"
             ],
             [
              0.3333333333333333,
              "#9c179e"
             ],
             [
              0.4444444444444444,
              "#bd3786"
             ],
             [
              0.5555555555555556,
              "#d8576b"
             ],
             [
              0.6666666666666666,
              "#ed7953"
             ],
             [
              0.7777777777777778,
              "#fb9f3a"
             ],
             [
              0.8888888888888888,
              "#fdca26"
             ],
             [
              1,
              "#f0f921"
             ]
            ],
            "type": "histogram2dcontour"
           }
          ],
          "mesh3d": [
           {
            "colorbar": {
             "outlinewidth": 0,
             "ticks": ""
            },
            "type": "mesh3d"
           }
          ],
          "parcoords": [
           {
            "line": {
             "colorbar": {
              "outlinewidth": 0,
              "ticks": ""
             }
            },
            "type": "parcoords"
           }
          ],
          "pie": [
           {
            "automargin": true,
            "type": "pie"
           }
          ],
          "scatter": [
           {
            "marker": {
             "colorbar": {
              "outlinewidth": 0,
              "ticks": ""
             }
            },
            "type": "scatter"
           }
          ],
          "scatter3d": [
           {
            "line": {
             "colorbar": {
              "outlinewidth": 0,
              "ticks": ""
             }
            },
            "marker": {
             "colorbar": {
              "outlinewidth": 0,
              "ticks": ""
             }
            },
            "type": "scatter3d"
           }
          ],
          "scattercarpet": [
           {
            "marker": {
             "colorbar": {
              "outlinewidth": 0,
              "ticks": ""
             }
            },
            "type": "scattercarpet"
           }
          ],
          "scattergeo": [
           {
            "marker": {
             "colorbar": {
              "outlinewidth": 0,
              "ticks": ""
             }
            },
            "type": "scattergeo"
           }
          ],
          "scattergl": [
           {
            "marker": {
             "colorbar": {
              "outlinewidth": 0,
              "ticks": ""
             }
            },
            "type": "scattergl"
           }
          ],
          "scattermapbox": [
           {
            "marker": {
             "colorbar": {
              "outlinewidth": 0,
              "ticks": ""
             }
            },
            "type": "scattermapbox"
           }
          ],
          "scatterpolar": [
           {
            "marker": {
             "colorbar": {
              "outlinewidth": 0,
              "ticks": ""
             }
            },
            "type": "scatterpolar"
           }
          ],
          "scatterpolargl": [
           {
            "marker": {
             "colorbar": {
              "outlinewidth": 0,
              "ticks": ""
             }
            },
            "type": "scatterpolargl"
           }
          ],
          "scatterternary": [
           {
            "marker": {
             "colorbar": {
              "outlinewidth": 0,
              "ticks": ""
             }
            },
            "type": "scatterternary"
           }
          ],
          "surface": [
           {
            "colorbar": {
             "outlinewidth": 0,
             "ticks": ""
            },
            "colorscale": [
             [
              0,
              "#0d0887"
             ],
             [
              0.1111111111111111,
              "#46039f"
             ],
             [
              0.2222222222222222,
              "#7201a8"
             ],
             [
              0.3333333333333333,
              "#9c179e"
             ],
             [
              0.4444444444444444,
              "#bd3786"
             ],
             [
              0.5555555555555556,
              "#d8576b"
             ],
             [
              0.6666666666666666,
              "#ed7953"
             ],
             [
              0.7777777777777778,
              "#fb9f3a"
             ],
             [
              0.8888888888888888,
              "#fdca26"
             ],
             [
              1,
              "#f0f921"
             ]
            ],
            "type": "surface"
           }
          ],
          "table": [
           {
            "cells": {
             "fill": {
              "color": "#EBF0F8"
             },
             "line": {
              "color": "white"
             }
            },
            "header": {
             "fill": {
              "color": "#C8D4E3"
             },
             "line": {
              "color": "white"
             }
            },
            "type": "table"
           }
          ]
         },
         "layout": {
          "annotationdefaults": {
           "arrowcolor": "#2a3f5f",
           "arrowhead": 0,
           "arrowwidth": 1
          },
          "coloraxis": {
           "colorbar": {
            "outlinewidth": 0,
            "ticks": ""
           }
          },
          "colorscale": {
           "diverging": [
            [
             0,
             "#8e0152"
            ],
            [
             0.1,
             "#c51b7d"
            ],
            [
             0.2,
             "#de77ae"
            ],
            [
             0.3,
             "#f1b6da"
            ],
            [
             0.4,
             "#fde0ef"
            ],
            [
             0.5,
             "#f7f7f7"
            ],
            [
             0.6,
             "#e6f5d0"
            ],
            [
             0.7,
             "#b8e186"
            ],
            [
             0.8,
             "#7fbc41"
            ],
            [
             0.9,
             "#4d9221"
            ],
            [
             1,
             "#276419"
            ]
           ],
           "sequential": [
            [
             0,
             "#0d0887"
            ],
            [
             0.1111111111111111,
             "#46039f"
            ],
            [
             0.2222222222222222,
             "#7201a8"
            ],
            [
             0.3333333333333333,
             "#9c179e"
            ],
            [
             0.4444444444444444,
             "#bd3786"
            ],
            [
             0.5555555555555556,
             "#d8576b"
            ],
            [
             0.6666666666666666,
             "#ed7953"
            ],
            [
             0.7777777777777778,
             "#fb9f3a"
            ],
            [
             0.8888888888888888,
             "#fdca26"
            ],
            [
             1,
             "#f0f921"
            ]
           ],
           "sequentialminus": [
            [
             0,
             "#0d0887"
            ],
            [
             0.1111111111111111,
             "#46039f"
            ],
            [
             0.2222222222222222,
             "#7201a8"
            ],
            [
             0.3333333333333333,
             "#9c179e"
            ],
            [
             0.4444444444444444,
             "#bd3786"
            ],
            [
             0.5555555555555556,
             "#d8576b"
            ],
            [
             0.6666666666666666,
             "#ed7953"
            ],
            [
             0.7777777777777778,
             "#fb9f3a"
            ],
            [
             0.8888888888888888,
             "#fdca26"
            ],
            [
             1,
             "#f0f921"
            ]
           ]
          },
          "colorway": [
           "#636efa",
           "#EF553B",
           "#00cc96",
           "#ab63fa",
           "#FFA15A",
           "#19d3f3",
           "#FF6692",
           "#B6E880",
           "#FF97FF",
           "#FECB52"
          ],
          "font": {
           "color": "#2a3f5f"
          },
          "geo": {
           "bgcolor": "white",
           "lakecolor": "white",
           "landcolor": "white",
           "showlakes": true,
           "showland": true,
           "subunitcolor": "#C8D4E3"
          },
          "hoverlabel": {
           "align": "left"
          },
          "hovermode": "closest",
          "mapbox": {
           "style": "light"
          },
          "paper_bgcolor": "white",
          "plot_bgcolor": "white",
          "polar": {
           "angularaxis": {
            "gridcolor": "#EBF0F8",
            "linecolor": "#EBF0F8",
            "ticks": ""
           },
           "bgcolor": "white",
           "radialaxis": {
            "gridcolor": "#EBF0F8",
            "linecolor": "#EBF0F8",
            "ticks": ""
           }
          },
          "scene": {
           "xaxis": {
            "backgroundcolor": "white",
            "gridcolor": "#DFE8F3",
            "gridwidth": 2,
            "linecolor": "#EBF0F8",
            "showbackground": true,
            "ticks": "",
            "zerolinecolor": "#EBF0F8"
           },
           "yaxis": {
            "backgroundcolor": "white",
            "gridcolor": "#DFE8F3",
            "gridwidth": 2,
            "linecolor": "#EBF0F8",
            "showbackground": true,
            "ticks": "",
            "zerolinecolor": "#EBF0F8"
           },
           "zaxis": {
            "backgroundcolor": "white",
            "gridcolor": "#DFE8F3",
            "gridwidth": 2,
            "linecolor": "#EBF0F8",
            "showbackground": true,
            "ticks": "",
            "zerolinecolor": "#EBF0F8"
           }
          },
          "shapedefaults": {
           "line": {
            "color": "#2a3f5f"
           }
          },
          "ternary": {
           "aaxis": {
            "gridcolor": "#DFE8F3",
            "linecolor": "#A2B1C6",
            "ticks": ""
           },
           "baxis": {
            "gridcolor": "#DFE8F3",
            "linecolor": "#A2B1C6",
            "ticks": ""
           },
           "bgcolor": "white",
           "caxis": {
            "gridcolor": "#DFE8F3",
            "linecolor": "#A2B1C6",
            "ticks": ""
           }
          },
          "title": {
           "x": 0.05
          },
          "xaxis": {
           "automargin": true,
           "gridcolor": "#EBF0F8",
           "linecolor": "#EBF0F8",
           "ticks": "",
           "title": {
            "standoff": 15
           },
           "zerolinecolor": "#EBF0F8",
           "zerolinewidth": 2
          },
          "yaxis": {
           "automargin": true,
           "gridcolor": "#EBF0F8",
           "linecolor": "#EBF0F8",
           "ticks": "",
           "title": {
            "standoff": 15
           },
           "zerolinecolor": "#EBF0F8",
           "zerolinewidth": 2
          }
         }
        },
        "title": {
         "text": "Comparison interactions free and paying users"
        },
        "xaxis": {
         "title": {
          "text": "Number of interactions"
         }
        },
        "yaxis": {
         "title": {
          "text": "Number of users"
         }
        }
       }
      }
     },
     "metadata": {}
    }
   ],
   "source": [
    "# Comparison of number of interactions\n",
    "paid_user_interactions = np.array(data_cleaned[data_cleaned['level']=='paid'].groupBy('userId').count().orderBy('count', ascending=False).collect()).astype(int)\n",
    "free_user_interactions = np.array(data_cleaned[data_cleaned['level']=='free'].groupBy('userId').count().orderBy('count', ascending=False).collect()).astype(int)\n",
    "\n",
    "# Comparison number of paied and free users\n",
    "fig = go.Figure()\n",
    "fig.add_trace(go.Pie(labels=['free','paid'], values = [free_user_interactions.shape[0], paid_user_interactions.shape[0]]))\n",
    "fig.update_layout(title_text=\"Fraction of free and paying users\",\n",
    "                  template='plotly_white')\n",
    "fig.show()\n",
    "# Comparison of number of interactions\n",
    "fig = go.Figure()\n",
    "fig.add_trace(go.Histogram(x=free_user_interactions[:,1], name = 'free'))\n",
    "fig.add_trace(go.Histogram(x=paid_user_interactions[:,1], name = 'paid'))\n",
    "fig.update_xaxes(title_text='Number of interactions')\n",
    "fig.update_yaxes(title_text='Number of users')\n",
    "fig.update_layout(title_text=\"Comparison interactions free and paying users\",\n",
    "                  template='plotly_white')\n",
    "fig.show()"
   ]
  },
  {
   "cell_type": "code",
   "execution_count": 24,
   "metadata": {},
   "outputs": [
    {
     "output_type": "display_data",
     "data": {
      "application/vnd.plotly.v1+json": {
       "config": {
        "plotlyServerURL": "https://plot.ly"
       },
       "data": [
        {
         "name": "Free",
         "type": "box",
         "y": [
          80,
          10,
          8,
          34,
          25,
          15,
          68,
          47,
          18,
          17,
          35,
          42,
          10,
          1,
          1,
          77,
          1,
          26,
          66,
          127,
          30,
          13,
          73,
          211,
          28,
          15,
          41,
          7,
          19,
          29,
          62,
          22,
          6,
          1,
          3,
          39,
          6,
          88,
          61,
          1,
          149,
          162,
          47,
          105,
          74,
          59,
          164,
          76,
          66,
          21,
          66,
          8,
          156,
          6,
          71,
          42,
          21,
          89,
          4,
          12,
          34,
          14,
          73,
          181,
          41,
          10,
          56,
          70,
          11,
          41,
          1,
          18,
          70,
          75,
          11,
          46,
          102,
          8,
          5,
          20,
          4,
          10,
          18,
          87,
          56,
          31,
          148,
          17,
          447,
          125,
          13,
          60,
          60,
          41,
          49,
          50,
          26,
          93,
          14,
          15,
          56,
          5,
          1,
          9,
          13,
          33,
          24,
          74,
          81,
          4,
          11,
          46,
          16,
          193,
          123,
          28,
          12,
          31,
          25,
          67,
          108,
          57,
          4,
          18,
          112,
          120,
          211,
          60,
          29,
          62,
          27,
          81,
          25,
          98,
          33,
          111,
          26,
          28,
          63,
          98,
          28,
          73,
          11,
          11,
          30,
          24,
          72,
          1,
          4,
          17,
          8,
          69,
          24,
          40,
          26,
          58,
          3,
          31,
          29,
          78,
          54,
          41,
          9,
          32,
          87,
          71,
          34,
          14,
          4,
          4,
          15,
          20,
          34,
          21,
          40,
          12,
          119,
          79,
          95,
          30,
          26,
          51,
          112,
          76,
          35,
          105,
          82,
          67,
          9,
          88,
          3,
          8,
          11,
          3,
          12,
          56,
          21,
          7,
          119,
          106,
          42,
          55,
          80,
          29,
          50,
          75,
          22,
          11,
          29,
          76,
          91,
          8,
          1,
          30,
          105,
          46,
          13,
          65,
          57,
          147,
          22,
          150,
          67,
          16,
          5,
          13,
          30,
          44,
          85,
          10,
          52,
          10,
          51,
          31,
          10,
          2,
          8,
          70,
          13,
          38,
          12,
          96,
          50,
          49,
          178,
          65,
          181,
          77,
          26,
          50,
          25,
          86,
          43,
          68,
          8,
          35,
          220,
          86,
          24,
          20,
          23,
          55,
          6,
          8,
          153,
          12,
          6,
          22,
          45,
          42,
          71,
          24,
          8,
          161,
          114,
          14,
          7,
          78,
          1,
          35,
          25,
          6,
          62,
          41,
          153,
          8,
          10,
          44,
          33,
          22,
          60,
          1,
          196,
          65,
          2,
          54,
          120,
          25,
          13,
          1,
          84,
          155,
          6,
          23,
          5,
          4,
          17,
          51,
          86,
          67,
          50,
          78,
          8,
          18,
          54,
          16,
          29,
          4,
          8,
          3,
          17,
          1,
          22,
          12,
          1,
          123,
          72,
          251,
          12,
          70,
          116,
          29,
          105,
          49,
          99,
          79,
          12,
          34,
          6,
          16,
          112,
          10,
          24,
          34,
          44,
          167,
          5,
          33,
          140,
          35,
          44,
          35,
          25,
          11,
          35,
          10,
          4,
          50,
          68,
          165,
          136,
          30,
          1,
          28,
          191,
          17,
          2,
          44,
          75,
          22,
          34,
          32,
          21,
          37,
          127,
          33,
          28,
          38,
          147,
          26,
          31,
          7,
          54,
          57,
          135,
          41,
          52,
          13,
          17,
          92,
          47,
          26,
          15,
          43,
          79,
          156,
          11,
          44,
          91,
          23,
          46,
          88,
          26,
          17,
          34,
          61,
          70,
          40,
          7,
          36,
          18,
          40,
          125,
          173,
          138,
          94,
          51,
          95,
          7,
          63,
          10,
          15,
          3,
          107,
          60,
          2,
          21,
          106,
          115,
          68,
          25,
          62,
          14,
          109,
          12,
          77,
          61,
          36,
          36,
          18,
          53,
          7,
          165,
          39,
          3,
          18,
          75,
          1,
          73,
          67,
          6,
          59,
          1,
          59,
          131,
          252,
          84,
          7,
          129,
          87,
          21,
          1,
          26,
          96,
          68,
          50,
          112,
          60,
          154,
          60,
          60,
          63,
          97,
          21,
          115,
          20,
          123,
          203,
          2,
          51,
          1,
          54,
          39,
          112,
          31,
          139,
          113,
          32,
          35,
          47,
          65,
          26,
          4,
          17,
          8,
          119,
          12,
          18,
          10,
          28,
          45,
          49,
          5,
          2,
          96,
          3,
          66,
          37,
          44,
          213,
          65,
          67,
          9,
          86,
          76,
          2,
          70,
          3,
          39,
          48,
          100,
          3,
          48,
          52,
          42,
          12,
          6,
          57,
          18,
          4,
          136,
          7,
          16,
          81,
          164,
          151,
          34,
          10,
          104,
          38,
          6,
          12,
          7,
          86,
          172,
          84,
          82,
          169,
          23,
          65,
          8,
          3,
          191,
          1,
          31,
          28,
          32,
          15,
          2,
          42,
          20,
          11,
          122,
          47,
          31,
          202,
          14,
          27,
          73,
          15,
          47,
          35,
          3,
          50,
          8,
          84,
          145,
          1,
          83,
          180,
          53,
          20,
          28,
          71,
          41,
          77,
          4,
          76,
          14,
          19,
          33,
          35,
          65,
          27,
          33,
          33,
          14,
          7,
          25,
          81,
          62,
          18,
          12,
          83,
          13,
          51,
          91,
          25,
          106,
          1,
          83,
          115,
          13,
          32,
          9,
          9,
          30,
          120,
          31,
          18,
          28,
          60,
          38,
          27,
          37,
          48,
          74,
          9,
          64,
          57,
          3,
          43,
          21,
          84,
          16,
          1,
          70,
          22,
          12,
          28,
          9,
          17,
          129,
          10,
          9,
          21,
          8,
          59,
          56,
          3,
          27,
          66,
          36,
          21,
          13,
          50,
          3,
          27,
          16,
          6,
          139,
          41,
          113,
          40,
          36,
          141,
          27,
          12,
          15,
          7,
          75,
          81,
          45,
          56,
          4,
          52,
          177,
          24,
          6,
          7,
          13,
          242,
          98,
          105,
          10,
          43,
          3,
          20,
          37,
          1,
          33,
          28,
          31,
          9,
          22,
          34,
          40,
          11,
          36,
          69,
          46,
          39,
          10,
          21,
          4,
          42,
          1,
          6,
          2,
          45,
          106,
          75,
          31,
          44,
          134,
          16,
          31,
          23,
          1,
          15,
          57,
          124,
          126,
          30,
          23,
          9,
          41,
          16,
          79,
          80,
          61,
          1,
          12,
          66,
          13,
          94,
          7,
          7,
          13,
          70,
          36,
          47,
          38,
          50,
          10,
          7,
          57,
          13,
          43,
          26,
          11,
          117,
          60,
          7,
          15,
          19,
          26,
          1,
          57,
          15,
          12,
          41,
          21,
          17,
          82,
          57,
          25,
          38,
          57,
          8,
          124,
          10,
          118,
          1,
          37,
          28,
          19,
          30,
          4,
          75,
          45,
          11,
          4,
          21,
          109,
          1,
          3,
          20,
          2,
          27,
          52,
          4,
          78,
          10,
          249,
          61,
          109,
          56,
          18,
          112,
          6,
          19,
          41,
          16,
          46,
          87,
          56,
          15,
          4,
          40,
          49,
          2,
          63,
          15,
          24,
          125,
          91,
          3,
          108,
          5,
          7,
          14,
          29,
          23,
          2,
          5,
          39,
          32,
          39,
          64,
          22,
          60,
          13,
          11,
          138,
          21,
          10,
          52,
          312,
          53,
          57,
          34,
          92,
          26,
          13,
          9,
          39,
          32,
          291,
          24,
          6,
          17,
          23,
          126,
          1,
          35,
          31,
          189,
          54,
          107,
          84,
          62,
          5,
          170,
          119,
          75,
          3,
          37,
          10,
          227,
          27,
          34,
          61,
          15,
          5,
          62,
          62,
          64,
          10,
          21,
          4,
          2,
          8,
          14,
          41,
          25,
          45,
          16,
          29,
          17,
          51,
          55,
          9,
          97,
          61,
          16,
          58,
          66,
          18,
          18,
          58,
          3,
          60,
          1,
          31,
          3,
          26,
          70,
          34,
          9,
          141,
          21,
          89,
          48,
          28,
          22,
          40,
          38,
          138,
          11,
          32,
          106,
          13,
          10,
          24,
          107,
          66,
          8,
          43,
          24,
          19,
          40,
          67,
          86,
          220,
          19,
          2,
          95,
          15,
          186,
          4,
          80,
          125,
          95,
          128,
          8,
          17,
          84,
          41,
          13,
          101,
          13,
          94,
          66,
          34,
          19,
          39,
          54,
          5,
          80,
          25,
          67,
          1,
          109,
          3,
          67,
          5,
          61,
          14,
          184,
          48,
          1,
          29,
          155,
          4,
          6,
          2,
          77,
          29,
          10,
          6,
          5,
          23,
          12,
          19,
          26,
          16,
          7,
          11,
          51,
          64,
          39,
          20,
          62,
          45,
          18,
          41,
          79,
          18,
          1,
          221,
          14,
          25,
          28,
          9,
          69,
          25,
          47,
          111,
          85,
          30,
          16,
          35,
          208,
          23,
          29,
          76,
          1,
          18,
          116,
          14,
          10,
          28,
          5,
          20,
          32,
          86,
          86,
          43,
          3,
          2,
          68,
          1,
          43,
          26,
          29,
          117,
          63,
          46,
          25,
          6,
          54,
          72,
          12,
          32,
          5,
          50,
          1,
          162,
          58,
          44,
          10,
          11,
          36,
          30,
          5,
          7,
          1,
          6,
          133,
          11,
          6,
          134,
          8,
          8,
          45,
          82,
          90,
          22,
          64,
          77,
          45,
          41,
          19,
          79,
          9,
          163,
          10,
          8,
          5,
          79,
          2,
          16,
          30,
          69,
          22,
          34,
          10,
          33,
          95,
          49,
          8,
          10,
          5,
          37,
          35,
          86,
          13,
          72,
          3,
          59,
          28,
          24,
          18,
          129,
          70,
          32,
          21,
          6,
          3,
          10,
          48,
          19,
          138,
          106,
          2,
          19,
          56,
          47,
          33,
          5,
          17,
          6,
          200,
          27,
          41,
          32,
          28,
          13,
          76,
          8,
          21,
          3,
          34,
          84,
          36,
          25,
          8,
          225,
          10,
          1,
          10,
          284,
          226,
          10,
          11,
          4,
          35,
          82,
          195,
          3,
          3,
          9,
          41,
          30,
          38,
          25,
          46,
          10,
          45,
          1,
          14,
          1,
          6,
          40,
          6,
          16,
          22
         ]
        },
        {
         "name": "Paid",
         "type": "box",
         "y": [
          42,
          219,
          11,
          367,
          221,
          397,
          276,
          167,
          27,
          95,
          26,
          1282,
          343,
          478,
          56,
          159,
          58,
          99,
          6,
          107,
          49,
          205,
          100,
          503,
          144,
          39,
          54,
          117,
          36,
          20,
          151,
          27,
          234,
          164,
          12,
          49,
          400,
          122,
          97,
          163,
          181,
          42,
          214,
          45,
          41,
          291,
          112,
          49,
          70,
          107,
          59,
          64,
          38,
          194,
          142,
          256,
          79,
          219,
          20,
          7,
          17,
          256,
          377,
          251,
          276,
          69,
          367,
          367,
          29,
          9,
          136,
          184,
          38,
          9,
          128,
          208,
          39,
          207,
          197,
          310,
          55,
          137,
          206,
          30,
          40,
          10,
          73,
          1,
          154,
          35,
          28,
          114,
          47,
          118,
          12,
          57,
          148,
          208,
          240,
          330,
          1,
          215,
          855,
          189,
          125,
          31,
          72,
          12,
          139,
          137,
          69,
          69,
          128,
          382,
          41,
          43,
          580,
          546,
          77,
          656,
          114,
          9,
          566,
          307,
          189,
          512,
          65,
          104,
          18,
          10,
          133,
          61,
          137,
          77,
          22,
          322,
          61,
          30,
          208,
          42,
          301,
          107,
          1,
          394,
          465,
          184,
          193,
          81,
          77,
          165,
          13,
          207,
          116,
          207,
          338,
          60,
          1,
          223,
          18,
          62,
          80,
          113,
          29,
          9,
          32,
          170,
          52,
          283,
          21,
          224,
          233,
          199,
          73,
          154,
          63,
          38,
          133,
          1,
          456,
          23,
          194,
          64,
          37,
          96,
          474,
          38,
          304,
          421,
          44,
          9,
          89,
          23,
          269,
          5,
          79,
          37,
          90,
          122,
          175,
          99,
          100,
          301,
          380,
          45,
          154,
          64,
          214,
          193,
          19,
          119,
          216,
          70,
          66,
          153,
          63,
          21,
          466,
          211,
          477,
          16,
          66,
          339,
          372,
          154,
          188,
          165,
          19,
          26,
          45,
          53,
          18,
          167,
          410,
          180,
          199,
          81,
          52,
          307,
          240,
          178,
          72,
          8,
          83,
          105,
          54,
          92,
          42,
          117,
          82,
          449,
          414,
          1,
          114,
          61,
          44,
          72,
          97,
          4,
          442,
          99,
          116,
          225,
          103,
          85,
          145,
          47,
          301,
          56,
          405,
          10,
          21,
          101,
          23,
          493,
          5,
          10,
          39,
          188,
          105,
          286,
          90,
          10,
          70,
          102,
          53,
          35,
          20,
          11,
          1,
          53,
          94,
          139,
          208,
          30,
          96,
          89,
          212,
          153,
          88,
          36,
          24,
          109,
          16,
          81,
          25,
          62,
          81,
          45,
          78,
          158,
          1,
          56,
          49,
          19,
          411,
          45,
          78,
          16,
          152,
          139,
          143,
          446,
          7,
          124,
          53,
          13,
          19,
          140,
          211,
          14,
          121,
          68,
          390,
          180,
          113,
          42,
          14,
          212,
          39,
          94,
          31,
          15,
          10,
          293,
          87,
          17,
          528,
          85,
          627,
          192,
          55,
          31,
          55,
          154,
          170,
          16,
          76,
          40,
          60,
          13,
          124,
          64,
          75,
          131,
          539,
          61,
          17,
          67,
          129,
          67,
          1,
          83,
          295,
          85,
          15,
          140,
          65,
          132,
          153,
          85,
          58,
          642,
          154,
          173,
          76,
          181,
          121,
          16,
          28,
          267,
          1109,
          155,
          27,
          369,
          54,
          71,
          38,
          124,
          5,
          201,
          6,
          35,
          251,
          42,
          531,
          54,
          223,
          280,
          164,
          25,
          305,
          52,
          123,
          139,
          31,
          200,
          310,
          20,
          134,
          30,
          97,
          17,
          454,
          201,
          78,
          197,
          71,
          154,
          8,
          6,
          45,
          235,
          2,
          47,
          51,
          119,
          196,
          10,
          162,
          18,
          34,
          140,
          145,
          136,
          129,
          65,
          126,
          23,
          98,
          59,
          15,
          42,
          70,
          4,
          113,
          21,
          22,
          71,
          22,
          73,
          128,
          64,
          873,
          4,
          464,
          208,
          8,
          356,
          71,
          23,
          291,
          9,
          9,
          13,
          79,
          40,
          96,
          42,
          1,
          63,
          267,
          326,
          87,
          21,
          27,
          209,
          75,
          48,
          9,
          124,
          141,
          119,
          108,
          229,
          55,
          204,
          85,
          77,
          41,
          389,
          1,
          204,
          119,
          196,
          175,
          123,
          141,
          6,
          146,
          336,
          52,
          320,
          8,
          388,
          91,
          155,
          62,
          55,
          76,
          54,
          14,
          1,
          316,
          137,
          87,
          257,
          85,
          440,
          66,
          10,
          76,
          39,
          34,
          25,
          133,
          5,
          77,
          536,
          380,
          54,
          129,
          26,
          36,
          212,
          13,
          294,
          35,
          21,
          52,
          116,
          73,
          524,
          454,
          16,
          38,
          23,
          9,
          25,
          71,
          88,
          7,
          140,
          228,
          186,
          22,
          29,
          231,
          72,
          80,
          42,
          653,
          247,
          53,
          268,
          41,
          145,
          60,
          211,
          28,
          231,
          213,
          34,
          151,
          13,
          65,
          31,
          332,
          602,
          8,
          147,
          8,
          116,
          105,
          4,
          48,
          141,
          115,
          43,
          364,
          27,
          28,
          110,
          26,
          114,
          375,
          67,
          62,
          74,
          65,
          108,
          121,
          108,
          770,
          14,
          317,
          12,
          113,
          125,
          316,
          170,
          17,
          21,
          287,
          225,
          18,
          57,
          45,
          492,
          183,
          64,
          86,
          3,
          121,
          352,
          151,
          36,
          102,
          101,
          41,
          43,
          31,
          225,
          323,
          39,
          132,
          150,
          165,
          206,
          116,
          65,
          97,
          308,
          699,
          251,
          8,
          43,
          271,
          70,
          329,
          3,
          74,
          18,
          50,
          222,
          391,
          249,
          208,
          102,
          14,
          55,
          63,
          73,
          109,
          69,
          104,
          49,
          31,
          19,
          22,
          120,
          117,
          291,
          381,
          77,
          78,
          313,
          36,
          85,
          40,
          12,
          62,
          68,
          1,
          107,
          10,
          229,
          14,
          187,
          63,
          46,
          16,
          53,
          106,
          18,
          161,
          37,
          1,
          22,
          268,
          49,
          34,
          472,
          97,
          312,
          31,
          67,
          1,
          16,
          256,
          7,
          317,
          487,
          27,
          13,
          31,
          144,
          51,
          339,
          35,
          199,
          38,
          101,
          229,
          60,
          171,
          125,
          319,
          280,
          325,
          66,
          12,
          159,
          19,
          10,
          67,
          313,
          130,
          55,
          41,
          38,
          178,
          55,
          86,
          89,
          69,
          39,
          299,
          9,
          20,
          103,
          11,
          116,
          358,
          6,
          347,
          245,
          280,
          177,
          235,
          147,
          25,
          43,
          227,
          101,
          196,
          47,
          45,
          76,
          332,
          403,
          251,
          9,
          584,
          143,
          560,
          32,
          315,
          179,
          27,
          17,
          528,
          208,
          22,
          344,
          40,
          18,
          13,
          133,
          390,
          14,
          410,
          758,
          178,
          182,
          36,
          415,
          18,
          130,
          50,
          1,
          48,
          198,
          153,
          375,
          76,
          191,
          76,
          231,
          34,
          50,
          54,
          67,
          21,
          121,
          244,
          182,
          296,
          28,
          55,
          203,
          252,
          3,
          123,
          295,
          228,
          1,
          296,
          6,
          73,
          49,
          591,
          273,
          69,
          71,
          528,
          588,
          186,
          143,
          59,
          187,
          142,
          1,
          15,
          96,
          93,
          49,
          112,
          44,
          94,
          476,
          13,
          35,
          151,
          19,
          6,
          61,
          7,
          128,
          76,
          328,
          180,
          34,
          27,
          530,
          24,
          19,
          61,
          46,
          2,
          10,
          262,
          1,
          62,
          263,
          26,
          445,
          91,
          152,
          107,
          4,
          11,
          99,
          1,
          43,
          429,
          119,
          190,
          39,
          55,
          369,
          44,
          362,
          160,
          331,
          189,
          102,
          138,
          109,
          44,
          19,
          36,
          113,
          91,
          166,
          11,
          124,
          85,
          211,
          73,
          479,
          567,
          59,
          98,
          197,
          55,
          231,
          46,
          1,
          18,
          280,
          494,
          73,
          26,
          1,
          287,
          123,
          495,
          81,
          64,
          104,
          1,
          288,
          65,
          46,
          69,
          300,
          17,
          346,
          11,
          126,
          175,
          142,
          6,
          14,
          80,
          201,
          78,
          178,
          405,
          14,
          80,
          42,
          258,
          17,
          36,
          51,
          205,
          36,
          12,
          35,
          15,
          79,
          165,
          95,
          41,
          57,
          261,
          109,
          121,
          73,
          255,
          236,
          41,
          145,
          138,
          196,
          3,
          102,
          413,
          63,
          13,
          12,
          269,
          49,
          53,
          180,
          63,
          329,
          23,
          43,
          17,
          20,
          259,
          189,
          102,
          398,
          156,
          140,
          148,
          24,
          163,
          129,
          221,
          157,
          20,
          101,
          121,
          1,
          229,
          36,
          69,
          71,
          97,
          79,
          98,
          167,
          53,
          34,
          1,
          333,
          9,
          395,
          57,
          105,
          393,
          332,
          106,
          4,
          200,
          131,
          179,
          17,
          113,
          202,
          48,
          55,
          83,
          160,
          52,
          268,
          7,
          23,
          203,
          375,
          352,
          100,
          62,
          16,
          350,
          32,
          167,
          42,
          325,
          182,
          70,
          7,
          260,
          71,
          127,
          57,
          42,
          49,
          44,
          19,
          1,
          63,
          195,
          104,
          124,
          1,
          169,
          682,
          91,
          59,
          159,
          87,
          65,
          32,
          176,
          7,
          23,
          48,
          19,
          110,
          91,
          25,
          63,
          118,
          55,
          38,
          67,
          93,
          77,
          208,
          371,
          204,
          202,
          129,
          185,
          139,
          270,
          118,
          256,
          247,
          56,
          227,
          14,
          500,
          82,
          21,
          45,
          60,
          64,
          197,
          83,
          713,
          92,
          93,
          61,
          328,
          119,
          20,
          75,
          57,
          91,
          695,
          301,
          56,
          35,
          6,
          27,
          115,
          24,
          30,
          84,
          64,
          225,
          307,
          78,
          94,
          26,
          92,
          24,
          123,
          117,
          113,
          196,
          4,
          163,
          15,
          70,
          144,
          1,
          1,
          466,
          61,
          254,
          210,
          80,
          35,
          1,
          309,
          42,
          131,
          50,
          52,
          24,
          386,
          291,
          54,
          168,
          37,
          506,
          112,
          615,
          1,
          60,
          135,
          191,
          53,
          67,
          234,
          105,
          224,
          130,
          389,
          39,
          75,
          34,
          126,
          39,
          54,
          95,
          167,
          99,
          452,
          119,
          194,
          122,
          63,
          50,
          273,
          302,
          47,
          150,
          50,
          249,
          226,
          183,
          13,
          90,
          154,
          331,
          296,
          88,
          91,
          151,
          54,
          68,
          24,
          87,
          74,
          3,
          27,
          128,
          200,
          158,
          35,
          86,
          22,
          116,
          43,
          21,
          256,
          100,
          2,
          184,
          3,
          46,
          54,
          114,
          9,
          296,
          146,
          61,
          38,
          113,
          574,
          55,
          204,
          235,
          277,
          58,
          83,
          84,
          276,
          34,
          131,
          248,
          51,
          175,
          248,
          54,
          3,
          178,
          64,
          83,
          209,
          67,
          321,
          198,
          59,
          357,
          5,
          314,
          167,
          281,
          238,
          69,
          244,
          177,
          20,
          39,
          55,
          41,
          25,
          56,
          74,
          175,
          631,
          399,
          138,
          258,
          280,
          9,
          110,
          37,
          263,
          50,
          274,
          21,
          276,
          206,
          135,
          174,
          147,
          58,
          9,
          137,
          246,
          136,
          180,
          11,
          93,
          37,
          82,
          8,
          41,
          101,
          233,
          23,
          174,
          89,
          325,
          15,
          95,
          154,
          79,
          83,
          261,
          94,
          19,
          16,
          327,
          193,
          7,
          7,
          73,
          86,
          72,
          1,
          55,
          271,
          126,
          111,
          112,
          64,
          82,
          188,
          58,
          89,
          96,
          247,
          127,
          5,
          676,
          231,
          511,
          77,
          50,
          271,
          154,
          66,
          30,
          129,
          5,
          286,
          49,
          102,
          19,
          337,
          67,
          25,
          1,
          149,
          515,
          166,
          256,
          58,
          51,
          98,
          219,
          121,
          66,
          36,
          66,
          47,
          344,
          314,
          136,
          12,
          11,
          205,
          312,
          186,
          22,
          314,
          29,
          107,
          7,
          88,
          37,
          3,
          56,
          190,
          251,
          12,
          5,
          267,
          11,
          70,
          35,
          208,
          69,
          250,
          229,
          12,
          133,
          91,
          50,
          180,
          77,
          175,
          118,
          82,
          234,
          32,
          18,
          190,
          242,
          75,
          180,
          1,
          1,
          78,
          45,
          373,
          22,
          91,
          38,
          443,
          182,
          17,
          15,
          3,
          50,
          96,
          82,
          149,
          249,
          85,
          29,
          31,
          71,
          1,
          126,
          96,
          510,
          212,
          36,
          1,
          179,
          20,
          158,
          13,
          38,
          88,
          224,
          16,
          12,
          158,
          1,
          302,
          142,
          178,
          162,
          87,
          47,
          231,
          28,
          36,
          39,
          236,
          33,
          180,
          3,
          29,
          20,
          51,
          180,
          97,
          25,
          34,
          36,
          280,
          84,
          77,
          37,
          201,
          124,
          90,
          198,
          17,
          245,
          519,
          71,
          42,
          2,
          6,
          176,
          1,
          1,
          148,
          363,
          62,
          51,
          220,
          106,
          91,
          52,
          123,
          312,
          128,
          446,
          114,
          92,
          171,
          121,
          453,
          159,
          69,
          6,
          127,
          140,
          79,
          179,
          133,
          184,
          10,
          77,
          172,
          63,
          484,
          89,
          189,
          18,
          84,
          175,
          15,
          82,
          148,
          40,
          53,
          121,
          18,
          448,
          197,
          113,
          68,
          120,
          47,
          178,
          77,
          22,
          437,
          439,
          10,
          86,
          18,
          291,
          423,
          126,
          185,
          172,
          31,
          50,
          25,
          50,
          96,
          36,
          3,
          104,
          162,
          18,
          64,
          117,
          68,
          342,
          52,
          349,
          57,
          527,
          100,
          141,
          31,
          18,
          36,
          41,
          122,
          89,
          1,
          333,
          37,
          366,
          217,
          31,
          501,
          183,
          129,
          80,
          172,
          131,
          1,
          119,
          19,
          88,
          113,
          114,
          34,
          116,
          349,
          119,
          427,
          510,
          56,
          4,
          97,
          186,
          8,
          93,
          27,
          13,
          77,
          5,
          254,
          15,
          311,
          166
         ]
        }
       ],
       "layout": {
        "template": {
         "data": {
          "bar": [
           {
            "error_x": {
             "color": "#2a3f5f"
            },
            "error_y": {
             "color": "#2a3f5f"
            },
            "marker": {
             "line": {
              "color": "white",
              "width": 0.5
             }
            },
            "type": "bar"
           }
          ],
          "barpolar": [
           {
            "marker": {
             "line": {
              "color": "white",
              "width": 0.5
             }
            },
            "type": "barpolar"
           }
          ],
          "carpet": [
           {
            "aaxis": {
             "endlinecolor": "#2a3f5f",
             "gridcolor": "#C8D4E3",
             "linecolor": "#C8D4E3",
             "minorgridcolor": "#C8D4E3",
             "startlinecolor": "#2a3f5f"
            },
            "baxis": {
             "endlinecolor": "#2a3f5f",
             "gridcolor": "#C8D4E3",
             "linecolor": "#C8D4E3",
             "minorgridcolor": "#C8D4E3",
             "startlinecolor": "#2a3f5f"
            },
            "type": "carpet"
           }
          ],
          "choropleth": [
           {
            "colorbar": {
             "outlinewidth": 0,
             "ticks": ""
            },
            "type": "choropleth"
           }
          ],
          "contour": [
           {
            "colorbar": {
             "outlinewidth": 0,
             "ticks": ""
            },
            "colorscale": [
             [
              0,
              "#0d0887"
             ],
             [
              0.1111111111111111,
              "#46039f"
             ],
             [
              0.2222222222222222,
              "#7201a8"
             ],
             [
              0.3333333333333333,
              "#9c179e"
             ],
             [
              0.4444444444444444,
              "#bd3786"
             ],
             [
              0.5555555555555556,
              "#d8576b"
             ],
             [
              0.6666666666666666,
              "#ed7953"
             ],
             [
              0.7777777777777778,
              "#fb9f3a"
             ],
             [
              0.8888888888888888,
              "#fdca26"
             ],
             [
              1,
              "#f0f921"
             ]
            ],
            "type": "contour"
           }
          ],
          "contourcarpet": [
           {
            "colorbar": {
             "outlinewidth": 0,
             "ticks": ""
            },
            "type": "contourcarpet"
           }
          ],
          "heatmap": [
           {
            "colorbar": {
             "outlinewidth": 0,
             "ticks": ""
            },
            "colorscale": [
             [
              0,
              "#0d0887"
             ],
             [
              0.1111111111111111,
              "#46039f"
             ],
             [
              0.2222222222222222,
              "#7201a8"
             ],
             [
              0.3333333333333333,
              "#9c179e"
             ],
             [
              0.4444444444444444,
              "#bd3786"
             ],
             [
              0.5555555555555556,
              "#d8576b"
             ],
             [
              0.6666666666666666,
              "#ed7953"
             ],
             [
              0.7777777777777778,
              "#fb9f3a"
             ],
             [
              0.8888888888888888,
              "#fdca26"
             ],
             [
              1,
              "#f0f921"
             ]
            ],
            "type": "heatmap"
           }
          ],
          "heatmapgl": [
           {
            "colorbar": {
             "outlinewidth": 0,
             "ticks": ""
            },
            "colorscale": [
             [
              0,
              "#0d0887"
             ],
             [
              0.1111111111111111,
              "#46039f"
             ],
             [
              0.2222222222222222,
              "#7201a8"
             ],
             [
              0.3333333333333333,
              "#9c179e"
             ],
             [
              0.4444444444444444,
              "#bd3786"
             ],
             [
              0.5555555555555556,
              "#d8576b"
             ],
             [
              0.6666666666666666,
              "#ed7953"
             ],
             [
              0.7777777777777778,
              "#fb9f3a"
             ],
             [
              0.8888888888888888,
              "#fdca26"
             ],
             [
              1,
              "#f0f921"
             ]
            ],
            "type": "heatmapgl"
           }
          ],
          "histogram": [
           {
            "marker": {
             "colorbar": {
              "outlinewidth": 0,
              "ticks": ""
             }
            },
            "type": "histogram"
           }
          ],
          "histogram2d": [
           {
            "colorbar": {
             "outlinewidth": 0,
             "ticks": ""
            },
            "colorscale": [
             [
              0,
              "#0d0887"
             ],
             [
              0.1111111111111111,
              "#46039f"
             ],
             [
              0.2222222222222222,
              "#7201a8"
             ],
             [
              0.3333333333333333,
              "#9c179e"
             ],
             [
              0.4444444444444444,
              "#bd3786"
             ],
             [
              0.5555555555555556,
              "#d8576b"
             ],
             [
              0.6666666666666666,
              "#ed7953"
             ],
             [
              0.7777777777777778,
              "#fb9f3a"
             ],
             [
              0.8888888888888888,
              "#fdca26"
             ],
             [
              1,
              "#f0f921"
             ]
            ],
            "type": "histogram2d"
           }
          ],
          "histogram2dcontour": [
           {
            "colorbar": {
             "outlinewidth": 0,
             "ticks": ""
            },
            "colorscale": [
             [
              0,
              "#0d0887"
             ],
             [
              0.1111111111111111,
              "#46039f"
             ],
             [
              0.2222222222222222,
              "#7201a8"
             ],
             [
              0.3333333333333333,
              "#9c179e"
             ],
             [
              0.4444444444444444,
              "#bd3786"
             ],
             [
              0.5555555555555556,
              "#d8576b"
             ],
             [
              0.6666666666666666,
              "#ed7953"
             ],
             [
              0.7777777777777778,
              "#fb9f3a"
             ],
             [
              0.8888888888888888,
              "#fdca26"
             ],
             [
              1,
              "#f0f921"
             ]
            ],
            "type": "histogram2dcontour"
           }
          ],
          "mesh3d": [
           {
            "colorbar": {
             "outlinewidth": 0,
             "ticks": ""
            },
            "type": "mesh3d"
           }
          ],
          "parcoords": [
           {
            "line": {
             "colorbar": {
              "outlinewidth": 0,
              "ticks": ""
             }
            },
            "type": "parcoords"
           }
          ],
          "pie": [
           {
            "automargin": true,
            "type": "pie"
           }
          ],
          "scatter": [
           {
            "marker": {
             "colorbar": {
              "outlinewidth": 0,
              "ticks": ""
             }
            },
            "type": "scatter"
           }
          ],
          "scatter3d": [
           {
            "line": {
             "colorbar": {
              "outlinewidth": 0,
              "ticks": ""
             }
            },
            "marker": {
             "colorbar": {
              "outlinewidth": 0,
              "ticks": ""
             }
            },
            "type": "scatter3d"
           }
          ],
          "scattercarpet": [
           {
            "marker": {
             "colorbar": {
              "outlinewidth": 0,
              "ticks": ""
             }
            },
            "type": "scattercarpet"
           }
          ],
          "scattergeo": [
           {
            "marker": {
             "colorbar": {
              "outlinewidth": 0,
              "ticks": ""
             }
            },
            "type": "scattergeo"
           }
          ],
          "scattergl": [
           {
            "marker": {
             "colorbar": {
              "outlinewidth": 0,
              "ticks": ""
             }
            },
            "type": "scattergl"
           }
          ],
          "scattermapbox": [
           {
            "marker": {
             "colorbar": {
              "outlinewidth": 0,
              "ticks": ""
             }
            },
            "type": "scattermapbox"
           }
          ],
          "scatterpolar": [
           {
            "marker": {
             "colorbar": {
              "outlinewidth": 0,
              "ticks": ""
             }
            },
            "type": "scatterpolar"
           }
          ],
          "scatterpolargl": [
           {
            "marker": {
             "colorbar": {
              "outlinewidth": 0,
              "ticks": ""
             }
            },
            "type": "scatterpolargl"
           }
          ],
          "scatterternary": [
           {
            "marker": {
             "colorbar": {
              "outlinewidth": 0,
              "ticks": ""
             }
            },
            "type": "scatterternary"
           }
          ],
          "surface": [
           {
            "colorbar": {
             "outlinewidth": 0,
             "ticks": ""
            },
            "colorscale": [
             [
              0,
              "#0d0887"
             ],
             [
              0.1111111111111111,
              "#46039f"
             ],
             [
              0.2222222222222222,
              "#7201a8"
             ],
             [
              0.3333333333333333,
              "#9c179e"
             ],
             [
              0.4444444444444444,
              "#bd3786"
             ],
             [
              0.5555555555555556,
              "#d8576b"
             ],
             [
              0.6666666666666666,
              "#ed7953"
             ],
             [
              0.7777777777777778,
              "#fb9f3a"
             ],
             [
              0.8888888888888888,
              "#fdca26"
             ],
             [
              1,
              "#f0f921"
             ]
            ],
            "type": "surface"
           }
          ],
          "table": [
           {
            "cells": {
             "fill": {
              "color": "#EBF0F8"
             },
             "line": {
              "color": "white"
             }
            },
            "header": {
             "fill": {
              "color": "#C8D4E3"
             },
             "line": {
              "color": "white"
             }
            },
            "type": "table"
           }
          ]
         },
         "layout": {
          "annotationdefaults": {
           "arrowcolor": "#2a3f5f",
           "arrowhead": 0,
           "arrowwidth": 1
          },
          "coloraxis": {
           "colorbar": {
            "outlinewidth": 0,
            "ticks": ""
           }
          },
          "colorscale": {
           "diverging": [
            [
             0,
             "#8e0152"
            ],
            [
             0.1,
             "#c51b7d"
            ],
            [
             0.2,
             "#de77ae"
            ],
            [
             0.3,
             "#f1b6da"
            ],
            [
             0.4,
             "#fde0ef"
            ],
            [
             0.5,
             "#f7f7f7"
            ],
            [
             0.6,
             "#e6f5d0"
            ],
            [
             0.7,
             "#b8e186"
            ],
            [
             0.8,
             "#7fbc41"
            ],
            [
             0.9,
             "#4d9221"
            ],
            [
             1,
             "#276419"
            ]
           ],
           "sequential": [
            [
             0,
             "#0d0887"
            ],
            [
             0.1111111111111111,
             "#46039f"
            ],
            [
             0.2222222222222222,
             "#7201a8"
            ],
            [
             0.3333333333333333,
             "#9c179e"
            ],
            [
             0.4444444444444444,
             "#bd3786"
            ],
            [
             0.5555555555555556,
             "#d8576b"
            ],
            [
             0.6666666666666666,
             "#ed7953"
            ],
            [
             0.7777777777777778,
             "#fb9f3a"
            ],
            [
             0.8888888888888888,
             "#fdca26"
            ],
            [
             1,
             "#f0f921"
            ]
           ],
           "sequentialminus": [
            [
             0,
             "#0d0887"
            ],
            [
             0.1111111111111111,
             "#46039f"
            ],
            [
             0.2222222222222222,
             "#7201a8"
            ],
            [
             0.3333333333333333,
             "#9c179e"
            ],
            [
             0.4444444444444444,
             "#bd3786"
            ],
            [
             0.5555555555555556,
             "#d8576b"
            ],
            [
             0.6666666666666666,
             "#ed7953"
            ],
            [
             0.7777777777777778,
             "#fb9f3a"
            ],
            [
             0.8888888888888888,
             "#fdca26"
            ],
            [
             1,
             "#f0f921"
            ]
           ]
          },
          "colorway": [
           "#636efa",
           "#EF553B",
           "#00cc96",
           "#ab63fa",
           "#FFA15A",
           "#19d3f3",
           "#FF6692",
           "#B6E880",
           "#FF97FF",
           "#FECB52"
          ],
          "font": {
           "color": "#2a3f5f"
          },
          "geo": {
           "bgcolor": "white",
           "lakecolor": "white",
           "landcolor": "white",
           "showlakes": true,
           "showland": true,
           "subunitcolor": "#C8D4E3"
          },
          "hoverlabel": {
           "align": "left"
          },
          "hovermode": "closest",
          "mapbox": {
           "style": "light"
          },
          "paper_bgcolor": "white",
          "plot_bgcolor": "white",
          "polar": {
           "angularaxis": {
            "gridcolor": "#EBF0F8",
            "linecolor": "#EBF0F8",
            "ticks": ""
           },
           "bgcolor": "white",
           "radialaxis": {
            "gridcolor": "#EBF0F8",
            "linecolor": "#EBF0F8",
            "ticks": ""
           }
          },
          "scene": {
           "xaxis": {
            "backgroundcolor": "white",
            "gridcolor": "#DFE8F3",
            "gridwidth": 2,
            "linecolor": "#EBF0F8",
            "showbackground": true,
            "ticks": "",
            "zerolinecolor": "#EBF0F8"
           },
           "yaxis": {
            "backgroundcolor": "white",
            "gridcolor": "#DFE8F3",
            "gridwidth": 2,
            "linecolor": "#EBF0F8",
            "showbackground": true,
            "ticks": "",
            "zerolinecolor": "#EBF0F8"
           },
           "zaxis": {
            "backgroundcolor": "white",
            "gridcolor": "#DFE8F3",
            "gridwidth": 2,
            "linecolor": "#EBF0F8",
            "showbackground": true,
            "ticks": "",
            "zerolinecolor": "#EBF0F8"
           }
          },
          "shapedefaults": {
           "line": {
            "color": "#2a3f5f"
           }
          },
          "ternary": {
           "aaxis": {
            "gridcolor": "#DFE8F3",
            "linecolor": "#A2B1C6",
            "ticks": ""
           },
           "baxis": {
            "gridcolor": "#DFE8F3",
            "linecolor": "#A2B1C6",
            "ticks": ""
           },
           "bgcolor": "white",
           "caxis": {
            "gridcolor": "#DFE8F3",
            "linecolor": "#A2B1C6",
            "ticks": ""
           }
          },
          "title": {
           "x": 0.05
          },
          "xaxis": {
           "automargin": true,
           "gridcolor": "#EBF0F8",
           "linecolor": "#EBF0F8",
           "ticks": "",
           "title": {
            "standoff": 15
           },
           "zerolinecolor": "#EBF0F8",
           "zerolinewidth": 2
          },
          "yaxis": {
           "automargin": true,
           "gridcolor": "#EBF0F8",
           "linecolor": "#EBF0F8",
           "ticks": "",
           "title": {
            "standoff": 15
           },
           "zerolinecolor": "#EBF0F8",
           "zerolinewidth": 2
          }
         }
        },
        "title": {
         "text": "Boxplot number of interactions per session"
        },
        "yaxis": {
         "title": {
          "text": "Number of interactions per session"
         }
        }
       }
      }
     },
     "metadata": {}
    }
   ],
   "source": [
    "# Statistics about the number of interactions per session\n",
    "free_interactions_per_session = np.array(data_cleaned[data_cleaned['level'] == 'free'].groupBy('sessionId').count().collect()).astype(int)\n",
    "paid_interactions_per_session = np.array(data_cleaned[data_cleaned['level'] == 'paid'].groupBy('sessionId').count().collect()).astype(int)\n",
    "fig = go.Figure()\n",
    "fig.add_trace(go.Box(y=free_interactions_per_session[:,1], name = 'Free'))\n",
    "fig.add_trace(go.Box(y=paid_interactions_per_session[:,1], name = 'Paid'))\n",
    "fig.update_yaxes(title_text='Number of interactions per session')\n",
    "fig.update_layout(title_text=\"Boxplot number of interactions per session\",\n",
    "                  template='plotly_white')\n",
    "fig.show()"
   ]
  },
  {
   "cell_type": "code",
   "execution_count": 26,
   "metadata": {},
   "outputs": [
    {
     "output_type": "display_data",
     "data": {
      "application/vnd.plotly.v1+json": {
       "config": {
        "plotlyServerURL": "https://plot.ly"
       },
       "data": [
        {
         "name": "free",
         "orientation": "h",
         "type": "bar",
         "x": [
          41991,
          3687,
          2621,
          2209,
          1172,
          922,
          893,
          613,
          499,
          360,
          322,
          159,
          93,
          85,
          53,
          21,
          21
         ],
         "y": [
          "NextSong",
          "Roll Advert",
          "Home",
          "Thumbs Up",
          "Add to Playlist",
          "Logout",
          "Add Friend",
          "Thumbs Down",
          "Upgrade",
          "Settings",
          "Help",
          "Submit Upgrade",
          "About",
          "Save Settings",
          "Error",
          "Cancel",
          "Cancellation Confirmation"
         ]
        },
        {
         "name": "paid",
         "orientation": "h",
         "type": "bar",
         "x": [
          186117,
          10342,
          7461,
          5354,
          3384,
          2304,
          2055,
          1933,
          1154,
          1132,
          402,
          246,
          225,
          199,
          63,
          31,
          31
         ],
         "y": [
          "NextSong",
          "Thumbs Up",
          "Home",
          "Add to Playlist",
          "Add Friend",
          "Logout",
          "Downgrade",
          "Thumbs Down",
          "Settings",
          "Help",
          "About",
          "Roll Advert",
          "Save Settings",
          "Error",
          "Submit Downgrade",
          "Cancel",
          "Cancellation Confirmation"
         ]
        }
       ],
       "layout": {
        "height": 600,
        "template": {
         "data": {
          "bar": [
           {
            "error_x": {
             "color": "#2a3f5f"
            },
            "error_y": {
             "color": "#2a3f5f"
            },
            "marker": {
             "line": {
              "color": "white",
              "width": 0.5
             }
            },
            "type": "bar"
           }
          ],
          "barpolar": [
           {
            "marker": {
             "line": {
              "color": "white",
              "width": 0.5
             }
            },
            "type": "barpolar"
           }
          ],
          "carpet": [
           {
            "aaxis": {
             "endlinecolor": "#2a3f5f",
             "gridcolor": "#C8D4E3",
             "linecolor": "#C8D4E3",
             "minorgridcolor": "#C8D4E3",
             "startlinecolor": "#2a3f5f"
            },
            "baxis": {
             "endlinecolor": "#2a3f5f",
             "gridcolor": "#C8D4E3",
             "linecolor": "#C8D4E3",
             "minorgridcolor": "#C8D4E3",
             "startlinecolor": "#2a3f5f"
            },
            "type": "carpet"
           }
          ],
          "choropleth": [
           {
            "colorbar": {
             "outlinewidth": 0,
             "ticks": ""
            },
            "type": "choropleth"
           }
          ],
          "contour": [
           {
            "colorbar": {
             "outlinewidth": 0,
             "ticks": ""
            },
            "colorscale": [
             [
              0,
              "#0d0887"
             ],
             [
              0.1111111111111111,
              "#46039f"
             ],
             [
              0.2222222222222222,
              "#7201a8"
             ],
             [
              0.3333333333333333,
              "#9c179e"
             ],
             [
              0.4444444444444444,
              "#bd3786"
             ],
             [
              0.5555555555555556,
              "#d8576b"
             ],
             [
              0.6666666666666666,
              "#ed7953"
             ],
             [
              0.7777777777777778,
              "#fb9f3a"
             ],
             [
              0.8888888888888888,
              "#fdca26"
             ],
             [
              1,
              "#f0f921"
             ]
            ],
            "type": "contour"
           }
          ],
          "contourcarpet": [
           {
            "colorbar": {
             "outlinewidth": 0,
             "ticks": ""
            },
            "type": "contourcarpet"
           }
          ],
          "heatmap": [
           {
            "colorbar": {
             "outlinewidth": 0,
             "ticks": ""
            },
            "colorscale": [
             [
              0,
              "#0d0887"
             ],
             [
              0.1111111111111111,
              "#46039f"
             ],
             [
              0.2222222222222222,
              "#7201a8"
             ],
             [
              0.3333333333333333,
              "#9c179e"
             ],
             [
              0.4444444444444444,
              "#bd3786"
             ],
             [
              0.5555555555555556,
              "#d8576b"
             ],
             [
              0.6666666666666666,
              "#ed7953"
             ],
             [
              0.7777777777777778,
              "#fb9f3a"
             ],
             [
              0.8888888888888888,
              "#fdca26"
             ],
             [
              1,
              "#f0f921"
             ]
            ],
            "type": "heatmap"
           }
          ],
          "heatmapgl": [
           {
            "colorbar": {
             "outlinewidth": 0,
             "ticks": ""
            },
            "colorscale": [
             [
              0,
              "#0d0887"
             ],
             [
              0.1111111111111111,
              "#46039f"
             ],
             [
              0.2222222222222222,
              "#7201a8"
             ],
             [
              0.3333333333333333,
              "#9c179e"
             ],
             [
              0.4444444444444444,
              "#bd3786"
             ],
             [
              0.5555555555555556,
              "#d8576b"
             ],
             [
              0.6666666666666666,
              "#ed7953"
             ],
             [
              0.7777777777777778,
              "#fb9f3a"
             ],
             [
              0.8888888888888888,
              "#fdca26"
             ],
             [
              1,
              "#f0f921"
             ]
            ],
            "type": "heatmapgl"
           }
          ],
          "histogram": [
           {
            "marker": {
             "colorbar": {
              "outlinewidth": 0,
              "ticks": ""
             }
            },
            "type": "histogram"
           }
          ],
          "histogram2d": [
           {
            "colorbar": {
             "outlinewidth": 0,
             "ticks": ""
            },
            "colorscale": [
             [
              0,
              "#0d0887"
             ],
             [
              0.1111111111111111,
              "#46039f"
             ],
             [
              0.2222222222222222,
              "#7201a8"
             ],
             [
              0.3333333333333333,
              "#9c179e"
             ],
             [
              0.4444444444444444,
              "#bd3786"
             ],
             [
              0.5555555555555556,
              "#d8576b"
             ],
             [
              0.6666666666666666,
              "#ed7953"
             ],
             [
              0.7777777777777778,
              "#fb9f3a"
             ],
             [
              0.8888888888888888,
              "#fdca26"
             ],
             [
              1,
              "#f0f921"
             ]
            ],
            "type": "histogram2d"
           }
          ],
          "histogram2dcontour": [
           {
            "colorbar": {
             "outlinewidth": 0,
             "ticks": ""
            },
            "colorscale": [
             [
              0,
              "#0d0887"
             ],
             [
              0.1111111111111111,
              "#46039f"
             ],
             [
              0.2222222222222222,
              "#7201a8"
             ],
             [
              0.3333333333333333,
              "#9c179e"
             ],
             [
              0.4444444444444444,
              "#bd3786"
             ],
             [
              0.5555555555555556,
              "#d8576b"
             ],
             [
              0.6666666666666666,
              "#ed7953"
             ],
             [
              0.7777777777777778,
              "#fb9f3a"
             ],
             [
              0.8888888888888888,
              "#fdca26"
             ],
             [
              1,
              "#f0f921"
             ]
            ],
            "type": "histogram2dcontour"
           }
          ],
          "mesh3d": [
           {
            "colorbar": {
             "outlinewidth": 0,
             "ticks": ""
            },
            "type": "mesh3d"
           }
          ],
          "parcoords": [
           {
            "line": {
             "colorbar": {
              "outlinewidth": 0,
              "ticks": ""
             }
            },
            "type": "parcoords"
           }
          ],
          "pie": [
           {
            "automargin": true,
            "type": "pie"
           }
          ],
          "scatter": [
           {
            "marker": {
             "colorbar": {
              "outlinewidth": 0,
              "ticks": ""
             }
            },
            "type": "scatter"
           }
          ],
          "scatter3d": [
           {
            "line": {
             "colorbar": {
              "outlinewidth": 0,
              "ticks": ""
             }
            },
            "marker": {
             "colorbar": {
              "outlinewidth": 0,
              "ticks": ""
             }
            },
            "type": "scatter3d"
           }
          ],
          "scattercarpet": [
           {
            "marker": {
             "colorbar": {
              "outlinewidth": 0,
              "ticks": ""
             }
            },
            "type": "scattercarpet"
           }
          ],
          "scattergeo": [
           {
            "marker": {
             "colorbar": {
              "outlinewidth": 0,
              "ticks": ""
             }
            },
            "type": "scattergeo"
           }
          ],
          "scattergl": [
           {
            "marker": {
             "colorbar": {
              "outlinewidth": 0,
              "ticks": ""
             }
            },
            "type": "scattergl"
           }
          ],
          "scattermapbox": [
           {
            "marker": {
             "colorbar": {
              "outlinewidth": 0,
              "ticks": ""
             }
            },
            "type": "scattermapbox"
           }
          ],
          "scatterpolar": [
           {
            "marker": {
             "colorbar": {
              "outlinewidth": 0,
              "ticks": ""
             }
            },
            "type": "scatterpolar"
           }
          ],
          "scatterpolargl": [
           {
            "marker": {
             "colorbar": {
              "outlinewidth": 0,
              "ticks": ""
             }
            },
            "type": "scatterpolargl"
           }
          ],
          "scatterternary": [
           {
            "marker": {
             "colorbar": {
              "outlinewidth": 0,
              "ticks": ""
             }
            },
            "type": "scatterternary"
           }
          ],
          "surface": [
           {
            "colorbar": {
             "outlinewidth": 0,
             "ticks": ""
            },
            "colorscale": [
             [
              0,
              "#0d0887"
             ],
             [
              0.1111111111111111,
              "#46039f"
             ],
             [
              0.2222222222222222,
              "#7201a8"
             ],
             [
              0.3333333333333333,
              "#9c179e"
             ],
             [
              0.4444444444444444,
              "#bd3786"
             ],
             [
              0.5555555555555556,
              "#d8576b"
             ],
             [
              0.6666666666666666,
              "#ed7953"
             ],
             [
              0.7777777777777778,
              "#fb9f3a"
             ],
             [
              0.8888888888888888,
              "#fdca26"
             ],
             [
              1,
              "#f0f921"
             ]
            ],
            "type": "surface"
           }
          ],
          "table": [
           {
            "cells": {
             "fill": {
              "color": "#EBF0F8"
             },
             "line": {
              "color": "white"
             }
            },
            "header": {
             "fill": {
              "color": "#C8D4E3"
             },
             "line": {
              "color": "white"
             }
            },
            "type": "table"
           }
          ]
         },
         "layout": {
          "annotationdefaults": {
           "arrowcolor": "#2a3f5f",
           "arrowhead": 0,
           "arrowwidth": 1
          },
          "coloraxis": {
           "colorbar": {
            "outlinewidth": 0,
            "ticks": ""
           }
          },
          "colorscale": {
           "diverging": [
            [
             0,
             "#8e0152"
            ],
            [
             0.1,
             "#c51b7d"
            ],
            [
             0.2,
             "#de77ae"
            ],
            [
             0.3,
             "#f1b6da"
            ],
            [
             0.4,
             "#fde0ef"
            ],
            [
             0.5,
             "#f7f7f7"
            ],
            [
             0.6,
             "#e6f5d0"
            ],
            [
             0.7,
             "#b8e186"
            ],
            [
             0.8,
             "#7fbc41"
            ],
            [
             0.9,
             "#4d9221"
            ],
            [
             1,
             "#276419"
            ]
           ],
           "sequential": [
            [
             0,
             "#0d0887"
            ],
            [
             0.1111111111111111,
             "#46039f"
            ],
            [
             0.2222222222222222,
             "#7201a8"
            ],
            [
             0.3333333333333333,
             "#9c179e"
            ],
            [
             0.4444444444444444,
             "#bd3786"
            ],
            [
             0.5555555555555556,
             "#d8576b"
            ],
            [
             0.6666666666666666,
             "#ed7953"
            ],
            [
             0.7777777777777778,
             "#fb9f3a"
            ],
            [
             0.8888888888888888,
             "#fdca26"
            ],
            [
             1,
             "#f0f921"
            ]
           ],
           "sequentialminus": [
            [
             0,
             "#0d0887"
            ],
            [
             0.1111111111111111,
             "#46039f"
            ],
            [
             0.2222222222222222,
             "#7201a8"
            ],
            [
             0.3333333333333333,
             "#9c179e"
            ],
            [
             0.4444444444444444,
             "#bd3786"
            ],
            [
             0.5555555555555556,
             "#d8576b"
            ],
            [
             0.6666666666666666,
             "#ed7953"
            ],
            [
             0.7777777777777778,
             "#fb9f3a"
            ],
            [
             0.8888888888888888,
             "#fdca26"
            ],
            [
             1,
             "#f0f921"
            ]
           ]
          },
          "colorway": [
           "#636efa",
           "#EF553B",
           "#00cc96",
           "#ab63fa",
           "#FFA15A",
           "#19d3f3",
           "#FF6692",
           "#B6E880",
           "#FF97FF",
           "#FECB52"
          ],
          "font": {
           "color": "#2a3f5f"
          },
          "geo": {
           "bgcolor": "white",
           "lakecolor": "white",
           "landcolor": "white",
           "showlakes": true,
           "showland": true,
           "subunitcolor": "#C8D4E3"
          },
          "hoverlabel": {
           "align": "left"
          },
          "hovermode": "closest",
          "mapbox": {
           "style": "light"
          },
          "paper_bgcolor": "white",
          "plot_bgcolor": "white",
          "polar": {
           "angularaxis": {
            "gridcolor": "#EBF0F8",
            "linecolor": "#EBF0F8",
            "ticks": ""
           },
           "bgcolor": "white",
           "radialaxis": {
            "gridcolor": "#EBF0F8",
            "linecolor": "#EBF0F8",
            "ticks": ""
           }
          },
          "scene": {
           "xaxis": {
            "backgroundcolor": "white",
            "gridcolor": "#DFE8F3",
            "gridwidth": 2,
            "linecolor": "#EBF0F8",
            "showbackground": true,
            "ticks": "",
            "zerolinecolor": "#EBF0F8"
           },
           "yaxis": {
            "backgroundcolor": "white",
            "gridcolor": "#DFE8F3",
            "gridwidth": 2,
            "linecolor": "#EBF0F8",
            "showbackground": true,
            "ticks": "",
            "zerolinecolor": "#EBF0F8"
           },
           "zaxis": {
            "backgroundcolor": "white",
            "gridcolor": "#DFE8F3",
            "gridwidth": 2,
            "linecolor": "#EBF0F8",
            "showbackground": true,
            "ticks": "",
            "zerolinecolor": "#EBF0F8"
           }
          },
          "shapedefaults": {
           "line": {
            "color": "#2a3f5f"
           }
          },
          "ternary": {
           "aaxis": {
            "gridcolor": "#DFE8F3",
            "linecolor": "#A2B1C6",
            "ticks": ""
           },
           "baxis": {
            "gridcolor": "#DFE8F3",
            "linecolor": "#A2B1C6",
            "ticks": ""
           },
           "bgcolor": "white",
           "caxis": {
            "gridcolor": "#DFE8F3",
            "linecolor": "#A2B1C6",
            "ticks": ""
           }
          },
          "title": {
           "x": 0.05
          },
          "xaxis": {
           "automargin": true,
           "gridcolor": "#EBF0F8",
           "linecolor": "#EBF0F8",
           "ticks": "",
           "title": {
            "standoff": 15
           },
           "zerolinecolor": "#EBF0F8",
           "zerolinewidth": 2
          },
          "yaxis": {
           "automargin": true,
           "gridcolor": "#EBF0F8",
           "linecolor": "#EBF0F8",
           "ticks": "",
           "title": {
            "standoff": 15
           },
           "zerolinecolor": "#EBF0F8",
           "zerolinewidth": 2
          }
         }
        },
        "title": {
         "text": "Number of page interactions"
        }
       }
      }
     },
     "metadata": {}
    }
   ],
   "source": [
    "# Count of the interactions with the different pages\n",
    "free_count_of_pages = np.array(data_cleaned[data_cleaned['level'] == 'free'].groupBy('page').count().orderBy('count', ascending=False).collect())\n",
    "paid_count_of_pages = np.array(data_cleaned[data_cleaned['level'] == 'paid'].groupBy('page').count().orderBy('count', ascending=False).collect())\n",
    "fig = go.Figure()\n",
    "fig.add_trace(go.Bar(x=free_count_of_pages[:,1].astype(float), y=free_count_of_pages[:,0], orientation='h', name='free'))\n",
    "fig.add_trace(go.Bar(x=paid_count_of_pages[:,1].astype(float), y=paid_count_of_pages[:,0], orientation='h', name='paid'))\n",
    "fig.update_layout(title_text=\"Number of page interactions\",\n",
    "                  height=600,\n",
    "                  template='plotly_white')\n",
    "fig.show()"
   ]
  },
  {
   "cell_type": "code",
   "execution_count": 27,
   "metadata": {},
   "outputs": [
    {
     "output_type": "display_data",
     "data": {
      "application/vnd.plotly.v1+json": {
       "config": {
        "plotlyServerURL": "https://plot.ly"
       },
       "data": [
        {
         "name": "unique free users",
         "orientation": "h",
         "type": "bar",
         "x": [
          21,
          135,
          188,
          185,
          162,
          59,
          21,
          63,
          119,
          168,
          148,
          195,
          179,
          125,
          168,
          41,
          131
         ],
         "y": [
          "Cancel",
          "Thumbs Down",
          "Home",
          "Roll Advert",
          "Logout",
          "Save Settings",
          "Cancellation Confirmation",
          "About",
          "Settings",
          "Add to Playlist",
          "Add Friend",
          "NextSong",
          "Thumbs Up",
          "Help",
          "Upgrade",
          "Error",
          "Submit Upgrade"
         ]
        },
        {
         "name": "unqiue paid users",
         "orientation": "h",
         "type": "bar",
         "x": [
          31,
          49,
          157,
          165,
          154,
          99,
          160,
          96,
          31,
          127,
          148,
          163,
          155,
          164,
          163,
          149,
          95
         ],
         "y": [
          "Cancel",
          "Submit Downgrade",
          "Thumbs Down",
          "Home",
          "Downgrade",
          "Roll Advert",
          "Logout",
          "Save Settings",
          "Cancellation Confirmation",
          "About",
          "Settings",
          "Add to Playlist",
          "Add Friend",
          "NextSong",
          "Thumbs Up",
          "Help",
          "Error"
         ]
        }
       ],
       "layout": {
        "height": 600,
        "template": {
         "data": {
          "bar": [
           {
            "error_x": {
             "color": "#2a3f5f"
            },
            "error_y": {
             "color": "#2a3f5f"
            },
            "marker": {
             "line": {
              "color": "white",
              "width": 0.5
             }
            },
            "type": "bar"
           }
          ],
          "barpolar": [
           {
            "marker": {
             "line": {
              "color": "white",
              "width": 0.5
             }
            },
            "type": "barpolar"
           }
          ],
          "carpet": [
           {
            "aaxis": {
             "endlinecolor": "#2a3f5f",
             "gridcolor": "#C8D4E3",
             "linecolor": "#C8D4E3",
             "minorgridcolor": "#C8D4E3",
             "startlinecolor": "#2a3f5f"
            },
            "baxis": {
             "endlinecolor": "#2a3f5f",
             "gridcolor": "#C8D4E3",
             "linecolor": "#C8D4E3",
             "minorgridcolor": "#C8D4E3",
             "startlinecolor": "#2a3f5f"
            },
            "type": "carpet"
           }
          ],
          "choropleth": [
           {
            "colorbar": {
             "outlinewidth": 0,
             "ticks": ""
            },
            "type": "choropleth"
           }
          ],
          "contour": [
           {
            "colorbar": {
             "outlinewidth": 0,
             "ticks": ""
            },
            "colorscale": [
             [
              0,
              "#0d0887"
             ],
             [
              0.1111111111111111,
              "#46039f"
             ],
             [
              0.2222222222222222,
              "#7201a8"
             ],
             [
              0.3333333333333333,
              "#9c179e"
             ],
             [
              0.4444444444444444,
              "#bd3786"
             ],
             [
              0.5555555555555556,
              "#d8576b"
             ],
             [
              0.6666666666666666,
              "#ed7953"
             ],
             [
              0.7777777777777778,
              "#fb9f3a"
             ],
             [
              0.8888888888888888,
              "#fdca26"
             ],
             [
              1,
              "#f0f921"
             ]
            ],
            "type": "contour"
           }
          ],
          "contourcarpet": [
           {
            "colorbar": {
             "outlinewidth": 0,
             "ticks": ""
            },
            "type": "contourcarpet"
           }
          ],
          "heatmap": [
           {
            "colorbar": {
             "outlinewidth": 0,
             "ticks": ""
            },
            "colorscale": [
             [
              0,
              "#0d0887"
             ],
             [
              0.1111111111111111,
              "#46039f"
             ],
             [
              0.2222222222222222,
              "#7201a8"
             ],
             [
              0.3333333333333333,
              "#9c179e"
             ],
             [
              0.4444444444444444,
              "#bd3786"
             ],
             [
              0.5555555555555556,
              "#d8576b"
             ],
             [
              0.6666666666666666,
              "#ed7953"
             ],
             [
              0.7777777777777778,
              "#fb9f3a"
             ],
             [
              0.8888888888888888,
              "#fdca26"
             ],
             [
              1,
              "#f0f921"
             ]
            ],
            "type": "heatmap"
           }
          ],
          "heatmapgl": [
           {
            "colorbar": {
             "outlinewidth": 0,
             "ticks": ""
            },
            "colorscale": [
             [
              0,
              "#0d0887"
             ],
             [
              0.1111111111111111,
              "#46039f"
             ],
             [
              0.2222222222222222,
              "#7201a8"
             ],
             [
              0.3333333333333333,
              "#9c179e"
             ],
             [
              0.4444444444444444,
              "#bd3786"
             ],
             [
              0.5555555555555556,
              "#d8576b"
             ],
             [
              0.6666666666666666,
              "#ed7953"
             ],
             [
              0.7777777777777778,
              "#fb9f3a"
             ],
             [
              0.8888888888888888,
              "#fdca26"
             ],
             [
              1,
              "#f0f921"
             ]
            ],
            "type": "heatmapgl"
           }
          ],
          "histogram": [
           {
            "marker": {
             "colorbar": {
              "outlinewidth": 0,
              "ticks": ""
             }
            },
            "type": "histogram"
           }
          ],
          "histogram2d": [
           {
            "colorbar": {
             "outlinewidth": 0,
             "ticks": ""
            },
            "colorscale": [
             [
              0,
              "#0d0887"
             ],
             [
              0.1111111111111111,
              "#46039f"
             ],
             [
              0.2222222222222222,
              "#7201a8"
             ],
             [
              0.3333333333333333,
              "#9c179e"
             ],
             [
              0.4444444444444444,
              "#bd3786"
             ],
             [
              0.5555555555555556,
              "#d8576b"
             ],
             [
              0.6666666666666666,
              "#ed7953"
             ],
             [
              0.7777777777777778,
              "#fb9f3a"
             ],
             [
              0.8888888888888888,
              "#fdca26"
             ],
             [
              1,
              "#f0f921"
             ]
            ],
            "type": "histogram2d"
           }
          ],
          "histogram2dcontour": [
           {
            "colorbar": {
             "outlinewidth": 0,
             "ticks": ""
            },
            "colorscale": [
             [
              0,
              "#0d0887"
             ],
             [
              0.1111111111111111,
              "#46039f"
             ],
             [
              0.2222222222222222,
              "#7201a8"
             ],
             [
              0.3333333333333333,
              "#9c179e"
             ],
             [
              0.4444444444444444,
              "#bd3786"
             ],
             [
              0.5555555555555556,
              "#d8576b"
             ],
             [
              0.6666666666666666,
              "#ed7953"
             ],
             [
              0.7777777777777778,
              "#fb9f3a"
             ],
             [
              0.8888888888888888,
              "#fdca26"
             ],
             [
              1,
              "#f0f921"
             ]
            ],
            "type": "histogram2dcontour"
           }
          ],
          "mesh3d": [
           {
            "colorbar": {
             "outlinewidth": 0,
             "ticks": ""
            },
            "type": "mesh3d"
           }
          ],
          "parcoords": [
           {
            "line": {
             "colorbar": {
              "outlinewidth": 0,
              "ticks": ""
             }
            },
            "type": "parcoords"
           }
          ],
          "pie": [
           {
            "automargin": true,
            "type": "pie"
           }
          ],
          "scatter": [
           {
            "marker": {
             "colorbar": {
              "outlinewidth": 0,
              "ticks": ""
             }
            },
            "type": "scatter"
           }
          ],
          "scatter3d": [
           {
            "line": {
             "colorbar": {
              "outlinewidth": 0,
              "ticks": ""
             }
            },
            "marker": {
             "colorbar": {
              "outlinewidth": 0,
              "ticks": ""
             }
            },
            "type": "scatter3d"
           }
          ],
          "scattercarpet": [
           {
            "marker": {
             "colorbar": {
              "outlinewidth": 0,
              "ticks": ""
             }
            },
            "type": "scattercarpet"
           }
          ],
          "scattergeo": [
           {
            "marker": {
             "colorbar": {
              "outlinewidth": 0,
              "ticks": ""
             }
            },
            "type": "scattergeo"
           }
          ],
          "scattergl": [
           {
            "marker": {
             "colorbar": {
              "outlinewidth": 0,
              "ticks": ""
             }
            },
            "type": "scattergl"
           }
          ],
          "scattermapbox": [
           {
            "marker": {
             "colorbar": {
              "outlinewidth": 0,
              "ticks": ""
             }
            },
            "type": "scattermapbox"
           }
          ],
          "scatterpolar": [
           {
            "marker": {
             "colorbar": {
              "outlinewidth": 0,
              "ticks": ""
             }
            },
            "type": "scatterpolar"
           }
          ],
          "scatterpolargl": [
           {
            "marker": {
             "colorbar": {
              "outlinewidth": 0,
              "ticks": ""
             }
            },
            "type": "scatterpolargl"
           }
          ],
          "scatterternary": [
           {
            "marker": {
             "colorbar": {
              "outlinewidth": 0,
              "ticks": ""
             }
            },
            "type": "scatterternary"
           }
          ],
          "surface": [
           {
            "colorbar": {
             "outlinewidth": 0,
             "ticks": ""
            },
            "colorscale": [
             [
              0,
              "#0d0887"
             ],
             [
              0.1111111111111111,
              "#46039f"
             ],
             [
              0.2222222222222222,
              "#7201a8"
             ],
             [
              0.3333333333333333,
              "#9c179e"
             ],
             [
              0.4444444444444444,
              "#bd3786"
             ],
             [
              0.5555555555555556,
              "#d8576b"
             ],
             [
              0.6666666666666666,
              "#ed7953"
             ],
             [
              0.7777777777777778,
              "#fb9f3a"
             ],
             [
              0.8888888888888888,
              "#fdca26"
             ],
             [
              1,
              "#f0f921"
             ]
            ],
            "type": "surface"
           }
          ],
          "table": [
           {
            "cells": {
             "fill": {
              "color": "#EBF0F8"
             },
             "line": {
              "color": "white"
             }
            },
            "header": {
             "fill": {
              "color": "#C8D4E3"
             },
             "line": {
              "color": "white"
             }
            },
            "type": "table"
           }
          ]
         },
         "layout": {
          "annotationdefaults": {
           "arrowcolor": "#2a3f5f",
           "arrowhead": 0,
           "arrowwidth": 1
          },
          "coloraxis": {
           "colorbar": {
            "outlinewidth": 0,
            "ticks": ""
           }
          },
          "colorscale": {
           "diverging": [
            [
             0,
             "#8e0152"
            ],
            [
             0.1,
             "#c51b7d"
            ],
            [
             0.2,
             "#de77ae"
            ],
            [
             0.3,
             "#f1b6da"
            ],
            [
             0.4,
             "#fde0ef"
            ],
            [
             0.5,
             "#f7f7f7"
            ],
            [
             0.6,
             "#e6f5d0"
            ],
            [
             0.7,
             "#b8e186"
            ],
            [
             0.8,
             "#7fbc41"
            ],
            [
             0.9,
             "#4d9221"
            ],
            [
             1,
             "#276419"
            ]
           ],
           "sequential": [
            [
             0,
             "#0d0887"
            ],
            [
             0.1111111111111111,
             "#46039f"
            ],
            [
             0.2222222222222222,
             "#7201a8"
            ],
            [
             0.3333333333333333,
             "#9c179e"
            ],
            [
             0.4444444444444444,
             "#bd3786"
            ],
            [
             0.5555555555555556,
             "#d8576b"
            ],
            [
             0.6666666666666666,
             "#ed7953"
            ],
            [
             0.7777777777777778,
             "#fb9f3a"
            ],
            [
             0.8888888888888888,
             "#fdca26"
            ],
            [
             1,
             "#f0f921"
            ]
           ],
           "sequentialminus": [
            [
             0,
             "#0d0887"
            ],
            [
             0.1111111111111111,
             "#46039f"
            ],
            [
             0.2222222222222222,
             "#7201a8"
            ],
            [
             0.3333333333333333,
             "#9c179e"
            ],
            [
             0.4444444444444444,
             "#bd3786"
            ],
            [
             0.5555555555555556,
             "#d8576b"
            ],
            [
             0.6666666666666666,
             "#ed7953"
            ],
            [
             0.7777777777777778,
             "#fb9f3a"
            ],
            [
             0.8888888888888888,
             "#fdca26"
            ],
            [
             1,
             "#f0f921"
            ]
           ]
          },
          "colorway": [
           "#636efa",
           "#EF553B",
           "#00cc96",
           "#ab63fa",
           "#FFA15A",
           "#19d3f3",
           "#FF6692",
           "#B6E880",
           "#FF97FF",
           "#FECB52"
          ],
          "font": {
           "color": "#2a3f5f"
          },
          "geo": {
           "bgcolor": "white",
           "lakecolor": "white",
           "landcolor": "white",
           "showlakes": true,
           "showland": true,
           "subunitcolor": "#C8D4E3"
          },
          "hoverlabel": {
           "align": "left"
          },
          "hovermode": "closest",
          "mapbox": {
           "style": "light"
          },
          "paper_bgcolor": "white",
          "plot_bgcolor": "white",
          "polar": {
           "angularaxis": {
            "gridcolor": "#EBF0F8",
            "linecolor": "#EBF0F8",
            "ticks": ""
           },
           "bgcolor": "white",
           "radialaxis": {
            "gridcolor": "#EBF0F8",
            "linecolor": "#EBF0F8",
            "ticks": ""
           }
          },
          "scene": {
           "xaxis": {
            "backgroundcolor": "white",
            "gridcolor": "#DFE8F3",
            "gridwidth": 2,
            "linecolor": "#EBF0F8",
            "showbackground": true,
            "ticks": "",
            "zerolinecolor": "#EBF0F8"
           },
           "yaxis": {
            "backgroundcolor": "white",
            "gridcolor": "#DFE8F3",
            "gridwidth": 2,
            "linecolor": "#EBF0F8",
            "showbackground": true,
            "ticks": "",
            "zerolinecolor": "#EBF0F8"
           },
           "zaxis": {
            "backgroundcolor": "white",
            "gridcolor": "#DFE8F3",
            "gridwidth": 2,
            "linecolor": "#EBF0F8",
            "showbackground": true,
            "ticks": "",
            "zerolinecolor": "#EBF0F8"
           }
          },
          "shapedefaults": {
           "line": {
            "color": "#2a3f5f"
           }
          },
          "ternary": {
           "aaxis": {
            "gridcolor": "#DFE8F3",
            "linecolor": "#A2B1C6",
            "ticks": ""
           },
           "baxis": {
            "gridcolor": "#DFE8F3",
            "linecolor": "#A2B1C6",
            "ticks": ""
           },
           "bgcolor": "white",
           "caxis": {
            "gridcolor": "#DFE8F3",
            "linecolor": "#A2B1C6",
            "ticks": ""
           }
          },
          "title": {
           "x": 0.05
          },
          "xaxis": {
           "automargin": true,
           "gridcolor": "#EBF0F8",
           "linecolor": "#EBF0F8",
           "ticks": "",
           "title": {
            "standoff": 15
           },
           "zerolinecolor": "#EBF0F8",
           "zerolinewidth": 2
          },
          "yaxis": {
           "automargin": true,
           "gridcolor": "#EBF0F8",
           "linecolor": "#EBF0F8",
           "ticks": "",
           "title": {
            "standoff": 15
           },
           "zerolinecolor": "#EBF0F8",
           "zerolinewidth": 2
          }
         }
        },
        "title": {
         "text": "Number of page interactions for unqiue users"
        }
       }
      }
     },
     "metadata": {}
    }
   ],
   "source": [
    "# Count of the interactions with the different pages for unique users per page\n",
    "import pyspark.sql.functions as func\n",
    "free_count_of_pages = np.array(data_cleaned[data_cleaned['level'] == 'free'].groupby('page').agg(func.countDistinct('userID')).collect())\n",
    "paid_count_of_pages = np.array(data_cleaned[data_cleaned['level'] == 'paid'].groupby('page').agg(func.countDistinct('userID')).collect())\n",
    "\n",
    "\n",
    "fig = go.Figure()\n",
    "fig.add_trace(go.Bar(x=free_count_of_pages[:,1].astype(float), y=free_count_of_pages[:,0], orientation='h', name='unique free users'))\n",
    "fig.add_trace(go.Bar(x=paid_count_of_pages[:,1].astype(float), y=paid_count_of_pages[:,0], orientation='h', name='unqiue paid users'))\n",
    "fig.update_layout(title_text=\"Number of page interactions for unqiue users\",\n",
    "                  height=600,\n",
    "                  template='plotly_white')\n",
    "fig.show()\n"
   ]
  },
  {
   "cell_type": "code",
   "execution_count": 106,
   "metadata": {},
   "outputs": [
    {
     "output_type": "stream",
     "name": "stdout",
     "text": "+--------------------+----------------------+\n|                page|count(DISTINCT userID)|\n+--------------------+----------------------+\n|              Cancel|                    52|\n|    Submit Downgrade|                    49|\n|         Thumbs Down|                   203|\n|                Home|                   223|\n|           Downgrade|                   154|\n|         Roll Advert|                   207|\n|              Logout|                   213|\n|       Save Settings|                   132|\n|Cancellation Conf...|                    52|\n|               About|                   155|\n|            Settings|                   195|\n|     Add to Playlist|                   215|\n|          Add Friend|                   206|\n|            NextSong|                   225|\n|           Thumbs Up|                   220|\n|                Help|                   192|\n|             Upgrade|                   168|\n|               Error|                   117|\n|      Submit Upgrade|                   131|\n+--------------------+----------------------+\n\n"
    }
   ],
   "source": [
    "df_cancel_avg = data_cleaned[data_cleaned['page'] == 'Cancellation Confirmation'].groupby('userId').mean().toPandas()\n",
    "# Plot average item in Session length and time between registration and cancelation\n",
    "data_cleaned.groupby('page').agg(func.countDistinct('userID')).show()"
   ]
  },
  {
   "cell_type": "code",
   "execution_count": null,
   "metadata": {},
   "outputs": [],
   "source": [
    "# Avg time from cancellation to confirmation, compared to avg time on platform\n",
    "# Avg number of sessions of cancel to other\n",
    "# Avg length per session of cancel to other\n",
    "# Avg cummulative time in session compared to other\n",
    "# Change of Items per Session for cancelers and non cancelers"
   ]
  },
  {
   "cell_type": "code",
   "execution_count": 124,
   "metadata": {},
   "outputs": [
    {
     "output_type": "stream",
     "name": "stdout",
     "text": "+------+-------------+\n|userId|count(userId)|\n+------+-------------+\n|   125|           11|\n|    51|         2464|\n|    54|         3437|\n|100014|          310|\n|   101|         2149|\n|100021|          319|\n|    29|         3603|\n|    73|          457|\n|    87|         1003|\n|     3|          254|\n|    28|         1781|\n|100022|          964|\n|100025|          623|\n|300007|          143|\n|100006|           44|\n|    18|          513|\n|    70|         1775|\n|100005|          216|\n|    17|         1102|\n|100007|          520|\n+------+-------------+\nonly showing top 20 rows\n\n"
    }
   ],
   "source": [
    "\n",
    "#spark.sql(\"SELECT userId FROM data_cleaned WHERE page = 'Cancellation Confirmation'\").show()\n",
    "spark.sql(\"SELECT userId, COUNT(userId) FROM data_cleaned WHERE userId IN \\\n",
    "                        (SELECT userId FROM data_cleaned WHERE page = 'Cancellation Confirmation') \\\n",
    "                        GROUP BY userId\").show()"
   ]
  },
  {
   "cell_type": "code",
   "execution_count": 166,
   "metadata": {},
   "outputs": [
    {
     "output_type": "display_data",
     "data": {
      "application/vnd.plotly.v1+json": {
       "config": {
        "plotlyServerURL": "https://plot.ly"
       },
       "data": [
        {
         "name": "canceling users",
         "type": "box",
         "y": [
          71.31688657407408,
          19.455844907407407,
          110.75168981481481,
          85.08340277777778,
          53.965937499999995,
          64.73886574074074,
          60.104050925925925,
          49.76208333333333,
          59.125856481481485,
          80.89527777777778,
          44.314432870370375,
          47.92025462962963,
          88.81461805555556,
          11.553703703703704,
          9.127164351851851,
          38.43199074074074,
          145.73800925925926,
          85.19559027777778,
          13.099016203703703,
          115.38761574074074,
          188.31178240740743,
          37.43827546296296,
          67.87921296296297,
          28.42769675925926,
          22.748113425925926,
          42.13234953703704,
          27.221655092592595,
          53.01773148148148,
          52.816701388888895,
          60.986805555555556,
          26.22980324074074,
          5.165115740740741,
          31.19925925925926,
          43.05261574074074,
          48.56862268518518,
          55.769826388888895,
          75.99219907407407,
          40.357511574074074,
          61.73311342592592,
          21.590891203703706,
          15.909027777777778,
          29.607175925925926,
          109.27394675925926,
          32.362118055555555,
          44.17873842592593,
          78.88440972222223,
          131.43560185185186,
          73.00452546296296,
          87.6291550925926,
          16.74056712962963,
          70.66457175925926,
          44.80021990740741
         ]
        },
        {
         "name": "non canceling users",
         "type": "box",
         "y": [
          55.6436574074074,
          70.07462962962963,
          71.31688657407408,
          131.55591435185184,
          19.455844907407407,
          72.77818287037037,
          56.513576388888886,
          110.75168981481481,
          23.556018518518517,
          85.08340277777778,
          66.8891087962963,
          23.872037037037035,
          53.965937499999995,
          124.47825231481481,
          66.62668981481481,
          74.35851851851852,
          64.73886574074074,
          60.104050925925925,
          71.42444444444445,
          87.46262731481481,
          67.11364583333334,
          49.76208333333333,
          59.125856481481485,
          38.142488425925926,
          49.152442129629634,
          80.89527777777778,
          123.53140046296296,
          63.066643518518525,
          71.14295138888889,
          39.88013888888889,
          64.60553240740741,
          87.42347222222223,
          86.40864583333332,
          114.99788194444444,
          61.48951388888889,
          44.314432870370375,
          92.85342592592593,
          150.0044675925926,
          47.92025462962963,
          109.60453703703705,
          80.40359953703704,
          75.46339120370371,
          102.24886574074075,
          90.50671296296296,
          52.76118055555556,
          89.70524305555556,
          63.40961805555556,
          68.22856481481482,
          131.6851736111111,
          133.00108796296297,
          88.81461805555556,
          74.21925925925926,
          68.3830787037037,
          89.53488425925927,
          124.38989583333334,
          73.93668981481481,
          11.553703703703704,
          65.93375,
          48.39195601851852,
          64.87377314814815,
          9.127164351851851,
          38.43199074074074,
          145.73800925925926,
          85.19559027777778,
          102.59481481481481,
          72.211875,
          68.92494212962963,
          62.09569444444444,
          120.89991898148149,
          80.60512731481482,
          13.099016203703703,
          115.38761574074074,
          77.53899305555555,
          128.10019675925926,
          53.39774305555556,
          63.27107638888889,
          89.37314814814816,
          68.9053587962963,
          188.31178240740743,
          171.48203703703703,
          60.588310185185186,
          65.07229166666666,
          69.41987268518518,
          75.35636574074074,
          63.12707175925926,
          256.3776736111111,
          84.62292824074073,
          128.14015046296296,
          37.43827546296296,
          61.17638888888889,
          172.44008101851853,
          125.58270833333334,
          71.48456018518519,
          100.0112962962963,
          101.98753472222222,
          152.8420601851852,
          67.87921296296297,
          21.451435185185186,
          150.45563657407408,
          38.90083333333333,
          95.33168981481481,
          28.42769675925926,
          135.89708333333334,
          110.77247685185186,
          64.68184027777778,
          71.66560185185186,
          115.18381944444445,
          82.22630787037038,
          75.01533564814815,
          22.748113425925926,
          71.03246527777777,
          62.26634259259259,
          42.13234953703704,
          113.13180555555556,
          75.06532407407407,
          78.96927083333334,
          58.839490740740736,
          82.50391203703704,
          72.08957175925926,
          0.31372685185185184,
          37.099016203703705,
          27.221655092592595,
          98.94381944444444,
          74.43959490740741,
          74.40032407407408,
          67.18055555555556,
          53.01773148148148,
          83.52885416666668,
          52.816701388888895,
          62.23815972222223,
          72.10061342592593,
          74.17873842592593,
          60.986805555555556,
          135.0992476851852,
          26.22980324074074,
          5.165115740740741,
          31.19925925925926,
          100.3783912037037,
          98.71303240740741,
          71.39887731481481,
          162.89256944444443,
          43.05261574074074,
          123.96466435185185,
          48.56862268518518,
          55.769826388888895,
          116.99548611111112,
          99.22612268518519,
          27.365162037037038,
          75.99219907407407,
          75.39690972222222,
          70.12188657407408,
          87.39342592592594,
          40.357511574074074,
          138.89282407407407,
          52.468148148148146,
          61.73311342592592,
          76.6900462962963,
          76.06190972222223,
          76.95898148148147,
          60.832430555555554,
          93.96927083333333,
          21.590891203703706,
          31.03962962962963,
          65.16515046296296,
          15.909027777777778,
          76.18290509259259,
          46.17971064814815,
          29.607175925925926,
          77.02128472222222,
          109.27394675925926,
          73.64201388888888,
          32.362118055555555,
          44.17873842592593,
          63.489328703703706,
          67.95305555555555,
          75.88082175925926,
          101.2241087962963,
          108.19745370370372,
          51.76265046296297,
          94.56951388888889,
          102.7619212962963,
          107.24446759259258,
          69.41837962962963,
          65.45400462962964,
          157.05546296296296,
          78.88440972222223,
          48.58732638888889,
          39.33960648148148,
          71.10780092592593,
          131.43560185185186,
          62.79774305555555,
          168.92145833333333,
          65.71107638888888,
          134.06662037037037,
          73.00452546296296,
          124.14094907407407,
          87.99846064814814,
          100.19100694444444,
          88.70363425925926,
          119.45459490740741,
          56.230057870370366,
          132.54185185185185,
          68.76866898148148,
          125.62591435185186,
          116.02526620370371,
          132.30824074074073,
          123.35806712962962,
          124.55060185185185,
          71.22346064814815,
          100.83010416666667,
          42.57099537037037,
          87.6291550925926,
          16.74056712962963,
          56.86383101851852,
          69.90317129629629,
          160.47207175925925,
          110.71211805555555,
          58.53869212962963,
          102.31814814814815,
          75.44710648148148,
          81.08318287037038,
          87.79336805555556,
          70.66457175925926,
          188.85927083333334,
          44.80021990740741
         ]
        }
       ],
       "layout": {
        "template": {
         "data": {
          "bar": [
           {
            "error_x": {
             "color": "#2a3f5f"
            },
            "error_y": {
             "color": "#2a3f5f"
            },
            "marker": {
             "line": {
              "color": "white",
              "width": 0.5
             }
            },
            "type": "bar"
           }
          ],
          "barpolar": [
           {
            "marker": {
             "line": {
              "color": "white",
              "width": 0.5
             }
            },
            "type": "barpolar"
           }
          ],
          "carpet": [
           {
            "aaxis": {
             "endlinecolor": "#2a3f5f",
             "gridcolor": "#C8D4E3",
             "linecolor": "#C8D4E3",
             "minorgridcolor": "#C8D4E3",
             "startlinecolor": "#2a3f5f"
            },
            "baxis": {
             "endlinecolor": "#2a3f5f",
             "gridcolor": "#C8D4E3",
             "linecolor": "#C8D4E3",
             "minorgridcolor": "#C8D4E3",
             "startlinecolor": "#2a3f5f"
            },
            "type": "carpet"
           }
          ],
          "choropleth": [
           {
            "colorbar": {
             "outlinewidth": 0,
             "ticks": ""
            },
            "type": "choropleth"
           }
          ],
          "contour": [
           {
            "colorbar": {
             "outlinewidth": 0,
             "ticks": ""
            },
            "colorscale": [
             [
              0,
              "#0d0887"
             ],
             [
              0.1111111111111111,
              "#46039f"
             ],
             [
              0.2222222222222222,
              "#7201a8"
             ],
             [
              0.3333333333333333,
              "#9c179e"
             ],
             [
              0.4444444444444444,
              "#bd3786"
             ],
             [
              0.5555555555555556,
              "#d8576b"
             ],
             [
              0.6666666666666666,
              "#ed7953"
             ],
             [
              0.7777777777777778,
              "#fb9f3a"
             ],
             [
              0.8888888888888888,
              "#fdca26"
             ],
             [
              1,
              "#f0f921"
             ]
            ],
            "type": "contour"
           }
          ],
          "contourcarpet": [
           {
            "colorbar": {
             "outlinewidth": 0,
             "ticks": ""
            },
            "type": "contourcarpet"
           }
          ],
          "heatmap": [
           {
            "colorbar": {
             "outlinewidth": 0,
             "ticks": ""
            },
            "colorscale": [
             [
              0,
              "#0d0887"
             ],
             [
              0.1111111111111111,
              "#46039f"
             ],
             [
              0.2222222222222222,
              "#7201a8"
             ],
             [
              0.3333333333333333,
              "#9c179e"
             ],
             [
              0.4444444444444444,
              "#bd3786"
             ],
             [
              0.5555555555555556,
              "#d8576b"
             ],
             [
              0.6666666666666666,
              "#ed7953"
             ],
             [
              0.7777777777777778,
              "#fb9f3a"
             ],
             [
              0.8888888888888888,
              "#fdca26"
             ],
             [
              1,
              "#f0f921"
             ]
            ],
            "type": "heatmap"
           }
          ],
          "heatmapgl": [
           {
            "colorbar": {
             "outlinewidth": 0,
             "ticks": ""
            },
            "colorscale": [
             [
              0,
              "#0d0887"
             ],
             [
              0.1111111111111111,
              "#46039f"
             ],
             [
              0.2222222222222222,
              "#7201a8"
             ],
             [
              0.3333333333333333,
              "#9c179e"
             ],
             [
              0.4444444444444444,
              "#bd3786"
             ],
             [
              0.5555555555555556,
              "#d8576b"
             ],
             [
              0.6666666666666666,
              "#ed7953"
             ],
             [
              0.7777777777777778,
              "#fb9f3a"
             ],
             [
              0.8888888888888888,
              "#fdca26"
             ],
             [
              1,
              "#f0f921"
             ]
            ],
            "type": "heatmapgl"
           }
          ],
          "histogram": [
           {
            "marker": {
             "colorbar": {
              "outlinewidth": 0,
              "ticks": ""
             }
            },
            "type": "histogram"
           }
          ],
          "histogram2d": [
           {
            "colorbar": {
             "outlinewidth": 0,
             "ticks": ""
            },
            "colorscale": [
             [
              0,
              "#0d0887"
             ],
             [
              0.1111111111111111,
              "#46039f"
             ],
             [
              0.2222222222222222,
              "#7201a8"
             ],
             [
              0.3333333333333333,
              "#9c179e"
             ],
             [
              0.4444444444444444,
              "#bd3786"
             ],
             [
              0.5555555555555556,
              "#d8576b"
             ],
             [
              0.6666666666666666,
              "#ed7953"
             ],
             [
              0.7777777777777778,
              "#fb9f3a"
             ],
             [
              0.8888888888888888,
              "#fdca26"
             ],
             [
              1,
              "#f0f921"
             ]
            ],
            "type": "histogram2d"
           }
          ],
          "histogram2dcontour": [
           {
            "colorbar": {
             "outlinewidth": 0,
             "ticks": ""
            },
            "colorscale": [
             [
              0,
              "#0d0887"
             ],
             [
              0.1111111111111111,
              "#46039f"
             ],
             [
              0.2222222222222222,
              "#7201a8"
             ],
             [
              0.3333333333333333,
              "#9c179e"
             ],
             [
              0.4444444444444444,
              "#bd3786"
             ],
             [
              0.5555555555555556,
              "#d8576b"
             ],
             [
              0.6666666666666666,
              "#ed7953"
             ],
             [
              0.7777777777777778,
              "#fb9f3a"
             ],
             [
              0.8888888888888888,
              "#fdca26"
             ],
             [
              1,
              "#f0f921"
             ]
            ],
            "type": "histogram2dcontour"
           }
          ],
          "mesh3d": [
           {
            "colorbar": {
             "outlinewidth": 0,
             "ticks": ""
            },
            "type": "mesh3d"
           }
          ],
          "parcoords": [
           {
            "line": {
             "colorbar": {
              "outlinewidth": 0,
              "ticks": ""
             }
            },
            "type": "parcoords"
           }
          ],
          "pie": [
           {
            "automargin": true,
            "type": "pie"
           }
          ],
          "scatter": [
           {
            "marker": {
             "colorbar": {
              "outlinewidth": 0,
              "ticks": ""
             }
            },
            "type": "scatter"
           }
          ],
          "scatter3d": [
           {
            "line": {
             "colorbar": {
              "outlinewidth": 0,
              "ticks": ""
             }
            },
            "marker": {
             "colorbar": {
              "outlinewidth": 0,
              "ticks": ""
             }
            },
            "type": "scatter3d"
           }
          ],
          "scattercarpet": [
           {
            "marker": {
             "colorbar": {
              "outlinewidth": 0,
              "ticks": ""
             }
            },
            "type": "scattercarpet"
           }
          ],
          "scattergeo": [
           {
            "marker": {
             "colorbar": {
              "outlinewidth": 0,
              "ticks": ""
             }
            },
            "type": "scattergeo"
           }
          ],
          "scattergl": [
           {
            "marker": {
             "colorbar": {
              "outlinewidth": 0,
              "ticks": ""
             }
            },
            "type": "scattergl"
           }
          ],
          "scattermapbox": [
           {
            "marker": {
             "colorbar": {
              "outlinewidth": 0,
              "ticks": ""
             }
            },
            "type": "scattermapbox"
           }
          ],
          "scatterpolar": [
           {
            "marker": {
             "colorbar": {
              "outlinewidth": 0,
              "ticks": ""
             }
            },
            "type": "scatterpolar"
           }
          ],
          "scatterpolargl": [
           {
            "marker": {
             "colorbar": {
              "outlinewidth": 0,
              "ticks": ""
             }
            },
            "type": "scatterpolargl"
           }
          ],
          "scatterternary": [
           {
            "marker": {
             "colorbar": {
              "outlinewidth": 0,
              "ticks": ""
             }
            },
            "type": "scatterternary"
           }
          ],
          "surface": [
           {
            "colorbar": {
             "outlinewidth": 0,
             "ticks": ""
            },
            "colorscale": [
             [
              0,
              "#0d0887"
             ],
             [
              0.1111111111111111,
              "#46039f"
             ],
             [
              0.2222222222222222,
              "#7201a8"
             ],
             [
              0.3333333333333333,
              "#9c179e"
             ],
             [
              0.4444444444444444,
              "#bd3786"
             ],
             [
              0.5555555555555556,
              "#d8576b"
             ],
             [
              0.6666666666666666,
              "#ed7953"
             ],
             [
              0.7777777777777778,
              "#fb9f3a"
             ],
             [
              0.8888888888888888,
              "#fdca26"
             ],
             [
              1,
              "#f0f921"
             ]
            ],
            "type": "surface"
           }
          ],
          "table": [
           {
            "cells": {
             "fill": {
              "color": "#EBF0F8"
             },
             "line": {
              "color": "white"
             }
            },
            "header": {
             "fill": {
              "color": "#C8D4E3"
             },
             "line": {
              "color": "white"
             }
            },
            "type": "table"
           }
          ]
         },
         "layout": {
          "annotationdefaults": {
           "arrowcolor": "#2a3f5f",
           "arrowhead": 0,
           "arrowwidth": 1
          },
          "coloraxis": {
           "colorbar": {
            "outlinewidth": 0,
            "ticks": ""
           }
          },
          "colorscale": {
           "diverging": [
            [
             0,
             "#8e0152"
            ],
            [
             0.1,
             "#c51b7d"
            ],
            [
             0.2,
             "#de77ae"
            ],
            [
             0.3,
             "#f1b6da"
            ],
            [
             0.4,
             "#fde0ef"
            ],
            [
             0.5,
             "#f7f7f7"
            ],
            [
             0.6,
             "#e6f5d0"
            ],
            [
             0.7,
             "#b8e186"
            ],
            [
             0.8,
             "#7fbc41"
            ],
            [
             0.9,
             "#4d9221"
            ],
            [
             1,
             "#276419"
            ]
           ],
           "sequential": [
            [
             0,
             "#0d0887"
            ],
            [
             0.1111111111111111,
             "#46039f"
            ],
            [
             0.2222222222222222,
             "#7201a8"
            ],
            [
             0.3333333333333333,
             "#9c179e"
            ],
            [
             0.4444444444444444,
             "#bd3786"
            ],
            [
             0.5555555555555556,
             "#d8576b"
            ],
            [
             0.6666666666666666,
             "#ed7953"
            ],
            [
             0.7777777777777778,
             "#fb9f3a"
            ],
            [
             0.8888888888888888,
             "#fdca26"
            ],
            [
             1,
             "#f0f921"
            ]
           ],
           "sequentialminus": [
            [
             0,
             "#0d0887"
            ],
            [
             0.1111111111111111,
             "#46039f"
            ],
            [
             0.2222222222222222,
             "#7201a8"
            ],
            [
             0.3333333333333333,
             "#9c179e"
            ],
            [
             0.4444444444444444,
             "#bd3786"
            ],
            [
             0.5555555555555556,
             "#d8576b"
            ],
            [
             0.6666666666666666,
             "#ed7953"
            ],
            [
             0.7777777777777778,
             "#fb9f3a"
            ],
            [
             0.8888888888888888,
             "#fdca26"
            ],
            [
             1,
             "#f0f921"
            ]
           ]
          },
          "colorway": [
           "#636efa",
           "#EF553B",
           "#00cc96",
           "#ab63fa",
           "#FFA15A",
           "#19d3f3",
           "#FF6692",
           "#B6E880",
           "#FF97FF",
           "#FECB52"
          ],
          "font": {
           "color": "#2a3f5f"
          },
          "geo": {
           "bgcolor": "white",
           "lakecolor": "white",
           "landcolor": "white",
           "showlakes": true,
           "showland": true,
           "subunitcolor": "#C8D4E3"
          },
          "hoverlabel": {
           "align": "left"
          },
          "hovermode": "closest",
          "mapbox": {
           "style": "light"
          },
          "paper_bgcolor": "white",
          "plot_bgcolor": "white",
          "polar": {
           "angularaxis": {
            "gridcolor": "#EBF0F8",
            "linecolor": "#EBF0F8",
            "ticks": ""
           },
           "bgcolor": "white",
           "radialaxis": {
            "gridcolor": "#EBF0F8",
            "linecolor": "#EBF0F8",
            "ticks": ""
           }
          },
          "scene": {
           "xaxis": {
            "backgroundcolor": "white",
            "gridcolor": "#DFE8F3",
            "gridwidth": 2,
            "linecolor": "#EBF0F8",
            "showbackground": true,
            "ticks": "",
            "zerolinecolor": "#EBF0F8"
           },
           "yaxis": {
            "backgroundcolor": "white",
            "gridcolor": "#DFE8F3",
            "gridwidth": 2,
            "linecolor": "#EBF0F8",
            "showbackground": true,
            "ticks": "",
            "zerolinecolor": "#EBF0F8"
           },
           "zaxis": {
            "backgroundcolor": "white",
            "gridcolor": "#DFE8F3",
            "gridwidth": 2,
            "linecolor": "#EBF0F8",
            "showbackground": true,
            "ticks": "",
            "zerolinecolor": "#EBF0F8"
           }
          },
          "shapedefaults": {
           "line": {
            "color": "#2a3f5f"
           }
          },
          "ternary": {
           "aaxis": {
            "gridcolor": "#DFE8F3",
            "linecolor": "#A2B1C6",
            "ticks": ""
           },
           "baxis": {
            "gridcolor": "#DFE8F3",
            "linecolor": "#A2B1C6",
            "ticks": ""
           },
           "bgcolor": "white",
           "caxis": {
            "gridcolor": "#DFE8F3",
            "linecolor": "#A2B1C6",
            "ticks": ""
           }
          },
          "title": {
           "x": 0.05
          },
          "xaxis": {
           "automargin": true,
           "gridcolor": "#EBF0F8",
           "linecolor": "#EBF0F8",
           "ticks": "",
           "title": {
            "standoff": 15
           },
           "zerolinecolor": "#EBF0F8",
           "zerolinewidth": 2
          },
          "yaxis": {
           "automargin": true,
           "gridcolor": "#EBF0F8",
           "linecolor": "#EBF0F8",
           "ticks": "",
           "title": {
            "standoff": 15
           },
           "zerolinecolor": "#EBF0F8",
           "zerolinewidth": 2
          }
         }
        },
        "title": {
         "text": "Difference between time of registration and last time stamp"
        },
        "yaxis": {
         "title": {
          "text": "Time difference [days]"
         }
        }
       }
      }
     },
     "metadata": {}
    }
   ],
   "source": [
    "# Comparison difference between last time stamp ts and time of registration for users how canceled users and non canceled users\n",
    "canceled_users = np.array(spark.sql(\"SELECT userId, max(ts)-max(registration) FROM data_cleaned WHERE userId IN \\\n",
    "                        (SELECT userId FROM data_cleaned WHERE page = 'Cancellation Confirmation') \\\n",
    "                        GROUP BY userId\").collect()).astype(int)\n",
    "non_canceled_users = np.array(spark.sql(\"SELECT userId, max(ts)-max(registration) FROM data_cleaned WHERE userId IN \\\n",
    "                        (SELECT userId FROM data_cleaned WHERE page != 'Cancellation Confirmation') \\\n",
    "                        GROUP BY userId\").collect()).astype(int)\n",
    "\n",
    "dum = np.array(spark.sql(\"SELECT userId, max(ts),max(registration) FROM data_cleaned WHERE userId IN \\\n",
    "                        (SELECT userId FROM data_cleaned WHERE page = 'Cancellation Confirmation') \\\n",
    "                        GROUP BY userId\").collect()).astype(int)\n",
    "\n",
    "fig = go.Figure()\n",
    "fig.add_trace(go.Box(y=canceled_users[:,1]/1000/3600/24, name = 'canceling users'))  \n",
    "fig.add_trace(go.Box(y=non_canceled_users[:,1]/1000/3600/24, name = 'non canceling users')) \n",
    "fig.update_yaxes(title_text='Time difference [days]')\n",
    "fig.update_layout(title_text=\"Difference between time of registration and last time stamp\",\n",
    "                  template='plotly_white')\n",
    "fig.show()    \n",
    "                  \n"
   ]
  },
  {
   "cell_type": "code",
   "execution_count": 165,
   "metadata": {},
   "outputs": [
    {
     "output_type": "display_data",
     "data": {
      "application/vnd.plotly.v1+json": {
       "config": {
        "plotlyServerURL": "https://plot.ly"
       },
       "data": [
        {
         "domain": {
          "x": [
           0,
           0.45
          ],
          "y": [
           0,
           1
          ]
         },
         "labels": [
          "F",
          "M"
         ],
         "name": "Canceling users",
         "type": "pie",
         "values": [
          "20",
          "32"
         ]
        },
        {
         "domain": {
          "x": [
           0.55,
           1
          ],
          "y": [
           0,
           1
          ]
         },
         "labels": [
          "F",
          "M"
         ],
         "name": "Canceling users",
         "type": "pie",
         "values": [
          "104",
          "121"
         ]
        }
       ],
       "layout": {
        "annotations": [
         {
          "font": {
           "size": 16
          },
          "showarrow": false,
          "text": "Canceling users",
          "x": 0.225,
          "xanchor": "center",
          "xref": "paper",
          "y": 1,
          "yanchor": "bottom",
          "yref": "paper"
         },
         {
          "font": {
           "size": 16
          },
          "showarrow": false,
          "text": "Non canceling users",
          "x": 0.775,
          "xanchor": "center",
          "xref": "paper",
          "y": 1,
          "yanchor": "bottom",
          "yref": "paper"
         }
        ],
        "template": {
         "data": {
          "bar": [
           {
            "error_x": {
             "color": "#2a3f5f"
            },
            "error_y": {
             "color": "#2a3f5f"
            },
            "marker": {
             "line": {
              "color": "white",
              "width": 0.5
             }
            },
            "type": "bar"
           }
          ],
          "barpolar": [
           {
            "marker": {
             "line": {
              "color": "white",
              "width": 0.5
             }
            },
            "type": "barpolar"
           }
          ],
          "carpet": [
           {
            "aaxis": {
             "endlinecolor": "#2a3f5f",
             "gridcolor": "#C8D4E3",
             "linecolor": "#C8D4E3",
             "minorgridcolor": "#C8D4E3",
             "startlinecolor": "#2a3f5f"
            },
            "baxis": {
             "endlinecolor": "#2a3f5f",
             "gridcolor": "#C8D4E3",
             "linecolor": "#C8D4E3",
             "minorgridcolor": "#C8D4E3",
             "startlinecolor": "#2a3f5f"
            },
            "type": "carpet"
           }
          ],
          "choropleth": [
           {
            "colorbar": {
             "outlinewidth": 0,
             "ticks": ""
            },
            "type": "choropleth"
           }
          ],
          "contour": [
           {
            "colorbar": {
             "outlinewidth": 0,
             "ticks": ""
            },
            "colorscale": [
             [
              0,
              "#0d0887"
             ],
             [
              0.1111111111111111,
              "#46039f"
             ],
             [
              0.2222222222222222,
              "#7201a8"
             ],
             [
              0.3333333333333333,
              "#9c179e"
             ],
             [
              0.4444444444444444,
              "#bd3786"
             ],
             [
              0.5555555555555556,
              "#d8576b"
             ],
             [
              0.6666666666666666,
              "#ed7953"
             ],
             [
              0.7777777777777778,
              "#fb9f3a"
             ],
             [
              0.8888888888888888,
              "#fdca26"
             ],
             [
              1,
              "#f0f921"
             ]
            ],
            "type": "contour"
           }
          ],
          "contourcarpet": [
           {
            "colorbar": {
             "outlinewidth": 0,
             "ticks": ""
            },
            "type": "contourcarpet"
           }
          ],
          "heatmap": [
           {
            "colorbar": {
             "outlinewidth": 0,
             "ticks": ""
            },
            "colorscale": [
             [
              0,
              "#0d0887"
             ],
             [
              0.1111111111111111,
              "#46039f"
             ],
             [
              0.2222222222222222,
              "#7201a8"
             ],
             [
              0.3333333333333333,
              "#9c179e"
             ],
             [
              0.4444444444444444,
              "#bd3786"
             ],
             [
              0.5555555555555556,
              "#d8576b"
             ],
             [
              0.6666666666666666,
              "#ed7953"
             ],
             [
              0.7777777777777778,
              "#fb9f3a"
             ],
             [
              0.8888888888888888,
              "#fdca26"
             ],
             [
              1,
              "#f0f921"
             ]
            ],
            "type": "heatmap"
           }
          ],
          "heatmapgl": [
           {
            "colorbar": {
             "outlinewidth": 0,
             "ticks": ""
            },
            "colorscale": [
             [
              0,
              "#0d0887"
             ],
             [
              0.1111111111111111,
              "#46039f"
             ],
             [
              0.2222222222222222,
              "#7201a8"
             ],
             [
              0.3333333333333333,
              "#9c179e"
             ],
             [
              0.4444444444444444,
              "#bd3786"
             ],
             [
              0.5555555555555556,
              "#d8576b"
             ],
             [
              0.6666666666666666,
              "#ed7953"
             ],
             [
              0.7777777777777778,
              "#fb9f3a"
             ],
             [
              0.8888888888888888,
              "#fdca26"
             ],
             [
              1,
              "#f0f921"
             ]
            ],
            "type": "heatmapgl"
           }
          ],
          "histogram": [
           {
            "marker": {
             "colorbar": {
              "outlinewidth": 0,
              "ticks": ""
             }
            },
            "type": "histogram"
           }
          ],
          "histogram2d": [
           {
            "colorbar": {
             "outlinewidth": 0,
             "ticks": ""
            },
            "colorscale": [
             [
              0,
              "#0d0887"
             ],
             [
              0.1111111111111111,
              "#46039f"
             ],
             [
              0.2222222222222222,
              "#7201a8"
             ],
             [
              0.3333333333333333,
              "#9c179e"
             ],
             [
              0.4444444444444444,
              "#bd3786"
             ],
             [
              0.5555555555555556,
              "#d8576b"
             ],
             [
              0.6666666666666666,
              "#ed7953"
             ],
             [
              0.7777777777777778,
              "#fb9f3a"
             ],
             [
              0.8888888888888888,
              "#fdca26"
             ],
             [
              1,
              "#f0f921"
             ]
            ],
            "type": "histogram2d"
           }
          ],
          "histogram2dcontour": [
           {
            "colorbar": {
             "outlinewidth": 0,
             "ticks": ""
            },
            "colorscale": [
             [
              0,
              "#0d0887"
             ],
             [
              0.1111111111111111,
              "#46039f"
             ],
             [
              0.2222222222222222,
              "#7201a8"
             ],
             [
              0.3333333333333333,
              "#9c179e"
             ],
             [
              0.4444444444444444,
              "#bd3786"
             ],
             [
              0.5555555555555556,
              "#d8576b"
             ],
             [
              0.6666666666666666,
              "#ed7953"
             ],
             [
              0.7777777777777778,
              "#fb9f3a"
             ],
             [
              0.8888888888888888,
              "#fdca26"
             ],
             [
              1,
              "#f0f921"
             ]
            ],
            "type": "histogram2dcontour"
           }
          ],
          "mesh3d": [
           {
            "colorbar": {
             "outlinewidth": 0,
             "ticks": ""
            },
            "type": "mesh3d"
           }
          ],
          "parcoords": [
           {
            "line": {
             "colorbar": {
              "outlinewidth": 0,
              "ticks": ""
             }
            },
            "type": "parcoords"
           }
          ],
          "pie": [
           {
            "automargin": true,
            "type": "pie"
           }
          ],
          "scatter": [
           {
            "marker": {
             "colorbar": {
              "outlinewidth": 0,
              "ticks": ""
             }
            },
            "type": "scatter"
           }
          ],
          "scatter3d": [
           {
            "line": {
             "colorbar": {
              "outlinewidth": 0,
              "ticks": ""
             }
            },
            "marker": {
             "colorbar": {
              "outlinewidth": 0,
              "ticks": ""
             }
            },
            "type": "scatter3d"
           }
          ],
          "scattercarpet": [
           {
            "marker": {
             "colorbar": {
              "outlinewidth": 0,
              "ticks": ""
             }
            },
            "type": "scattercarpet"
           }
          ],
          "scattergeo": [
           {
            "marker": {
             "colorbar": {
              "outlinewidth": 0,
              "ticks": ""
             }
            },
            "type": "scattergeo"
           }
          ],
          "scattergl": [
           {
            "marker": {
             "colorbar": {
              "outlinewidth": 0,
              "ticks": ""
             }
            },
            "type": "scattergl"
           }
          ],
          "scattermapbox": [
           {
            "marker": {
             "colorbar": {
              "outlinewidth": 0,
              "ticks": ""
             }
            },
            "type": "scattermapbox"
           }
          ],
          "scatterpolar": [
           {
            "marker": {
             "colorbar": {
              "outlinewidth": 0,
              "ticks": ""
             }
            },
            "type": "scatterpolar"
           }
          ],
          "scatterpolargl": [
           {
            "marker": {
             "colorbar": {
              "outlinewidth": 0,
              "ticks": ""
             }
            },
            "type": "scatterpolargl"
           }
          ],
          "scatterternary": [
           {
            "marker": {
             "colorbar": {
              "outlinewidth": 0,
              "ticks": ""
             }
            },
            "type": "scatterternary"
           }
          ],
          "surface": [
           {
            "colorbar": {
             "outlinewidth": 0,
             "ticks": ""
            },
            "colorscale": [
             [
              0,
              "#0d0887"
             ],
             [
              0.1111111111111111,
              "#46039f"
             ],
             [
              0.2222222222222222,
              "#7201a8"
             ],
             [
              0.3333333333333333,
              "#9c179e"
             ],
             [
              0.4444444444444444,
              "#bd3786"
             ],
             [
              0.5555555555555556,
              "#d8576b"
             ],
             [
              0.6666666666666666,
              "#ed7953"
             ],
             [
              0.7777777777777778,
              "#fb9f3a"
             ],
             [
              0.8888888888888888,
              "#fdca26"
             ],
             [
              1,
              "#f0f921"
             ]
            ],
            "type": "surface"
           }
          ],
          "table": [
           {
            "cells": {
             "fill": {
              "color": "#EBF0F8"
             },
             "line": {
              "color": "white"
             }
            },
            "header": {
             "fill": {
              "color": "#C8D4E3"
             },
             "line": {
              "color": "white"
             }
            },
            "type": "table"
           }
          ]
         },
         "layout": {
          "annotationdefaults": {
           "arrowcolor": "#2a3f5f",
           "arrowhead": 0,
           "arrowwidth": 1
          },
          "coloraxis": {
           "colorbar": {
            "outlinewidth": 0,
            "ticks": ""
           }
          },
          "colorscale": {
           "diverging": [
            [
             0,
             "#8e0152"
            ],
            [
             0.1,
             "#c51b7d"
            ],
            [
             0.2,
             "#de77ae"
            ],
            [
             0.3,
             "#f1b6da"
            ],
            [
             0.4,
             "#fde0ef"
            ],
            [
             0.5,
             "#f7f7f7"
            ],
            [
             0.6,
             "#e6f5d0"
            ],
            [
             0.7,
             "#b8e186"
            ],
            [
             0.8,
             "#7fbc41"
            ],
            [
             0.9,
             "#4d9221"
            ],
            [
             1,
             "#276419"
            ]
           ],
           "sequential": [
            [
             0,
             "#0d0887"
            ],
            [
             0.1111111111111111,
             "#46039f"
            ],
            [
             0.2222222222222222,
             "#7201a8"
            ],
            [
             0.3333333333333333,
             "#9c179e"
            ],
            [
             0.4444444444444444,
             "#bd3786"
            ],
            [
             0.5555555555555556,
             "#d8576b"
            ],
            [
             0.6666666666666666,
             "#ed7953"
            ],
            [
             0.7777777777777778,
             "#fb9f3a"
            ],
            [
             0.8888888888888888,
             "#fdca26"
            ],
            [
             1,
             "#f0f921"
            ]
           ],
           "sequentialminus": [
            [
             0,
             "#0d0887"
            ],
            [
             0.1111111111111111,
             "#46039f"
            ],
            [
             0.2222222222222222,
             "#7201a8"
            ],
            [
             0.3333333333333333,
             "#9c179e"
            ],
            [
             0.4444444444444444,
             "#bd3786"
            ],
            [
             0.5555555555555556,
             "#d8576b"
            ],
            [
             0.6666666666666666,
             "#ed7953"
            ],
            [
             0.7777777777777778,
             "#fb9f3a"
            ],
            [
             0.8888888888888888,
             "#fdca26"
            ],
            [
             1,
             "#f0f921"
            ]
           ]
          },
          "colorway": [
           "#636efa",
           "#EF553B",
           "#00cc96",
           "#ab63fa",
           "#FFA15A",
           "#19d3f3",
           "#FF6692",
           "#B6E880",
           "#FF97FF",
           "#FECB52"
          ],
          "font": {
           "color": "#2a3f5f"
          },
          "geo": {
           "bgcolor": "white",
           "lakecolor": "white",
           "landcolor": "white",
           "showlakes": true,
           "showland": true,
           "subunitcolor": "#C8D4E3"
          },
          "hoverlabel": {
           "align": "left"
          },
          "hovermode": "closest",
          "mapbox": {
           "style": "light"
          },
          "paper_bgcolor": "white",
          "plot_bgcolor": "white",
          "polar": {
           "angularaxis": {
            "gridcolor": "#EBF0F8",
            "linecolor": "#EBF0F8",
            "ticks": ""
           },
           "bgcolor": "white",
           "radialaxis": {
            "gridcolor": "#EBF0F8",
            "linecolor": "#EBF0F8",
            "ticks": ""
           }
          },
          "scene": {
           "xaxis": {
            "backgroundcolor": "white",
            "gridcolor": "#DFE8F3",
            "gridwidth": 2,
            "linecolor": "#EBF0F8",
            "showbackground": true,
            "ticks": "",
            "zerolinecolor": "#EBF0F8"
           },
           "yaxis": {
            "backgroundcolor": "white",
            "gridcolor": "#DFE8F3",
            "gridwidth": 2,
            "linecolor": "#EBF0F8",
            "showbackground": true,
            "ticks": "",
            "zerolinecolor": "#EBF0F8"
           },
           "zaxis": {
            "backgroundcolor": "white",
            "gridcolor": "#DFE8F3",
            "gridwidth": 2,
            "linecolor": "#EBF0F8",
            "showbackground": true,
            "ticks": "",
            "zerolinecolor": "#EBF0F8"
           }
          },
          "shapedefaults": {
           "line": {
            "color": "#2a3f5f"
           }
          },
          "ternary": {
           "aaxis": {
            "gridcolor": "#DFE8F3",
            "linecolor": "#A2B1C6",
            "ticks": ""
           },
           "baxis": {
            "gridcolor": "#DFE8F3",
            "linecolor": "#A2B1C6",
            "ticks": ""
           },
           "bgcolor": "white",
           "caxis": {
            "gridcolor": "#DFE8F3",
            "linecolor": "#A2B1C6",
            "ticks": ""
           }
          },
          "title": {
           "x": 0.05
          },
          "xaxis": {
           "automargin": true,
           "gridcolor": "#EBF0F8",
           "linecolor": "#EBF0F8",
           "ticks": "",
           "title": {
            "standoff": 15
           },
           "zerolinecolor": "#EBF0F8",
           "zerolinewidth": 2
          },
          "yaxis": {
           "automargin": true,
           "gridcolor": "#EBF0F8",
           "linecolor": "#EBF0F8",
           "ticks": "",
           "title": {
            "standoff": 15
           },
           "zerolinecolor": "#EBF0F8",
           "zerolinewidth": 2
          }
         }
        },
        "title": {
         "text": "Comparison of gender fraction"
        }
       }
      }
     },
     "metadata": {}
    }
   ],
   "source": [
    "# Distribution of gender of canceling and non canceling users\n",
    "canceled_users = np.array(spark.sql(\"SELECT gender, COUNT(DISTINCT(userId)) FROM data_cleaned WHERE userId IN \\\n",
    "                        (SELECT userId FROM data_cleaned WHERE page = 'Cancellation Confirmation') \\\n",
    "                        GROUP BY gender\").collect())\n",
    "non_canceled_users = np.array(spark.sql(\"SELECT gender, COUNT(DISTINCT(userId)) FROM data_cleaned WHERE userId IN \\\n",
    "                        (SELECT userId FROM data_cleaned WHERE page != 'Cancellation Confirmation') \\\n",
    "                        GROUP BY gender\").collect())\n",
    "\n",
    "from plotly.subplots import make_subplots\n",
    "\n",
    "fig = make_subplots(rows=1, cols=2,\n",
    "             subplot_titles=(\"Canceling users\", \"Non canceling users\"),\n",
    "             specs=[[{\"type\": \"domain\"}, {\"type\": \"domain\"}]])\n",
    "\n",
    "fig.add_trace(\n",
    "    go.Pie(values=canceled_users[:,1], labels=canceled_users[:,0], name='Canceling users'),\n",
    "    row=1, col=1\n",
    ")\n",
    "\n",
    "fig.add_trace(\n",
    "    go.Pie(values=non_canceled_users[:,1], labels=non_canceled_users[:,0], name='Canceling users'),\n",
    "    row=1, col=2\n",
    ")\n",
    "\n",
    "fig.update_layout(title_text=\"Comparison of gender fraction\",\n",
    "                  template='plotly_white')\n",
    "fig.show()"
   ]
  },
  {
   "cell_type": "code",
   "execution_count": 187,
   "metadata": {},
   "outputs": [
    {
     "output_type": "stream",
     "name": "stdout",
     "text": "[[100001      2]\n [100005      3]\n [100006      2]\n [100007      6]\n [100009      8]\n [100011      1]\n [100012      9]\n [100013     15]\n [100014      3]\n [100015      8]\n [100017      1]\n [100019      1]\n [100021      5]\n [100022     20]\n [100023      2]\n [100025      7]\n [   101     16]\n [   103      9]\n [   105      6]\n [   106      6]\n [    12      9]\n [   121      8]\n [   122      1]\n [   129      7]\n [    17     13]\n [    18      1]\n [200001      1]\n [200011     24]\n [200015     10]\n [200016      5]\n [200017     16]\n [200018     11]\n [200020     36]\n [200021     35]\n [200024     13]\n [    28     22]\n [    29     22]\n [     3      3]\n [300001     17]\n [300007      1]\n [    32      1]\n [    51     21]\n [    53     16]\n [    54     29]\n [    58     20]\n [    70     12]\n [    73      7]\n [    87      5]]\n[[100001      8]\n [100003      3]\n [100005      7]\n [100006      2]\n [100007     19]\n [100009     23]\n [100012     18]\n [100013     39]\n [100014     17]\n [100015     35]\n [100017      2]\n [100019      1]\n [100021     11]\n [100022     45]\n [100023     10]\n [100024      5]\n [100025     20]\n [   101     86]\n [   103     52]\n [   105     45]\n [   106     43]\n [    12     42]\n [   121     28]\n [   122      3]\n [   129      7]\n [   143      5]\n [    17     40]\n [    18     20]\n [200001     10]\n [200011     37]\n [200015     10]\n [200016     19]\n [200017     29]\n [200018     13]\n [200020     56]\n [200021     55]\n [200024     19]\n [    28     79]\n [    29    154]\n [     3     14]\n [300001    148]\n [300007     11]\n [    32      7]\n [    51    100]\n [    53     69]\n [    54    163]\n [    58     94]\n [    70     90]\n [    73     14]\n [    87     32]]\n"
    }
   ],
   "source": [
    "# Ratio betwenn up and down votes\n",
    "canceled_users_upvotes = np.array(spark.sql(\"SELECT userId, COUNT(page) FROM data_cleaned WHERE page = 'Thumbs Up' AND userId IN \\\n",
    "                        (SELECT userId FROM data_cleaned WHERE page = 'Cancellation Confirmation') \\\n",
    "                        GROUP BY userId ORDER BY userId\").collect()).astype(int)\n",
    "canceled_users_downvotes = np.array(spark.sql(\"SELECT userId, COUNT(page) FROM data_cleaned WHERE page = 'Thumbs Down' AND userId IN \\\n",
    "                        (SELECT userId FROM data_cleaned WHERE page = 'Cancellation Confirmation') \\\n",
    "                        GROUP BY userId ORDER BY userId\").collect()).astype(int)\n",
    "print(canceled_users_downvotes)\n",
    "print(canceled_users_upvotes)"
   ]
  },
  {
   "cell_type": "code",
   "execution_count": 197,
   "metadata": {},
   "outputs": [
    {
     "output_type": "stream",
     "name": "stdout",
     "text": "+------+------------------+\n|userId|     Ratio_TU_v_TD|\n+------+------------------+\n|   125|              null|\n|    51| 4.761904761904762|\n|    54| 5.620689655172414|\n|100014| 5.666666666666667|\n|   101|             5.375|\n|100021|               2.2|\n|    29|               7.0|\n|    73|               2.0|\n|    87|               6.4|\n|     3| 4.666666666666667|\n|    28| 3.590909090909091|\n|100022|              2.25|\n|100025| 2.857142857142857|\n|300007|              11.0|\n|100006|               1.0|\n|    18|              20.0|\n|    70|               7.5|\n|100005|2.3333333333333335|\n|    17| 3.076923076923077|\n|100007|3.1666666666666665|\n+------+------------------+\nonly showing top 20 rows\n\n+------+------------------+\n|userId|     Ratio_TU_v_TD|\n+------+------------------+\n|100010|               3.4|\n|200002|               3.5|\n|   125|              null|\n|   124| 4.170731707317073|\n|    51| 4.761904761904762|\n|     7|               7.0|\n|    15| 5.785714285714286|\n|    54| 5.620689655172414|\n|   155|19.333333333333332|\n|100014| 5.666666666666667|\n|   132| 5.647058823529412|\n|   154|              null|\n|   101|             5.375|\n|    11| 4.444444444444445|\n|   138|3.9583333333333335|\n|300017|10.821428571428571|\n|100021|               2.2|\n|    29|               7.0|\n|    69|               8.0|\n|   112|               3.0|\n+------+------------------+\nonly showing top 20 rows\n\n"
    }
   ],
   "source": [
    "spark.sql(\"\"\"\n",
    "    SELECT userId,\n",
    "           SUM(CASE WHEN page = 'Thumbs Up' THEN 1 ELSE 0 END)/\n",
    "           SUM(CASE WHEN page = 'Thumbs Down' THEN 1 ELSE 0 END) AS Ratio_TU_v_TD\n",
    "    FROM data_cleaned\n",
    "    WHERE userId IN (SELECT userId FROM data_cleaned WHERE page = 'Cancellation Confirmation')\n",
    "    GROUP BY userId\n",
    "\"\"\").show()\n",
    "spark.sql(\"\"\"\n",
    "    SELECT userId,\n",
    "           SUM(CASE WHEN page = 'Thumbs Up' THEN 1 ELSE 0 END)/\n",
    "           SUM(CASE WHEN page = 'Thumbs Down' THEN 1 ELSE 0 END) AS Ratio_TU_v_TD\n",
    "    FROM data_cleaned\n",
    "    WHERE userId IN (SELECT userId FROM data_cleaned WHERE page != 'Cancellation Confirmation')\n",
    "    GROUP BY userId\n",
    "\"\"\").show()\n"
   ]
  },
  {
   "cell_type": "code",
   "execution_count": 209,
   "metadata": {},
   "outputs": [
    {
     "output_type": "stream",
     "name": "stdout",
     "text": "+------+-----------------------------+\n|userId|(max(ts) - max(registration))|\n+------+-----------------------------+\n|   125|                   6161779000|\n|    51|                   1680985000|\n|    54|                   9568946000|\n|100014|                   7351206000|\n|   101|                   4662657000|\n|100021|                   5593438000|\n|    29|                   5192990000|\n|    73|                   4299444000|\n|    87|                   5108474000|\n|     3|                   6989352000|\n|    28|                   3828767000|\n|100022|                   4140310000|\n|100025|                   7673583000|\n|300007|                    998240000|\n|100006|                    788587000|\n|    18|                   3320524000|\n|    70|                  12591764000|\n|100005|                   7360899000|\n|    17|                   1131755000|\n|100007|                   9969490000|\n+------+-----------------------------+\nonly showing top 20 rows\n\n+------+-----------------------------+\n|userId|(max(ts) - max(registration))|\n+------+-----------------------------+\n|100010|                   4807612000|\n|200002|                   6054448000|\n|   124|                  11366431000|\n|     7|                   6288035000|\n|    15|                   4882773000|\n|   155|                   2035240000|\n|   132|                   5779219000|\n|   154|                   2062544000|\n|    11|                  10754921000|\n|   138|                   5756546000|\n|300017|                   6424576000|\n|    69|                   6171072000|\n|    42|                   5798619000|\n|   112|                   7556771000|\n|    64|                   4246771000|\n|200010|                   3295511000|\n|    30|                   5448958000|\n|   113|                  10673113000|\n|    34|                   6146751000|\n|   133|                   3445644000|\n+------+-----------------------------+\nonly showing top 20 rows\n\n"
    }
   ],
   "source": [
    "spark.sql(\"SELECT userId, max(ts)-max(registration) FROM data_cleaned WHERE userId IN \\\n",
    "                        (SELECT userId FROM data_cleaned WHERE page = 'Cancellation Confirmation') \\\n",
    "                        GROUP BY userId\").show()\n",
    "spark.sql(\"SELECT userId, max(ts)-max(registration) FROM data_cleaned WHERE userId NOT IN \\\n",
    "                        (SELECT userId FROM data_cleaned WHERE page = 'Cancellation Confirmation') \\\n",
    "                        GROUP BY userId\").show()"
   ]
  },
  {
   "cell_type": "code",
   "execution_count": 201,
   "metadata": {},
   "outputs": [
    {
     "output_type": "stream",
     "name": "stdout",
     "text": "+------+-------------+\n|userId|count(userId)|\n+------+-------------+\n|100010|          381|\n|200002|          474|\n|   125|           10|\n|    51|         2463|\n|   124|         4825|\n|     7|          201|\n|    54|         3436|\n|    15|         2278|\n|   155|         1002|\n|   132|         2304|\n|   154|          118|\n|100014|          309|\n|   101|         2148|\n|    11|          848|\n|   138|         2469|\n|300017|         4428|\n|    29|         3602|\n|    69|         1342|\n|100021|          318|\n|    42|         4257|\n+------+-------------+\nonly showing top 20 rows\n\n"
    }
   ],
   "source": [
    "spark.sql(\"SELECT userId, count(userId) FROM data_cleaned WHERE page != 'Cancellation Confirmation' GROUP BY userId\").show()"
   ]
  },
  {
   "cell_type": "code",
   "execution_count": 208,
   "metadata": {},
   "outputs": [
    {
     "output_type": "execute_result",
     "data": {
      "text/plain": "52"
     },
     "metadata": {},
     "execution_count": 208
    }
   ],
   "source": [
    "len(np.array(spark.sql(\"SELECT userId, count(userId) FROM data_cleaned WHERE page = 'Cancellation Confirmation' GROUP BY userId\").collect()))"
   ]
  },
  {
   "cell_type": "code",
   "execution_count": 125,
   "metadata": {},
   "outputs": [
    {
     "output_type": "stream",
     "name": "stdout",
     "text": "+------+-------------+\n|userId|count(userId)|\n+------+-------------+\n|100010|          381|\n|200002|          474|\n|   125|           11|\n|   124|         4825|\n|    51|         2464|\n|     7|          201|\n|    15|         2278|\n|    54|         3437|\n|   155|         1002|\n|100014|          310|\n|   132|         2304|\n|   154|          118|\n|   101|         2149|\n|    11|          848|\n|   138|         2469|\n|300017|         4428|\n|100021|          319|\n|    29|         3603|\n|    69|         1342|\n|   112|          292|\n+------+-------------+\nonly showing top 20 rows\n\n"
    }
   ],
   "source": [
    "spark.sql(\"SELECT userId, COUNT(userId) FROM data_cleaned WHERE userId IN \\\n",
    "                        (SELECT userId FROM data_cleaned WHERE page != 'Cancellation Confirmation') \\\n",
    "                        GROUP BY userId\").show()"
   ]
  },
  {
   "cell_type": "code",
   "execution_count": 120,
   "metadata": {},
   "outputs": [
    {
     "output_type": "stream",
     "name": "stdout",
     "text": "+------+-------------+\n|userId|count(userId)|\n+------+-------------+\n|100010|          381|\n|200002|          474|\n|   125|           11|\n|    51|         2464|\n|   124|         4825|\n|     7|          201|\n|    54|         3437|\n|    15|         2278|\n|   155|         1002|\n|   132|         2304|\n|   154|          118|\n|100014|          310|\n|   101|         2149|\n|    11|          848|\n|   138|         2469|\n|300017|         4428|\n|    29|         3603|\n|    69|         1342|\n|100021|          319|\n|    42|         4257|\n+------+-------------+\nonly showing top 20 rows\n\n"
    }
   ],
   "source": [
    "spark.sql(\"SELECT userId, COUNT(userId) FROM data_cleaned GROUP BY userId\").show()"
   ]
  },
  {
   "cell_type": "code",
   "execution_count": 103,
   "metadata": {},
   "outputs": [
    {
     "output_type": "stream",
     "name": "stdout",
     "text": "+--------------------+---------+---------+------+-------------+--------+---------+-----+--------------------+------+---------+-------------+---------+--------------------+------+-------------+--------------------+------+\n|              artist|     auth|firstName|gender|itemInSession|lastName|   length|level|            location|method|     page| registration|sessionId|                song|status|           ts|           userAgent|userId|\n+--------------------+---------+---------+------+-------------+--------+---------+-----+--------------------+------+---------+-------------+---------+--------------------+------+-------------+--------------------+------+\n|                null|Logged In|  Ainsley|     F|            0|  Farley|     null| free|McAllen-Edinburg-...|   GET|     Home|1538304455000|      187|                null|   200|1538359181000|\"Mozilla/5.0 (Win...|    78|\n|       Skunk Anansie|Logged In|  Ainsley|     F|            1|  Farley|194.58567| free|McAllen-Edinburg-...|   PUT| NextSong|1538304455000|      187|        Pickin On Me|   200|1538359204000|\"Mozilla/5.0 (Win...|    78|\n|        Sick Puppies|Logged In|  Ainsley|     F|            2|  Farley|198.94812| free|McAllen-Edinburg-...|   PUT| NextSong|1538304455000|      187|                 War|   200|1538359398000|\"Mozilla/5.0 (Win...|    78|\n|     Alice In Chains|Logged In|  Ainsley|     F|            3|  Farley| 153.3122| free|McAllen-Edinburg-...|   PUT| NextSong|1538304455000|      187|        We Die Young|   200|1538359596000|\"Mozilla/5.0 (Win...|    78|\n|      Letzte Instanz|Logged In|  Ainsley|     F|            4|  Farley|222.58893| free|McAllen-Edinburg-...|   PUT| NextSong|1538304455000|      187|       Bittere Nacht|   200|1538359749000|\"Mozilla/5.0 (Win...|    78|\n|Florence + The Ma...|Logged In|  Ainsley|     F|            5|  Farley|258.55955| free|McAllen-Edinburg-...|   PUT| NextSong|1538304455000|      187|         Cosmic Love|   200|1538359971000|\"Mozilla/5.0 (Win...|    78|\n|         Rick Astley|Logged In|  Ainsley|     F|            6|  Farley|261.69424| free|McAllen-Edinburg-...|   PUT| NextSong|1538304455000|      187|Hold Me In Your Arms|   200|1538360229000|\"Mozilla/5.0 (Win...|    78|\n|                 A&E|Logged In|  Ainsley|     F|            7|  Farley|239.69914| free|McAllen-Edinburg-...|   PUT| NextSong|1538304455000|      187|          Shima Guni|   200|1538360490000|\"Mozilla/5.0 (Win...|    78|\n|                null|Logged In|  Ainsley|     F|            8|  Farley|     null| free|McAllen-Edinburg-...|   GET|     Help|1538304455000|      187|                null|   200|1538360520000|\"Mozilla/5.0 (Win...|    78|\n|    JoÃÂ£o Gilberto|Logged In|  Ainsley|     F|            9|  Farley|258.37669| free|McAllen-Edinburg-...|   PUT| NextSong|1538304455000|      187|  Ave Maria No Morro|   200|1538360729000|\"Mozilla/5.0 (Win...|    78|\n|Ashley Tisdale/Lu...|Logged In|  Ainsley|     F|           10|  Farley|277.05424| free|McAllen-Edinburg-...|   PUT| NextSong|1538304455000|      187|       I Want It All|   200|1538360987000|\"Mozilla/5.0 (Win...|    78|\n|Stevie Ray Vaugha...|Logged In|  Ainsley|     F|           11|  Farley|256.15628| free|McAllen-Edinburg-...|   PUT| NextSong|1538304455000|      187| Leave My Girl Alone|   200|1538361264000|\"Mozilla/5.0 (Win...|    78|\n|    Dario Marianelli|Logged In|  Ainsley|     F|           12|  Farley|282.95791| free|McAllen-Edinburg-...|   PUT| NextSong|1538304455000|      187|    With My Own Eyes|   200|1538361520000|\"Mozilla/5.0 (Win...|    78|\n|                null|Logged In|  Ainsley|     F|           13|  Farley|     null| free|McAllen-Edinburg-...|   PUT|   Logout|1538304455000|      187|                null|   307|1538361521000|\"Mozilla/5.0 (Win...|    78|\n|                null|Logged In|  Ainsley|     F|           16|  Farley|     null| free|McAllen-Edinburg-...|   GET|     Home|1538304455000|      187|                null|   200|1538361561000|\"Mozilla/5.0 (Win...|    78|\n|           The Kooks|Logged In|  Ainsley|     F|           17|  Farley|203.96363| free|McAllen-Edinburg-...|   PUT| NextSong|1538304455000|      187|               Naive|   200|1538361802000|\"Mozilla/5.0 (Win...|    78|\n|                null|Logged In|  Ainsley|     F|           18|  Farley|     null| free|McAllen-Edinburg-...|   PUT|Thumbs Up|1538304455000|      187|                null|   307|1538361803000|\"Mozilla/5.0 (Win...|    78|\n|                 JET|Logged In|  Ainsley|     F|           19|  Farley|213.81179| free|McAllen-Edinburg-...|   PUT| NextSong|1538304455000|      187|Are You Gonna Be ...|   200|1538362005000|\"Mozilla/5.0 (Win...|    78|\n|                null|Logged In|  Ainsley|     F|           20|  Farley|     null| free|McAllen-Edinburg-...|   PUT|   Logout|1538304455000|      187|                null|   307|1538362006000|\"Mozilla/5.0 (Win...|    78|\n|                null|Logged In|  Ainsley|     F|           24|  Farley|     null| free|McAllen-Edinburg-...|   GET|     Home|1538304455000|      187|                null|   200|1538362104000|\"Mozilla/5.0 (Win...|    78|\n+--------------------+---------+---------+------+-------------+--------+---------+-----+--------------------+------+---------+-------------+---------+--------------------+------+-------------+--------------------+------+\nonly showing top 20 rows\n\n"
    }
   ],
   "source": [
    "spark.sql(\"SELECT * FROM data_cleaned WHERE sessionId IN \\\n",
    "         (SELECT sessionId - 1 FROM data_cleaned WHERE page = 'Cancellation Confirmation')\").show()"
   ]
  },
  {
   "cell_type": "code",
   "execution_count": 217,
   "metadata": {},
   "outputs": [
    {
     "output_type": "stream",
     "name": "stdout",
     "text": "+--------------------+---------+---------+------+-------------+--------+---------+-----+--------------------+------+---------------+-------------+---------+--------------------+------+-------------+--------------------+------+\n|              artist|     auth|firstName|gender|itemInSession|lastName|   length|level|            location|method|           page| registration|sessionId|                song|status|           ts|           userAgent|userId|\n+--------------------+---------+---------+------+-------------+--------+---------+-----+--------------------+------+---------------+-------------+---------+--------------------+------+-------------+--------------------+------+\n|      Martha Tilston|Logged In|    Colin|     M|           50| Freeman|277.89016| paid|     Bakersfield, CA|   PUT|       NextSong|1538173362000|       29|           Rockpools|   200|1538352117000|Mozilla/5.0 (Wind...|    30|\n|    Five Iron Frenzy|Logged In|    Micah|     M|           79|    Long|236.09424| free|Boston-Cambridge-...|   PUT|       NextSong|1538331630000|        8|              Canada|   200|1538352180000|\"Mozilla/5.0 (Win...|     9|\n|        Adam Lambert|Logged In|    Colin|     M|           51| Freeman| 282.8273| paid|     Bakersfield, CA|   PUT|       NextSong|1538173362000|       29|   Time For Miracles|   200|1538352394000|Mozilla/5.0 (Wind...|    30|\n|              Enigma|Logged In|    Micah|     M|           80|    Long|262.71302| free|Boston-Cambridge-...|   PUT|       NextSong|1538331630000|        8|Knocking On Forbi...|   200|1538352416000|\"Mozilla/5.0 (Win...|     9|\n|           Daft Punk|Logged In|    Colin|     M|           52| Freeman|223.60771| paid|     Bakersfield, CA|   PUT|       NextSong|1538173362000|       29|Harder Better Fas...|   200|1538352676000|Mozilla/5.0 (Wind...|    30|\n|The All-American ...|Logged In|    Micah|     M|           81|    Long|208.29995| free|Boston-Cambridge-...|   PUT|       NextSong|1538331630000|        8|      Don't Leave Me|   200|1538352678000|\"Mozilla/5.0 (Win...|     9|\n|The Velvet Underg...|Logged In|    Micah|     M|           82|    Long|260.46649| free|Boston-Cambridge-...|   PUT|       NextSong|1538331630000|        8|         Run Run Run|   200|1538352886000|\"Mozilla/5.0 (Win...|     9|\n|        Starflyer 59|Logged In|    Colin|     M|           53| Freeman|185.44281| paid|     Bakersfield, CA|   PUT|       NextSong|1538173362000|       29|Passengers (Old A...|   200|1538352899000|Mozilla/5.0 (Wind...|    30|\n|                null|Logged In|    Colin|     M|           54| Freeman|     null| paid|     Bakersfield, CA|   PUT|Add to Playlist|1538173362000|       29|                null|   200|1538352905000|Mozilla/5.0 (Wind...|    30|\n|            Frumpies|Logged In|    Colin|     M|           55| Freeman|134.47791| paid|     Bakersfield, CA|   PUT|       NextSong|1538173362000|       29|          Fuck Kitty|   200|1538353084000|Mozilla/5.0 (Wind...|    30|\n|        Britt Nicole|Logged In|    Micah|     M|           83|    Long| 229.8771| free|Boston-Cambridge-...|   PUT|       NextSong|1538331630000|        8|   Walk On The Water|   200|1538353146000|\"Mozilla/5.0 (Win...|     9|\n|                null|Logged In|    Micah|     M|           84|    Long|     null| free|Boston-Cambridge-...|   GET|    Roll Advert|1538331630000|        8|                null|   200|1538353150000|\"Mozilla/5.0 (Win...|     9|\n|Edward Sharpe & T...|Logged In|    Colin|     M|           56| Freeman|223.58159| paid|     Bakersfield, CA|   PUT|       NextSong|1538173362000|       29|                Jade|   200|1538353218000|Mozilla/5.0 (Wind...|    30|\n|               Tesla|Logged In|    Micah|     M|           85|    Long|201.06404| free|Boston-Cambridge-...|   PUT|       NextSong|1538331630000|        8|      Gettin' Better|   200|1538353375000|\"Mozilla/5.0 (Win...|     9|\n|                null|Logged In|    Micah|     M|           86|    Long|     null| free|Boston-Cambridge-...|   PUT|      Thumbs Up|1538331630000|        8|                null|   307|1538353376000|\"Mozilla/5.0 (Win...|     9|\n|         Stan Mosley|Logged In|    Colin|     M|           57| Freeman|246.69995| paid|     Bakersfield, CA|   PUT|       NextSong|1538173362000|       29|   So-Called Friends|   200|1538353441000|Mozilla/5.0 (Wind...|    30|\n|Florence + The Ma...|Logged In|    Micah|     M|           87|    Long|168.64608| free|Boston-Cambridge-...|   PUT|       NextSong|1538331630000|        8| You've Got The Love|   200|1538353576000|\"Mozilla/5.0 (Win...|     9|\n|   Tokyo Police Club|Logged In|  Ashlynn|     F|            0|Williams| 166.1122| free|     Tallahassee, FL|   PUT|       NextSong|1537365219000|      217|Citizens Of Tomorrow|   200|1538353668000|\"Mozilla/5.0 (Mac...|    74|\n|             Orishas|Logged In|    Colin|     M|           58| Freeman|222.22322| paid|     Bakersfield, CA|   PUT|       NextSong|1538173362000|       29|           Represent|   200|1538353687000|Mozilla/5.0 (Wind...|    30|\n|             Ratatat|Logged In|    Micah|     M|           88|    Long|229.77261| free|Boston-Cambridge-...|   PUT|       NextSong|1538331630000|        8|              Swisha|   200|1538353744000|\"Mozilla/5.0 (Win...|     9|\n+--------------------+---------+---------+------+-------------+--------+---------+-----+--------------------+------+---------------+-------------+---------+--------------------+------+-------------+--------------------+------+\nonly showing top 20 rows\n\n"
    }
   ],
   "source": [
    "data_cleaned.show()"
   ]
  },
  {
   "cell_type": "markdown",
   "metadata": {},
   "source": [
    "# Exploratory Data Analysis\n",
    "When you're working with the full dataset, perform EDA by loading a small subset of the data and doing basic manipulations within Spark. In this workspace, you are already provided a small subset of data you can explore.\n",
    "\n",
    "### Define Churn\n",
    "\n",
    "Once you've done some preliminary analysis, create a column `Churn` to use as the label for your model. I suggest using the `Cancellation Confirmation` events to define your churn, which happen for both paid and free users. As a bonus task, you can also look into the `Downgrade` events.\n",
    "\n",
    "### Explore Data\n",
    "Once you've defined churn, perform some exploratory data analysis to observe the behavior for users who stayed vs users who churned. You can start by exploring aggregates on these two groups of users, observing how much of a specific action they experienced per a certain time unit or number of songs played."
   ]
  },
  {
   "cell_type": "code",
   "execution_count": 51,
   "metadata": {},
   "outputs": [
    {
     "output_type": "error",
     "ename": "AttributeError",
     "evalue": "'DataFrame' object has no attribute 'mean'",
     "traceback": [
      "\u001b[0;31m---------------------------------------------------------------------------\u001b[0m",
      "\u001b[0;31mAttributeError\u001b[0m                            Traceback (most recent call last)",
      "\u001b[0;32m<ipython-input-51-c869d1003918>\u001b[0m in \u001b[0;36m<module>\u001b[0;34m\u001b[0m\n\u001b[0;32m----> 1\u001b[0;31m \u001b[0mdata_feat_eng\u001b[0m\u001b[0;34m[\u001b[0m\u001b[0mdata_feat_eng\u001b[0m\u001b[0;34m[\u001b[0m\u001b[0;34m'userId'\u001b[0m\u001b[0;34m]\u001b[0m\u001b[0;34m==\u001b[0m\u001b[0;36m124\u001b[0m\u001b[0;34m]\u001b[0m\u001b[0;34m.\u001b[0m\u001b[0mmean\u001b[0m\u001b[0;34m(\u001b[0m\u001b[0;34m'itemInSession'\u001b[0m\u001b[0;34m)\u001b[0m\u001b[0;34m.\u001b[0m\u001b[0mshow\u001b[0m\u001b[0;34m(\u001b[0m\u001b[0;34m)\u001b[0m\u001b[0;34m\u001b[0m\u001b[0;34m\u001b[0m\u001b[0m\n\u001b[0m",
      "\u001b[0;32m~/anaconda3/envs/sparkify/lib/python3.7/site-packages/pyspark/sql/dataframe.py\u001b[0m in \u001b[0;36m__getattr__\u001b[0;34m(self, name)\u001b[0m\n\u001b[1;32m   1302\u001b[0m         \u001b[0;32mif\u001b[0m \u001b[0mname\u001b[0m \u001b[0;32mnot\u001b[0m \u001b[0;32min\u001b[0m \u001b[0mself\u001b[0m\u001b[0;34m.\u001b[0m\u001b[0mcolumns\u001b[0m\u001b[0;34m:\u001b[0m\u001b[0;34m\u001b[0m\u001b[0;34m\u001b[0m\u001b[0m\n\u001b[1;32m   1303\u001b[0m             raise AttributeError(\n\u001b[0;32m-> 1304\u001b[0;31m                 \"'%s' object has no attribute '%s'\" % (self.__class__.__name__, name))\n\u001b[0m\u001b[1;32m   1305\u001b[0m         \u001b[0mjc\u001b[0m \u001b[0;34m=\u001b[0m \u001b[0mself\u001b[0m\u001b[0;34m.\u001b[0m\u001b[0m_jdf\u001b[0m\u001b[0;34m.\u001b[0m\u001b[0mapply\u001b[0m\u001b[0;34m(\u001b[0m\u001b[0mname\u001b[0m\u001b[0;34m)\u001b[0m\u001b[0;34m\u001b[0m\u001b[0;34m\u001b[0m\u001b[0m\n\u001b[1;32m   1306\u001b[0m         \u001b[0;32mreturn\u001b[0m \u001b[0mColumn\u001b[0m\u001b[0;34m(\u001b[0m\u001b[0mjc\u001b[0m\u001b[0;34m)\u001b[0m\u001b[0;34m\u001b[0m\u001b[0;34m\u001b[0m\u001b[0m\n",
      "\u001b[0;31mAttributeError\u001b[0m: 'DataFrame' object has no attribute 'mean'"
     ]
    }
   ],
   "source": [
    "data_feat_eng[data_feat_eng['userId']==124].mean('itemInSession').show()"
   ]
  },
  {
   "cell_type": "code",
   "execution_count": 42,
   "metadata": {},
   "outputs": [
    {
     "output_type": "stream",
     "name": "stdout",
     "text": "+------+-----+\n|userId|count|\n+------+-----+\n|   124|    6|\n|    51|    1|\n|     7|    1|\n|    15|    2|\n|    54|    1|\n|   155|    3|\n|   132|    3|\n|   101|    3|\n|    11|    1|\n|   138|    1|\n|300017|    5|\n|    69|    4|\n|100021|    2|\n|    42|    7|\n|    73|    1|\n|200010|    1|\n|    30|    1|\n|   113|    3|\n|    59|    4|\n|   146|    1|\n+------+-----+\nonly showing top 20 rows\n\n"
    }
   ],
   "source": [
    "data_feat_eng[data_feat_eng['page']=='Error'].groupBy('userId').count().show()"
   ]
  },
  {
   "cell_type": "code",
   "execution_count": 35,
   "metadata": {},
   "outputs": [
    {
     "output_type": "stream",
     "name": "stdout",
     "text": "+--------------------+---------+---------+------+-------------+--------+---------+-----+--------------------+------+---------------+-------------+---------+--------------------+------+-------------+--------------------+------+--------------+\n|              artist|     auth|firstName|gender|itemInSession|lastName|   length|level|            location|method|           page| registration|sessionId|                song|status|           ts|           userAgent|userId|TimeDifference|\n+--------------------+---------+---------+------+-------------+--------+---------+-----+--------------------+------+---------------+-------------+---------+--------------------+------+-------------+--------------------+------+--------------+\n|      Martha Tilston|Logged In|    Colin|     M|           50| Freeman|277.89016| paid|     Bakersfield, CA|   PUT|       NextSong|1538173362000|       29|           Rockpools|   200|1538352117000|Mozilla/5.0 (Wind...|    30|  1.78755008E8|\n|    Five Iron Frenzy|Logged In|    Micah|     M|           79|    Long|236.09424| free|Boston-Cambridge-...|   PUT|       NextSong|1538331630000|        8|              Canada|   200|1538352180000|\"Mozilla/5.0 (Win...|     9|       2.055E7|\n|        Adam Lambert|Logged In|    Colin|     M|           51| Freeman| 282.8273| paid|     Bakersfield, CA|   PUT|       NextSong|1538173362000|       29|   Time For Miracles|   200|1538352394000|Mozilla/5.0 (Wind...|    30|     1.79032E8|\n|              Enigma|Logged In|    Micah|     M|           80|    Long|262.71302| free|Boston-Cambridge-...|   PUT|       NextSong|1538331630000|        8|Knocking On Forbi...|   200|1538352416000|\"Mozilla/5.0 (Win...|     9|      2.0786E7|\n|           Daft Punk|Logged In|    Colin|     M|           52| Freeman|223.60771| paid|     Bakersfield, CA|   PUT|       NextSong|1538173362000|       29|Harder Better Fas...|   200|1538352676000|Mozilla/5.0 (Wind...|    30|     1.79314E8|\n|The All-American ...|Logged In|    Micah|     M|           81|    Long|208.29995| free|Boston-Cambridge-...|   PUT|       NextSong|1538331630000|        8|      Don't Leave Me|   200|1538352678000|\"Mozilla/5.0 (Win...|     9|      2.1048E7|\n|The Velvet Underg...|Logged In|    Micah|     M|           82|    Long|260.46649| free|Boston-Cambridge-...|   PUT|       NextSong|1538331630000|        8|         Run Run Run|   200|1538352886000|\"Mozilla/5.0 (Win...|     9|      2.1256E7|\n|        Starflyer 59|Logged In|    Colin|     M|           53| Freeman|185.44281| paid|     Bakersfield, CA|   PUT|       NextSong|1538173362000|       29|Passengers (Old A...|   200|1538352899000|Mozilla/5.0 (Wind...|    30|  1.79536992E8|\n|                null|Logged In|    Colin|     M|           54| Freeman|     null| paid|     Bakersfield, CA|   PUT|Add to Playlist|1538173362000|       29|                null|   200|1538352905000|Mozilla/5.0 (Wind...|    30|  1.79543008E8|\n|            Frumpies|Logged In|    Colin|     M|           55| Freeman|134.47791| paid|     Bakersfield, CA|   PUT|       NextSong|1538173362000|       29|          Fuck Kitty|   200|1538353084000|Mozilla/5.0 (Wind...|    30|     1.79722E8|\n|        Britt Nicole|Logged In|    Micah|     M|           83|    Long| 229.8771| free|Boston-Cambridge-...|   PUT|       NextSong|1538331630000|        8|   Walk On The Water|   200|1538353146000|\"Mozilla/5.0 (Win...|     9|      2.1516E7|\n|                null|Logged In|    Micah|     M|           84|    Long|     null| free|Boston-Cambridge-...|   GET|    Roll Advert|1538331630000|        8|                null|   200|1538353150000|\"Mozilla/5.0 (Win...|     9|       2.152E7|\n|Edward Sharpe & T...|Logged In|    Colin|     M|           56| Freeman|223.58159| paid|     Bakersfield, CA|   PUT|       NextSong|1538173362000|       29|                Jade|   200|1538353218000|Mozilla/5.0 (Wind...|    30|     1.79856E8|\n|               Tesla|Logged In|    Micah|     M|           85|    Long|201.06404| free|Boston-Cambridge-...|   PUT|       NextSong|1538331630000|        8|      Gettin' Better|   200|1538353375000|\"Mozilla/5.0 (Win...|     9|      2.1745E7|\n|                null|Logged In|    Micah|     M|           86|    Long|     null| free|Boston-Cambridge-...|   PUT|      Thumbs Up|1538331630000|        8|                null|   307|1538353376000|\"Mozilla/5.0 (Win...|     9|      2.1746E7|\n|         Stan Mosley|Logged In|    Colin|     M|           57| Freeman|246.69995| paid|     Bakersfield, CA|   PUT|       NextSong|1538173362000|       29|   So-Called Friends|   200|1538353441000|Mozilla/5.0 (Wind...|    30|  1.80079008E8|\n|Florence + The Ma...|Logged In|    Micah|     M|           87|    Long|168.64608| free|Boston-Cambridge-...|   PUT|       NextSong|1538331630000|        8| You've Got The Love|   200|1538353576000|\"Mozilla/5.0 (Win...|     9|      2.1946E7|\n|   Tokyo Police Club|Logged In|  Ashlynn|     F|            0|Williams| 166.1122| free|     Tallahassee, FL|   PUT|       NextSong|1537365219000|      217|Citizens Of Tomorrow|   200|1538353668000|\"Mozilla/5.0 (Mac...|    74|   9.8844902E8|\n|             Orishas|Logged In|    Colin|     M|           58| Freeman|222.22322| paid|     Bakersfield, CA|   PUT|       NextSong|1538173362000|       29|           Represent|   200|1538353687000|Mozilla/5.0 (Wind...|    30|  1.80324992E8|\n|             Ratatat|Logged In|    Micah|     M|           88|    Long|229.77261| free|Boston-Cambridge-...|   PUT|       NextSong|1538331630000|        8|              Swisha|   200|1538353744000|\"Mozilla/5.0 (Win...|     9|      2.2114E7|\n+--------------------+---------+---------+------+-------------+--------+---------+-----+--------------------+------+---------------+-------------+---------+--------------------+------+-------------+--------------------+------+--------------+\nonly showing top 20 rows\n\n"
    }
   ],
   "source": [
    "# Add Churn column\n",
    "def valueToCategory(value):\n",
    "   if   value == 'Cancellation Confirmation': return 1\n",
    "   else : return 0\n",
    "# Calculate time between registration and timestamp\n",
    "def timeDifference(registration,ts):\n",
    "    return float(ts)-float(registration)\n",
    "# Calculate number of interactions with error page for users\n",
    "def errorPageInteractions(userId):\n",
    "    return data_feat_eng[(data_feat_eng['page']=='Error') & (data_feat_eng['userId']==userId)].count()\n",
    "# Calculate avg. number of Session items\n",
    "# Calculate avg. session length\n",
    "\n",
    "from pyspark.sql.functions import udf\n",
    "from pyspark.sql.types import *\n",
    "\n",
    "udfValueToCategory = udf(valueToCategory, StringType())\n",
    "timeDifference = udf(timeDifference, FloatType())\n",
    "data_feat_eng = data_cleaned.withColumn(\"Churn\", udfValueToCategory('page'))\n",
    "data_feat_eng = data_cleaned.withColumn(\"TimeDifference\", timeDifference('registration','ts'))\n",
    "data_feat_eng.show()"
   ]
  },
  {
   "cell_type": "markdown",
   "metadata": {},
   "source": [
    "# Feature Engineering\n",
    "Once you've familiarized yourself with the data, build out the features you find promising to train your model on. To work with the full dataset, you can follow the following steps.\n",
    "- Write a script to extract the necessary features from the smaller subset of data\n",
    "- Ensure that your script is scalable, using the best practices discussed in Lesson 3\n",
    "- Try your script on the full data set, debugging your script if necessary\n",
    "\n",
    "If you are working in the classroom workspace, you can just extract features based on the small subset of data contained here. Be sure to transfer over this work to the larger dataset when you work on your Spark cluster."
   ]
  },
  {
   "cell_type": "code",
   "execution_count": null,
   "metadata": {},
   "outputs": [],
   "source": []
  },
  {
   "cell_type": "markdown",
   "metadata": {},
   "source": [
    "# Modeling\n",
    "Split the full dataset into train, test, and validation sets. Test out several of the machine learning methods you learned. Evaluate the accuracy of the various models, tuning parameters as necessary. Determine your winning model based on test accuracy and report results on the validation set. Since the churned users are a fairly small subset, I suggest using F1 score as the metric to optimize."
   ]
  },
  {
   "cell_type": "code",
   "execution_count": null,
   "metadata": {},
   "outputs": [],
   "source": []
  },
  {
   "cell_type": "markdown",
   "metadata": {},
   "source": [
    "# Final Steps\n",
    "Clean up your code, adding comments and renaming variables to make the code easier to read and maintain. Refer to the Spark Project Overview page and Data Scientist Capstone Project Rubric to make sure you are including all components of the capstone project and meet all expectations. Remember, this includes thorough documentation in a README file in a Github repository, as well as a web app or blog post."
   ]
  },
  {
   "cell_type": "code",
   "execution_count": null,
   "metadata": {},
   "outputs": [],
   "source": []
  }
 ],
 "metadata": {
  "kernelspec": {
   "display_name": "sparkify",
   "language": "python",
   "name": "sparkify"
  },
  "language_info": {
   "codemirror_mode": {
    "name": "ipython",
    "version": 3
   },
   "file_extension": ".py",
   "mimetype": "text/x-python",
   "name": "python",
   "nbconvert_exporter": "python",
   "pygments_lexer": "ipython3",
   "version": "3.7.3-final"
  }
 },
 "nbformat": 4,
 "nbformat_minor": 2
}