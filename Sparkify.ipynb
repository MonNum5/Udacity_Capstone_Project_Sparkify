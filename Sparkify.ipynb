{
 "cells": [
  {
   "cell_type": "markdown",
   "metadata": {},
   "source": [
    "# Sparkify Project Workspace\n",
    "This workspace contains a tiny subset (128MB) of the full dataset available (12GB). Feel free to use this workspace to build your project, or to explore a smaller subset with Spark before deploying your cluster on the cloud. Instructions for setting up your Spark cluster is included in the last lesson of the Extracurricular Spark Course content.\n",
    "\n",
    "You can follow the steps below to guide your data analysis and model building portion of this project."
   ]
  },
  {
   "cell_type": "code",
   "execution_count": 97,
   "metadata": {},
   "outputs": [],
   "source": [
    "# import libraries\n",
    "import pyspark as spark\n",
    "from pyspark.sql import SparkSession\n",
    "import zipfile\n",
    "import numpy as np\n",
    "import plotly.graph_objects as go\n",
    "from tqdm import tqdm\n",
    "\n",
    "# unzip compressed data file\n",
    "zip_ref = zipfile.ZipFile('mini_sparkify_event_data.json.zip', 'r')\n",
    "zip_ref.extractall()\n",
    "zip_ref.close()"
   ]
  },
  {
   "cell_type": "code",
   "execution_count": 100,
   "metadata": {},
   "outputs": [],
   "source": [
    "# create a Spark session\n",
    "spark = SparkSession.builder \\\n",
    "        .appName(\"Sparkify\") \\\n",
    "        .getOrCreate()\n"
   ]
  },
  {
   "cell_type": "markdown",
   "metadata": {},
   "source": [
    "# Load and Clean Dataset\n",
    "In this workspace, the mini-dataset file is `mini_sparkify_event_data.json`. Load and clean the dataset, checking for invalid or missing data - for example, records without userids or sessionids. "
   ]
  },
  {
   "cell_type": "code",
   "execution_count": 3,
   "metadata": {},
   "outputs": [
    {
     "output_type": "stream",
     "name": "stdout",
     "text": "+--------------------+---------+---------+------+-------------+--------+---------+-----+--------------------+------+---------------+-------------+---------+--------------------+------+-------------+--------------------+------+\n|              artist|     auth|firstName|gender|itemInSession|lastName|   length|level|            location|method|           page| registration|sessionId|                song|status|           ts|           userAgent|userId|\n+--------------------+---------+---------+------+-------------+--------+---------+-----+--------------------+------+---------------+-------------+---------+--------------------+------+-------------+--------------------+------+\n|      Martha Tilston|Logged In|    Colin|     M|           50| Freeman|277.89016| paid|     Bakersfield, CA|   PUT|       NextSong|1538173362000|       29|           Rockpools|   200|1538352117000|Mozilla/5.0 (Wind...|    30|\n|    Five Iron Frenzy|Logged In|    Micah|     M|           79|    Long|236.09424| free|Boston-Cambridge-...|   PUT|       NextSong|1538331630000|        8|              Canada|   200|1538352180000|\"Mozilla/5.0 (Win...|     9|\n|        Adam Lambert|Logged In|    Colin|     M|           51| Freeman| 282.8273| paid|     Bakersfield, CA|   PUT|       NextSong|1538173362000|       29|   Time For Miracles|   200|1538352394000|Mozilla/5.0 (Wind...|    30|\n|              Enigma|Logged In|    Micah|     M|           80|    Long|262.71302| free|Boston-Cambridge-...|   PUT|       NextSong|1538331630000|        8|Knocking On Forbi...|   200|1538352416000|\"Mozilla/5.0 (Win...|     9|\n|           Daft Punk|Logged In|    Colin|     M|           52| Freeman|223.60771| paid|     Bakersfield, CA|   PUT|       NextSong|1538173362000|       29|Harder Better Fas...|   200|1538352676000|Mozilla/5.0 (Wind...|    30|\n|The All-American ...|Logged In|    Micah|     M|           81|    Long|208.29995| free|Boston-Cambridge-...|   PUT|       NextSong|1538331630000|        8|      Don't Leave Me|   200|1538352678000|\"Mozilla/5.0 (Win...|     9|\n|The Velvet Underg...|Logged In|    Micah|     M|           82|    Long|260.46649| free|Boston-Cambridge-...|   PUT|       NextSong|1538331630000|        8|         Run Run Run|   200|1538352886000|\"Mozilla/5.0 (Win...|     9|\n|        Starflyer 59|Logged In|    Colin|     M|           53| Freeman|185.44281| paid|     Bakersfield, CA|   PUT|       NextSong|1538173362000|       29|Passengers (Old A...|   200|1538352899000|Mozilla/5.0 (Wind...|    30|\n|                null|Logged In|    Colin|     M|           54| Freeman|     null| paid|     Bakersfield, CA|   PUT|Add to Playlist|1538173362000|       29|                null|   200|1538352905000|Mozilla/5.0 (Wind...|    30|\n|            Frumpies|Logged In|    Colin|     M|           55| Freeman|134.47791| paid|     Bakersfield, CA|   PUT|       NextSong|1538173362000|       29|          Fuck Kitty|   200|1538353084000|Mozilla/5.0 (Wind...|    30|\n|        Britt Nicole|Logged In|    Micah|     M|           83|    Long| 229.8771| free|Boston-Cambridge-...|   PUT|       NextSong|1538331630000|        8|   Walk On The Water|   200|1538353146000|\"Mozilla/5.0 (Win...|     9|\n|                null|Logged In|    Micah|     M|           84|    Long|     null| free|Boston-Cambridge-...|   GET|    Roll Advert|1538331630000|        8|                null|   200|1538353150000|\"Mozilla/5.0 (Win...|     9|\n|Edward Sharpe & T...|Logged In|    Colin|     M|           56| Freeman|223.58159| paid|     Bakersfield, CA|   PUT|       NextSong|1538173362000|       29|                Jade|   200|1538353218000|Mozilla/5.0 (Wind...|    30|\n|               Tesla|Logged In|    Micah|     M|           85|    Long|201.06404| free|Boston-Cambridge-...|   PUT|       NextSong|1538331630000|        8|      Gettin' Better|   200|1538353375000|\"Mozilla/5.0 (Win...|     9|\n|                null|Logged In|    Micah|     M|           86|    Long|     null| free|Boston-Cambridge-...|   PUT|      Thumbs Up|1538331630000|        8|                null|   307|1538353376000|\"Mozilla/5.0 (Win...|     9|\n|         Stan Mosley|Logged In|    Colin|     M|           57| Freeman|246.69995| paid|     Bakersfield, CA|   PUT|       NextSong|1538173362000|       29|   So-Called Friends|   200|1538353441000|Mozilla/5.0 (Wind...|    30|\n|Florence + The Ma...|Logged In|    Micah|     M|           87|    Long|168.64608| free|Boston-Cambridge-...|   PUT|       NextSong|1538331630000|        8| You've Got The Love|   200|1538353576000|\"Mozilla/5.0 (Win...|     9|\n|   Tokyo Police Club|Logged In|  Ashlynn|     F|            0|Williams| 166.1122| free|     Tallahassee, FL|   PUT|       NextSong|1537365219000|      217|Citizens Of Tomorrow|   200|1538353668000|\"Mozilla/5.0 (Mac...|    74|\n|             Orishas|Logged In|    Colin|     M|           58| Freeman|222.22322| paid|     Bakersfield, CA|   PUT|       NextSong|1538173362000|       29|           Represent|   200|1538353687000|Mozilla/5.0 (Wind...|    30|\n|             Ratatat|Logged In|    Micah|     M|           88|    Long|229.77261| free|Boston-Cambridge-...|   PUT|       NextSong|1538331630000|        8|              Swisha|   200|1538353744000|\"Mozilla/5.0 (Win...|     9|\n+--------------------+---------+---------+------+-------------+--------+---------+-----+--------------------+------+---------------+-------------+---------+--------------------+------+-------------+--------------------+------+\nonly showing top 20 rows\n\n"
    },
    {
     "output_type": "execute_result",
     "data": {
      "text/plain": "286500"
     },
     "metadata": {},
     "execution_count": 3
    }
   ],
   "source": [
    "# load data set\n",
    "data = spark.read.json(\"mini_sparkify_event_data.json\")\n",
    "data.show()\n",
    "data.columns\n",
    "data.count()"
   ]
  },
  {
   "cell_type": "code",
   "execution_count": 4,
   "metadata": {},
   "outputs": [],
   "source": [
    "data.createOrReplaceTempView(\"data\")"
   ]
  },
  {
   "cell_type": "code",
   "execution_count": 5,
   "metadata": {},
   "outputs": [
    {
     "output_type": "stream",
     "name": "stdout",
     "text": "Check if Null\nartist 58392\nauth 0\nfirstName 8346\ngender 8346\nitemInSession 0\nlastName 8346\nlength 58392\nlevel 0\nlocation 8346\nmethod 0\npage 0\nregistration 8346\nsessionId 0\nsong 58392\nstatus 0\nts 0\nuserAgent 8346\nuserId 0\n\nCheck if empty string\nartist 0\nauth 0\nfirstName 0\ngender 0\nitemInSession 0\nlastName 0\nlength 0\nlevel 0\nlocation 0\nmethod 0\npage 0\nregistration 0\nsessionId 0\nsong 0\nstatus 0\nts 0\nuserAgent 0\nuserId 8346\n"
    }
   ],
   "source": [
    "# clean data\n",
    "# Try to figure out which columns have missing values, are NULL\n",
    "#for column in in data.columns\n",
    "\n",
    "print('Check if Null')\n",
    "for column in data.columns:\n",
    "    print(column,spark.sql(f\"SELECT * FROM data WHERE {column} IS NULL\").count())\n",
    "print()\n",
    "print('Check if empty string')\n",
    "for column in data.columns:\n",
    "    print(column,spark.sql(f\"SELECT * FROM data WHERE {column} = ''\").count())"
   ]
  },
  {
   "cell_type": "markdown",
   "metadata": {},
   "source": [
    "- No missing values for auth, itemInSession, level, method, page, sessionID, status, ts, userID\n",
    "- but 8346 empty string userIds\n",
    "We are not going to consider empty string userIds therefore we create a new data frame"
   ]
  },
  {
   "cell_type": "code",
   "execution_count": 101,
   "metadata": {},
   "outputs": [],
   "source": [
    "# Create data frame without empty user ids \n",
    "data_cleaned = spark.sql(f\"SELECT * FROM data WHERE userId != ''\")\n",
    "data_cleaned.createOrReplaceTempView(\"data_cleaned\")"
   ]
  },
  {
   "cell_type": "code",
   "execution_count": 8,
   "metadata": {},
   "outputs": [
    {
     "output_type": "stream",
     "name": "stdout",
     "text": "artist 17655\nauth 2\nfirstName 189\ngender 2\nitemInSession 1311\nlastName 173\nlength 14865\nlevel 2\nlocation 114\nmethod 2\npage 19\nregistration 225\nsessionId 2312\nsong 58480\nstatus 3\nts 269770\nuserAgent 56\nuserId 225\n"
    }
   ],
   "source": [
    "# Number of unique items in each row\n",
    "for column in data_cleaned.columns:\n",
    "    print(column,spark.sql(f\"SELECT COUNT(DISTINCT({column})) FROM data_cleaned\").collect()[0][0])"
   ]
  },
  {
   "cell_type": "markdown",
   "metadata": {},
   "source": [
    "- So 225 unique users, that we have to make predictions\n",
    "- Lets make a plot "
   ]
  },
  {
   "cell_type": "markdown",
   "metadata": {},
   "source": [
    "Let's dig in the data set a little bit more and investigate, how many paid users there are and if their interaction behavior differs"
   ]
  },
  {
   "cell_type": "code",
   "execution_count": 28,
   "metadata": {},
   "outputs": [
    {
     "output_type": "display_data",
     "data": {
      "application/vnd.plotly.v1+json": {
       "config": {
        "plotlyServerURL": "https://plot.ly"
       },
       "data": [
        {
         "name": "free",
         "type": "bar",
         "y": [
          195
         ]
        },
        {
         "name": "paid",
         "type": "bar",
         "y": [
          165
         ]
        },
        {
         "name": "unique",
         "type": "bar",
         "y": [
          225
         ]
        }
       ],
       "layout": {
        "template": {
         "data": {
          "bar": [
           {
            "error_x": {
             "color": "#2a3f5f"
            },
            "error_y": {
             "color": "#2a3f5f"
            },
            "marker": {
             "line": {
              "color": "white",
              "width": 0.5
             }
            },
            "type": "bar"
           }
          ],
          "barpolar": [
           {
            "marker": {
             "line": {
              "color": "white",
              "width": 0.5
             }
            },
            "type": "barpolar"
           }
          ],
          "carpet": [
           {
            "aaxis": {
             "endlinecolor": "#2a3f5f",
             "gridcolor": "#C8D4E3",
             "linecolor": "#C8D4E3",
             "minorgridcolor": "#C8D4E3",
             "startlinecolor": "#2a3f5f"
            },
            "baxis": {
             "endlinecolor": "#2a3f5f",
             "gridcolor": "#C8D4E3",
             "linecolor": "#C8D4E3",
             "minorgridcolor": "#C8D4E3",
             "startlinecolor": "#2a3f5f"
            },
            "type": "carpet"
           }
          ],
          "choropleth": [
           {
            "colorbar": {
             "outlinewidth": 0,
             "ticks": ""
            },
            "type": "choropleth"
           }
          ],
          "contour": [
           {
            "colorbar": {
             "outlinewidth": 0,
             "ticks": ""
            },
            "colorscale": [
             [
              0,
              "#0d0887"
             ],
             [
              0.1111111111111111,
              "#46039f"
             ],
             [
              0.2222222222222222,
              "#7201a8"
             ],
             [
              0.3333333333333333,
              "#9c179e"
             ],
             [
              0.4444444444444444,
              "#bd3786"
             ],
             [
              0.5555555555555556,
              "#d8576b"
             ],
             [
              0.6666666666666666,
              "#ed7953"
             ],
             [
              0.7777777777777778,
              "#fb9f3a"
             ],
             [
              0.8888888888888888,
              "#fdca26"
             ],
             [
              1,
              "#f0f921"
             ]
            ],
            "type": "contour"
           }
          ],
          "contourcarpet": [
           {
            "colorbar": {
             "outlinewidth": 0,
             "ticks": ""
            },
            "type": "contourcarpet"
           }
          ],
          "heatmap": [
           {
            "colorbar": {
             "outlinewidth": 0,
             "ticks": ""
            },
            "colorscale": [
             [
              0,
              "#0d0887"
             ],
             [
              0.1111111111111111,
              "#46039f"
             ],
             [
              0.2222222222222222,
              "#7201a8"
             ],
             [
              0.3333333333333333,
              "#9c179e"
             ],
             [
              0.4444444444444444,
              "#bd3786"
             ],
             [
              0.5555555555555556,
              "#d8576b"
             ],
             [
              0.6666666666666666,
              "#ed7953"
             ],
             [
              0.7777777777777778,
              "#fb9f3a"
             ],
             [
              0.8888888888888888,
              "#fdca26"
             ],
             [
              1,
              "#f0f921"
             ]
            ],
            "type": "heatmap"
           }
          ],
          "heatmapgl": [
           {
            "colorbar": {
             "outlinewidth": 0,
             "ticks": ""
            },
            "colorscale": [
             [
              0,
              "#0d0887"
             ],
             [
              0.1111111111111111,
              "#46039f"
             ],
             [
              0.2222222222222222,
              "#7201a8"
             ],
             [
              0.3333333333333333,
              "#9c179e"
             ],
             [
              0.4444444444444444,
              "#bd3786"
             ],
             [
              0.5555555555555556,
              "#d8576b"
             ],
             [
              0.6666666666666666,
              "#ed7953"
             ],
             [
              0.7777777777777778,
              "#fb9f3a"
             ],
             [
              0.8888888888888888,
              "#fdca26"
             ],
             [
              1,
              "#f0f921"
             ]
            ],
            "type": "heatmapgl"
           }
          ],
          "histogram": [
           {
            "marker": {
             "colorbar": {
              "outlinewidth": 0,
              "ticks": ""
             }
            },
            "type": "histogram"
           }
          ],
          "histogram2d": [
           {
            "colorbar": {
             "outlinewidth": 0,
             "ticks": ""
            },
            "colorscale": [
             [
              0,
              "#0d0887"
             ],
             [
              0.1111111111111111,
              "#46039f"
             ],
             [
              0.2222222222222222,
              "#7201a8"
             ],
             [
              0.3333333333333333,
              "#9c179e"
             ],
             [
              0.4444444444444444,
              "#bd3786"
             ],
             [
              0.5555555555555556,
              "#d8576b"
             ],
             [
              0.6666666666666666,
              "#ed7953"
             ],
             [
              0.7777777777777778,
              "#fb9f3a"
             ],
             [
              0.8888888888888888,
              "#fdca26"
             ],
             [
              1,
              "#f0f921"
             ]
            ],
            "type": "histogram2d"
           }
          ],
          "histogram2dcontour": [
           {
            "colorbar": {
             "outlinewidth": 0,
             "ticks": ""
            },
            "colorscale": [
             [
              0,
              "#0d0887"
             ],
             [
              0.1111111111111111,
              "#46039f"
             ],
             [
              0.2222222222222222,
              "#7201a8"
             ],
             [
              0.3333333333333333,
              "#9c179e"
             ],
             [
              0.4444444444444444,
              "#bd3786"
             ],
             [
              0.5555555555555556,
              "#d8576b"
             ],
             [
              0.6666666666666666,
              "#ed7953"
             ],
             [
              0.7777777777777778,
              "#fb9f3a"
             ],
             [
              0.8888888888888888,
              "#fdca26"
             ],
             [
              1,
              "#f0f921"
             ]
            ],
            "type": "histogram2dcontour"
           }
          ],
          "mesh3d": [
           {
            "colorbar": {
             "outlinewidth": 0,
             "ticks": ""
            },
            "type": "mesh3d"
           }
          ],
          "parcoords": [
           {
            "line": {
             "colorbar": {
              "outlinewidth": 0,
              "ticks": ""
             }
            },
            "type": "parcoords"
           }
          ],
          "pie": [
           {
            "automargin": true,
            "type": "pie"
           }
          ],
          "scatter": [
           {
            "marker": {
             "colorbar": {
              "outlinewidth": 0,
              "ticks": ""
             }
            },
            "type": "scatter"
           }
          ],
          "scatter3d": [
           {
            "line": {
             "colorbar": {
              "outlinewidth": 0,
              "ticks": ""
             }
            },
            "marker": {
             "colorbar": {
              "outlinewidth": 0,
              "ticks": ""
             }
            },
            "type": "scatter3d"
           }
          ],
          "scattercarpet": [
           {
            "marker": {
             "colorbar": {
              "outlinewidth": 0,
              "ticks": ""
             }
            },
            "type": "scattercarpet"
           }
          ],
          "scattergeo": [
           {
            "marker": {
             "colorbar": {
              "outlinewidth": 0,
              "ticks": ""
             }
            },
            "type": "scattergeo"
           }
          ],
          "scattergl": [
           {
            "marker": {
             "colorbar": {
              "outlinewidth": 0,
              "ticks": ""
             }
            },
            "type": "scattergl"
           }
          ],
          "scattermapbox": [
           {
            "marker": {
             "colorbar": {
              "outlinewidth": 0,
              "ticks": ""
             }
            },
            "type": "scattermapbox"
           }
          ],
          "scatterpolar": [
           {
            "marker": {
             "colorbar": {
              "outlinewidth": 0,
              "ticks": ""
             }
            },
            "type": "scatterpolar"
           }
          ],
          "scatterpolargl": [
           {
            "marker": {
             "colorbar": {
              "outlinewidth": 0,
              "ticks": ""
             }
            },
            "type": "scatterpolargl"
           }
          ],
          "scatterternary": [
           {
            "marker": {
             "colorbar": {
              "outlinewidth": 0,
              "ticks": ""
             }
            },
            "type": "scatterternary"
           }
          ],
          "surface": [
           {
            "colorbar": {
             "outlinewidth": 0,
             "ticks": ""
            },
            "colorscale": [
             [
              0,
              "#0d0887"
             ],
             [
              0.1111111111111111,
              "#46039f"
             ],
             [
              0.2222222222222222,
              "#7201a8"
             ],
             [
              0.3333333333333333,
              "#9c179e"
             ],
             [
              0.4444444444444444,
              "#bd3786"
             ],
             [
              0.5555555555555556,
              "#d8576b"
             ],
             [
              0.6666666666666666,
              "#ed7953"
             ],
             [
              0.7777777777777778,
              "#fb9f3a"
             ],
             [
              0.8888888888888888,
              "#fdca26"
             ],
             [
              1,
              "#f0f921"
             ]
            ],
            "type": "surface"
           }
          ],
          "table": [
           {
            "cells": {
             "fill": {
              "color": "#EBF0F8"
             },
             "line": {
              "color": "white"
             }
            },
            "header": {
             "fill": {
              "color": "#C8D4E3"
             },
             "line": {
              "color": "white"
             }
            },
            "type": "table"
           }
          ]
         },
         "layout": {
          "annotationdefaults": {
           "arrowcolor": "#2a3f5f",
           "arrowhead": 0,
           "arrowwidth": 1
          },
          "coloraxis": {
           "colorbar": {
            "outlinewidth": 0,
            "ticks": ""
           }
          },
          "colorscale": {
           "diverging": [
            [
             0,
             "#8e0152"
            ],
            [
             0.1,
             "#c51b7d"
            ],
            [
             0.2,
             "#de77ae"
            ],
            [
             0.3,
             "#f1b6da"
            ],
            [
             0.4,
             "#fde0ef"
            ],
            [
             0.5,
             "#f7f7f7"
            ],
            [
             0.6,
             "#e6f5d0"
            ],
            [
             0.7,
             "#b8e186"
            ],
            [
             0.8,
             "#7fbc41"
            ],
            [
             0.9,
             "#4d9221"
            ],
            [
             1,
             "#276419"
            ]
           ],
           "sequential": [
            [
             0,
             "#0d0887"
            ],
            [
             0.1111111111111111,
             "#46039f"
            ],
            [
             0.2222222222222222,
             "#7201a8"
            ],
            [
             0.3333333333333333,
             "#9c179e"
            ],
            [
             0.4444444444444444,
             "#bd3786"
            ],
            [
             0.5555555555555556,
             "#d8576b"
            ],
            [
             0.6666666666666666,
             "#ed7953"
            ],
            [
             0.7777777777777778,
             "#fb9f3a"
            ],
            [
             0.8888888888888888,
             "#fdca26"
            ],
            [
             1,
             "#f0f921"
            ]
           ],
           "sequentialminus": [
            [
             0,
             "#0d0887"
            ],
            [
             0.1111111111111111,
             "#46039f"
            ],
            [
             0.2222222222222222,
             "#7201a8"
            ],
            [
             0.3333333333333333,
             "#9c179e"
            ],
            [
             0.4444444444444444,
             "#bd3786"
            ],
            [
             0.5555555555555556,
             "#d8576b"
            ],
            [
             0.6666666666666666,
             "#ed7953"
            ],
            [
             0.7777777777777778,
             "#fb9f3a"
            ],
            [
             0.8888888888888888,
             "#fdca26"
            ],
            [
             1,
             "#f0f921"
            ]
           ]
          },
          "colorway": [
           "#636efa",
           "#EF553B",
           "#00cc96",
           "#ab63fa",
           "#FFA15A",
           "#19d3f3",
           "#FF6692",
           "#B6E880",
           "#FF97FF",
           "#FECB52"
          ],
          "font": {
           "color": "#2a3f5f"
          },
          "geo": {
           "bgcolor": "white",
           "lakecolor": "white",
           "landcolor": "white",
           "showlakes": true,
           "showland": true,
           "subunitcolor": "#C8D4E3"
          },
          "hoverlabel": {
           "align": "left"
          },
          "hovermode": "closest",
          "mapbox": {
           "style": "light"
          },
          "paper_bgcolor": "white",
          "plot_bgcolor": "white",
          "polar": {
           "angularaxis": {
            "gridcolor": "#EBF0F8",
            "linecolor": "#EBF0F8",
            "ticks": ""
           },
           "bgcolor": "white",
           "radialaxis": {
            "gridcolor": "#EBF0F8",
            "linecolor": "#EBF0F8",
            "ticks": ""
           }
          },
          "scene": {
           "xaxis": {
            "backgroundcolor": "white",
            "gridcolor": "#DFE8F3",
            "gridwidth": 2,
            "linecolor": "#EBF0F8",
            "showbackground": true,
            "ticks": "",
            "zerolinecolor": "#EBF0F8"
           },
           "yaxis": {
            "backgroundcolor": "white",
            "gridcolor": "#DFE8F3",
            "gridwidth": 2,
            "linecolor": "#EBF0F8",
            "showbackground": true,
            "ticks": "",
            "zerolinecolor": "#EBF0F8"
           },
           "zaxis": {
            "backgroundcolor": "white",
            "gridcolor": "#DFE8F3",
            "gridwidth": 2,
            "linecolor": "#EBF0F8",
            "showbackground": true,
            "ticks": "",
            "zerolinecolor": "#EBF0F8"
           }
          },
          "shapedefaults": {
           "line": {
            "color": "#2a3f5f"
           }
          },
          "ternary": {
           "aaxis": {
            "gridcolor": "#DFE8F3",
            "linecolor": "#A2B1C6",
            "ticks": ""
           },
           "baxis": {
            "gridcolor": "#DFE8F3",
            "linecolor": "#A2B1C6",
            "ticks": ""
           },
           "bgcolor": "white",
           "caxis": {
            "gridcolor": "#DFE8F3",
            "linecolor": "#A2B1C6",
            "ticks": ""
           }
          },
          "title": {
           "x": 0.05
          },
          "xaxis": {
           "automargin": true,
           "gridcolor": "#EBF0F8",
           "linecolor": "#EBF0F8",
           "ticks": "",
           "title": {
            "standoff": 15
           },
           "zerolinecolor": "#EBF0F8",
           "zerolinewidth": 2
          },
          "yaxis": {
           "automargin": true,
           "gridcolor": "#EBF0F8",
           "linecolor": "#EBF0F8",
           "ticks": "",
           "title": {
            "standoff": 15
           },
           "zerolinecolor": "#EBF0F8",
           "zerolinewidth": 2
          }
         }
        },
        "title": {
         "text": "Comparison of subscription levels"
        },
        "yaxis": {
         "title": {
          "text": "Number of users"
         }
        }
       }
      }
     },
     "metadata": {}
    },
    {
     "output_type": "display_data",
     "data": {
      "application/vnd.plotly.v1+json": {
       "config": {
        "plotlyServerURL": "https://plot.ly"
       },
       "data": [
        {
         "name": "free",
         "type": "histogram",
         "x": [
          2041,
          1853,
          1218,
          1202,
          1163,
          1139,
          1100,
          1006,
          964,
          851,
          837,
          818,
          808,
          786,
          740,
          701,
          691,
          655,
          653,
          623,
          619,
          597,
          585,
          578,
          566,
          546,
          541,
          533,
          518,
          515,
          489,
          488,
          483,
          478,
          474,
          464,
          456,
          445,
          442,
          438,
          435,
          434,
          429,
          429,
          402,
          391,
          390,
          381,
          369,
          355,
          351,
          349,
          349,
          347,
          346,
          345,
          342,
          336,
          334,
          332,
          330,
          324,
          319,
          317,
          315,
          309,
          303,
          300,
          292,
          291,
          279,
          276,
          272,
          270,
          268,
          262,
          257,
          256,
          251,
          240,
          240,
          239,
          235,
          234,
          233,
          228,
          226,
          225,
          223,
          221,
          219,
          218,
          216,
          211,
          210,
          206,
          205,
          202,
          201,
          196,
          195,
          191,
          189,
          187,
          187,
          186,
          179,
          163,
          162,
          160,
          158,
          156,
          152,
          149,
          148,
          144,
          141,
          140,
          139,
          138,
          137,
          129,
          125,
          124,
          120,
          120,
          118,
          117,
          112,
          110,
          107,
          107,
          105,
          103,
          103,
          102,
          98,
          98,
          97,
          97,
          96,
          96,
          93,
          89,
          84,
          84,
          84,
          79,
          79,
          78,
          78,
          76,
          75,
          73,
          73,
          72,
          70,
          68,
          64,
          63,
          62,
          53,
          52,
          48,
          45,
          44,
          44,
          41,
          40,
          40,
          39,
          37,
          36,
          36,
          35,
          35,
          35,
          34,
          25,
          24,
          23,
          23,
          21,
          21,
          16,
          12,
          12,
          11,
          9,
          7,
          6,
          6,
          5,
          4,
          4
         ]
        },
        {
         "name": "paid",
         "type": "histogram",
         "x": [
          7779,
          6091,
          5662,
          5456,
          4825,
          4650,
          4428,
          4128,
          3747,
          3677,
          3213,
          2967,
          2934,
          2914,
          2862,
          2859,
          2664,
          2559,
          2518,
          2464,
          2408,
          2404,
          2396,
          2301,
          2294,
          2278,
          2270,
          2228,
          2220,
          2207,
          2195,
          2187,
          2130,
          2125,
          2073,
          2063,
          2011,
          1997,
          1988,
          1956,
          1948,
          1940,
          1915,
          1889,
          1889,
          1883,
          1865,
          1850,
          1842,
          1797,
          1783,
          1760,
          1728,
          1714,
          1672,
          1672,
          1630,
          1603,
          1557,
          1529,
          1510,
          1503,
          1474,
          1432,
          1403,
          1387,
          1347,
          1303,
          1283,
          1275,
          1269,
          1248,
          1141,
          1131,
          1127,
          1116,
          1089,
          1054,
          1040,
          1017,
          999,
          981,
          972,
          957,
          931,
          916,
          902,
          899,
          881,
          873,
          867,
          858,
          858,
          853,
          795,
          759,
          733,
          714,
          706,
          703,
          694,
          693,
          675,
          657,
          622,
          592,
          591,
          589,
          584,
          569,
          554,
          543,
          541,
          526,
          520,
          513,
          507,
          474,
          467,
          454,
          452,
          446,
          441,
          429,
          428,
          421,
          413,
          411,
          399,
          397,
          391,
          360,
          354,
          349,
          335,
          330,
          324,
          310,
          296,
          259,
          255,
          254,
          249,
          233,
          229,
          218,
          210,
          196,
          163,
          162,
          159,
          154,
          152,
          152,
          143,
          115,
          102,
          96,
          87,
          82,
          76,
          53,
          45,
          37,
          1
         ]
        }
       ],
       "layout": {
        "template": {
         "data": {
          "bar": [
           {
            "error_x": {
             "color": "#2a3f5f"
            },
            "error_y": {
             "color": "#2a3f5f"
            },
            "marker": {
             "line": {
              "color": "white",
              "width": 0.5
             }
            },
            "type": "bar"
           }
          ],
          "barpolar": [
           {
            "marker": {
             "line": {
              "color": "white",
              "width": 0.5
             }
            },
            "type": "barpolar"
           }
          ],
          "carpet": [
           {
            "aaxis": {
             "endlinecolor": "#2a3f5f",
             "gridcolor": "#C8D4E3",
             "linecolor": "#C8D4E3",
             "minorgridcolor": "#C8D4E3",
             "startlinecolor": "#2a3f5f"
            },
            "baxis": {
             "endlinecolor": "#2a3f5f",
             "gridcolor": "#C8D4E3",
             "linecolor": "#C8D4E3",
             "minorgridcolor": "#C8D4E3",
             "startlinecolor": "#2a3f5f"
            },
            "type": "carpet"
           }
          ],
          "choropleth": [
           {
            "colorbar": {
             "outlinewidth": 0,
             "ticks": ""
            },
            "type": "choropleth"
           }
          ],
          "contour": [
           {
            "colorbar": {
             "outlinewidth": 0,
             "ticks": ""
            },
            "colorscale": [
             [
              0,
              "#0d0887"
             ],
             [
              0.1111111111111111,
              "#46039f"
             ],
             [
              0.2222222222222222,
              "#7201a8"
             ],
             [
              0.3333333333333333,
              "#9c179e"
             ],
             [
              0.4444444444444444,
              "#bd3786"
             ],
             [
              0.5555555555555556,
              "#d8576b"
             ],
             [
              0.6666666666666666,
              "#ed7953"
             ],
             [
              0.7777777777777778,
              "#fb9f3a"
             ],
             [
              0.8888888888888888,
              "#fdca26"
             ],
             [
              1,
              "#f0f921"
             ]
            ],
            "type": "contour"
           }
          ],
          "contourcarpet": [
           {
            "colorbar": {
             "outlinewidth": 0,
             "ticks": ""
            },
            "type": "contourcarpet"
           }
          ],
          "heatmap": [
           {
            "colorbar": {
             "outlinewidth": 0,
             "ticks": ""
            },
            "colorscale": [
             [
              0,
              "#0d0887"
             ],
             [
              0.1111111111111111,
              "#46039f"
             ],
             [
              0.2222222222222222,
              "#7201a8"
             ],
             [
              0.3333333333333333,
              "#9c179e"
             ],
             [
              0.4444444444444444,
              "#bd3786"
             ],
             [
              0.5555555555555556,
              "#d8576b"
             ],
             [
              0.6666666666666666,
              "#ed7953"
             ],
             [
              0.7777777777777778,
              "#fb9f3a"
             ],
             [
              0.8888888888888888,
              "#fdca26"
             ],
             [
              1,
              "#f0f921"
             ]
            ],
            "type": "heatmap"
           }
          ],
          "heatmapgl": [
           {
            "colorbar": {
             "outlinewidth": 0,
             "ticks": ""
            },
            "colorscale": [
             [
              0,
              "#0d0887"
             ],
             [
              0.1111111111111111,
              "#46039f"
             ],
             [
              0.2222222222222222,
              "#7201a8"
             ],
             [
              0.3333333333333333,
              "#9c179e"
             ],
             [
              0.4444444444444444,
              "#bd3786"
             ],
             [
              0.5555555555555556,
              "#d8576b"
             ],
             [
              0.6666666666666666,
              "#ed7953"
             ],
             [
              0.7777777777777778,
              "#fb9f3a"
             ],
             [
              0.8888888888888888,
              "#fdca26"
             ],
             [
              1,
              "#f0f921"
             ]
            ],
            "type": "heatmapgl"
           }
          ],
          "histogram": [
           {
            "marker": {
             "colorbar": {
              "outlinewidth": 0,
              "ticks": ""
             }
            },
            "type": "histogram"
           }
          ],
          "histogram2d": [
           {
            "colorbar": {
             "outlinewidth": 0,
             "ticks": ""
            },
            "colorscale": [
             [
              0,
              "#0d0887"
             ],
             [
              0.1111111111111111,
              "#46039f"
             ],
             [
              0.2222222222222222,
              "#7201a8"
             ],
             [
              0.3333333333333333,
              "#9c179e"
             ],
             [
              0.4444444444444444,
              "#bd3786"
             ],
             [
              0.5555555555555556,
              "#d8576b"
             ],
             [
              0.6666666666666666,
              "#ed7953"
             ],
             [
              0.7777777777777778,
              "#fb9f3a"
             ],
             [
              0.8888888888888888,
              "#fdca26"
             ],
             [
              1,
              "#f0f921"
             ]
            ],
            "type": "histogram2d"
           }
          ],
          "histogram2dcontour": [
           {
            "colorbar": {
             "outlinewidth": 0,
             "ticks": ""
            },
            "colorscale": [
             [
              0,
              "#0d0887"
             ],
             [
              0.1111111111111111,
              "#46039f"
             ],
             [
              0.2222222222222222,
              "#7201a8"
             ],
             [
              0.3333333333333333,
              "#9c179e"
             ],
             [
              0.4444444444444444,
              "#bd3786"
             ],
             [
              0.5555555555555556,
              "#d8576b"
             ],
             [
              0.6666666666666666,
              "#ed7953"
             ],
             [
              0.7777777777777778,
              "#fb9f3a"
             ],
             [
              0.8888888888888888,
              "#fdca26"
             ],
             [
              1,
              "#f0f921"
             ]
            ],
            "type": "histogram2dcontour"
           }
          ],
          "mesh3d": [
           {
            "colorbar": {
             "outlinewidth": 0,
             "ticks": ""
            },
            "type": "mesh3d"
           }
          ],
          "parcoords": [
           {
            "line": {
             "colorbar": {
              "outlinewidth": 0,
              "ticks": ""
             }
            },
            "type": "parcoords"
           }
          ],
          "pie": [
           {
            "automargin": true,
            "type": "pie"
           }
          ],
          "scatter": [
           {
            "marker": {
             "colorbar": {
              "outlinewidth": 0,
              "ticks": ""
             }
            },
            "type": "scatter"
           }
          ],
          "scatter3d": [
           {
            "line": {
             "colorbar": {
              "outlinewidth": 0,
              "ticks": ""
             }
            },
            "marker": {
             "colorbar": {
              "outlinewidth": 0,
              "ticks": ""
             }
            },
            "type": "scatter3d"
           }
          ],
          "scattercarpet": [
           {
            "marker": {
             "colorbar": {
              "outlinewidth": 0,
              "ticks": ""
             }
            },
            "type": "scattercarpet"
           }
          ],
          "scattergeo": [
           {
            "marker": {
             "colorbar": {
              "outlinewidth": 0,
              "ticks": ""
             }
            },
            "type": "scattergeo"
           }
          ],
          "scattergl": [
           {
            "marker": {
             "colorbar": {
              "outlinewidth": 0,
              "ticks": ""
             }
            },
            "type": "scattergl"
           }
          ],
          "scattermapbox": [
           {
            "marker": {
             "colorbar": {
              "outlinewidth": 0,
              "ticks": ""
             }
            },
            "type": "scattermapbox"
           }
          ],
          "scatterpolar": [
           {
            "marker": {
             "colorbar": {
              "outlinewidth": 0,
              "ticks": ""
             }
            },
            "type": "scatterpolar"
           }
          ],
          "scatterpolargl": [
           {
            "marker": {
             "colorbar": {
              "outlinewidth": 0,
              "ticks": ""
             }
            },
            "type": "scatterpolargl"
           }
          ],
          "scatterternary": [
           {
            "marker": {
             "colorbar": {
              "outlinewidth": 0,
              "ticks": ""
             }
            },
            "type": "scatterternary"
           }
          ],
          "surface": [
           {
            "colorbar": {
             "outlinewidth": 0,
             "ticks": ""
            },
            "colorscale": [
             [
              0,
              "#0d0887"
             ],
             [
              0.1111111111111111,
              "#46039f"
             ],
             [
              0.2222222222222222,
              "#7201a8"
             ],
             [
              0.3333333333333333,
              "#9c179e"
             ],
             [
              0.4444444444444444,
              "#bd3786"
             ],
             [
              0.5555555555555556,
              "#d8576b"
             ],
             [
              0.6666666666666666,
              "#ed7953"
             ],
             [
              0.7777777777777778,
              "#fb9f3a"
             ],
             [
              0.8888888888888888,
              "#fdca26"
             ],
             [
              1,
              "#f0f921"
             ]
            ],
            "type": "surface"
           }
          ],
          "table": [
           {
            "cells": {
             "fill": {
              "color": "#EBF0F8"
             },
             "line": {
              "color": "white"
             }
            },
            "header": {
             "fill": {
              "color": "#C8D4E3"
             },
             "line": {
              "color": "white"
             }
            },
            "type": "table"
           }
          ]
         },
         "layout": {
          "annotationdefaults": {
           "arrowcolor": "#2a3f5f",
           "arrowhead": 0,
           "arrowwidth": 1
          },
          "coloraxis": {
           "colorbar": {
            "outlinewidth": 0,
            "ticks": ""
           }
          },
          "colorscale": {
           "diverging": [
            [
             0,
             "#8e0152"
            ],
            [
             0.1,
             "#c51b7d"
            ],
            [
             0.2,
             "#de77ae"
            ],
            [
             0.3,
             "#f1b6da"
            ],
            [
             0.4,
             "#fde0ef"
            ],
            [
             0.5,
             "#f7f7f7"
            ],
            [
             0.6,
             "#e6f5d0"
            ],
            [
             0.7,
             "#b8e186"
            ],
            [
             0.8,
             "#7fbc41"
            ],
            [
             0.9,
             "#4d9221"
            ],
            [
             1,
             "#276419"
            ]
           ],
           "sequential": [
            [
             0,
             "#0d0887"
            ],
            [
             0.1111111111111111,
             "#46039f"
            ],
            [
             0.2222222222222222,
             "#7201a8"
            ],
            [
             0.3333333333333333,
             "#9c179e"
            ],
            [
             0.4444444444444444,
             "#bd3786"
            ],
            [
             0.5555555555555556,
             "#d8576b"
            ],
            [
             0.6666666666666666,
             "#ed7953"
            ],
            [
             0.7777777777777778,
             "#fb9f3a"
            ],
            [
             0.8888888888888888,
             "#fdca26"
            ],
            [
             1,
             "#f0f921"
            ]
           ],
           "sequentialminus": [
            [
             0,
             "#0d0887"
            ],
            [
             0.1111111111111111,
             "#46039f"
            ],
            [
             0.2222222222222222,
             "#7201a8"
            ],
            [
             0.3333333333333333,
             "#9c179e"
            ],
            [
             0.4444444444444444,
             "#bd3786"
            ],
            [
             0.5555555555555556,
             "#d8576b"
            ],
            [
             0.6666666666666666,
             "#ed7953"
            ],
            [
             0.7777777777777778,
             "#fb9f3a"
            ],
            [
             0.8888888888888888,
             "#fdca26"
            ],
            [
             1,
             "#f0f921"
            ]
           ]
          },
          "colorway": [
           "#636efa",
           "#EF553B",
           "#00cc96",
           "#ab63fa",
           "#FFA15A",
           "#19d3f3",
           "#FF6692",
           "#B6E880",
           "#FF97FF",
           "#FECB52"
          ],
          "font": {
           "color": "#2a3f5f"
          },
          "geo": {
           "bgcolor": "white",
           "lakecolor": "white",
           "landcolor": "white",
           "showlakes": true,
           "showland": true,
           "subunitcolor": "#C8D4E3"
          },
          "hoverlabel": {
           "align": "left"
          },
          "hovermode": "closest",
          "mapbox": {
           "style": "light"
          },
          "paper_bgcolor": "white",
          "plot_bgcolor": "white",
          "polar": {
           "angularaxis": {
            "gridcolor": "#EBF0F8",
            "linecolor": "#EBF0F8",
            "ticks": ""
           },
           "bgcolor": "white",
           "radialaxis": {
            "gridcolor": "#EBF0F8",
            "linecolor": "#EBF0F8",
            "ticks": ""
           }
          },
          "scene": {
           "xaxis": {
            "backgroundcolor": "white",
            "gridcolor": "#DFE8F3",
            "gridwidth": 2,
            "linecolor": "#EBF0F8",
            "showbackground": true,
            "ticks": "",
            "zerolinecolor": "#EBF0F8"
           },
           "yaxis": {
            "backgroundcolor": "white",
            "gridcolor": "#DFE8F3",
            "gridwidth": 2,
            "linecolor": "#EBF0F8",
            "showbackground": true,
            "ticks": "",
            "zerolinecolor": "#EBF0F8"
           },
           "zaxis": {
            "backgroundcolor": "white",
            "gridcolor": "#DFE8F3",
            "gridwidth": 2,
            "linecolor": "#EBF0F8",
            "showbackground": true,
            "ticks": "",
            "zerolinecolor": "#EBF0F8"
           }
          },
          "shapedefaults": {
           "line": {
            "color": "#2a3f5f"
           }
          },
          "ternary": {
           "aaxis": {
            "gridcolor": "#DFE8F3",
            "linecolor": "#A2B1C6",
            "ticks": ""
           },
           "baxis": {
            "gridcolor": "#DFE8F3",
            "linecolor": "#A2B1C6",
            "ticks": ""
           },
           "bgcolor": "white",
           "caxis": {
            "gridcolor": "#DFE8F3",
            "linecolor": "#A2B1C6",
            "ticks": ""
           }
          },
          "title": {
           "x": 0.05
          },
          "xaxis": {
           "automargin": true,
           "gridcolor": "#EBF0F8",
           "linecolor": "#EBF0F8",
           "ticks": "",
           "title": {
            "standoff": 15
           },
           "zerolinecolor": "#EBF0F8",
           "zerolinewidth": 2
          },
          "yaxis": {
           "automargin": true,
           "gridcolor": "#EBF0F8",
           "linecolor": "#EBF0F8",
           "ticks": "",
           "title": {
            "standoff": 15
           },
           "zerolinecolor": "#EBF0F8",
           "zerolinewidth": 2
          }
         }
        },
        "title": {
         "text": "Comparison interactions free and paying users"
        },
        "xaxis": {
         "title": {
          "text": "Number of interactions"
         }
        },
        "yaxis": {
         "title": {
          "text": "Number of users"
         }
        }
       }
      }
     },
     "metadata": {}
    }
   ],
   "source": [
    "# Comparison of number of interactions\n",
    "paid_user_interactions = np.array(data_cleaned[data_cleaned['level']=='paid'].groupBy('userId').count().orderBy('count', ascending=False).collect()).astype(int)\n",
    "free_user_interactions = np.array(data_cleaned[data_cleaned['level']=='free'].groupBy('userId').count().orderBy('count', ascending=False).collect()).astype(int)\n",
    "\n",
    "# Comparison number of paied and free users\n",
    "fig = go.Figure()\n",
    "fig.add_trace(go.Bar(y = [free_user_interactions.shape[0]], name = 'free'))\n",
    "fig.add_trace(go.Bar(y = [paid_user_interactions.shape[0]], name = 'paid'))\n",
    "fig.add_trace(go.Bar(y = [225], name = 'unique'))\n",
    "fig.update_yaxes(title_text='Number of users')\n",
    "fig.update_layout(title_text=\"Comparison of subscription levels\",\n",
    "                  template='plotly_white')\n",
    "fig.show()\n",
    "# Comparison of number of interactions\n",
    "fig = go.Figure()\n",
    "fig.add_trace(go.Histogram(x=free_user_interactions[:,1], name = 'free'))\n",
    "fig.add_trace(go.Histogram(x=paid_user_interactions[:,1], name = 'paid'))\n",
    "fig.update_xaxes(title_text='Number of interactions')\n",
    "fig.update_yaxes(title_text='Number of users')\n",
    "fig.update_layout(title_text=\"Comparison interactions free and paying users\",\n",
    "                  template='plotly_white')\n",
    "fig.show()"
   ]
  },
  {
   "cell_type": "markdown",
   "metadata": {},
   "source": [
    "- Of the 225 unique users, 165 at one time paid had a paid account and 195 a free account\n",
    "- The interaction behavior differs strongly:\n",
    "    - most of the free unsers have only up to a few hundrets (400) interactions\n",
    "    - paying users have more than 1000"
   ]
  },
  {
   "cell_type": "code",
   "execution_count": 24,
   "metadata": {},
   "outputs": [
    {
     "output_type": "display_data",
     "data": {
      "application/vnd.plotly.v1+json": {
       "config": {
        "plotlyServerURL": "https://plot.ly"
       },
       "data": [
        {
         "name": "Free",
         "type": "box",
         "y": [
          80,
          10,
          8,
          34,
          25,
          15,
          68,
          47,
          18,
          17,
          35,
          42,
          10,
          1,
          1,
          77,
          1,
          26,
          66,
          127,
          30,
          13,
          73,
          211,
          28,
          15,
          41,
          7,
          19,
          29,
          62,
          22,
          6,
          1,
          3,
          39,
          6,
          88,
          61,
          1,
          149,
          162,
          47,
          105,
          74,
          59,
          164,
          76,
          66,
          21,
          66,
          8,
          156,
          6,
          71,
          42,
          21,
          89,
          4,
          12,
          34,
          14,
          73,
          181,
          41,
          10,
          56,
          70,
          11,
          41,
          1,
          18,
          70,
          75,
          11,
          46,
          102,
          8,
          5,
          20,
          4,
          10,
          18,
          87,
          56,
          31,
          148,
          17,
          447,
          125,
          13,
          60,
          60,
          41,
          49,
          50,
          26,
          93,
          14,
          15,
          56,
          5,
          1,
          9,
          13,
          33,
          24,
          74,
          81,
          4,
          11,
          46,
          16,
          193,
          123,
          28,
          12,
          31,
          25,
          67,
          108,
          57,
          4,
          18,
          112,
          120,
          211,
          60,
          29,
          62,
          27,
          81,
          25,
          98,
          33,
          111,
          26,
          28,
          63,
          98,
          28,
          73,
          11,
          11,
          30,
          24,
          72,
          1,
          4,
          17,
          8,
          69,
          24,
          40,
          26,
          58,
          3,
          31,
          29,
          78,
          54,
          41,
          9,
          32,
          87,
          71,
          34,
          14,
          4,
          4,
          15,
          20,
          34,
          21,
          40,
          12,
          119,
          79,
          95,
          30,
          26,
          51,
          112,
          76,
          35,
          105,
          82,
          67,
          9,
          88,
          3,
          8,
          11,
          3,
          12,
          56,
          21,
          7,
          119,
          106,
          42,
          55,
          80,
          29,
          50,
          75,
          22,
          11,
          29,
          76,
          91,
          8,
          1,
          30,
          105,
          46,
          13,
          65,
          57,
          147,
          22,
          150,
          67,
          16,
          5,
          13,
          30,
          44,
          85,
          10,
          52,
          10,
          51,
          31,
          10,
          2,
          8,
          70,
          13,
          38,
          12,
          96,
          50,
          49,
          178,
          65,
          181,
          77,
          26,
          50,
          25,
          86,
          43,
          68,
          8,
          35,
          220,
          86,
          24,
          20,
          23,
          55,
          6,
          8,
          153,
          12,
          6,
          22,
          45,
          42,
          71,
          24,
          8,
          161,
          114,
          14,
          7,
          78,
          1,
          35,
          25,
          6,
          62,
          41,
          153,
          8,
          10,
          44,
          33,
          22,
          60,
          1,
          196,
          65,
          2,
          54,
          120,
          25,
          13,
          1,
          84,
          155,
          6,
          23,
          5,
          4,
          17,
          51,
          86,
          67,
          50,
          78,
          8,
          18,
          54,
          16,
          29,
          4,
          8,
          3,
          17,
          1,
          22,
          12,
          1,
          123,
          72,
          251,
          12,
          70,
          116,
          29,
          105,
          49,
          99,
          79,
          12,
          34,
          6,
          16,
          112,
          10,
          24,
          34,
          44,
          167,
          5,
          33,
          140,
          35,
          44,
          35,
          25,
          11,
          35,
          10,
          4,
          50,
          68,
          165,
          136,
          30,
          1,
          28,
          191,
          17,
          2,
          44,
          75,
          22,
          34,
          32,
          21,
          37,
          127,
          33,
          28,
          38,
          147,
          26,
          31,
          7,
          54,
          57,
          135,
          41,
          52,
          13,
          17,
          92,
          47,
          26,
          15,
          43,
          79,
          156,
          11,
          44,
          91,
          23,
          46,
          88,
          26,
          17,
          34,
          61,
          70,
          40,
          7,
          36,
          18,
          40,
          125,
          173,
          138,
          94,
          51,
          95,
          7,
          63,
          10,
          15,
          3,
          107,
          60,
          2,
          21,
          106,
          115,
          68,
          25,
          62,
          14,
          109,
          12,
          77,
          61,
          36,
          36,
          18,
          53,
          7,
          165,
          39,
          3,
          18,
          75,
          1,
          73,
          67,
          6,
          59,
          1,
          59,
          131,
          252,
          84,
          7,
          129,
          87,
          21,
          1,
          26,
          96,
          68,
          50,
          112,
          60,
          154,
          60,
          60,
          63,
          97,
          21,
          115,
          20,
          123,
          203,
          2,
          51,
          1,
          54,
          39,
          112,
          31,
          139,
          113,
          32,
          35,
          47,
          65,
          26,
          4,
          17,
          8,
          119,
          12,
          18,
          10,
          28,
          45,
          49,
          5,
          2,
          96,
          3,
          66,
          37,
          44,
          213,
          65,
          67,
          9,
          86,
          76,
          2,
          70,
          3,
          39,
          48,
          100,
          3,
          48,
          52,
          42,
          12,
          6,
          57,
          18,
          4,
          136,
          7,
          16,
          81,
          164,
          151,
          34,
          10,
          104,
          38,
          6,
          12,
          7,
          86,
          172,
          84,
          82,
          169,
          23,
          65,
          8,
          3,
          191,
          1,
          31,
          28,
          32,
          15,
          2,
          42,
          20,
          11,
          122,
          47,
          31,
          202,
          14,
          27,
          73,
          15,
          47,
          35,
          3,
          50,
          8,
          84,
          145,
          1,
          83,
          180,
          53,
          20,
          28,
          71,
          41,
          77,
          4,
          76,
          14,
          19,
          33,
          35,
          65,
          27,
          33,
          33,
          14,
          7,
          25,
          81,
          62,
          18,
          12,
          83,
          13,
          51,
          91,
          25,
          106,
          1,
          83,
          115,
          13,
          32,
          9,
          9,
          30,
          120,
          31,
          18,
          28,
          60,
          38,
          27,
          37,
          48,
          74,
          9,
          64,
          57,
          3,
          43,
          21,
          84,
          16,
          1,
          70,
          22,
          12,
          28,
          9,
          17,
          129,
          10,
          9,
          21,
          8,
          59,
          56,
          3,
          27,
          66,
          36,
          21,
          13,
          50,
          3,
          27,
          16,
          6,
          139,
          41,
          113,
          40,
          36,
          141,
          27,
          12,
          15,
          7,
          75,
          81,
          45,
          56,
          4,
          52,
          177,
          24,
          6,
          7,
          13,
          242,
          98,
          105,
          10,
          43,
          3,
          20,
          37,
          1,
          33,
          28,
          31,
          9,
          22,
          34,
          40,
          11,
          36,
          69,
          46,
          39,
          10,
          21,
          4,
          42,
          1,
          6,
          2,
          45,
          106,
          75,
          31,
          44,
          134,
          16,
          31,
          23,
          1,
          15,
          57,
          124,
          126,
          30,
          23,
          9,
          41,
          16,
          79,
          80,
          61,
          1,
          12,
          66,
          13,
          94,
          7,
          7,
          13,
          70,
          36,
          47,
          38,
          50,
          10,
          7,
          57,
          13,
          43,
          26,
          11,
          117,
          60,
          7,
          15,
          19,
          26,
          1,
          57,
          15,
          12,
          41,
          21,
          17,
          82,
          57,
          25,
          38,
          57,
          8,
          124,
          10,
          118,
          1,
          37,
          28,
          19,
          30,
          4,
          75,
          45,
          11,
          4,
          21,
          109,
          1,
          3,
          20,
          2,
          27,
          52,
          4,
          78,
          10,
          249,
          61,
          109,
          56,
          18,
          112,
          6,
          19,
          41,
          16,
          46,
          87,
          56,
          15,
          4,
          40,
          49,
          2,
          63,
          15,
          24,
          125,
          91,
          3,
          108,
          5,
          7,
          14,
          29,
          23,
          2,
          5,
          39,
          32,
          39,
          64,
          22,
          60,
          13,
          11,
          138,
          21,
          10,
          52,
          312,
          53,
          57,
          34,
          92,
          26,
          13,
          9,
          39,
          32,
          291,
          24,
          6,
          17,
          23,
          126,
          1,
          35,
          31,
          189,
          54,
          107,
          84,
          62,
          5,
          170,
          119,
          75,
          3,
          37,
          10,
          227,
          27,
          34,
          61,
          15,
          5,
          62,
          62,
          64,
          10,
          21,
          4,
          2,
          8,
          14,
          41,
          25,
          45,
          16,
          29,
          17,
          51,
          55,
          9,
          97,
          61,
          16,
          58,
          66,
          18,
          18,
          58,
          3,
          60,
          1,
          31,
          3,
          26,
          70,
          34,
          9,
          141,
          21,
          89,
          48,
          28,
          22,
          40,
          38,
          138,
          11,
          32,
          106,
          13,
          10,
          24,
          107,
          66,
          8,
          43,
          24,
          19,
          40,
          67,
          86,
          220,
          19,
          2,
          95,
          15,
          186,
          4,
          80,
          125,
          95,
          128,
          8,
          17,
          84,
          41,
          13,
          101,
          13,
          94,
          66,
          34,
          19,
          39,
          54,
          5,
          80,
          25,
          67,
          1,
          109,
          3,
          67,
          5,
          61,
          14,
          184,
          48,
          1,
          29,
          155,
          4,
          6,
          2,
          77,
          29,
          10,
          6,
          5,
          23,
          12,
          19,
          26,
          16,
          7,
          11,
          51,
          64,
          39,
          20,
          62,
          45,
          18,
          41,
          79,
          18,
          1,
          221,
          14,
          25,
          28,
          9,
          69,
          25,
          47,
          111,
          85,
          30,
          16,
          35,
          208,
          23,
          29,
          76,
          1,
          18,
          116,
          14,
          10,
          28,
          5,
          20,
          32,
          86,
          86,
          43,
          3,
          2,
          68,
          1,
          43,
          26,
          29,
          117,
          63,
          46,
          25,
          6,
          54,
          72,
          12,
          32,
          5,
          50,
          1,
          162,
          58,
          44,
          10,
          11,
          36,
          30,
          5,
          7,
          1,
          6,
          133,
          11,
          6,
          134,
          8,
          8,
          45,
          82,
          90,
          22,
          64,
          77,
          45,
          41,
          19,
          79,
          9,
          163,
          10,
          8,
          5,
          79,
          2,
          16,
          30,
          69,
          22,
          34,
          10,
          33,
          95,
          49,
          8,
          10,
          5,
          37,
          35,
          86,
          13,
          72,
          3,
          59,
          28,
          24,
          18,
          129,
          70,
          32,
          21,
          6,
          3,
          10,
          48,
          19,
          138,
          106,
          2,
          19,
          56,
          47,
          33,
          5,
          17,
          6,
          200,
          27,
          41,
          32,
          28,
          13,
          76,
          8,
          21,
          3,
          34,
          84,
          36,
          25,
          8,
          225,
          10,
          1,
          10,
          284,
          226,
          10,
          11,
          4,
          35,
          82,
          195,
          3,
          3,
          9,
          41,
          30,
          38,
          25,
          46,
          10,
          45,
          1,
          14,
          1,
          6,
          40,
          6,
          16,
          22
         ]
        },
        {
         "name": "Paid",
         "type": "box",
         "y": [
          42,
          219,
          11,
          367,
          221,
          397,
          276,
          167,
          27,
          95,
          26,
          1282,
          343,
          478,
          56,
          159,
          58,
          99,
          6,
          107,
          49,
          205,
          100,
          503,
          144,
          39,
          54,
          117,
          36,
          20,
          151,
          27,
          234,
          164,
          12,
          49,
          400,
          122,
          97,
          163,
          181,
          42,
          214,
          45,
          41,
          291,
          112,
          49,
          70,
          107,
          59,
          64,
          38,
          194,
          142,
          256,
          79,
          219,
          20,
          7,
          17,
          256,
          377,
          251,
          276,
          69,
          367,
          367,
          29,
          9,
          136,
          184,
          38,
          9,
          128,
          208,
          39,
          207,
          197,
          310,
          55,
          137,
          206,
          30,
          40,
          10,
          73,
          1,
          154,
          35,
          28,
          114,
          47,
          118,
          12,
          57,
          148,
          208,
          240,
          330,
          1,
          215,
          855,
          189,
          125,
          31,
          72,
          12,
          139,
          137,
          69,
          69,
          128,
          382,
          41,
          43,
          580,
          546,
          77,
          656,
          114,
          9,
          566,
          307,
          189,
          512,
          65,
          104,
          18,
          10,
          133,
          61,
          137,
          77,
          22,
          322,
          61,
          30,
          208,
          42,
          301,
          107,
          1,
          394,
          465,
          184,
          193,
          81,
          77,
          165,
          13,
          207,
          116,
          207,
          338,
          60,
          1,
          223,
          18,
          62,
          80,
          113,
          29,
          9,
          32,
          170,
          52,
          283,
          21,
          224,
          233,
          199,
          73,
          154,
          63,
          38,
          133,
          1,
          456,
          23,
          194,
          64,
          37,
          96,
          474,
          38,
          304,
          421,
          44,
          9,
          89,
          23,
          269,
          5,
          79,
          37,
          90,
          122,
          175,
          99,
          100,
          301,
          380,
          45,
          154,
          64,
          214,
          193,
          19,
          119,
          216,
          70,
          66,
          153,
          63,
          21,
          466,
          211,
          477,
          16,
          66,
          339,
          372,
          154,
          188,
          165,
          19,
          26,
          45,
          53,
          18,
          167,
          410,
          180,
          199,
          81,
          52,
          307,
          240,
          178,
          72,
          8,
          83,
          105,
          54,
          92,
          42,
          117,
          82,
          449,
          414,
          1,
          114,
          61,
          44,
          72,
          97,
          4,
          442,
          99,
          116,
          225,
          103,
          85,
          145,
          47,
          301,
          56,
          405,
          10,
          21,
          101,
          23,
          493,
          5,
          10,
          39,
          188,
          105,
          286,
          90,
          10,
          70,
          102,
          53,
          35,
          20,
          11,
          1,
          53,
          94,
          139,
          208,
          30,
          96,
          89,
          212,
          153,
          88,
          36,
          24,
          109,
          16,
          81,
          25,
          62,
          81,
          45,
          78,
          158,
          1,
          56,
          49,
          19,
          411,
          45,
          78,
          16,
          152,
          139,
          143,
          446,
          7,
          124,
          53,
          13,
          19,
          140,
          211,
          14,
          121,
          68,
          390,
          180,
          113,
          42,
          14,
          212,
          39,
          94,
          31,
          15,
          10,
          293,
          87,
          17,
          528,
          85,
          627,
          192,
          55,
          31,
          55,
          154,
          170,
          16,
          76,
          40,
          60,
          13,
          124,
          64,
          75,
          131,
          539,
          61,
          17,
          67,
          129,
          67,
          1,
          83,
          295,
          85,
          15,
          140,
          65,
          132,
          153,
          85,
          58,
          642,
          154,
          173,
          76,
          181,
          121,
          16,
          28,
          267,
          1109,
          155,
          27,
          369,
          54,
          71,
          38,
          124,
          5,
          201,
          6,
          35,
          251,
          42,
          531,
          54,
          223,
          280,
          164,
          25,
          305,
          52,
          123,
          139,
          31,
          200,
          310,
          20,
          134,
          30,
          97,
          17,
          454,
          201,
          78,
          197,
          71,
          154,
          8,
          6,
          45,
          235,
          2,
          47,
          51,
          119,
          196,
          10,
          162,
          18,
          34,
          140,
          145,
          136,
          129,
          65,
          126,
          23,
          98,
          59,
          15,
          42,
          70,
          4,
          113,
          21,
          22,
          71,
          22,
          73,
          128,
          64,
          873,
          4,
          464,
          208,
          8,
          356,
          71,
          23,
          291,
          9,
          9,
          13,
          79,
          40,
          96,
          42,
          1,
          63,
          267,
          326,
          87,
          21,
          27,
          209,
          75,
          48,
          9,
          124,
          141,
          119,
          108,
          229,
          55,
          204,
          85,
          77,
          41,
          389,
          1,
          204,
          119,
          196,
          175,
          123,
          141,
          6,
          146,
          336,
          52,
          320,
          8,
          388,
          91,
          155,
          62,
          55,
          76,
          54,
          14,
          1,
          316,
          137,
          87,
          257,
          85,
          440,
          66,
          10,
          76,
          39,
          34,
          25,
          133,
          5,
          77,
          536,
          380,
          54,
          129,
          26,
          36,
          212,
          13,
          294,
          35,
          21,
          52,
          116,
          73,
          524,
          454,
          16,
          38,
          23,
          9,
          25,
          71,
          88,
          7,
          140,
          228,
          186,
          22,
          29,
          231,
          72,
          80,
          42,
          653,
          247,
          53,
          268,
          41,
          145,
          60,
          211,
          28,
          231,
          213,
          34,
          151,
          13,
          65,
          31,
          332,
          602,
          8,
          147,
          8,
          116,
          105,
          4,
          48,
          141,
          115,
          43,
          364,
          27,
          28,
          110,
          26,
          114,
          375,
          67,
          62,
          74,
          65,
          108,
          121,
          108,
          770,
          14,
          317,
          12,
          113,
          125,
          316,
          170,
          17,
          21,
          287,
          225,
          18,
          57,
          45,
          492,
          183,
          64,
          86,
          3,
          121,
          352,
          151,
          36,
          102,
          101,
          41,
          43,
          31,
          225,
          323,
          39,
          132,
          150,
          165,
          206,
          116,
          65,
          97,
          308,
          699,
          251,
          8,
          43,
          271,
          70,
          329,
          3,
          74,
          18,
          50,
          222,
          391,
          249,
          208,
          102,
          14,
          55,
          63,
          73,
          109,
          69,
          104,
          49,
          31,
          19,
          22,
          120,
          117,
          291,
          381,
          77,
          78,
          313,
          36,
          85,
          40,
          12,
          62,
          68,
          1,
          107,
          10,
          229,
          14,
          187,
          63,
          46,
          16,
          53,
          106,
          18,
          161,
          37,
          1,
          22,
          268,
          49,
          34,
          472,
          97,
          312,
          31,
          67,
          1,
          16,
          256,
          7,
          317,
          487,
          27,
          13,
          31,
          144,
          51,
          339,
          35,
          199,
          38,
          101,
          229,
          60,
          171,
          125,
          319,
          280,
          325,
          66,
          12,
          159,
          19,
          10,
          67,
          313,
          130,
          55,
          41,
          38,
          178,
          55,
          86,
          89,
          69,
          39,
          299,
          9,
          20,
          103,
          11,
          116,
          358,
          6,
          347,
          245,
          280,
          177,
          235,
          147,
          25,
          43,
          227,
          101,
          196,
          47,
          45,
          76,
          332,
          403,
          251,
          9,
          584,
          143,
          560,
          32,
          315,
          179,
          27,
          17,
          528,
          208,
          22,
          344,
          40,
          18,
          13,
          133,
          390,
          14,
          410,
          758,
          178,
          182,
          36,
          415,
          18,
          130,
          50,
          1,
          48,
          198,
          153,
          375,
          76,
          191,
          76,
          231,
          34,
          50,
          54,
          67,
          21,
          121,
          244,
          182,
          296,
          28,
          55,
          203,
          252,
          3,
          123,
          295,
          228,
          1,
          296,
          6,
          73,
          49,
          591,
          273,
          69,
          71,
          528,
          588,
          186,
          143,
          59,
          187,
          142,
          1,
          15,
          96,
          93,
          49,
          112,
          44,
          94,
          476,
          13,
          35,
          151,
          19,
          6,
          61,
          7,
          128,
          76,
          328,
          180,
          34,
          27,
          530,
          24,
          19,
          61,
          46,
          2,
          10,
          262,
          1,
          62,
          263,
          26,
          445,
          91,
          152,
          107,
          4,
          11,
          99,
          1,
          43,
          429,
          119,
          190,
          39,
          55,
          369,
          44,
          362,
          160,
          331,
          189,
          102,
          138,
          109,
          44,
          19,
          36,
          113,
          91,
          166,
          11,
          124,
          85,
          211,
          73,
          479,
          567,
          59,
          98,
          197,
          55,
          231,
          46,
          1,
          18,
          280,
          494,
          73,
          26,
          1,
          287,
          123,
          495,
          81,
          64,
          104,
          1,
          288,
          65,
          46,
          69,
          300,
          17,
          346,
          11,
          126,
          175,
          142,
          6,
          14,
          80,
          201,
          78,
          178,
          405,
          14,
          80,
          42,
          258,
          17,
          36,
          51,
          205,
          36,
          12,
          35,
          15,
          79,
          165,
          95,
          41,
          57,
          261,
          109,
          121,
          73,
          255,
          236,
          41,
          145,
          138,
          196,
          3,
          102,
          413,
          63,
          13,
          12,
          269,
          49,
          53,
          180,
          63,
          329,
          23,
          43,
          17,
          20,
          259,
          189,
          102,
          398,
          156,
          140,
          148,
          24,
          163,
          129,
          221,
          157,
          20,
          101,
          121,
          1,
          229,
          36,
          69,
          71,
          97,
          79,
          98,
          167,
          53,
          34,
          1,
          333,
          9,
          395,
          57,
          105,
          393,
          332,
          106,
          4,
          200,
          131,
          179,
          17,
          113,
          202,
          48,
          55,
          83,
          160,
          52,
          268,
          7,
          23,
          203,
          375,
          352,
          100,
          62,
          16,
          350,
          32,
          167,
          42,
          325,
          182,
          70,
          7,
          260,
          71,
          127,
          57,
          42,
          49,
          44,
          19,
          1,
          63,
          195,
          104,
          124,
          1,
          169,
          682,
          91,
          59,
          159,
          87,
          65,
          32,
          176,
          7,
          23,
          48,
          19,
          110,
          91,
          25,
          63,
          118,
          55,
          38,
          67,
          93,
          77,
          208,
          371,
          204,
          202,
          129,
          185,
          139,
          270,
          118,
          256,
          247,
          56,
          227,
          14,
          500,
          82,
          21,
          45,
          60,
          64,
          197,
          83,
          713,
          92,
          93,
          61,
          328,
          119,
          20,
          75,
          57,
          91,
          695,
          301,
          56,
          35,
          6,
          27,
          115,
          24,
          30,
          84,
          64,
          225,
          307,
          78,
          94,
          26,
          92,
          24,
          123,
          117,
          113,
          196,
          4,
          163,
          15,
          70,
          144,
          1,
          1,
          466,
          61,
          254,
          210,
          80,
          35,
          1,
          309,
          42,
          131,
          50,
          52,
          24,
          386,
          291,
          54,
          168,
          37,
          506,
          112,
          615,
          1,
          60,
          135,
          191,
          53,
          67,
          234,
          105,
          224,
          130,
          389,
          39,
          75,
          34,
          126,
          39,
          54,
          95,
          167,
          99,
          452,
          119,
          194,
          122,
          63,
          50,
          273,
          302,
          47,
          150,
          50,
          249,
          226,
          183,
          13,
          90,
          154,
          331,
          296,
          88,
          91,
          151,
          54,
          68,
          24,
          87,
          74,
          3,
          27,
          128,
          200,
          158,
          35,
          86,
          22,
          116,
          43,
          21,
          256,
          100,
          2,
          184,
          3,
          46,
          54,
          114,
          9,
          296,
          146,
          61,
          38,
          113,
          574,
          55,
          204,
          235,
          277,
          58,
          83,
          84,
          276,
          34,
          131,
          248,
          51,
          175,
          248,
          54,
          3,
          178,
          64,
          83,
          209,
          67,
          321,
          198,
          59,
          357,
          5,
          314,
          167,
          281,
          238,
          69,
          244,
          177,
          20,
          39,
          55,
          41,
          25,
          56,
          74,
          175,
          631,
          399,
          138,
          258,
          280,
          9,
          110,
          37,
          263,
          50,
          274,
          21,
          276,
          206,
          135,
          174,
          147,
          58,
          9,
          137,
          246,
          136,
          180,
          11,
          93,
          37,
          82,
          8,
          41,
          101,
          233,
          23,
          174,
          89,
          325,
          15,
          95,
          154,
          79,
          83,
          261,
          94,
          19,
          16,
          327,
          193,
          7,
          7,
          73,
          86,
          72,
          1,
          55,
          271,
          126,
          111,
          112,
          64,
          82,
          188,
          58,
          89,
          96,
          247,
          127,
          5,
          676,
          231,
          511,
          77,
          50,
          271,
          154,
          66,
          30,
          129,
          5,
          286,
          49,
          102,
          19,
          337,
          67,
          25,
          1,
          149,
          515,
          166,
          256,
          58,
          51,
          98,
          219,
          121,
          66,
          36,
          66,
          47,
          344,
          314,
          136,
          12,
          11,
          205,
          312,
          186,
          22,
          314,
          29,
          107,
          7,
          88,
          37,
          3,
          56,
          190,
          251,
          12,
          5,
          267,
          11,
          70,
          35,
          208,
          69,
          250,
          229,
          12,
          133,
          91,
          50,
          180,
          77,
          175,
          118,
          82,
          234,
          32,
          18,
          190,
          242,
          75,
          180,
          1,
          1,
          78,
          45,
          373,
          22,
          91,
          38,
          443,
          182,
          17,
          15,
          3,
          50,
          96,
          82,
          149,
          249,
          85,
          29,
          31,
          71,
          1,
          126,
          96,
          510,
          212,
          36,
          1,
          179,
          20,
          158,
          13,
          38,
          88,
          224,
          16,
          12,
          158,
          1,
          302,
          142,
          178,
          162,
          87,
          47,
          231,
          28,
          36,
          39,
          236,
          33,
          180,
          3,
          29,
          20,
          51,
          180,
          97,
          25,
          34,
          36,
          280,
          84,
          77,
          37,
          201,
          124,
          90,
          198,
          17,
          245,
          519,
          71,
          42,
          2,
          6,
          176,
          1,
          1,
          148,
          363,
          62,
          51,
          220,
          106,
          91,
          52,
          123,
          312,
          128,
          446,
          114,
          92,
          171,
          121,
          453,
          159,
          69,
          6,
          127,
          140,
          79,
          179,
          133,
          184,
          10,
          77,
          172,
          63,
          484,
          89,
          189,
          18,
          84,
          175,
          15,
          82,
          148,
          40,
          53,
          121,
          18,
          448,
          197,
          113,
          68,
          120,
          47,
          178,
          77,
          22,
          437,
          439,
          10,
          86,
          18,
          291,
          423,
          126,
          185,
          172,
          31,
          50,
          25,
          50,
          96,
          36,
          3,
          104,
          162,
          18,
          64,
          117,
          68,
          342,
          52,
          349,
          57,
          527,
          100,
          141,
          31,
          18,
          36,
          41,
          122,
          89,
          1,
          333,
          37,
          366,
          217,
          31,
          501,
          183,
          129,
          80,
          172,
          131,
          1,
          119,
          19,
          88,
          113,
          114,
          34,
          116,
          349,
          119,
          427,
          510,
          56,
          4,
          97,
          186,
          8,
          93,
          27,
          13,
          77,
          5,
          254,
          15,
          311,
          166
         ]
        }
       ],
       "layout": {
        "template": {
         "data": {
          "bar": [
           {
            "error_x": {
             "color": "#2a3f5f"
            },
            "error_y": {
             "color": "#2a3f5f"
            },
            "marker": {
             "line": {
              "color": "white",
              "width": 0.5
             }
            },
            "type": "bar"
           }
          ],
          "barpolar": [
           {
            "marker": {
             "line": {
              "color": "white",
              "width": 0.5
             }
            },
            "type": "barpolar"
           }
          ],
          "carpet": [
           {
            "aaxis": {
             "endlinecolor": "#2a3f5f",
             "gridcolor": "#C8D4E3",
             "linecolor": "#C8D4E3",
             "minorgridcolor": "#C8D4E3",
             "startlinecolor": "#2a3f5f"
            },
            "baxis": {
             "endlinecolor": "#2a3f5f",
             "gridcolor": "#C8D4E3",
             "linecolor": "#C8D4E3",
             "minorgridcolor": "#C8D4E3",
             "startlinecolor": "#2a3f5f"
            },
            "type": "carpet"
           }
          ],
          "choropleth": [
           {
            "colorbar": {
             "outlinewidth": 0,
             "ticks": ""
            },
            "type": "choropleth"
           }
          ],
          "contour": [
           {
            "colorbar": {
             "outlinewidth": 0,
             "ticks": ""
            },
            "colorscale": [
             [
              0,
              "#0d0887"
             ],
             [
              0.1111111111111111,
              "#46039f"
             ],
             [
              0.2222222222222222,
              "#7201a8"
             ],
             [
              0.3333333333333333,
              "#9c179e"
             ],
             [
              0.4444444444444444,
              "#bd3786"
             ],
             [
              0.5555555555555556,
              "#d8576b"
             ],
             [
              0.6666666666666666,
              "#ed7953"
             ],
             [
              0.7777777777777778,
              "#fb9f3a"
             ],
             [
              0.8888888888888888,
              "#fdca26"
             ],
             [
              1,
              "#f0f921"
             ]
            ],
            "type": "contour"
           }
          ],
          "contourcarpet": [
           {
            "colorbar": {
             "outlinewidth": 0,
             "ticks": ""
            },
            "type": "contourcarpet"
           }
          ],
          "heatmap": [
           {
            "colorbar": {
             "outlinewidth": 0,
             "ticks": ""
            },
            "colorscale": [
             [
              0,
              "#0d0887"
             ],
             [
              0.1111111111111111,
              "#46039f"
             ],
             [
              0.2222222222222222,
              "#7201a8"
             ],
             [
              0.3333333333333333,
              "#9c179e"
             ],
             [
              0.4444444444444444,
              "#bd3786"
             ],
             [
              0.5555555555555556,
              "#d8576b"
             ],
             [
              0.6666666666666666,
              "#ed7953"
             ],
             [
              0.7777777777777778,
              "#fb9f3a"
             ],
             [
              0.8888888888888888,
              "#fdca26"
             ],
             [
              1,
              "#f0f921"
             ]
            ],
            "type": "heatmap"
           }
          ],
          "heatmapgl": [
           {
            "colorbar": {
             "outlinewidth": 0,
             "ticks": ""
            },
            "colorscale": [
             [
              0,
              "#0d0887"
             ],
             [
              0.1111111111111111,
              "#46039f"
             ],
             [
              0.2222222222222222,
              "#7201a8"
             ],
             [
              0.3333333333333333,
              "#9c179e"
             ],
             [
              0.4444444444444444,
              "#bd3786"
             ],
             [
              0.5555555555555556,
              "#d8576b"
             ],
             [
              0.6666666666666666,
              "#ed7953"
             ],
             [
              0.7777777777777778,
              "#fb9f3a"
             ],
             [
              0.8888888888888888,
              "#fdca26"
             ],
             [
              1,
              "#f0f921"
             ]
            ],
            "type": "heatmapgl"
           }
          ],
          "histogram": [
           {
            "marker": {
             "colorbar": {
              "outlinewidth": 0,
              "ticks": ""
             }
            },
            "type": "histogram"
           }
          ],
          "histogram2d": [
           {
            "colorbar": {
             "outlinewidth": 0,
             "ticks": ""
            },
            "colorscale": [
             [
              0,
              "#0d0887"
             ],
             [
              0.1111111111111111,
              "#46039f"
             ],
             [
              0.2222222222222222,
              "#7201a8"
             ],
             [
              0.3333333333333333,
              "#9c179e"
             ],
             [
              0.4444444444444444,
              "#bd3786"
             ],
             [
              0.5555555555555556,
              "#d8576b"
             ],
             [
              0.6666666666666666,
              "#ed7953"
             ],
             [
              0.7777777777777778,
              "#fb9f3a"
             ],
             [
              0.8888888888888888,
              "#fdca26"
             ],
             [
              1,
              "#f0f921"
             ]
            ],
            "type": "histogram2d"
           }
          ],
          "histogram2dcontour": [
           {
            "colorbar": {
             "outlinewidth": 0,
             "ticks": ""
            },
            "colorscale": [
             [
              0,
              "#0d0887"
             ],
             [
              0.1111111111111111,
              "#46039f"
             ],
             [
              0.2222222222222222,
              "#7201a8"
             ],
             [
              0.3333333333333333,
              "#9c179e"
             ],
             [
              0.4444444444444444,
              "#bd3786"
             ],
             [
              0.5555555555555556,
              "#d8576b"
             ],
             [
              0.6666666666666666,
              "#ed7953"
             ],
             [
              0.7777777777777778,
              "#fb9f3a"
             ],
             [
              0.8888888888888888,
              "#fdca26"
             ],
             [
              1,
              "#f0f921"
             ]
            ],
            "type": "histogram2dcontour"
           }
          ],
          "mesh3d": [
           {
            "colorbar": {
             "outlinewidth": 0,
             "ticks": ""
            },
            "type": "mesh3d"
           }
          ],
          "parcoords": [
           {
            "line": {
             "colorbar": {
              "outlinewidth": 0,
              "ticks": ""
             }
            },
            "type": "parcoords"
           }
          ],
          "pie": [
           {
            "automargin": true,
            "type": "pie"
           }
          ],
          "scatter": [
           {
            "marker": {
             "colorbar": {
              "outlinewidth": 0,
              "ticks": ""
             }
            },
            "type": "scatter"
           }
          ],
          "scatter3d": [
           {
            "line": {
             "colorbar": {
              "outlinewidth": 0,
              "ticks": ""
             }
            },
            "marker": {
             "colorbar": {
              "outlinewidth": 0,
              "ticks": ""
             }
            },
            "type": "scatter3d"
           }
          ],
          "scattercarpet": [
           {
            "marker": {
             "colorbar": {
              "outlinewidth": 0,
              "ticks": ""
             }
            },
            "type": "scattercarpet"
           }
          ],
          "scattergeo": [
           {
            "marker": {
             "colorbar": {
              "outlinewidth": 0,
              "ticks": ""
             }
            },
            "type": "scattergeo"
           }
          ],
          "scattergl": [
           {
            "marker": {
             "colorbar": {
              "outlinewidth": 0,
              "ticks": ""
             }
            },
            "type": "scattergl"
           }
          ],
          "scattermapbox": [
           {
            "marker": {
             "colorbar": {
              "outlinewidth": 0,
              "ticks": ""
             }
            },
            "type": "scattermapbox"
           }
          ],
          "scatterpolar": [
           {
            "marker": {
             "colorbar": {
              "outlinewidth": 0,
              "ticks": ""
             }
            },
            "type": "scatterpolar"
           }
          ],
          "scatterpolargl": [
           {
            "marker": {
             "colorbar": {
              "outlinewidth": 0,
              "ticks": ""
             }
            },
            "type": "scatterpolargl"
           }
          ],
          "scatterternary": [
           {
            "marker": {
             "colorbar": {
              "outlinewidth": 0,
              "ticks": ""
             }
            },
            "type": "scatterternary"
           }
          ],
          "surface": [
           {
            "colorbar": {
             "outlinewidth": 0,
             "ticks": ""
            },
            "colorscale": [
             [
              0,
              "#0d0887"
             ],
             [
              0.1111111111111111,
              "#46039f"
             ],
             [
              0.2222222222222222,
              "#7201a8"
             ],
             [
              0.3333333333333333,
              "#9c179e"
             ],
             [
              0.4444444444444444,
              "#bd3786"
             ],
             [
              0.5555555555555556,
              "#d8576b"
             ],
             [
              0.6666666666666666,
              "#ed7953"
             ],
             [
              0.7777777777777778,
              "#fb9f3a"
             ],
             [
              0.8888888888888888,
              "#fdca26"
             ],
             [
              1,
              "#f0f921"
             ]
            ],
            "type": "surface"
           }
          ],
          "table": [
           {
            "cells": {
             "fill": {
              "color": "#EBF0F8"
             },
             "line": {
              "color": "white"
             }
            },
            "header": {
             "fill": {
              "color": "#C8D4E3"
             },
             "line": {
              "color": "white"
             }
            },
            "type": "table"
           }
          ]
         },
         "layout": {
          "annotationdefaults": {
           "arrowcolor": "#2a3f5f",
           "arrowhead": 0,
           "arrowwidth": 1
          },
          "coloraxis": {
           "colorbar": {
            "outlinewidth": 0,
            "ticks": ""
           }
          },
          "colorscale": {
           "diverging": [
            [
             0,
             "#8e0152"
            ],
            [
             0.1,
             "#c51b7d"
            ],
            [
             0.2,
             "#de77ae"
            ],
            [
             0.3,
             "#f1b6da"
            ],
            [
             0.4,
             "#fde0ef"
            ],
            [
             0.5,
             "#f7f7f7"
            ],
            [
             0.6,
             "#e6f5d0"
            ],
            [
             0.7,
             "#b8e186"
            ],
            [
             0.8,
             "#7fbc41"
            ],
            [
             0.9,
             "#4d9221"
            ],
            [
             1,
             "#276419"
            ]
           ],
           "sequential": [
            [
             0,
             "#0d0887"
            ],
            [
             0.1111111111111111,
             "#46039f"
            ],
            [
             0.2222222222222222,
             "#7201a8"
            ],
            [
             0.3333333333333333,
             "#9c179e"
            ],
            [
             0.4444444444444444,
             "#bd3786"
            ],
            [
             0.5555555555555556,
             "#d8576b"
            ],
            [
             0.6666666666666666,
             "#ed7953"
            ],
            [
             0.7777777777777778,
             "#fb9f3a"
            ],
            [
             0.8888888888888888,
             "#fdca26"
            ],
            [
             1,
             "#f0f921"
            ]
           ],
           "sequentialminus": [
            [
             0,
             "#0d0887"
            ],
            [
             0.1111111111111111,
             "#46039f"
            ],
            [
             0.2222222222222222,
             "#7201a8"
            ],
            [
             0.3333333333333333,
             "#9c179e"
            ],
            [
             0.4444444444444444,
             "#bd3786"
            ],
            [
             0.5555555555555556,
             "#d8576b"
            ],
            [
             0.6666666666666666,
             "#ed7953"
            ],
            [
             0.7777777777777778,
             "#fb9f3a"
            ],
            [
             0.8888888888888888,
             "#fdca26"
            ],
            [
             1,
             "#f0f921"
            ]
           ]
          },
          "colorway": [
           "#636efa",
           "#EF553B",
           "#00cc96",
           "#ab63fa",
           "#FFA15A",
           "#19d3f3",
           "#FF6692",
           "#B6E880",
           "#FF97FF",
           "#FECB52"
          ],
          "font": {
           "color": "#2a3f5f"
          },
          "geo": {
           "bgcolor": "white",
           "lakecolor": "white",
           "landcolor": "white",
           "showlakes": true,
           "showland": true,
           "subunitcolor": "#C8D4E3"
          },
          "hoverlabel": {
           "align": "left"
          },
          "hovermode": "closest",
          "mapbox": {
           "style": "light"
          },
          "paper_bgcolor": "white",
          "plot_bgcolor": "white",
          "polar": {
           "angularaxis": {
            "gridcolor": "#EBF0F8",
            "linecolor": "#EBF0F8",
            "ticks": ""
           },
           "bgcolor": "white",
           "radialaxis": {
            "gridcolor": "#EBF0F8",
            "linecolor": "#EBF0F8",
            "ticks": ""
           }
          },
          "scene": {
           "xaxis": {
            "backgroundcolor": "white",
            "gridcolor": "#DFE8F3",
            "gridwidth": 2,
            "linecolor": "#EBF0F8",
            "showbackground": true,
            "ticks": "",
            "zerolinecolor": "#EBF0F8"
           },
           "yaxis": {
            "backgroundcolor": "white",
            "gridcolor": "#DFE8F3",
            "gridwidth": 2,
            "linecolor": "#EBF0F8",
            "showbackground": true,
            "ticks": "",
            "zerolinecolor": "#EBF0F8"
           },
           "zaxis": {
            "backgroundcolor": "white",
            "gridcolor": "#DFE8F3",
            "gridwidth": 2,
            "linecolor": "#EBF0F8",
            "showbackground": true,
            "ticks": "",
            "zerolinecolor": "#EBF0F8"
           }
          },
          "shapedefaults": {
           "line": {
            "color": "#2a3f5f"
           }
          },
          "ternary": {
           "aaxis": {
            "gridcolor": "#DFE8F3",
            "linecolor": "#A2B1C6",
            "ticks": ""
           },
           "baxis": {
            "gridcolor": "#DFE8F3",
            "linecolor": "#A2B1C6",
            "ticks": ""
           },
           "bgcolor": "white",
           "caxis": {
            "gridcolor": "#DFE8F3",
            "linecolor": "#A2B1C6",
            "ticks": ""
           }
          },
          "title": {
           "x": 0.05
          },
          "xaxis": {
           "automargin": true,
           "gridcolor": "#EBF0F8",
           "linecolor": "#EBF0F8",
           "ticks": "",
           "title": {
            "standoff": 15
           },
           "zerolinecolor": "#EBF0F8",
           "zerolinewidth": 2
          },
          "yaxis": {
           "automargin": true,
           "gridcolor": "#EBF0F8",
           "linecolor": "#EBF0F8",
           "ticks": "",
           "title": {
            "standoff": 15
           },
           "zerolinecolor": "#EBF0F8",
           "zerolinewidth": 2
          }
         }
        },
        "title": {
         "text": "Boxplot number of interactions per session"
        },
        "yaxis": {
         "title": {
          "text": "Number of interactions per session"
         }
        }
       }
      }
     },
     "metadata": {}
    }
   ],
   "source": [
    "# Statistics about the number of interactions per session\n",
    "free_interactions_per_session = np.array(data_cleaned[data_cleaned['level'] == 'free'].groupBy('sessionId').count().collect()).astype(int)\n",
    "paid_interactions_per_session = np.array(data_cleaned[data_cleaned['level'] == 'paid'].groupBy('sessionId').count().collect()).astype(int)\n",
    "fig = go.Figure()\n",
    "fig.add_trace(go.Box(y=free_interactions_per_session[:,1], name = 'Free'))\n",
    "fig.add_trace(go.Box(y=paid_interactions_per_session[:,1], name = 'Paid'))\n",
    "fig.update_yaxes(title_text='Number of interactions per session')\n",
    "fig.update_layout(title_text=\"Boxplot number of interactions per session\",\n",
    "                  template='plotly_white')\n",
    "fig.show()"
   ]
  },
  {
   "cell_type": "markdown",
   "metadata": {},
   "source": [
    "- Also the interaction behavior within a individual session differs:\n",
    "    - Free users 99 % have between 1 and 148 inteactions with a median at 32\n",
    "    - Paying users 99 % have between 1 and 413 interactions with a median at 89"
   ]
  },
  {
   "cell_type": "markdown",
   "metadata": {},
   "source": [
    "# Exploratory Data Analysis\n",
    "When you're working with the full dataset, perform EDA by loading a small subset of the data and doing basic manipulations within Spark. In this workspace, you are already provided a small subset of data you can explore.\n",
    "\n",
    "### Define Churn\n",
    "\n",
    "Once you've done some preliminary analysis, create a column `Churn` to use as the label for your model. I suggest using the `Cancellation Confirmation` events to define your churn, which happen for both paid and free users. As a bonus task, you can also look into the `Downgrade` events.\n",
    "\n",
    "### Explore Data\n",
    "Once you've defined churn, perform some exploratory data analysis to observe the behavior for users who stayed vs users who churned. You can start by exploring aggregates on these two groups of users, observing how much of a specific action they experienced per a certain time unit or number of songs played."
   ]
  },
  {
   "cell_type": "markdown",
   "metadata": {},
   "source": [
    "We define the churn as interaction with the \"Cancellation Confirmation\" page.\n",
    "To explore the data set for influencing factors, lets start by investigating the interactions with the different pages"
   ]
  },
  {
   "cell_type": "code",
   "execution_count": 26,
   "metadata": {},
   "outputs": [
    {
     "output_type": "display_data",
     "data": {
      "application/vnd.plotly.v1+json": {
       "config": {
        "plotlyServerURL": "https://plot.ly"
       },
       "data": [
        {
         "name": "free",
         "orientation": "h",
         "type": "bar",
         "x": [
          41991,
          3687,
          2621,
          2209,
          1172,
          922,
          893,
          613,
          499,
          360,
          322,
          159,
          93,
          85,
          53,
          21,
          21
         ],
         "y": [
          "NextSong",
          "Roll Advert",
          "Home",
          "Thumbs Up",
          "Add to Playlist",
          "Logout",
          "Add Friend",
          "Thumbs Down",
          "Upgrade",
          "Settings",
          "Help",
          "Submit Upgrade",
          "About",
          "Save Settings",
          "Error",
          "Cancel",
          "Cancellation Confirmation"
         ]
        },
        {
         "name": "paid",
         "orientation": "h",
         "type": "bar",
         "x": [
          186117,
          10342,
          7461,
          5354,
          3384,
          2304,
          2055,
          1933,
          1154,
          1132,
          402,
          246,
          225,
          199,
          63,
          31,
          31
         ],
         "y": [
          "NextSong",
          "Thumbs Up",
          "Home",
          "Add to Playlist",
          "Add Friend",
          "Logout",
          "Downgrade",
          "Thumbs Down",
          "Settings",
          "Help",
          "About",
          "Roll Advert",
          "Save Settings",
          "Error",
          "Submit Downgrade",
          "Cancel",
          "Cancellation Confirmation"
         ]
        }
       ],
       "layout": {
        "height": 600,
        "template": {
         "data": {
          "bar": [
           {
            "error_x": {
             "color": "#2a3f5f"
            },
            "error_y": {
             "color": "#2a3f5f"
            },
            "marker": {
             "line": {
              "color": "white",
              "width": 0.5
             }
            },
            "type": "bar"
           }
          ],
          "barpolar": [
           {
            "marker": {
             "line": {
              "color": "white",
              "width": 0.5
             }
            },
            "type": "barpolar"
           }
          ],
          "carpet": [
           {
            "aaxis": {
             "endlinecolor": "#2a3f5f",
             "gridcolor": "#C8D4E3",
             "linecolor": "#C8D4E3",
             "minorgridcolor": "#C8D4E3",
             "startlinecolor": "#2a3f5f"
            },
            "baxis": {
             "endlinecolor": "#2a3f5f",
             "gridcolor": "#C8D4E3",
             "linecolor": "#C8D4E3",
             "minorgridcolor": "#C8D4E3",
             "startlinecolor": "#2a3f5f"
            },
            "type": "carpet"
           }
          ],
          "choropleth": [
           {
            "colorbar": {
             "outlinewidth": 0,
             "ticks": ""
            },
            "type": "choropleth"
           }
          ],
          "contour": [
           {
            "colorbar": {
             "outlinewidth": 0,
             "ticks": ""
            },
            "colorscale": [
             [
              0,
              "#0d0887"
             ],
             [
              0.1111111111111111,
              "#46039f"
             ],
             [
              0.2222222222222222,
              "#7201a8"
             ],
             [
              0.3333333333333333,
              "#9c179e"
             ],
             [
              0.4444444444444444,
              "#bd3786"
             ],
             [
              0.5555555555555556,
              "#d8576b"
             ],
             [
              0.6666666666666666,
              "#ed7953"
             ],
             [
              0.7777777777777778,
              "#fb9f3a"
             ],
             [
              0.8888888888888888,
              "#fdca26"
             ],
             [
              1,
              "#f0f921"
             ]
            ],
            "type": "contour"
           }
          ],
          "contourcarpet": [
           {
            "colorbar": {
             "outlinewidth": 0,
             "ticks": ""
            },
            "type": "contourcarpet"
           }
          ],
          "heatmap": [
           {
            "colorbar": {
             "outlinewidth": 0,
             "ticks": ""
            },
            "colorscale": [
             [
              0,
              "#0d0887"
             ],
             [
              0.1111111111111111,
              "#46039f"
             ],
             [
              0.2222222222222222,
              "#7201a8"
             ],
             [
              0.3333333333333333,
              "#9c179e"
             ],
             [
              0.4444444444444444,
              "#bd3786"
             ],
             [
              0.5555555555555556,
              "#d8576b"
             ],
             [
              0.6666666666666666,
              "#ed7953"
             ],
             [
              0.7777777777777778,
              "#fb9f3a"
             ],
             [
              0.8888888888888888,
              "#fdca26"
             ],
             [
              1,
              "#f0f921"
             ]
            ],
            "type": "heatmap"
           }
          ],
          "heatmapgl": [
           {
            "colorbar": {
             "outlinewidth": 0,
             "ticks": ""
            },
            "colorscale": [
             [
              0,
              "#0d0887"
             ],
             [
              0.1111111111111111,
              "#46039f"
             ],
             [
              0.2222222222222222,
              "#7201a8"
             ],
             [
              0.3333333333333333,
              "#9c179e"
             ],
             [
              0.4444444444444444,
              "#bd3786"
             ],
             [
              0.5555555555555556,
              "#d8576b"
             ],
             [
              0.6666666666666666,
              "#ed7953"
             ],
             [
              0.7777777777777778,
              "#fb9f3a"
             ],
             [
              0.8888888888888888,
              "#fdca26"
             ],
             [
              1,
              "#f0f921"
             ]
            ],
            "type": "heatmapgl"
           }
          ],
          "histogram": [
           {
            "marker": {
             "colorbar": {
              "outlinewidth": 0,
              "ticks": ""
             }
            },
            "type": "histogram"
           }
          ],
          "histogram2d": [
           {
            "colorbar": {
             "outlinewidth": 0,
             "ticks": ""
            },
            "colorscale": [
             [
              0,
              "#0d0887"
             ],
             [
              0.1111111111111111,
              "#46039f"
             ],
             [
              0.2222222222222222,
              "#7201a8"
             ],
             [
              0.3333333333333333,
              "#9c179e"
             ],
             [
              0.4444444444444444,
              "#bd3786"
             ],
             [
              0.5555555555555556,
              "#d8576b"
             ],
             [
              0.6666666666666666,
              "#ed7953"
             ],
             [
              0.7777777777777778,
              "#fb9f3a"
             ],
             [
              0.8888888888888888,
              "#fdca26"
             ],
             [
              1,
              "#f0f921"
             ]
            ],
            "type": "histogram2d"
           }
          ],
          "histogram2dcontour": [
           {
            "colorbar": {
             "outlinewidth": 0,
             "ticks": ""
            },
            "colorscale": [
             [
              0,
              "#0d0887"
             ],
             [
              0.1111111111111111,
              "#46039f"
             ],
             [
              0.2222222222222222,
              "#7201a8"
             ],
             [
              0.3333333333333333,
              "#9c179e"
             ],
             [
              0.4444444444444444,
              "#bd3786"
             ],
             [
              0.5555555555555556,
              "#d8576b"
             ],
             [
              0.6666666666666666,
              "#ed7953"
             ],
             [
              0.7777777777777778,
              "#fb9f3a"
             ],
             [
              0.8888888888888888,
              "#fdca26"
             ],
             [
              1,
              "#f0f921"
             ]
            ],
            "type": "histogram2dcontour"
           }
          ],
          "mesh3d": [
           {
            "colorbar": {
             "outlinewidth": 0,
             "ticks": ""
            },
            "type": "mesh3d"
           }
          ],
          "parcoords": [
           {
            "line": {
             "colorbar": {
              "outlinewidth": 0,
              "ticks": ""
             }
            },
            "type": "parcoords"
           }
          ],
          "pie": [
           {
            "automargin": true,
            "type": "pie"
           }
          ],
          "scatter": [
           {
            "marker": {
             "colorbar": {
              "outlinewidth": 0,
              "ticks": ""
             }
            },
            "type": "scatter"
           }
          ],
          "scatter3d": [
           {
            "line": {
             "colorbar": {
              "outlinewidth": 0,
              "ticks": ""
             }
            },
            "marker": {
             "colorbar": {
              "outlinewidth": 0,
              "ticks": ""
             }
            },
            "type": "scatter3d"
           }
          ],
          "scattercarpet": [
           {
            "marker": {
             "colorbar": {
              "outlinewidth": 0,
              "ticks": ""
             }
            },
            "type": "scattercarpet"
           }
          ],
          "scattergeo": [
           {
            "marker": {
             "colorbar": {
              "outlinewidth": 0,
              "ticks": ""
             }
            },
            "type": "scattergeo"
           }
          ],
          "scattergl": [
           {
            "marker": {
             "colorbar": {
              "outlinewidth": 0,
              "ticks": ""
             }
            },
            "type": "scattergl"
           }
          ],
          "scattermapbox": [
           {
            "marker": {
             "colorbar": {
              "outlinewidth": 0,
              "ticks": ""
             }
            },
            "type": "scattermapbox"
           }
          ],
          "scatterpolar": [
           {
            "marker": {
             "colorbar": {
              "outlinewidth": 0,
              "ticks": ""
             }
            },
            "type": "scatterpolar"
           }
          ],
          "scatterpolargl": [
           {
            "marker": {
             "colorbar": {
              "outlinewidth": 0,
              "ticks": ""
             }
            },
            "type": "scatterpolargl"
           }
          ],
          "scatterternary": [
           {
            "marker": {
             "colorbar": {
              "outlinewidth": 0,
              "ticks": ""
             }
            },
            "type": "scatterternary"
           }
          ],
          "surface": [
           {
            "colorbar": {
             "outlinewidth": 0,
             "ticks": ""
            },
            "colorscale": [
             [
              0,
              "#0d0887"
             ],
             [
              0.1111111111111111,
              "#46039f"
             ],
             [
              0.2222222222222222,
              "#7201a8"
             ],
             [
              0.3333333333333333,
              "#9c179e"
             ],
             [
              0.4444444444444444,
              "#bd3786"
             ],
             [
              0.5555555555555556,
              "#d8576b"
             ],
             [
              0.6666666666666666,
              "#ed7953"
             ],
             [
              0.7777777777777778,
              "#fb9f3a"
             ],
             [
              0.8888888888888888,
              "#fdca26"
             ],
             [
              1,
              "#f0f921"
             ]
            ],
            "type": "surface"
           }
          ],
          "table": [
           {
            "cells": {
             "fill": {
              "color": "#EBF0F8"
             },
             "line": {
              "color": "white"
             }
            },
            "header": {
             "fill": {
              "color": "#C8D4E3"
             },
             "line": {
              "color": "white"
             }
            },
            "type": "table"
           }
          ]
         },
         "layout": {
          "annotationdefaults": {
           "arrowcolor": "#2a3f5f",
           "arrowhead": 0,
           "arrowwidth": 1
          },
          "coloraxis": {
           "colorbar": {
            "outlinewidth": 0,
            "ticks": ""
           }
          },
          "colorscale": {
           "diverging": [
            [
             0,
             "#8e0152"
            ],
            [
             0.1,
             "#c51b7d"
            ],
            [
             0.2,
             "#de77ae"
            ],
            [
             0.3,
             "#f1b6da"
            ],
            [
             0.4,
             "#fde0ef"
            ],
            [
             0.5,
             "#f7f7f7"
            ],
            [
             0.6,
             "#e6f5d0"
            ],
            [
             0.7,
             "#b8e186"
            ],
            [
             0.8,
             "#7fbc41"
            ],
            [
             0.9,
             "#4d9221"
            ],
            [
             1,
             "#276419"
            ]
           ],
           "sequential": [
            [
             0,
             "#0d0887"
            ],
            [
             0.1111111111111111,
             "#46039f"
            ],
            [
             0.2222222222222222,
             "#7201a8"
            ],
            [
             0.3333333333333333,
             "#9c179e"
            ],
            [
             0.4444444444444444,
             "#bd3786"
            ],
            [
             0.5555555555555556,
             "#d8576b"
            ],
            [
             0.6666666666666666,
             "#ed7953"
            ],
            [
             0.7777777777777778,
             "#fb9f3a"
            ],
            [
             0.8888888888888888,
             "#fdca26"
            ],
            [
             1,
             "#f0f921"
            ]
           ],
           "sequentialminus": [
            [
             0,
             "#0d0887"
            ],
            [
             0.1111111111111111,
             "#46039f"
            ],
            [
             0.2222222222222222,
             "#7201a8"
            ],
            [
             0.3333333333333333,
             "#9c179e"
            ],
            [
             0.4444444444444444,
             "#bd3786"
            ],
            [
             0.5555555555555556,
             "#d8576b"
            ],
            [
             0.6666666666666666,
             "#ed7953"
            ],
            [
             0.7777777777777778,
             "#fb9f3a"
            ],
            [
             0.8888888888888888,
             "#fdca26"
            ],
            [
             1,
             "#f0f921"
            ]
           ]
          },
          "colorway": [
           "#636efa",
           "#EF553B",
           "#00cc96",
           "#ab63fa",
           "#FFA15A",
           "#19d3f3",
           "#FF6692",
           "#B6E880",
           "#FF97FF",
           "#FECB52"
          ],
          "font": {
           "color": "#2a3f5f"
          },
          "geo": {
           "bgcolor": "white",
           "lakecolor": "white",
           "landcolor": "white",
           "showlakes": true,
           "showland": true,
           "subunitcolor": "#C8D4E3"
          },
          "hoverlabel": {
           "align": "left"
          },
          "hovermode": "closest",
          "mapbox": {
           "style": "light"
          },
          "paper_bgcolor": "white",
          "plot_bgcolor": "white",
          "polar": {
           "angularaxis": {
            "gridcolor": "#EBF0F8",
            "linecolor": "#EBF0F8",
            "ticks": ""
           },
           "bgcolor": "white",
           "radialaxis": {
            "gridcolor": "#EBF0F8",
            "linecolor": "#EBF0F8",
            "ticks": ""
           }
          },
          "scene": {
           "xaxis": {
            "backgroundcolor": "white",
            "gridcolor": "#DFE8F3",
            "gridwidth": 2,
            "linecolor": "#EBF0F8",
            "showbackground": true,
            "ticks": "",
            "zerolinecolor": "#EBF0F8"
           },
           "yaxis": {
            "backgroundcolor": "white",
            "gridcolor": "#DFE8F3",
            "gridwidth": 2,
            "linecolor": "#EBF0F8",
            "showbackground": true,
            "ticks": "",
            "zerolinecolor": "#EBF0F8"
           },
           "zaxis": {
            "backgroundcolor": "white",
            "gridcolor": "#DFE8F3",
            "gridwidth": 2,
            "linecolor": "#EBF0F8",
            "showbackground": true,
            "ticks": "",
            "zerolinecolor": "#EBF0F8"
           }
          },
          "shapedefaults": {
           "line": {
            "color": "#2a3f5f"
           }
          },
          "ternary": {
           "aaxis": {
            "gridcolor": "#DFE8F3",
            "linecolor": "#A2B1C6",
            "ticks": ""
           },
           "baxis": {
            "gridcolor": "#DFE8F3",
            "linecolor": "#A2B1C6",
            "ticks": ""
           },
           "bgcolor": "white",
           "caxis": {
            "gridcolor": "#DFE8F3",
            "linecolor": "#A2B1C6",
            "ticks": ""
           }
          },
          "title": {
           "x": 0.05
          },
          "xaxis": {
           "automargin": true,
           "gridcolor": "#EBF0F8",
           "linecolor": "#EBF0F8",
           "ticks": "",
           "title": {
            "standoff": 15
           },
           "zerolinecolor": "#EBF0F8",
           "zerolinewidth": 2
          },
          "yaxis": {
           "automargin": true,
           "gridcolor": "#EBF0F8",
           "linecolor": "#EBF0F8",
           "ticks": "",
           "title": {
            "standoff": 15
           },
           "zerolinecolor": "#EBF0F8",
           "zerolinewidth": 2
          }
         }
        },
        "title": {
         "text": "Number of page interactions"
        }
       }
      }
     },
     "metadata": {}
    }
   ],
   "source": [
    "# Count of the interactions with the different pages\n",
    "free_count_of_pages = np.array(data_cleaned[data_cleaned['level'] == 'free'].groupBy('page').count().orderBy('count', ascending=False).collect())\n",
    "paid_count_of_pages = np.array(data_cleaned[data_cleaned['level'] == 'paid'].groupBy('page').count().orderBy('count', ascending=False).collect())\n",
    "fig = go.Figure()\n",
    "fig.add_trace(go.Bar(x=free_count_of_pages[:,1].astype(float), y=free_count_of_pages[:,0], orientation='h', name='free'))\n",
    "fig.add_trace(go.Bar(x=paid_count_of_pages[:,1].astype(float), y=paid_count_of_pages[:,0], orientation='h', name='paid'))\n",
    "fig.update_xaxes(title_text='Number of interactions')\n",
    "fig.update_layout(title_text=\"Number of page interactions\",\n",
    "                  height=600,\n",
    "                  template='plotly_white')\n",
    "fig.show()"
   ]
  },
  {
   "cell_type": "markdown",
   "metadata": {},
   "source": [
    "So compared to the total interactions the interactions with the \"Cancellation Confirmation\" page is maginal. It is therefore more reasonable to investigate the interactions per unique user id"
   ]
  },
  {
   "cell_type": "code",
   "execution_count": 27,
   "metadata": {},
   "outputs": [
    {
     "output_type": "display_data",
     "data": {
      "application/vnd.plotly.v1+json": {
       "config": {
        "plotlyServerURL": "https://plot.ly"
       },
       "data": [
        {
         "name": "unique free users",
         "orientation": "h",
         "type": "bar",
         "x": [
          21,
          135,
          188,
          185,
          162,
          59,
          21,
          63,
          119,
          168,
          148,
          195,
          179,
          125,
          168,
          41,
          131
         ],
         "y": [
          "Cancel",
          "Thumbs Down",
          "Home",
          "Roll Advert",
          "Logout",
          "Save Settings",
          "Cancellation Confirmation",
          "About",
          "Settings",
          "Add to Playlist",
          "Add Friend",
          "NextSong",
          "Thumbs Up",
          "Help",
          "Upgrade",
          "Error",
          "Submit Upgrade"
         ]
        },
        {
         "name": "unqiue paid users",
         "orientation": "h",
         "type": "bar",
         "x": [
          31,
          49,
          157,
          165,
          154,
          99,
          160,
          96,
          31,
          127,
          148,
          163,
          155,
          164,
          163,
          149,
          95
         ],
         "y": [
          "Cancel",
          "Submit Downgrade",
          "Thumbs Down",
          "Home",
          "Downgrade",
          "Roll Advert",
          "Logout",
          "Save Settings",
          "Cancellation Confirmation",
          "About",
          "Settings",
          "Add to Playlist",
          "Add Friend",
          "NextSong",
          "Thumbs Up",
          "Help",
          "Error"
         ]
        }
       ],
       "layout": {
        "height": 600,
        "template": {
         "data": {
          "bar": [
           {
            "error_x": {
             "color": "#2a3f5f"
            },
            "error_y": {
             "color": "#2a3f5f"
            },
            "marker": {
             "line": {
              "color": "white",
              "width": 0.5
             }
            },
            "type": "bar"
           }
          ],
          "barpolar": [
           {
            "marker": {
             "line": {
              "color": "white",
              "width": 0.5
             }
            },
            "type": "barpolar"
           }
          ],
          "carpet": [
           {
            "aaxis": {
             "endlinecolor": "#2a3f5f",
             "gridcolor": "#C8D4E3",
             "linecolor": "#C8D4E3",
             "minorgridcolor": "#C8D4E3",
             "startlinecolor": "#2a3f5f"
            },
            "baxis": {
             "endlinecolor": "#2a3f5f",
             "gridcolor": "#C8D4E3",
             "linecolor": "#C8D4E3",
             "minorgridcolor": "#C8D4E3",
             "startlinecolor": "#2a3f5f"
            },
            "type": "carpet"
           }
          ],
          "choropleth": [
           {
            "colorbar": {
             "outlinewidth": 0,
             "ticks": ""
            },
            "type": "choropleth"
           }
          ],
          "contour": [
           {
            "colorbar": {
             "outlinewidth": 0,
             "ticks": ""
            },
            "colorscale": [
             [
              0,
              "#0d0887"
             ],
             [
              0.1111111111111111,
              "#46039f"
             ],
             [
              0.2222222222222222,
              "#7201a8"
             ],
             [
              0.3333333333333333,
              "#9c179e"
             ],
             [
              0.4444444444444444,
              "#bd3786"
             ],
             [
              0.5555555555555556,
              "#d8576b"
             ],
             [
              0.6666666666666666,
              "#ed7953"
             ],
             [
              0.7777777777777778,
              "#fb9f3a"
             ],
             [
              0.8888888888888888,
              "#fdca26"
             ],
             [
              1,
              "#f0f921"
             ]
            ],
            "type": "contour"
           }
          ],
          "contourcarpet": [
           {
            "colorbar": {
             "outlinewidth": 0,
             "ticks": ""
            },
            "type": "contourcarpet"
           }
          ],
          "heatmap": [
           {
            "colorbar": {
             "outlinewidth": 0,
             "ticks": ""
            },
            "colorscale": [
             [
              0,
              "#0d0887"
             ],
             [
              0.1111111111111111,
              "#46039f"
             ],
             [
              0.2222222222222222,
              "#7201a8"
             ],
             [
              0.3333333333333333,
              "#9c179e"
             ],
             [
              0.4444444444444444,
              "#bd3786"
             ],
             [
              0.5555555555555556,
              "#d8576b"
             ],
             [
              0.6666666666666666,
              "#ed7953"
             ],
             [
              0.7777777777777778,
              "#fb9f3a"
             ],
             [
              0.8888888888888888,
              "#fdca26"
             ],
             [
              1,
              "#f0f921"
             ]
            ],
            "type": "heatmap"
           }
          ],
          "heatmapgl": [
           {
            "colorbar": {
             "outlinewidth": 0,
             "ticks": ""
            },
            "colorscale": [
             [
              0,
              "#0d0887"
             ],
             [
              0.1111111111111111,
              "#46039f"
             ],
             [
              0.2222222222222222,
              "#7201a8"
             ],
             [
              0.3333333333333333,
              "#9c179e"
             ],
             [
              0.4444444444444444,
              "#bd3786"
             ],
             [
              0.5555555555555556,
              "#d8576b"
             ],
             [
              0.6666666666666666,
              "#ed7953"
             ],
             [
              0.7777777777777778,
              "#fb9f3a"
             ],
             [
              0.8888888888888888,
              "#fdca26"
             ],
             [
              1,
              "#f0f921"
             ]
            ],
            "type": "heatmapgl"
           }
          ],
          "histogram": [
           {
            "marker": {
             "colorbar": {
              "outlinewidth": 0,
              "ticks": ""
             }
            },
            "type": "histogram"
           }
          ],
          "histogram2d": [
           {
            "colorbar": {
             "outlinewidth": 0,
             "ticks": ""
            },
            "colorscale": [
             [
              0,
              "#0d0887"
             ],
             [
              0.1111111111111111,
              "#46039f"
             ],
             [
              0.2222222222222222,
              "#7201a8"
             ],
             [
              0.3333333333333333,
              "#9c179e"
             ],
             [
              0.4444444444444444,
              "#bd3786"
             ],
             [
              0.5555555555555556,
              "#d8576b"
             ],
             [
              0.6666666666666666,
              "#ed7953"
             ],
             [
              0.7777777777777778,
              "#fb9f3a"
             ],
             [
              0.8888888888888888,
              "#fdca26"
             ],
             [
              1,
              "#f0f921"
             ]
            ],
            "type": "histogram2d"
           }
          ],
          "histogram2dcontour": [
           {
            "colorbar": {
             "outlinewidth": 0,
             "ticks": ""
            },
            "colorscale": [
             [
              0,
              "#0d0887"
             ],
             [
              0.1111111111111111,
              "#46039f"
             ],
             [
              0.2222222222222222,
              "#7201a8"
             ],
             [
              0.3333333333333333,
              "#9c179e"
             ],
             [
              0.4444444444444444,
              "#bd3786"
             ],
             [
              0.5555555555555556,
              "#d8576b"
             ],
             [
              0.6666666666666666,
              "#ed7953"
             ],
             [
              0.7777777777777778,
              "#fb9f3a"
             ],
             [
              0.8888888888888888,
              "#fdca26"
             ],
             [
              1,
              "#f0f921"
             ]
            ],
            "type": "histogram2dcontour"
           }
          ],
          "mesh3d": [
           {
            "colorbar": {
             "outlinewidth": 0,
             "ticks": ""
            },
            "type": "mesh3d"
           }
          ],
          "parcoords": [
           {
            "line": {
             "colorbar": {
              "outlinewidth": 0,
              "ticks": ""
             }
            },
            "type": "parcoords"
           }
          ],
          "pie": [
           {
            "automargin": true,
            "type": "pie"
           }
          ],
          "scatter": [
           {
            "marker": {
             "colorbar": {
              "outlinewidth": 0,
              "ticks": ""
             }
            },
            "type": "scatter"
           }
          ],
          "scatter3d": [
           {
            "line": {
             "colorbar": {
              "outlinewidth": 0,
              "ticks": ""
             }
            },
            "marker": {
             "colorbar": {
              "outlinewidth": 0,
              "ticks": ""
             }
            },
            "type": "scatter3d"
           }
          ],
          "scattercarpet": [
           {
            "marker": {
             "colorbar": {
              "outlinewidth": 0,
              "ticks": ""
             }
            },
            "type": "scattercarpet"
           }
          ],
          "scattergeo": [
           {
            "marker": {
             "colorbar": {
              "outlinewidth": 0,
              "ticks": ""
             }
            },
            "type": "scattergeo"
           }
          ],
          "scattergl": [
           {
            "marker": {
             "colorbar": {
              "outlinewidth": 0,
              "ticks": ""
             }
            },
            "type": "scattergl"
           }
          ],
          "scattermapbox": [
           {
            "marker": {
             "colorbar": {
              "outlinewidth": 0,
              "ticks": ""
             }
            },
            "type": "scattermapbox"
           }
          ],
          "scatterpolar": [
           {
            "marker": {
             "colorbar": {
              "outlinewidth": 0,
              "ticks": ""
             }
            },
            "type": "scatterpolar"
           }
          ],
          "scatterpolargl": [
           {
            "marker": {
             "colorbar": {
              "outlinewidth": 0,
              "ticks": ""
             }
            },
            "type": "scatterpolargl"
           }
          ],
          "scatterternary": [
           {
            "marker": {
             "colorbar": {
              "outlinewidth": 0,
              "ticks": ""
             }
            },
            "type": "scatterternary"
           }
          ],
          "surface": [
           {
            "colorbar": {
             "outlinewidth": 0,
             "ticks": ""
            },
            "colorscale": [
             [
              0,
              "#0d0887"
             ],
             [
              0.1111111111111111,
              "#46039f"
             ],
             [
              0.2222222222222222,
              "#7201a8"
             ],
             [
              0.3333333333333333,
              "#9c179e"
             ],
             [
              0.4444444444444444,
              "#bd3786"
             ],
             [
              0.5555555555555556,
              "#d8576b"
             ],
             [
              0.6666666666666666,
              "#ed7953"
             ],
             [
              0.7777777777777778,
              "#fb9f3a"
             ],
             [
              0.8888888888888888,
              "#fdca26"
             ],
             [
              1,
              "#f0f921"
             ]
            ],
            "type": "surface"
           }
          ],
          "table": [
           {
            "cells": {
             "fill": {
              "color": "#EBF0F8"
             },
             "line": {
              "color": "white"
             }
            },
            "header": {
             "fill": {
              "color": "#C8D4E3"
             },
             "line": {
              "color": "white"
             }
            },
            "type": "table"
           }
          ]
         },
         "layout": {
          "annotationdefaults": {
           "arrowcolor": "#2a3f5f",
           "arrowhead": 0,
           "arrowwidth": 1
          },
          "coloraxis": {
           "colorbar": {
            "outlinewidth": 0,
            "ticks": ""
           }
          },
          "colorscale": {
           "diverging": [
            [
             0,
             "#8e0152"
            ],
            [
             0.1,
             "#c51b7d"
            ],
            [
             0.2,
             "#de77ae"
            ],
            [
             0.3,
             "#f1b6da"
            ],
            [
             0.4,
             "#fde0ef"
            ],
            [
             0.5,
             "#f7f7f7"
            ],
            [
             0.6,
             "#e6f5d0"
            ],
            [
             0.7,
             "#b8e186"
            ],
            [
             0.8,
             "#7fbc41"
            ],
            [
             0.9,
             "#4d9221"
            ],
            [
             1,
             "#276419"
            ]
           ],
           "sequential": [
            [
             0,
             "#0d0887"
            ],
            [
             0.1111111111111111,
             "#46039f"
            ],
            [
             0.2222222222222222,
             "#7201a8"
            ],
            [
             0.3333333333333333,
             "#9c179e"
            ],
            [
             0.4444444444444444,
             "#bd3786"
            ],
            [
             0.5555555555555556,
             "#d8576b"
            ],
            [
             0.6666666666666666,
             "#ed7953"
            ],
            [
             0.7777777777777778,
             "#fb9f3a"
            ],
            [
             0.8888888888888888,
             "#fdca26"
            ],
            [
             1,
             "#f0f921"
            ]
           ],
           "sequentialminus": [
            [
             0,
             "#0d0887"
            ],
            [
             0.1111111111111111,
             "#46039f"
            ],
            [
             0.2222222222222222,
             "#7201a8"
            ],
            [
             0.3333333333333333,
             "#9c179e"
            ],
            [
             0.4444444444444444,
             "#bd3786"
            ],
            [
             0.5555555555555556,
             "#d8576b"
            ],
            [
             0.6666666666666666,
             "#ed7953"
            ],
            [
             0.7777777777777778,
             "#fb9f3a"
            ],
            [
             0.8888888888888888,
             "#fdca26"
            ],
            [
             1,
             "#f0f921"
            ]
           ]
          },
          "colorway": [
           "#636efa",
           "#EF553B",
           "#00cc96",
           "#ab63fa",
           "#FFA15A",
           "#19d3f3",
           "#FF6692",
           "#B6E880",
           "#FF97FF",
           "#FECB52"
          ],
          "font": {
           "color": "#2a3f5f"
          },
          "geo": {
           "bgcolor": "white",
           "lakecolor": "white",
           "landcolor": "white",
           "showlakes": true,
           "showland": true,
           "subunitcolor": "#C8D4E3"
          },
          "hoverlabel": {
           "align": "left"
          },
          "hovermode": "closest",
          "mapbox": {
           "style": "light"
          },
          "paper_bgcolor": "white",
          "plot_bgcolor": "white",
          "polar": {
           "angularaxis": {
            "gridcolor": "#EBF0F8",
            "linecolor": "#EBF0F8",
            "ticks": ""
           },
           "bgcolor": "white",
           "radialaxis": {
            "gridcolor": "#EBF0F8",
            "linecolor": "#EBF0F8",
            "ticks": ""
           }
          },
          "scene": {
           "xaxis": {
            "backgroundcolor": "white",
            "gridcolor": "#DFE8F3",
            "gridwidth": 2,
            "linecolor": "#EBF0F8",
            "showbackground": true,
            "ticks": "",
            "zerolinecolor": "#EBF0F8"
           },
           "yaxis": {
            "backgroundcolor": "white",
            "gridcolor": "#DFE8F3",
            "gridwidth": 2,
            "linecolor": "#EBF0F8",
            "showbackground": true,
            "ticks": "",
            "zerolinecolor": "#EBF0F8"
           },
           "zaxis": {
            "backgroundcolor": "white",
            "gridcolor": "#DFE8F3",
            "gridwidth": 2,
            "linecolor": "#EBF0F8",
            "showbackground": true,
            "ticks": "",
            "zerolinecolor": "#EBF0F8"
           }
          },
          "shapedefaults": {
           "line": {
            "color": "#2a3f5f"
           }
          },
          "ternary": {
           "aaxis": {
            "gridcolor": "#DFE8F3",
            "linecolor": "#A2B1C6",
            "ticks": ""
           },
           "baxis": {
            "gridcolor": "#DFE8F3",
            "linecolor": "#A2B1C6",
            "ticks": ""
           },
           "bgcolor": "white",
           "caxis": {
            "gridcolor": "#DFE8F3",
            "linecolor": "#A2B1C6",
            "ticks": ""
           }
          },
          "title": {
           "x": 0.05
          },
          "xaxis": {
           "automargin": true,
           "gridcolor": "#EBF0F8",
           "linecolor": "#EBF0F8",
           "ticks": "",
           "title": {
            "standoff": 15
           },
           "zerolinecolor": "#EBF0F8",
           "zerolinewidth": 2
          },
          "yaxis": {
           "automargin": true,
           "gridcolor": "#EBF0F8",
           "linecolor": "#EBF0F8",
           "ticks": "",
           "title": {
            "standoff": 15
           },
           "zerolinecolor": "#EBF0F8",
           "zerolinewidth": 2
          }
         }
        },
        "title": {
         "text": "Number of page interactions for unqiue users"
        }
       }
      }
     },
     "metadata": {}
    }
   ],
   "source": [
    "# Count of the interactions with the different pages for unique users per page\n",
    "import pyspark.sql.functions as func\n",
    "free_count_of_pages = np.array(data_cleaned[data_cleaned['level'] == 'free'].groupby('page').agg(func.countDistinct('userID')).collect())\n",
    "paid_count_of_pages = np.array(data_cleaned[data_cleaned['level'] == 'paid'].groupby('page').agg(func.countDistinct('userID')).collect())\n",
    "\n",
    "\n",
    "fig = go.Figure()\n",
    "fig.add_trace(go.Bar(x=free_count_of_pages[:,1].astype(float), y=free_count_of_pages[:,0], orientation='h', name='unique free users'))\n",
    "fig.add_trace(go.Bar(x=paid_count_of_pages[:,1].astype(float), y=paid_count_of_pages[:,0], orientation='h', name='unqiue paid users'))\n",
    "fig.update_xaxes(title_text='Number of unique users')\n",
    "fig.update_layout(title_text=\"Number of page interactions for unqiue users\",\n",
    "                  height=600,\n",
    "                  template='plotly_white')\n",
    "fig.show()\n"
   ]
  },
  {
   "cell_type": "markdown",
   "metadata": {},
   "source": [
    "This representation is more meaningfull we see:\n",
    "- Both free and paying users interacted withe the \"Cancellation Confirmation\" page\n",
    "- Overall 52 users of the 225 unqiue users canceled the subscription"
   ]
  },
  {
   "cell_type": "markdown",
   "metadata": {},
   "source": [
    "# Exploratory Data Analysis\n",
    "When you're working with the full dataset, perform EDA by loading a small subset of the data and doing basic manipulations within Spark. In this workspace, you are already provided a small subset of data you can explore.\n",
    "\n",
    "### Define Churn\n",
    "\n",
    "Once you've done some preliminary analysis, create a column `Churn` to use as the label for your model. I suggest using the `Cancellation Confirmation` events to define your churn, which happen for both paid and free users. As a bonus task, you can also look into the `Downgrade` events.\n",
    "\n",
    "### Explore Data\n",
    "Once you've defined churn, perform some exploratory data analysis to observe the behavior for users who stayed vs users who churned. You can start by exploring aggregates on these two groups of users, observing how much of a specific action they experienced per a certain time unit or number of songs played."
   ]
  },
  {
   "cell_type": "markdown",
   "metadata": {},
   "source": [
    "### Let's investigate some factors that might influence the cancellation. We are going to focus on:\n",
    "- The attributes of the user e.g. gender\n",
    "- The way the user interacts with the platform (which pages are visted, how much time is spend, time since registration...)\n",
    "- If the interaction behavior changes\n",
    "- If the user likes the content (Ratio of Thumbs Up to Thumps Down)\n",
    "- If the user networks with the platform (adding friends)\n",
    "- If errors of the plaform have an influence"
   ]
  },
  {
   "cell_type": "code",
   "execution_count": 33,
   "metadata": {},
   "outputs": [
    {
     "output_type": "display_data",
     "data": {
      "application/vnd.plotly.v1+json": {
       "config": {
        "plotlyServerURL": "https://plot.ly"
       },
       "data": [
        {
         "name": "cancelling users",
         "type": "box",
         "y": [
          71.31688657407408,
          19.455844907407407,
          110.75168981481481,
          85.08340277777778,
          53.965937499999995,
          64.73886574074074,
          60.104050925925925,
          49.76208333333333,
          59.125856481481485,
          80.89527777777778,
          44.314432870370375,
          47.92025462962963,
          88.81461805555556,
          11.553703703703704,
          9.127164351851851,
          38.43199074074074,
          145.73800925925926,
          85.19559027777778,
          13.099016203703703,
          115.38761574074074,
          188.31178240740743,
          37.43827546296296,
          67.87921296296297,
          28.42769675925926,
          22.748113425925926,
          42.13234953703704,
          27.221655092592595,
          53.01773148148148,
          52.816701388888895,
          60.986805555555556,
          26.22980324074074,
          5.165115740740741,
          31.19925925925926,
          43.05261574074074,
          48.56862268518518,
          55.769826388888895,
          75.99219907407407,
          40.357511574074074,
          61.73311342592592,
          21.590891203703706,
          15.909027777777778,
          29.607175925925926,
          109.27394675925926,
          32.362118055555555,
          44.17873842592593,
          78.88440972222223,
          131.43560185185186,
          73.00452546296296,
          87.6291550925926,
          16.74056712962963,
          70.66457175925926,
          44.80021990740741
         ]
        },
        {
         "name": "non cancelling users",
         "type": "box",
         "y": [
          55.6436574074074,
          70.07462962962963,
          131.55591435185184,
          72.77818287037037,
          56.513576388888886,
          23.556018518518517,
          66.8891087962963,
          23.872037037037035,
          124.47825231481481,
          66.62668981481481,
          74.35851851851852,
          71.42444444444445,
          67.11364583333334,
          87.46262731481481,
          49.152442129629634,
          38.142488425925926,
          63.066643518518525,
          123.53140046296296,
          71.14295138888889,
          39.88013888888889,
          64.60553240740741,
          86.40864583333332,
          87.42347222222223,
          114.99788194444444,
          61.48951388888889,
          92.85342592592593,
          150.0044675925926,
          109.60453703703705,
          102.24886574074075,
          75.46339120370371,
          80.40359953703704,
          90.50671296296296,
          52.76118055555556,
          63.40961805555556,
          89.70524305555556,
          133.00108796296297,
          131.6851736111111,
          68.22856481481482,
          68.3830787037037,
          74.21925925925926,
          89.53488425925927,
          124.38989583333334,
          73.93668981481481,
          65.93375,
          48.39195601851852,
          64.87377314814815,
          102.59481481481481,
          72.211875,
          68.92494212962963,
          120.89991898148149,
          62.09569444444444,
          80.60512731481482,
          77.53899305555555,
          128.10019675925926,
          53.39774305555556,
          63.27107638888889,
          89.37314814814816,
          68.9053587962963,
          60.588310185185186,
          171.48203703703703,
          65.07229166666666,
          69.41987268518518,
          75.35636574074074,
          256.3776736111111,
          63.12707175925926,
          84.62292824074073,
          128.14015046296296,
          61.17638888888889,
          101.98753472222222,
          125.58270833333334,
          100.0112962962963,
          71.48456018518519,
          172.44008101851853,
          152.8420601851852,
          21.451435185185186,
          150.45563657407408,
          38.90083333333333,
          110.77247685185186,
          95.33168981481481,
          135.89708333333334,
          64.68184027777778,
          71.66560185185186,
          115.18381944444445,
          82.22630787037038,
          75.01533564814815,
          62.26634259259259,
          71.03246527777777,
          78.96927083333334,
          75.06532407407407,
          113.13180555555556,
          82.50391203703704,
          58.839490740740736,
          72.08957175925926,
          37.099016203703705,
          0.31372685185185184,
          98.94381944444444,
          74.43959490740741,
          74.40032407407408,
          67.18055555555556,
          83.52885416666668,
          72.10061342592593,
          62.23815972222223,
          74.17873842592593,
          135.0992476851852,
          100.3783912037037,
          98.71303240740741,
          162.89256944444443,
          71.39887731481481,
          123.96466435185185,
          116.99548611111112,
          99.22612268518519,
          27.365162037037038,
          75.39690972222222,
          70.12188657407408,
          87.39342592592594,
          138.89282407407407,
          52.468148148148146,
          76.06190972222223,
          76.6900462962963,
          60.832430555555554,
          76.95898148148147,
          93.96927083333333,
          31.03962962962963,
          76.18290509259259,
          65.16515046296296,
          46.17971064814815,
          77.02128472222222,
          73.64201388888888,
          63.489328703703706,
          67.95305555555555,
          75.88082175925926,
          108.19745370370372,
          101.2241087962963,
          51.76265046296297,
          94.56951388888889,
          102.7619212962963,
          107.24446759259258,
          69.41837962962963,
          65.45400462962964,
          157.05546296296296,
          39.33960648148148,
          48.58732638888889,
          71.10780092592593,
          62.79774305555555,
          168.92145833333333,
          65.71107638888888,
          134.06662037037037,
          124.14094907407407,
          87.99846064814814,
          100.19100694444444,
          88.70363425925926,
          119.45459490740741,
          56.230057870370366,
          132.54185185185185,
          68.76866898148148,
          125.62591435185186,
          132.30824074074073,
          116.02526620370371,
          71.22346064814815,
          123.35806712962962,
          124.55060185185185,
          100.83010416666667,
          42.57099537037037,
          56.86383101851852,
          69.90317129629629,
          58.53869212962963,
          110.71211805555555,
          160.47207175925925,
          75.44710648148148,
          102.31814814814815,
          81.08318287037038,
          87.79336805555556,
          188.85927083333334
         ]
        }
       ],
       "layout": {
        "template": {
         "data": {
          "bar": [
           {
            "error_x": {
             "color": "#2a3f5f"
            },
            "error_y": {
             "color": "#2a3f5f"
            },
            "marker": {
             "line": {
              "color": "white",
              "width": 0.5
             }
            },
            "type": "bar"
           }
          ],
          "barpolar": [
           {
            "marker": {
             "line": {
              "color": "white",
              "width": 0.5
             }
            },
            "type": "barpolar"
           }
          ],
          "carpet": [
           {
            "aaxis": {
             "endlinecolor": "#2a3f5f",
             "gridcolor": "#C8D4E3",
             "linecolor": "#C8D4E3",
             "minorgridcolor": "#C8D4E3",
             "startlinecolor": "#2a3f5f"
            },
            "baxis": {
             "endlinecolor": "#2a3f5f",
             "gridcolor": "#C8D4E3",
             "linecolor": "#C8D4E3",
             "minorgridcolor": "#C8D4E3",
             "startlinecolor": "#2a3f5f"
            },
            "type": "carpet"
           }
          ],
          "choropleth": [
           {
            "colorbar": {
             "outlinewidth": 0,
             "ticks": ""
            },
            "type": "choropleth"
           }
          ],
          "contour": [
           {
            "colorbar": {
             "outlinewidth": 0,
             "ticks": ""
            },
            "colorscale": [
             [
              0,
              "#0d0887"
             ],
             [
              0.1111111111111111,
              "#46039f"
             ],
             [
              0.2222222222222222,
              "#7201a8"
             ],
             [
              0.3333333333333333,
              "#9c179e"
             ],
             [
              0.4444444444444444,
              "#bd3786"
             ],
             [
              0.5555555555555556,
              "#d8576b"
             ],
             [
              0.6666666666666666,
              "#ed7953"
             ],
             [
              0.7777777777777778,
              "#fb9f3a"
             ],
             [
              0.8888888888888888,
              "#fdca26"
             ],
             [
              1,
              "#f0f921"
             ]
            ],
            "type": "contour"
           }
          ],
          "contourcarpet": [
           {
            "colorbar": {
             "outlinewidth": 0,
             "ticks": ""
            },
            "type": "contourcarpet"
           }
          ],
          "heatmap": [
           {
            "colorbar": {
             "outlinewidth": 0,
             "ticks": ""
            },
            "colorscale": [
             [
              0,
              "#0d0887"
             ],
             [
              0.1111111111111111,
              "#46039f"
             ],
             [
              0.2222222222222222,
              "#7201a8"
             ],
             [
              0.3333333333333333,
              "#9c179e"
             ],
             [
              0.4444444444444444,
              "#bd3786"
             ],
             [
              0.5555555555555556,
              "#d8576b"
             ],
             [
              0.6666666666666666,
              "#ed7953"
             ],
             [
              0.7777777777777778,
              "#fb9f3a"
             ],
             [
              0.8888888888888888,
              "#fdca26"
             ],
             [
              1,
              "#f0f921"
             ]
            ],
            "type": "heatmap"
           }
          ],
          "heatmapgl": [
           {
            "colorbar": {
             "outlinewidth": 0,
             "ticks": ""
            },
            "colorscale": [
             [
              0,
              "#0d0887"
             ],
             [
              0.1111111111111111,
              "#46039f"
             ],
             [
              0.2222222222222222,
              "#7201a8"
             ],
             [
              0.3333333333333333,
              "#9c179e"
             ],
             [
              0.4444444444444444,
              "#bd3786"
             ],
             [
              0.5555555555555556,
              "#d8576b"
             ],
             [
              0.6666666666666666,
              "#ed7953"
             ],
             [
              0.7777777777777778,
              "#fb9f3a"
             ],
             [
              0.8888888888888888,
              "#fdca26"
             ],
             [
              1,
              "#f0f921"
             ]
            ],
            "type": "heatmapgl"
           }
          ],
          "histogram": [
           {
            "marker": {
             "colorbar": {
              "outlinewidth": 0,
              "ticks": ""
             }
            },
            "type": "histogram"
           }
          ],
          "histogram2d": [
           {
            "colorbar": {
             "outlinewidth": 0,
             "ticks": ""
            },
            "colorscale": [
             [
              0,
              "#0d0887"
             ],
             [
              0.1111111111111111,
              "#46039f"
             ],
             [
              0.2222222222222222,
              "#7201a8"
             ],
             [
              0.3333333333333333,
              "#9c179e"
             ],
             [
              0.4444444444444444,
              "#bd3786"
             ],
             [
              0.5555555555555556,
              "#d8576b"
             ],
             [
              0.6666666666666666,
              "#ed7953"
             ],
             [
              0.7777777777777778,
              "#fb9f3a"
             ],
             [
              0.8888888888888888,
              "#fdca26"
             ],
             [
              1,
              "#f0f921"
             ]
            ],
            "type": "histogram2d"
           }
          ],
          "histogram2dcontour": [
           {
            "colorbar": {
             "outlinewidth": 0,
             "ticks": ""
            },
            "colorscale": [
             [
              0,
              "#0d0887"
             ],
             [
              0.1111111111111111,
              "#46039f"
             ],
             [
              0.2222222222222222,
              "#7201a8"
             ],
             [
              0.3333333333333333,
              "#9c179e"
             ],
             [
              0.4444444444444444,
              "#bd3786"
             ],
             [
              0.5555555555555556,
              "#d8576b"
             ],
             [
              0.6666666666666666,
              "#ed7953"
             ],
             [
              0.7777777777777778,
              "#fb9f3a"
             ],
             [
              0.8888888888888888,
              "#fdca26"
             ],
             [
              1,
              "#f0f921"
             ]
            ],
            "type": "histogram2dcontour"
           }
          ],
          "mesh3d": [
           {
            "colorbar": {
             "outlinewidth": 0,
             "ticks": ""
            },
            "type": "mesh3d"
           }
          ],
          "parcoords": [
           {
            "line": {
             "colorbar": {
              "outlinewidth": 0,
              "ticks": ""
             }
            },
            "type": "parcoords"
           }
          ],
          "pie": [
           {
            "automargin": true,
            "type": "pie"
           }
          ],
          "scatter": [
           {
            "marker": {
             "colorbar": {
              "outlinewidth": 0,
              "ticks": ""
             }
            },
            "type": "scatter"
           }
          ],
          "scatter3d": [
           {
            "line": {
             "colorbar": {
              "outlinewidth": 0,
              "ticks": ""
             }
            },
            "marker": {
             "colorbar": {
              "outlinewidth": 0,
              "ticks": ""
             }
            },
            "type": "scatter3d"
           }
          ],
          "scattercarpet": [
           {
            "marker": {
             "colorbar": {
              "outlinewidth": 0,
              "ticks": ""
             }
            },
            "type": "scattercarpet"
           }
          ],
          "scattergeo": [
           {
            "marker": {
             "colorbar": {
              "outlinewidth": 0,
              "ticks": ""
             }
            },
            "type": "scattergeo"
           }
          ],
          "scattergl": [
           {
            "marker": {
             "colorbar": {
              "outlinewidth": 0,
              "ticks": ""
             }
            },
            "type": "scattergl"
           }
          ],
          "scattermapbox": [
           {
            "marker": {
             "colorbar": {
              "outlinewidth": 0,
              "ticks": ""
             }
            },
            "type": "scattermapbox"
           }
          ],
          "scatterpolar": [
           {
            "marker": {
             "colorbar": {
              "outlinewidth": 0,
              "ticks": ""
             }
            },
            "type": "scatterpolar"
           }
          ],
          "scatterpolargl": [
           {
            "marker": {
             "colorbar": {
              "outlinewidth": 0,
              "ticks": ""
             }
            },
            "type": "scatterpolargl"
           }
          ],
          "scatterternary": [
           {
            "marker": {
             "colorbar": {
              "outlinewidth": 0,
              "ticks": ""
             }
            },
            "type": "scatterternary"
           }
          ],
          "surface": [
           {
            "colorbar": {
             "outlinewidth": 0,
             "ticks": ""
            },
            "colorscale": [
             [
              0,
              "#0d0887"
             ],
             [
              0.1111111111111111,
              "#46039f"
             ],
             [
              0.2222222222222222,
              "#7201a8"
             ],
             [
              0.3333333333333333,
              "#9c179e"
             ],
             [
              0.4444444444444444,
              "#bd3786"
             ],
             [
              0.5555555555555556,
              "#d8576b"
             ],
             [
              0.6666666666666666,
              "#ed7953"
             ],
             [
              0.7777777777777778,
              "#fb9f3a"
             ],
             [
              0.8888888888888888,
              "#fdca26"
             ],
             [
              1,
              "#f0f921"
             ]
            ],
            "type": "surface"
           }
          ],
          "table": [
           {
            "cells": {
             "fill": {
              "color": "#EBF0F8"
             },
             "line": {
              "color": "white"
             }
            },
            "header": {
             "fill": {
              "color": "#C8D4E3"
             },
             "line": {
              "color": "white"
             }
            },
            "type": "table"
           }
          ]
         },
         "layout": {
          "annotationdefaults": {
           "arrowcolor": "#2a3f5f",
           "arrowhead": 0,
           "arrowwidth": 1
          },
          "coloraxis": {
           "colorbar": {
            "outlinewidth": 0,
            "ticks": ""
           }
          },
          "colorscale": {
           "diverging": [
            [
             0,
             "#8e0152"
            ],
            [
             0.1,
             "#c51b7d"
            ],
            [
             0.2,
             "#de77ae"
            ],
            [
             0.3,
             "#f1b6da"
            ],
            [
             0.4,
             "#fde0ef"
            ],
            [
             0.5,
             "#f7f7f7"
            ],
            [
             0.6,
             "#e6f5d0"
            ],
            [
             0.7,
             "#b8e186"
            ],
            [
             0.8,
             "#7fbc41"
            ],
            [
             0.9,
             "#4d9221"
            ],
            [
             1,
             "#276419"
            ]
           ],
           "sequential": [
            [
             0,
             "#0d0887"
            ],
            [
             0.1111111111111111,
             "#46039f"
            ],
            [
             0.2222222222222222,
             "#7201a8"
            ],
            [
             0.3333333333333333,
             "#9c179e"
            ],
            [
             0.4444444444444444,
             "#bd3786"
            ],
            [
             0.5555555555555556,
             "#d8576b"
            ],
            [
             0.6666666666666666,
             "#ed7953"
            ],
            [
             0.7777777777777778,
             "#fb9f3a"
            ],
            [
             0.8888888888888888,
             "#fdca26"
            ],
            [
             1,
             "#f0f921"
            ]
           ],
           "sequentialminus": [
            [
             0,
             "#0d0887"
            ],
            [
             0.1111111111111111,
             "#46039f"
            ],
            [
             0.2222222222222222,
             "#7201a8"
            ],
            [
             0.3333333333333333,
             "#9c179e"
            ],
            [
             0.4444444444444444,
             "#bd3786"
            ],
            [
             0.5555555555555556,
             "#d8576b"
            ],
            [
             0.6666666666666666,
             "#ed7953"
            ],
            [
             0.7777777777777778,
             "#fb9f3a"
            ],
            [
             0.8888888888888888,
             "#fdca26"
            ],
            [
             1,
             "#f0f921"
            ]
           ]
          },
          "colorway": [
           "#636efa",
           "#EF553B",
           "#00cc96",
           "#ab63fa",
           "#FFA15A",
           "#19d3f3",
           "#FF6692",
           "#B6E880",
           "#FF97FF",
           "#FECB52"
          ],
          "font": {
           "color": "#2a3f5f"
          },
          "geo": {
           "bgcolor": "white",
           "lakecolor": "white",
           "landcolor": "white",
           "showlakes": true,
           "showland": true,
           "subunitcolor": "#C8D4E3"
          },
          "hoverlabel": {
           "align": "left"
          },
          "hovermode": "closest",
          "mapbox": {
           "style": "light"
          },
          "paper_bgcolor": "white",
          "plot_bgcolor": "white",
          "polar": {
           "angularaxis": {
            "gridcolor": "#EBF0F8",
            "linecolor": "#EBF0F8",
            "ticks": ""
           },
           "bgcolor": "white",
           "radialaxis": {
            "gridcolor": "#EBF0F8",
            "linecolor": "#EBF0F8",
            "ticks": ""
           }
          },
          "scene": {
           "xaxis": {
            "backgroundcolor": "white",
            "gridcolor": "#DFE8F3",
            "gridwidth": 2,
            "linecolor": "#EBF0F8",
            "showbackground": true,
            "ticks": "",
            "zerolinecolor": "#EBF0F8"
           },
           "yaxis": {
            "backgroundcolor": "white",
            "gridcolor": "#DFE8F3",
            "gridwidth": 2,
            "linecolor": "#EBF0F8",
            "showbackground": true,
            "ticks": "",
            "zerolinecolor": "#EBF0F8"
           },
           "zaxis": {
            "backgroundcolor": "white",
            "gridcolor": "#DFE8F3",
            "gridwidth": 2,
            "linecolor": "#EBF0F8",
            "showbackground": true,
            "ticks": "",
            "zerolinecolor": "#EBF0F8"
           }
          },
          "shapedefaults": {
           "line": {
            "color": "#2a3f5f"
           }
          },
          "ternary": {
           "aaxis": {
            "gridcolor": "#DFE8F3",
            "linecolor": "#A2B1C6",
            "ticks": ""
           },
           "baxis": {
            "gridcolor": "#DFE8F3",
            "linecolor": "#A2B1C6",
            "ticks": ""
           },
           "bgcolor": "white",
           "caxis": {
            "gridcolor": "#DFE8F3",
            "linecolor": "#A2B1C6",
            "ticks": ""
           }
          },
          "title": {
           "x": 0.05
          },
          "xaxis": {
           "automargin": true,
           "gridcolor": "#EBF0F8",
           "linecolor": "#EBF0F8",
           "ticks": "",
           "title": {
            "standoff": 15
           },
           "zerolinecolor": "#EBF0F8",
           "zerolinewidth": 2
          },
          "yaxis": {
           "automargin": true,
           "gridcolor": "#EBF0F8",
           "linecolor": "#EBF0F8",
           "ticks": "",
           "title": {
            "standoff": 15
           },
           "zerolinecolor": "#EBF0F8",
           "zerolinewidth": 2
          }
         }
        },
        "title": {
         "text": "Difference between time of registration and last time stamp"
        },
        "yaxis": {
         "title": {
          "text": "Time difference [days]"
         }
        }
       }
      }
     },
     "metadata": {}
    }
   ],
   "source": [
    "# Comparison difference between last time stamp ts and time of registration for users how canceled users and non canceled users\n",
    "canceled_users = np.array(spark.sql(\"SELECT userId, max(ts)-max(registration) FROM data_cleaned WHERE userId IN \\\n",
    "                        (SELECT userId FROM data_cleaned WHERE page = 'Cancellation Confirmation') \\\n",
    "                        GROUP BY userId\").collect()).astype(int)\n",
    "non_canceled_users = np.array(spark.sql(\"SELECT userId, max(ts)-max(registration) FROM data_cleaned WHERE userId NOT IN \\\n",
    "                        (SELECT userId FROM data_cleaned WHERE page = 'Cancellation Confirmation') \\\n",
    "                        GROUP BY userId\").collect()).astype(int)\n",
    "\n",
    "fig = go.Figure()\n",
    "fig.add_trace(go.Box(y=canceled_users[:,1]/1000/3600/24, name = 'cancelling users'))  \n",
    "fig.add_trace(go.Box(y=non_canceled_users[:,1]/1000/3600/24, name = 'non cancelling users')) \n",
    "fig.update_yaxes(title_text='Time difference [days]')\n",
    "fig.update_layout(title_text=\"Difference between time of registration and last time stamp\",\n",
    "                  template='plotly_white')\n",
    "fig.show()    \n",
    "                  \n"
   ]
  },
  {
   "cell_type": "markdown",
   "metadata": {},
   "source": [
    "- Non cancelling users are on average longer on the platform the platform with a median of 75.4 days since the registration\n",
    "- Most of the users cancel after 51.3 days on the platform"
   ]
  },
  {
   "cell_type": "code",
   "execution_count": 34,
   "metadata": {},
   "outputs": [
    {
     "output_type": "display_data",
     "data": {
      "application/vnd.plotly.v1+json": {
       "config": {
        "plotlyServerURL": "https://plot.ly"
       },
       "data": [
        {
         "domain": {
          "x": [
           0,
           0.45
          ],
          "y": [
           0,
           1
          ]
         },
         "labels": [
          "F",
          "M"
         ],
         "name": "Cancelling users",
         "type": "pie",
         "values": [
          "20",
          "32"
         ]
        },
        {
         "domain": {
          "x": [
           0.55,
           1
          ],
          "y": [
           0,
           1
          ]
         },
         "labels": [
          "F",
          "M"
         ],
         "name": "Cancelling users",
         "type": "pie",
         "values": [
          "84",
          "89"
         ]
        }
       ],
       "layout": {
        "annotations": [
         {
          "font": {
           "size": 16
          },
          "showarrow": false,
          "text": "Cancelling users",
          "x": 0.225,
          "xanchor": "center",
          "xref": "paper",
          "y": 1,
          "yanchor": "bottom",
          "yref": "paper"
         },
         {
          "font": {
           "size": 16
          },
          "showarrow": false,
          "text": "Non cancelling users",
          "x": 0.775,
          "xanchor": "center",
          "xref": "paper",
          "y": 1,
          "yanchor": "bottom",
          "yref": "paper"
         }
        ],
        "template": {
         "data": {
          "bar": [
           {
            "error_x": {
             "color": "#2a3f5f"
            },
            "error_y": {
             "color": "#2a3f5f"
            },
            "marker": {
             "line": {
              "color": "white",
              "width": 0.5
             }
            },
            "type": "bar"
           }
          ],
          "barpolar": [
           {
            "marker": {
             "line": {
              "color": "white",
              "width": 0.5
             }
            },
            "type": "barpolar"
           }
          ],
          "carpet": [
           {
            "aaxis": {
             "endlinecolor": "#2a3f5f",
             "gridcolor": "#C8D4E3",
             "linecolor": "#C8D4E3",
             "minorgridcolor": "#C8D4E3",
             "startlinecolor": "#2a3f5f"
            },
            "baxis": {
             "endlinecolor": "#2a3f5f",
             "gridcolor": "#C8D4E3",
             "linecolor": "#C8D4E3",
             "minorgridcolor": "#C8D4E3",
             "startlinecolor": "#2a3f5f"
            },
            "type": "carpet"
           }
          ],
          "choropleth": [
           {
            "colorbar": {
             "outlinewidth": 0,
             "ticks": ""
            },
            "type": "choropleth"
           }
          ],
          "contour": [
           {
            "colorbar": {
             "outlinewidth": 0,
             "ticks": ""
            },
            "colorscale": [
             [
              0,
              "#0d0887"
             ],
             [
              0.1111111111111111,
              "#46039f"
             ],
             [
              0.2222222222222222,
              "#7201a8"
             ],
             [
              0.3333333333333333,
              "#9c179e"
             ],
             [
              0.4444444444444444,
              "#bd3786"
             ],
             [
              0.5555555555555556,
              "#d8576b"
             ],
             [
              0.6666666666666666,
              "#ed7953"
             ],
             [
              0.7777777777777778,
              "#fb9f3a"
             ],
             [
              0.8888888888888888,
              "#fdca26"
             ],
             [
              1,
              "#f0f921"
             ]
            ],
            "type": "contour"
           }
          ],
          "contourcarpet": [
           {
            "colorbar": {
             "outlinewidth": 0,
             "ticks": ""
            },
            "type": "contourcarpet"
           }
          ],
          "heatmap": [
           {
            "colorbar": {
             "outlinewidth": 0,
             "ticks": ""
            },
            "colorscale": [
             [
              0,
              "#0d0887"
             ],
             [
              0.1111111111111111,
              "#46039f"
             ],
             [
              0.2222222222222222,
              "#7201a8"
             ],
             [
              0.3333333333333333,
              "#9c179e"
             ],
             [
              0.4444444444444444,
              "#bd3786"
             ],
             [
              0.5555555555555556,
              "#d8576b"
             ],
             [
              0.6666666666666666,
              "#ed7953"
             ],
             [
              0.7777777777777778,
              "#fb9f3a"
             ],
             [
              0.8888888888888888,
              "#fdca26"
             ],
             [
              1,
              "#f0f921"
             ]
            ],
            "type": "heatmap"
           }
          ],
          "heatmapgl": [
           {
            "colorbar": {
             "outlinewidth": 0,
             "ticks": ""
            },
            "colorscale": [
             [
              0,
              "#0d0887"
             ],
             [
              0.1111111111111111,
              "#46039f"
             ],
             [
              0.2222222222222222,
              "#7201a8"
             ],
             [
              0.3333333333333333,
              "#9c179e"
             ],
             [
              0.4444444444444444,
              "#bd3786"
             ],
             [
              0.5555555555555556,
              "#d8576b"
             ],
             [
              0.6666666666666666,
              "#ed7953"
             ],
             [
              0.7777777777777778,
              "#fb9f3a"
             ],
             [
              0.8888888888888888,
              "#fdca26"
             ],
             [
              1,
              "#f0f921"
             ]
            ],
            "type": "heatmapgl"
           }
          ],
          "histogram": [
           {
            "marker": {
             "colorbar": {
              "outlinewidth": 0,
              "ticks": ""
             }
            },
            "type": "histogram"
           }
          ],
          "histogram2d": [
           {
            "colorbar": {
             "outlinewidth": 0,
             "ticks": ""
            },
            "colorscale": [
             [
              0,
              "#0d0887"
             ],
             [
              0.1111111111111111,
              "#46039f"
             ],
             [
              0.2222222222222222,
              "#7201a8"
             ],
             [
              0.3333333333333333,
              "#9c179e"
             ],
             [
              0.4444444444444444,
              "#bd3786"
             ],
             [
              0.5555555555555556,
              "#d8576b"
             ],
             [
              0.6666666666666666,
              "#ed7953"
             ],
             [
              0.7777777777777778,
              "#fb9f3a"
             ],
             [
              0.8888888888888888,
              "#fdca26"
             ],
             [
              1,
              "#f0f921"
             ]
            ],
            "type": "histogram2d"
           }
          ],
          "histogram2dcontour": [
           {
            "colorbar": {
             "outlinewidth": 0,
             "ticks": ""
            },
            "colorscale": [
             [
              0,
              "#0d0887"
             ],
             [
              0.1111111111111111,
              "#46039f"
             ],
             [
              0.2222222222222222,
              "#7201a8"
             ],
             [
              0.3333333333333333,
              "#9c179e"
             ],
             [
              0.4444444444444444,
              "#bd3786"
             ],
             [
              0.5555555555555556,
              "#d8576b"
             ],
             [
              0.6666666666666666,
              "#ed7953"
             ],
             [
              0.7777777777777778,
              "#fb9f3a"
             ],
             [
              0.8888888888888888,
              "#fdca26"
             ],
             [
              1,
              "#f0f921"
             ]
            ],
            "type": "histogram2dcontour"
           }
          ],
          "mesh3d": [
           {
            "colorbar": {
             "outlinewidth": 0,
             "ticks": ""
            },
            "type": "mesh3d"
           }
          ],
          "parcoords": [
           {
            "line": {
             "colorbar": {
              "outlinewidth": 0,
              "ticks": ""
             }
            },
            "type": "parcoords"
           }
          ],
          "pie": [
           {
            "automargin": true,
            "type": "pie"
           }
          ],
          "scatter": [
           {
            "marker": {
             "colorbar": {
              "outlinewidth": 0,
              "ticks": ""
             }
            },
            "type": "scatter"
           }
          ],
          "scatter3d": [
           {
            "line": {
             "colorbar": {
              "outlinewidth": 0,
              "ticks": ""
             }
            },
            "marker": {
             "colorbar": {
              "outlinewidth": 0,
              "ticks": ""
             }
            },
            "type": "scatter3d"
           }
          ],
          "scattercarpet": [
           {
            "marker": {
             "colorbar": {
              "outlinewidth": 0,
              "ticks": ""
             }
            },
            "type": "scattercarpet"
           }
          ],
          "scattergeo": [
           {
            "marker": {
             "colorbar": {
              "outlinewidth": 0,
              "ticks": ""
             }
            },
            "type": "scattergeo"
           }
          ],
          "scattergl": [
           {
            "marker": {
             "colorbar": {
              "outlinewidth": 0,
              "ticks": ""
             }
            },
            "type": "scattergl"
           }
          ],
          "scattermapbox": [
           {
            "marker": {
             "colorbar": {
              "outlinewidth": 0,
              "ticks": ""
             }
            },
            "type": "scattermapbox"
           }
          ],
          "scatterpolar": [
           {
            "marker": {
             "colorbar": {
              "outlinewidth": 0,
              "ticks": ""
             }
            },
            "type": "scatterpolar"
           }
          ],
          "scatterpolargl": [
           {
            "marker": {
             "colorbar": {
              "outlinewidth": 0,
              "ticks": ""
             }
            },
            "type": "scatterpolargl"
           }
          ],
          "scatterternary": [
           {
            "marker": {
             "colorbar": {
              "outlinewidth": 0,
              "ticks": ""
             }
            },
            "type": "scatterternary"
           }
          ],
          "surface": [
           {
            "colorbar": {
             "outlinewidth": 0,
             "ticks": ""
            },
            "colorscale": [
             [
              0,
              "#0d0887"
             ],
             [
              0.1111111111111111,
              "#46039f"
             ],
             [
              0.2222222222222222,
              "#7201a8"
             ],
             [
              0.3333333333333333,
              "#9c179e"
             ],
             [
              0.4444444444444444,
              "#bd3786"
             ],
             [
              0.5555555555555556,
              "#d8576b"
             ],
             [
              0.6666666666666666,
              "#ed7953"
             ],
             [
              0.7777777777777778,
              "#fb9f3a"
             ],
             [
              0.8888888888888888,
              "#fdca26"
             ],
             [
              1,
              "#f0f921"
             ]
            ],
            "type": "surface"
           }
          ],
          "table": [
           {
            "cells": {
             "fill": {
              "color": "#EBF0F8"
             },
             "line": {
              "color": "white"
             }
            },
            "header": {
             "fill": {
              "color": "#C8D4E3"
             },
             "line": {
              "color": "white"
             }
            },
            "type": "table"
           }
          ]
         },
         "layout": {
          "annotationdefaults": {
           "arrowcolor": "#2a3f5f",
           "arrowhead": 0,
           "arrowwidth": 1
          },
          "coloraxis": {
           "colorbar": {
            "outlinewidth": 0,
            "ticks": ""
           }
          },
          "colorscale": {
           "diverging": [
            [
             0,
             "#8e0152"
            ],
            [
             0.1,
             "#c51b7d"
            ],
            [
             0.2,
             "#de77ae"
            ],
            [
             0.3,
             "#f1b6da"
            ],
            [
             0.4,
             "#fde0ef"
            ],
            [
             0.5,
             "#f7f7f7"
            ],
            [
             0.6,
             "#e6f5d0"
            ],
            [
             0.7,
             "#b8e186"
            ],
            [
             0.8,
             "#7fbc41"
            ],
            [
             0.9,
             "#4d9221"
            ],
            [
             1,
             "#276419"
            ]
           ],
           "sequential": [
            [
             0,
             "#0d0887"
            ],
            [
             0.1111111111111111,
             "#46039f"
            ],
            [
             0.2222222222222222,
             "#7201a8"
            ],
            [
             0.3333333333333333,
             "#9c179e"
            ],
            [
             0.4444444444444444,
             "#bd3786"
            ],
            [
             0.5555555555555556,
             "#d8576b"
            ],
            [
             0.6666666666666666,
             "#ed7953"
            ],
            [
             0.7777777777777778,
             "#fb9f3a"
            ],
            [
             0.8888888888888888,
             "#fdca26"
            ],
            [
             1,
             "#f0f921"
            ]
           ],
           "sequentialminus": [
            [
             0,
             "#0d0887"
            ],
            [
             0.1111111111111111,
             "#46039f"
            ],
            [
             0.2222222222222222,
             "#7201a8"
            ],
            [
             0.3333333333333333,
             "#9c179e"
            ],
            [
             0.4444444444444444,
             "#bd3786"
            ],
            [
             0.5555555555555556,
             "#d8576b"
            ],
            [
             0.6666666666666666,
             "#ed7953"
            ],
            [
             0.7777777777777778,
             "#fb9f3a"
            ],
            [
             0.8888888888888888,
             "#fdca26"
            ],
            [
             1,
             "#f0f921"
            ]
           ]
          },
          "colorway": [
           "#636efa",
           "#EF553B",
           "#00cc96",
           "#ab63fa",
           "#FFA15A",
           "#19d3f3",
           "#FF6692",
           "#B6E880",
           "#FF97FF",
           "#FECB52"
          ],
          "font": {
           "color": "#2a3f5f"
          },
          "geo": {
           "bgcolor": "white",
           "lakecolor": "white",
           "landcolor": "white",
           "showlakes": true,
           "showland": true,
           "subunitcolor": "#C8D4E3"
          },
          "hoverlabel": {
           "align": "left"
          },
          "hovermode": "closest",
          "mapbox": {
           "style": "light"
          },
          "paper_bgcolor": "white",
          "plot_bgcolor": "white",
          "polar": {
           "angularaxis": {
            "gridcolor": "#EBF0F8",
            "linecolor": "#EBF0F8",
            "ticks": ""
           },
           "bgcolor": "white",
           "radialaxis": {
            "gridcolor": "#EBF0F8",
            "linecolor": "#EBF0F8",
            "ticks": ""
           }
          },
          "scene": {
           "xaxis": {
            "backgroundcolor": "white",
            "gridcolor": "#DFE8F3",
            "gridwidth": 2,
            "linecolor": "#EBF0F8",
            "showbackground": true,
            "ticks": "",
            "zerolinecolor": "#EBF0F8"
           },
           "yaxis": {
            "backgroundcolor": "white",
            "gridcolor": "#DFE8F3",
            "gridwidth": 2,
            "linecolor": "#EBF0F8",
            "showbackground": true,
            "ticks": "",
            "zerolinecolor": "#EBF0F8"
           },
           "zaxis": {
            "backgroundcolor": "white",
            "gridcolor": "#DFE8F3",
            "gridwidth": 2,
            "linecolor": "#EBF0F8",
            "showbackground": true,
            "ticks": "",
            "zerolinecolor": "#EBF0F8"
           }
          },
          "shapedefaults": {
           "line": {
            "color": "#2a3f5f"
           }
          },
          "ternary": {
           "aaxis": {
            "gridcolor": "#DFE8F3",
            "linecolor": "#A2B1C6",
            "ticks": ""
           },
           "baxis": {
            "gridcolor": "#DFE8F3",
            "linecolor": "#A2B1C6",
            "ticks": ""
           },
           "bgcolor": "white",
           "caxis": {
            "gridcolor": "#DFE8F3",
            "linecolor": "#A2B1C6",
            "ticks": ""
           }
          },
          "title": {
           "x": 0.05
          },
          "xaxis": {
           "automargin": true,
           "gridcolor": "#EBF0F8",
           "linecolor": "#EBF0F8",
           "ticks": "",
           "title": {
            "standoff": 15
           },
           "zerolinecolor": "#EBF0F8",
           "zerolinewidth": 2
          },
          "yaxis": {
           "automargin": true,
           "gridcolor": "#EBF0F8",
           "linecolor": "#EBF0F8",
           "ticks": "",
           "title": {
            "standoff": 15
           },
           "zerolinecolor": "#EBF0F8",
           "zerolinewidth": 2
          }
         }
        },
        "title": {
         "text": "Comparison of gender fraction"
        }
       }
      }
     },
     "metadata": {}
    }
   ],
   "source": [
    "# Distribution of gender of cancelling and non cancelling users\n",
    "canceled_users = np.array(spark.sql(\"SELECT gender, COUNT(DISTINCT(userId)) FROM data_cleaned WHERE userId IN \\\n",
    "                        (SELECT userId FROM data_cleaned WHERE page = 'Cancellation Confirmation') \\\n",
    "                        GROUP BY gender\").collect())\n",
    "non_canceled_users = np.array(spark.sql(\"SELECT gender, COUNT(DISTINCT(userId)) FROM data_cleaned WHERE userId NOT IN \\\n",
    "                        (SELECT userId FROM data_cleaned WHERE page = 'Cancellation Confirmation') \\\n",
    "                        GROUP BY gender\").collect())\n",
    "\n",
    "from plotly.subplots import make_subplots\n",
    "\n",
    "fig = make_subplots(rows=1, cols=2,\n",
    "             subplot_titles=(\"Cancelling users\", \"Non cancelling users\"),\n",
    "             specs=[[{\"type\": \"domain\"}, {\"type\": \"domain\"}]])\n",
    "\n",
    "fig.add_trace(\n",
    "    go.Pie(values=canceled_users[:,1], labels=canceled_users[:,0], name='Cancelling users'),\n",
    "    row=1, col=1\n",
    ")\n",
    "\n",
    "fig.add_trace(\n",
    "    go.Pie(values=non_canceled_users[:,1], labels=non_canceled_users[:,0], name='Cancelling users'),\n",
    "    row=1, col=2\n",
    ")\n",
    "\n",
    "fig.update_layout(title_text=\"Comparison of gender fraction\",\n",
    "                  template='plotly_white')\n",
    "fig.show()"
   ]
  },
  {
   "cell_type": "markdown",
   "metadata": {},
   "source": [
    "- The fraction of users with male gender is larger for cencelling users"
   ]
  },
  {
   "cell_type": "code",
   "execution_count": 40,
   "metadata": {},
   "outputs": [
    {
     "output_type": "display_data",
     "data": {
      "application/vnd.plotly.v1+json": {
       "config": {
        "plotlyServerURL": "https://plot.ly"
       },
       "data": [
        {
         "name": "cancelling users",
         "orientation": "h",
         "type": "bar",
         "x": [
          100,
          17.307692307692307,
          92.3076923076923,
          98.07692307692307,
          67.3076923076923,
          96.15384615384616,
          88.46153846153845,
          57.692307692307686,
          100,
          59.61538461538461,
          82.6923076923077,
          96.15384615384616,
          84.61538461538461,
          100,
          96.15384615384616,
          82.6923076923077,
          71.15384615384616,
          42.30769230769231,
          55.769230769230774
         ],
         "y": [
          "Cancel",
          "Submit Downgrade",
          "Thumbs Down",
          "Home",
          "Downgrade",
          "Roll Advert",
          "Logout",
          "Save Settings",
          "Cancellation Confirmation",
          "About",
          "Settings",
          "Add to Playlist",
          "Add Friend",
          "NextSong",
          "Thumbs Up",
          "Help",
          "Upgrade",
          "Error",
          "Submit Upgrade"
         ]
        },
        {
         "name": "non canceling users users",
         "orientation": "h",
         "type": "bar",
         "x": [
          23.121387283236995,
          89.59537572254335,
          99.42196531791907,
          68.78612716763006,
          90.7514450867052,
          96.53179190751445,
          58.95953757225434,
          71.67630057803468,
          87.86127167630057,
          95.37572254335261,
          93.64161849710982,
          100,
          98.26589595375722,
          86.1271676300578,
          75.72254335260115,
          54.91329479768786,
          58.95953757225434
         ],
         "y": [
          "Submit Downgrade",
          "Thumbs Down",
          "Home",
          "Downgrade",
          "Roll Advert",
          "Logout",
          "Save Settings",
          "About",
          "Settings",
          "Add to Playlist",
          "Add Friend",
          "NextSong",
          "Thumbs Up",
          "Help",
          "Upgrade",
          "Error",
          "Submit Upgrade"
         ]
        }
       ],
       "layout": {
        "height": 600,
        "template": {
         "data": {
          "bar": [
           {
            "error_x": {
             "color": "#2a3f5f"
            },
            "error_y": {
             "color": "#2a3f5f"
            },
            "marker": {
             "line": {
              "color": "white",
              "width": 0.5
             }
            },
            "type": "bar"
           }
          ],
          "barpolar": [
           {
            "marker": {
             "line": {
              "color": "white",
              "width": 0.5
             }
            },
            "type": "barpolar"
           }
          ],
          "carpet": [
           {
            "aaxis": {
             "endlinecolor": "#2a3f5f",
             "gridcolor": "#C8D4E3",
             "linecolor": "#C8D4E3",
             "minorgridcolor": "#C8D4E3",
             "startlinecolor": "#2a3f5f"
            },
            "baxis": {
             "endlinecolor": "#2a3f5f",
             "gridcolor": "#C8D4E3",
             "linecolor": "#C8D4E3",
             "minorgridcolor": "#C8D4E3",
             "startlinecolor": "#2a3f5f"
            },
            "type": "carpet"
           }
          ],
          "choropleth": [
           {
            "colorbar": {
             "outlinewidth": 0,
             "ticks": ""
            },
            "type": "choropleth"
           }
          ],
          "contour": [
           {
            "colorbar": {
             "outlinewidth": 0,
             "ticks": ""
            },
            "colorscale": [
             [
              0,
              "#0d0887"
             ],
             [
              0.1111111111111111,
              "#46039f"
             ],
             [
              0.2222222222222222,
              "#7201a8"
             ],
             [
              0.3333333333333333,
              "#9c179e"
             ],
             [
              0.4444444444444444,
              "#bd3786"
             ],
             [
              0.5555555555555556,
              "#d8576b"
             ],
             [
              0.6666666666666666,
              "#ed7953"
             ],
             [
              0.7777777777777778,
              "#fb9f3a"
             ],
             [
              0.8888888888888888,
              "#fdca26"
             ],
             [
              1,
              "#f0f921"
             ]
            ],
            "type": "contour"
           }
          ],
          "contourcarpet": [
           {
            "colorbar": {
             "outlinewidth": 0,
             "ticks": ""
            },
            "type": "contourcarpet"
           }
          ],
          "heatmap": [
           {
            "colorbar": {
             "outlinewidth": 0,
             "ticks": ""
            },
            "colorscale": [
             [
              0,
              "#0d0887"
             ],
             [
              0.1111111111111111,
              "#46039f"
             ],
             [
              0.2222222222222222,
              "#7201a8"
             ],
             [
              0.3333333333333333,
              "#9c179e"
             ],
             [
              0.4444444444444444,
              "#bd3786"
             ],
             [
              0.5555555555555556,
              "#d8576b"
             ],
             [
              0.6666666666666666,
              "#ed7953"
             ],
             [
              0.7777777777777778,
              "#fb9f3a"
             ],
             [
              0.8888888888888888,
              "#fdca26"
             ],
             [
              1,
              "#f0f921"
             ]
            ],
            "type": "heatmap"
           }
          ],
          "heatmapgl": [
           {
            "colorbar": {
             "outlinewidth": 0,
             "ticks": ""
            },
            "colorscale": [
             [
              0,
              "#0d0887"
             ],
             [
              0.1111111111111111,
              "#46039f"
             ],
             [
              0.2222222222222222,
              "#7201a8"
             ],
             [
              0.3333333333333333,
              "#9c179e"
             ],
             [
              0.4444444444444444,
              "#bd3786"
             ],
             [
              0.5555555555555556,
              "#d8576b"
             ],
             [
              0.6666666666666666,
              "#ed7953"
             ],
             [
              0.7777777777777778,
              "#fb9f3a"
             ],
             [
              0.8888888888888888,
              "#fdca26"
             ],
             [
              1,
              "#f0f921"
             ]
            ],
            "type": "heatmapgl"
           }
          ],
          "histogram": [
           {
            "marker": {
             "colorbar": {
              "outlinewidth": 0,
              "ticks": ""
             }
            },
            "type": "histogram"
           }
          ],
          "histogram2d": [
           {
            "colorbar": {
             "outlinewidth": 0,
             "ticks": ""
            },
            "colorscale": [
             [
              0,
              "#0d0887"
             ],
             [
              0.1111111111111111,
              "#46039f"
             ],
             [
              0.2222222222222222,
              "#7201a8"
             ],
             [
              0.3333333333333333,
              "#9c179e"
             ],
             [
              0.4444444444444444,
              "#bd3786"
             ],
             [
              0.5555555555555556,
              "#d8576b"
             ],
             [
              0.6666666666666666,
              "#ed7953"
             ],
             [
              0.7777777777777778,
              "#fb9f3a"
             ],
             [
              0.8888888888888888,
              "#fdca26"
             ],
             [
              1,
              "#f0f921"
             ]
            ],
            "type": "histogram2d"
           }
          ],
          "histogram2dcontour": [
           {
            "colorbar": {
             "outlinewidth": 0,
             "ticks": ""
            },
            "colorscale": [
             [
              0,
              "#0d0887"
             ],
             [
              0.1111111111111111,
              "#46039f"
             ],
             [
              0.2222222222222222,
              "#7201a8"
             ],
             [
              0.3333333333333333,
              "#9c179e"
             ],
             [
              0.4444444444444444,
              "#bd3786"
             ],
             [
              0.5555555555555556,
              "#d8576b"
             ],
             [
              0.6666666666666666,
              "#ed7953"
             ],
             [
              0.7777777777777778,
              "#fb9f3a"
             ],
             [
              0.8888888888888888,
              "#fdca26"
             ],
             [
              1,
              "#f0f921"
             ]
            ],
            "type": "histogram2dcontour"
           }
          ],
          "mesh3d": [
           {
            "colorbar": {
             "outlinewidth": 0,
             "ticks": ""
            },
            "type": "mesh3d"
           }
          ],
          "parcoords": [
           {
            "line": {
             "colorbar": {
              "outlinewidth": 0,
              "ticks": ""
             }
            },
            "type": "parcoords"
           }
          ],
          "pie": [
           {
            "automargin": true,
            "type": "pie"
           }
          ],
          "scatter": [
           {
            "marker": {
             "colorbar": {
              "outlinewidth": 0,
              "ticks": ""
             }
            },
            "type": "scatter"
           }
          ],
          "scatter3d": [
           {
            "line": {
             "colorbar": {
              "outlinewidth": 0,
              "ticks": ""
             }
            },
            "marker": {
             "colorbar": {
              "outlinewidth": 0,
              "ticks": ""
             }
            },
            "type": "scatter3d"
           }
          ],
          "scattercarpet": [
           {
            "marker": {
             "colorbar": {
              "outlinewidth": 0,
              "ticks": ""
             }
            },
            "type": "scattercarpet"
           }
          ],
          "scattergeo": [
           {
            "marker": {
             "colorbar": {
              "outlinewidth": 0,
              "ticks": ""
             }
            },
            "type": "scattergeo"
           }
          ],
          "scattergl": [
           {
            "marker": {
             "colorbar": {
              "outlinewidth": 0,
              "ticks": ""
             }
            },
            "type": "scattergl"
           }
          ],
          "scattermapbox": [
           {
            "marker": {
             "colorbar": {
              "outlinewidth": 0,
              "ticks": ""
             }
            },
            "type": "scattermapbox"
           }
          ],
          "scatterpolar": [
           {
            "marker": {
             "colorbar": {
              "outlinewidth": 0,
              "ticks": ""
             }
            },
            "type": "scatterpolar"
           }
          ],
          "scatterpolargl": [
           {
            "marker": {
             "colorbar": {
              "outlinewidth": 0,
              "ticks": ""
             }
            },
            "type": "scatterpolargl"
           }
          ],
          "scatterternary": [
           {
            "marker": {
             "colorbar": {
              "outlinewidth": 0,
              "ticks": ""
             }
            },
            "type": "scatterternary"
           }
          ],
          "surface": [
           {
            "colorbar": {
             "outlinewidth": 0,
             "ticks": ""
            },
            "colorscale": [
             [
              0,
              "#0d0887"
             ],
             [
              0.1111111111111111,
              "#46039f"
             ],
             [
              0.2222222222222222,
              "#7201a8"
             ],
             [
              0.3333333333333333,
              "#9c179e"
             ],
             [
              0.4444444444444444,
              "#bd3786"
             ],
             [
              0.5555555555555556,
              "#d8576b"
             ],
             [
              0.6666666666666666,
              "#ed7953"
             ],
             [
              0.7777777777777778,
              "#fb9f3a"
             ],
             [
              0.8888888888888888,
              "#fdca26"
             ],
             [
              1,
              "#f0f921"
             ]
            ],
            "type": "surface"
           }
          ],
          "table": [
           {
            "cells": {
             "fill": {
              "color": "#EBF0F8"
             },
             "line": {
              "color": "white"
             }
            },
            "header": {
             "fill": {
              "color": "#C8D4E3"
             },
             "line": {
              "color": "white"
             }
            },
            "type": "table"
           }
          ]
         },
         "layout": {
          "annotationdefaults": {
           "arrowcolor": "#2a3f5f",
           "arrowhead": 0,
           "arrowwidth": 1
          },
          "coloraxis": {
           "colorbar": {
            "outlinewidth": 0,
            "ticks": ""
           }
          },
          "colorscale": {
           "diverging": [
            [
             0,
             "#8e0152"
            ],
            [
             0.1,
             "#c51b7d"
            ],
            [
             0.2,
             "#de77ae"
            ],
            [
             0.3,
             "#f1b6da"
            ],
            [
             0.4,
             "#fde0ef"
            ],
            [
             0.5,
             "#f7f7f7"
            ],
            [
             0.6,
             "#e6f5d0"
            ],
            [
             0.7,
             "#b8e186"
            ],
            [
             0.8,
             "#7fbc41"
            ],
            [
             0.9,
             "#4d9221"
            ],
            [
             1,
             "#276419"
            ]
           ],
           "sequential": [
            [
             0,
             "#0d0887"
            ],
            [
             0.1111111111111111,
             "#46039f"
            ],
            [
             0.2222222222222222,
             "#7201a8"
            ],
            [
             0.3333333333333333,
             "#9c179e"
            ],
            [
             0.4444444444444444,
             "#bd3786"
            ],
            [
             0.5555555555555556,
             "#d8576b"
            ],
            [
             0.6666666666666666,
             "#ed7953"
            ],
            [
             0.7777777777777778,
             "#fb9f3a"
            ],
            [
             0.8888888888888888,
             "#fdca26"
            ],
            [
             1,
             "#f0f921"
            ]
           ],
           "sequentialminus": [
            [
             0,
             "#0d0887"
            ],
            [
             0.1111111111111111,
             "#46039f"
            ],
            [
             0.2222222222222222,
             "#7201a8"
            ],
            [
             0.3333333333333333,
             "#9c179e"
            ],
            [
             0.4444444444444444,
             "#bd3786"
            ],
            [
             0.5555555555555556,
             "#d8576b"
            ],
            [
             0.6666666666666666,
             "#ed7953"
            ],
            [
             0.7777777777777778,
             "#fb9f3a"
            ],
            [
             0.8888888888888888,
             "#fdca26"
            ],
            [
             1,
             "#f0f921"
            ]
           ]
          },
          "colorway": [
           "#636efa",
           "#EF553B",
           "#00cc96",
           "#ab63fa",
           "#FFA15A",
           "#19d3f3",
           "#FF6692",
           "#B6E880",
           "#FF97FF",
           "#FECB52"
          ],
          "font": {
           "color": "#2a3f5f"
          },
          "geo": {
           "bgcolor": "white",
           "lakecolor": "white",
           "landcolor": "white",
           "showlakes": true,
           "showland": true,
           "subunitcolor": "#C8D4E3"
          },
          "hoverlabel": {
           "align": "left"
          },
          "hovermode": "closest",
          "mapbox": {
           "style": "light"
          },
          "paper_bgcolor": "white",
          "plot_bgcolor": "white",
          "polar": {
           "angularaxis": {
            "gridcolor": "#EBF0F8",
            "linecolor": "#EBF0F8",
            "ticks": ""
           },
           "bgcolor": "white",
           "radialaxis": {
            "gridcolor": "#EBF0F8",
            "linecolor": "#EBF0F8",
            "ticks": ""
           }
          },
          "scene": {
           "xaxis": {
            "backgroundcolor": "white",
            "gridcolor": "#DFE8F3",
            "gridwidth": 2,
            "linecolor": "#EBF0F8",
            "showbackground": true,
            "ticks": "",
            "zerolinecolor": "#EBF0F8"
           },
           "yaxis": {
            "backgroundcolor": "white",
            "gridcolor": "#DFE8F3",
            "gridwidth": 2,
            "linecolor": "#EBF0F8",
            "showbackground": true,
            "ticks": "",
            "zerolinecolor": "#EBF0F8"
           },
           "zaxis": {
            "backgroundcolor": "white",
            "gridcolor": "#DFE8F3",
            "gridwidth": 2,
            "linecolor": "#EBF0F8",
            "showbackground": true,
            "ticks": "",
            "zerolinecolor": "#EBF0F8"
           }
          },
          "shapedefaults": {
           "line": {
            "color": "#2a3f5f"
           }
          },
          "ternary": {
           "aaxis": {
            "gridcolor": "#DFE8F3",
            "linecolor": "#A2B1C6",
            "ticks": ""
           },
           "baxis": {
            "gridcolor": "#DFE8F3",
            "linecolor": "#A2B1C6",
            "ticks": ""
           },
           "bgcolor": "white",
           "caxis": {
            "gridcolor": "#DFE8F3",
            "linecolor": "#A2B1C6",
            "ticks": ""
           }
          },
          "title": {
           "x": 0.05
          },
          "xaxis": {
           "automargin": true,
           "gridcolor": "#EBF0F8",
           "linecolor": "#EBF0F8",
           "ticks": "",
           "title": {
            "standoff": 15
           },
           "zerolinecolor": "#EBF0F8",
           "zerolinewidth": 2
          },
          "yaxis": {
           "automargin": true,
           "gridcolor": "#EBF0F8",
           "linecolor": "#EBF0F8",
           "ticks": "",
           "title": {
            "standoff": 15
           },
           "zerolinecolor": "#EBF0F8",
           "zerolinewidth": 2
          }
         }
        },
        "title": {
         "text": "Percentage of users visiting page to users"
        },
        "yaxis": {
         "title": {
          "text": "%"
         }
        }
       }
      }
     },
     "metadata": {}
    }
   ],
   "source": [
    "# Interactions with pages\n",
    "canceled_users = np.array(spark.sql(\"SELECT page, COUNT(DISTINCT(userId)) FROM data_cleaned WHERE userId IN \\\n",
    "                        (SELECT userId FROM data_cleaned WHERE page = 'Cancellation Confirmation') \\\n",
    "                        GROUP BY page\").collect())\n",
    "non_canceled_users = np.array(spark.sql(\"SELECT page, COUNT(DISTINCT(userId)) FROM data_cleaned WHERE userId NOT IN \\\n",
    "                        (SELECT userId FROM data_cleaned WHERE page = 'Cancellation Confirmation') \\\n",
    "                        GROUP BY page\").collect())\n",
    "num_cancels=52\n",
    "num_non_cancels=173\n",
    "fig = go.Figure()\n",
    "fig.add_trace(go.Bar(x=canceled_users[:,1].astype(float)/num_cancels*100, y=canceled_users[:,0], orientation='h', name='cancelling users'))\n",
    "fig.add_trace(go.Bar(x=non_canceled_users[:,1].astype(float)/num_non_cancels*100, y=non_canceled_users[:,0], orientation='h', name='non canceling users users'))\n",
    "fig.update_xaxes(title_text='%')\n",
    "fig.update_layout(title_text=\"Percentage of users visiting page to users\",\n",
    "                  height=600,\n",
    "                  template='plotly_white')\n",
    "fig.show()"
   ]
  },
  {
   "cell_type": "markdown",
   "metadata": {},
   "source": [
    "- % of interactions with error page higher for non canceling users -> does not seem to influence cancellation\n",
    "- Slightly more \"Thumbs Down\" and less \"Thumbs Up\" for cancelling users\n",
    "- Non cancelling users add more friends\n"
   ]
  },
  {
   "cell_type": "code",
   "execution_count": 58,
   "metadata": {},
   "outputs": [
    {
     "output_type": "display_data",
     "data": {
      "application/vnd.plotly.v1+json": {
       "config": {
        "plotlyServerURL": "https://plot.ly"
       },
       "data": [
        {
         "name": "cancelling users",
         "type": "box",
         "y": [
          "261.13913750000006",
          "247.88055082899118",
          "250.38539934530132",
          "263.43763455252935",
          "249.00612947690533",
          "250.5790245217391",
          "249.18017257926053",
          "249.97440710875338",
          "252.46409273794018",
          "254.32124037383184",
          "250.4053802127655",
          "247.5950993979443",
          "242.92456783673484",
          "252.5109052252254",
          "225.18811730769232",
          "253.32141729603728",
          "249.087879865772",
          "240.50079227272732",
          "243.2393079503777",
          "247.03386505910183",
          "247.8673548942249",
          "250.47449745173728",
          "243.27239568750022",
          "248.13368244604294",
          "241.30233960784318",
          "249.0707678657967",
          "234.56963954545455",
          "246.92501780641473",
          "231.27114487804874",
          "250.56130825557779",
          "248.89999248524225",
          "258.33631818181817",
          "251.37208177419348",
          "242.65410317226892",
          "254.7820412534062",
          "241.44629932038836",
          "248.04051238665502",
          "245.5972387127532",
          "248.42765712871287",
          "248.08868937499997",
          "267.76714199999986",
          "254.38149344240858",
          "255.72043818461526",
          "254.2952972727273",
          "247.91493732095486",
          "235.80237307692306",
          "246.6669237741047",
          "247.54385750865038",
          "236.5308292635658",
          "245.32106824773405",
          "245.08406728606383",
          "263.71234699248123"
         ]
        },
        {
         "name": "non cancelling users",
         "type": "box",
         "y": [
          "243.4214449090909",
          "242.91699209302305",
          "248.17653659965674",
          "253.56058066666665",
          "249.37701452978044",
          "242.41377060975617",
          "250.5803443153526",
          "245.95266559523813",
          "246.7851051622875",
          "247.56032983574872",
          "247.08341966134347",
          "254.27913390222233",
          "246.79344140218302",
          "246.80347251162786",
          "250.65977717391306",
          "256.4414237552741",
          "253.92254455892746",
          "252.4253198864354",
          "243.98272735849056",
          "250.91138375000006",
          "249.2193277209945",
          "251.73314789230764",
          "252.1698014058355",
          "252.56387215139435",
          "264.42217142857146",
          "253.09774053658566",
          "247.5060468380061",
          "251.40734864214605",
          "246.24899382136286",
          "252.5369266273292",
          "249.02783263703714",
          "250.35128431442942",
          "248.0663371969698",
          "254.76966991670133",
          "253.4646554925373",
          "253.22353186138614",
          "242.46527297029706",
          "247.92331090673576",
          "260.4133601123596",
          "251.4309852032519",
          "239.57002422939075",
          "249.75647598757723",
          "251.10564832963394",
          "243.85142723163847",
          "245.49718621118012",
          "250.88659828113347",
          "241.5981216363636",
          "250.61208940197304",
          "248.49159428571423",
          "249.09481882352938",
          "251.78098897943337",
          "248.95399829272606",
          "255.8280605882352",
          "249.77816359006997",
          "242.15183553846157",
          "250.282998801743",
          "249.5467893627451",
          "249.31134023765986",
          "246.04103125984247",
          "245.34838698494448",
          "250.55272908309453",
          "248.5612282308844",
          "248.8664823399247",
          "249.20434428300103",
          "248.75795000000014",
          "248.25646651629046",
          "250.43696860776404",
          "248.893963994371",
          "256.24947486486485",
          "248.00362787759695",
          "244.1273437931035",
          "250.80383277372275",
          "245.73289733545639",
          "245.5235053262316",
          "252.22654569444438",
          "249.16812640511932",
          "257.9391382954545",
          "250.21124030623028",
          "248.5227363078704",
          "251.2429908536587",
          "267.2713832911392",
          "254.3819431758531",
          "246.2185508927503",
          "249.39243812320916",
          "244.10707988679246",
          "252.14613066115703",
          "246.58122012500016",
          "240.98824968460104",
          "247.78098596066576",
          "235.72401561151082",
          "249.58706890957444",
          "250.88267778816186",
          "266.07410166666665",
          "247.93726979020963",
          "230.55628000000002",
          "251.63656408163268",
          "248.3866498042602",
          "249.22744343695024",
          "249.3473842571914",
          "250.88196574768716",
          "256.6584719825073",
          "247.30299944707753",
          "250.36673224334604",
          "246.0563779692307",
          "254.1472781071429",
          "252.20255466565342",
          "247.18365493237872",
          "253.7434322910216",
          "258.5608673595505",
          "245.97470946835466",
          "243.2546940740741",
          "248.13571783209338",
          "247.35608090419808",
          "245.72075660804018",
          "248.72480827848096",
          "248.79210606557373",
          "248.10305260273975",
          "253.50594549800797",
          "245.42436550501156",
          "248.34529813527652",
          "256.7412723651452",
          "254.64739952380953",
          "251.90887124201578",
          "251.45323136430312",
          "245.58657405405407",
          "258.7988618817205",
          "249.6346318649696",
          "246.73224647601484",
          "249.5183348426668",
          "247.29450742506816",
          "251.12171150084328",
          "245.19495883419683",
          "250.55059049053932",
          "247.94408991084688",
          "251.2055036331444",
          "251.10940983516488",
          "245.7818013895216",
          "246.83509866876318",
          "249.50507019517815",
          "246.87326698717945",
          "266.1131378160919",
          "249.55518169421487",
          "250.52432816848082",
          "247.13869208007816",
          "248.83215640839788",
          "249.58133984848482",
          "248.35831862979256",
          "248.91592097975712",
          "249.596850292887",
          "234.69634086666667",
          "246.9607287356323",
          "245.03048538281246",
          "246.1377152323233",
          "247.78751933333334",
          "242.19469611222448",
          "249.3076749856459",
          "256.2240921917807",
          "247.97925610465126",
          "250.77714648333344",
          "249.25893707792213",
          "234.8357531764706",
          "248.4332665351629",
          "235.3705728985507",
          "251.0844598584906",
          "249.9170641324504",
          "243.79025539509533",
          "248.0342591117764",
          "254.15342615384617",
          "244.03832129224648",
          "254.13471841452622",
          "247.39772706199466",
          "230.82630793478256",
          "258.4852558959538"
         ]
        }
       ],
       "layout": {
        "template": {
         "data": {
          "bar": [
           {
            "error_x": {
             "color": "#2a3f5f"
            },
            "error_y": {
             "color": "#2a3f5f"
            },
            "marker": {
             "line": {
              "color": "white",
              "width": 0.5
             }
            },
            "type": "bar"
           }
          ],
          "barpolar": [
           {
            "marker": {
             "line": {
              "color": "white",
              "width": 0.5
             }
            },
            "type": "barpolar"
           }
          ],
          "carpet": [
           {
            "aaxis": {
             "endlinecolor": "#2a3f5f",
             "gridcolor": "#C8D4E3",
             "linecolor": "#C8D4E3",
             "minorgridcolor": "#C8D4E3",
             "startlinecolor": "#2a3f5f"
            },
            "baxis": {
             "endlinecolor": "#2a3f5f",
             "gridcolor": "#C8D4E3",
             "linecolor": "#C8D4E3",
             "minorgridcolor": "#C8D4E3",
             "startlinecolor": "#2a3f5f"
            },
            "type": "carpet"
           }
          ],
          "choropleth": [
           {
            "colorbar": {
             "outlinewidth": 0,
             "ticks": ""
            },
            "type": "choropleth"
           }
          ],
          "contour": [
           {
            "colorbar": {
             "outlinewidth": 0,
             "ticks": ""
            },
            "colorscale": [
             [
              0,
              "#0d0887"
             ],
             [
              0.1111111111111111,
              "#46039f"
             ],
             [
              0.2222222222222222,
              "#7201a8"
             ],
             [
              0.3333333333333333,
              "#9c179e"
             ],
             [
              0.4444444444444444,
              "#bd3786"
             ],
             [
              0.5555555555555556,
              "#d8576b"
             ],
             [
              0.6666666666666666,
              "#ed7953"
             ],
             [
              0.7777777777777778,
              "#fb9f3a"
             ],
             [
              0.8888888888888888,
              "#fdca26"
             ],
             [
              1,
              "#f0f921"
             ]
            ],
            "type": "contour"
           }
          ],
          "contourcarpet": [
           {
            "colorbar": {
             "outlinewidth": 0,
             "ticks": ""
            },
            "type": "contourcarpet"
           }
          ],
          "heatmap": [
           {
            "colorbar": {
             "outlinewidth": 0,
             "ticks": ""
            },
            "colorscale": [
             [
              0,
              "#0d0887"
             ],
             [
              0.1111111111111111,
              "#46039f"
             ],
             [
              0.2222222222222222,
              "#7201a8"
             ],
             [
              0.3333333333333333,
              "#9c179e"
             ],
             [
              0.4444444444444444,
              "#bd3786"
             ],
             [
              0.5555555555555556,
              "#d8576b"
             ],
             [
              0.6666666666666666,
              "#ed7953"
             ],
             [
              0.7777777777777778,
              "#fb9f3a"
             ],
             [
              0.8888888888888888,
              "#fdca26"
             ],
             [
              1,
              "#f0f921"
             ]
            ],
            "type": "heatmap"
           }
          ],
          "heatmapgl": [
           {
            "colorbar": {
             "outlinewidth": 0,
             "ticks": ""
            },
            "colorscale": [
             [
              0,
              "#0d0887"
             ],
             [
              0.1111111111111111,
              "#46039f"
             ],
             [
              0.2222222222222222,
              "#7201a8"
             ],
             [
              0.3333333333333333,
              "#9c179e"
             ],
             [
              0.4444444444444444,
              "#bd3786"
             ],
             [
              0.5555555555555556,
              "#d8576b"
             ],
             [
              0.6666666666666666,
              "#ed7953"
             ],
             [
              0.7777777777777778,
              "#fb9f3a"
             ],
             [
              0.8888888888888888,
              "#fdca26"
             ],
             [
              1,
              "#f0f921"
             ]
            ],
            "type": "heatmapgl"
           }
          ],
          "histogram": [
           {
            "marker": {
             "colorbar": {
              "outlinewidth": 0,
              "ticks": ""
             }
            },
            "type": "histogram"
           }
          ],
          "histogram2d": [
           {
            "colorbar": {
             "outlinewidth": 0,
             "ticks": ""
            },
            "colorscale": [
             [
              0,
              "#0d0887"
             ],
             [
              0.1111111111111111,
              "#46039f"
             ],
             [
              0.2222222222222222,
              "#7201a8"
             ],
             [
              0.3333333333333333,
              "#9c179e"
             ],
             [
              0.4444444444444444,
              "#bd3786"
             ],
             [
              0.5555555555555556,
              "#d8576b"
             ],
             [
              0.6666666666666666,
              "#ed7953"
             ],
             [
              0.7777777777777778,
              "#fb9f3a"
             ],
             [
              0.8888888888888888,
              "#fdca26"
             ],
             [
              1,
              "#f0f921"
             ]
            ],
            "type": "histogram2d"
           }
          ],
          "histogram2dcontour": [
           {
            "colorbar": {
             "outlinewidth": 0,
             "ticks": ""
            },
            "colorscale": [
             [
              0,
              "#0d0887"
             ],
             [
              0.1111111111111111,
              "#46039f"
             ],
             [
              0.2222222222222222,
              "#7201a8"
             ],
             [
              0.3333333333333333,
              "#9c179e"
             ],
             [
              0.4444444444444444,
              "#bd3786"
             ],
             [
              0.5555555555555556,
              "#d8576b"
             ],
             [
              0.6666666666666666,
              "#ed7953"
             ],
             [
              0.7777777777777778,
              "#fb9f3a"
             ],
             [
              0.8888888888888888,
              "#fdca26"
             ],
             [
              1,
              "#f0f921"
             ]
            ],
            "type": "histogram2dcontour"
           }
          ],
          "mesh3d": [
           {
            "colorbar": {
             "outlinewidth": 0,
             "ticks": ""
            },
            "type": "mesh3d"
           }
          ],
          "parcoords": [
           {
            "line": {
             "colorbar": {
              "outlinewidth": 0,
              "ticks": ""
             }
            },
            "type": "parcoords"
           }
          ],
          "pie": [
           {
            "automargin": true,
            "type": "pie"
           }
          ],
          "scatter": [
           {
            "marker": {
             "colorbar": {
              "outlinewidth": 0,
              "ticks": ""
             }
            },
            "type": "scatter"
           }
          ],
          "scatter3d": [
           {
            "line": {
             "colorbar": {
              "outlinewidth": 0,
              "ticks": ""
             }
            },
            "marker": {
             "colorbar": {
              "outlinewidth": 0,
              "ticks": ""
             }
            },
            "type": "scatter3d"
           }
          ],
          "scattercarpet": [
           {
            "marker": {
             "colorbar": {
              "outlinewidth": 0,
              "ticks": ""
             }
            },
            "type": "scattercarpet"
           }
          ],
          "scattergeo": [
           {
            "marker": {
             "colorbar": {
              "outlinewidth": 0,
              "ticks": ""
             }
            },
            "type": "scattergeo"
           }
          ],
          "scattergl": [
           {
            "marker": {
             "colorbar": {
              "outlinewidth": 0,
              "ticks": ""
             }
            },
            "type": "scattergl"
           }
          ],
          "scattermapbox": [
           {
            "marker": {
             "colorbar": {
              "outlinewidth": 0,
              "ticks": ""
             }
            },
            "type": "scattermapbox"
           }
          ],
          "scatterpolar": [
           {
            "marker": {
             "colorbar": {
              "outlinewidth": 0,
              "ticks": ""
             }
            },
            "type": "scatterpolar"
           }
          ],
          "scatterpolargl": [
           {
            "marker": {
             "colorbar": {
              "outlinewidth": 0,
              "ticks": ""
             }
            },
            "type": "scatterpolargl"
           }
          ],
          "scatterternary": [
           {
            "marker": {
             "colorbar": {
              "outlinewidth": 0,
              "ticks": ""
             }
            },
            "type": "scatterternary"
           }
          ],
          "surface": [
           {
            "colorbar": {
             "outlinewidth": 0,
             "ticks": ""
            },
            "colorscale": [
             [
              0,
              "#0d0887"
             ],
             [
              0.1111111111111111,
              "#46039f"
             ],
             [
              0.2222222222222222,
              "#7201a8"
             ],
             [
              0.3333333333333333,
              "#9c179e"
             ],
             [
              0.4444444444444444,
              "#bd3786"
             ],
             [
              0.5555555555555556,
              "#d8576b"
             ],
             [
              0.6666666666666666,
              "#ed7953"
             ],
             [
              0.7777777777777778,
              "#fb9f3a"
             ],
             [
              0.8888888888888888,
              "#fdca26"
             ],
             [
              1,
              "#f0f921"
             ]
            ],
            "type": "surface"
           }
          ],
          "table": [
           {
            "cells": {
             "fill": {
              "color": "#EBF0F8"
             },
             "line": {
              "color": "white"
             }
            },
            "header": {
             "fill": {
              "color": "#C8D4E3"
             },
             "line": {
              "color": "white"
             }
            },
            "type": "table"
           }
          ]
         },
         "layout": {
          "annotationdefaults": {
           "arrowcolor": "#2a3f5f",
           "arrowhead": 0,
           "arrowwidth": 1
          },
          "coloraxis": {
           "colorbar": {
            "outlinewidth": 0,
            "ticks": ""
           }
          },
          "colorscale": {
           "diverging": [
            [
             0,
             "#8e0152"
            ],
            [
             0.1,
             "#c51b7d"
            ],
            [
             0.2,
             "#de77ae"
            ],
            [
             0.3,
             "#f1b6da"
            ],
            [
             0.4,
             "#fde0ef"
            ],
            [
             0.5,
             "#f7f7f7"
            ],
            [
             0.6,
             "#e6f5d0"
            ],
            [
             0.7,
             "#b8e186"
            ],
            [
             0.8,
             "#7fbc41"
            ],
            [
             0.9,
             "#4d9221"
            ],
            [
             1,
             "#276419"
            ]
           ],
           "sequential": [
            [
             0,
             "#0d0887"
            ],
            [
             0.1111111111111111,
             "#46039f"
            ],
            [
             0.2222222222222222,
             "#7201a8"
            ],
            [
             0.3333333333333333,
             "#9c179e"
            ],
            [
             0.4444444444444444,
             "#bd3786"
            ],
            [
             0.5555555555555556,
             "#d8576b"
            ],
            [
             0.6666666666666666,
             "#ed7953"
            ],
            [
             0.7777777777777778,
             "#fb9f3a"
            ],
            [
             0.8888888888888888,
             "#fdca26"
            ],
            [
             1,
             "#f0f921"
            ]
           ],
           "sequentialminus": [
            [
             0,
             "#0d0887"
            ],
            [
             0.1111111111111111,
             "#46039f"
            ],
            [
             0.2222222222222222,
             "#7201a8"
            ],
            [
             0.3333333333333333,
             "#9c179e"
            ],
            [
             0.4444444444444444,
             "#bd3786"
            ],
            [
             0.5555555555555556,
             "#d8576b"
            ],
            [
             0.6666666666666666,
             "#ed7953"
            ],
            [
             0.7777777777777778,
             "#fb9f3a"
            ],
            [
             0.8888888888888888,
             "#fdca26"
            ],
            [
             1,
             "#f0f921"
            ]
           ]
          },
          "colorway": [
           "#636efa",
           "#EF553B",
           "#00cc96",
           "#ab63fa",
           "#FFA15A",
           "#19d3f3",
           "#FF6692",
           "#B6E880",
           "#FF97FF",
           "#FECB52"
          ],
          "font": {
           "color": "#2a3f5f"
          },
          "geo": {
           "bgcolor": "white",
           "lakecolor": "white",
           "landcolor": "white",
           "showlakes": true,
           "showland": true,
           "subunitcolor": "#C8D4E3"
          },
          "hoverlabel": {
           "align": "left"
          },
          "hovermode": "closest",
          "mapbox": {
           "style": "light"
          },
          "paper_bgcolor": "white",
          "plot_bgcolor": "white",
          "polar": {
           "angularaxis": {
            "gridcolor": "#EBF0F8",
            "linecolor": "#EBF0F8",
            "ticks": ""
           },
           "bgcolor": "white",
           "radialaxis": {
            "gridcolor": "#EBF0F8",
            "linecolor": "#EBF0F8",
            "ticks": ""
           }
          },
          "scene": {
           "xaxis": {
            "backgroundcolor": "white",
            "gridcolor": "#DFE8F3",
            "gridwidth": 2,
            "linecolor": "#EBF0F8",
            "showbackground": true,
            "ticks": "",
            "zerolinecolor": "#EBF0F8"
           },
           "yaxis": {
            "backgroundcolor": "white",
            "gridcolor": "#DFE8F3",
            "gridwidth": 2,
            "linecolor": "#EBF0F8",
            "showbackground": true,
            "ticks": "",
            "zerolinecolor": "#EBF0F8"
           },
           "zaxis": {
            "backgroundcolor": "white",
            "gridcolor": "#DFE8F3",
            "gridwidth": 2,
            "linecolor": "#EBF0F8",
            "showbackground": true,
            "ticks": "",
            "zerolinecolor": "#EBF0F8"
           }
          },
          "shapedefaults": {
           "line": {
            "color": "#2a3f5f"
           }
          },
          "ternary": {
           "aaxis": {
            "gridcolor": "#DFE8F3",
            "linecolor": "#A2B1C6",
            "ticks": ""
           },
           "baxis": {
            "gridcolor": "#DFE8F3",
            "linecolor": "#A2B1C6",
            "ticks": ""
           },
           "bgcolor": "white",
           "caxis": {
            "gridcolor": "#DFE8F3",
            "linecolor": "#A2B1C6",
            "ticks": ""
           }
          },
          "title": {
           "x": 0.05
          },
          "xaxis": {
           "automargin": true,
           "gridcolor": "#EBF0F8",
           "linecolor": "#EBF0F8",
           "ticks": "",
           "title": {
            "standoff": 15
           },
           "zerolinecolor": "#EBF0F8",
           "zerolinewidth": 2
          },
          "yaxis": {
           "automargin": true,
           "gridcolor": "#EBF0F8",
           "linecolor": "#EBF0F8",
           "ticks": "",
           "title": {
            "standoff": 15
           },
           "zerolinecolor": "#EBF0F8",
           "zerolinewidth": 2
          }
         }
        },
        "title": {
         "text": "Comparison of avg. Length of interaction"
        },
        "yaxis": {
         "title": {
          "text": "Length of interaction [s]"
         }
        }
       }
      }
     },
     "metadata": {}
    }
   ],
   "source": [
    "# Avg. length of interaction\n",
    "\n",
    "canceled_users = np.array(spark.sql(\"SELECT userId, AVG(length) FROM data_cleaned WHERE userId IN \\\n",
    "                        (SELECT userId FROM data_cleaned WHERE page = 'Cancellation Confirmation') \\\n",
    "                        GROUP BY userId\").collect())\n",
    "non_canceled_users = np.array(spark.sql(\"SELECT userId, AVG(length) FROM data_cleaned WHERE userId NOT IN \\\n",
    "                        (SELECT userId FROM data_cleaned WHERE page = 'Cancellation Confirmation') \\\n",
    "                        GROUP BY userId\").collect())\n",
    "\n",
    "fig = go.Figure()\n",
    "fig.add_trace(go.Box(y=canceled_users[:,1], name = 'cancelling users'))  \n",
    "fig.add_trace(go.Box(y=non_canceled_users[:,1], name = 'non cancelling users')) \n",
    "fig.update_yaxes(title_text='Length of interaction [s]')\n",
    "fig.update_layout(title_text=\"Comparison of avg. length of interaction\",\n",
    "                  template='plotly_white')\n",
    "fig.show()"
   ]
  },
  {
   "cell_type": "markdown",
   "metadata": {},
   "source": [
    "- Avg. length of interaction is very similar"
   ]
  },
  {
   "cell_type": "code",
   "execution_count": 113,
   "metadata": {},
   "outputs": [
    {
     "output_type": "display_data",
     "data": {
      "application/vnd.plotly.v1+json": {
       "config": {
        "plotlyServerURL": "https://plot.ly"
       },
       "data": [
        {
         "mode": "lines+markers",
         "name": "Time spend per session user 51",
         "type": "scatter",
         "x": [
          427367.4430555556,
          427403.405,
          427443.58444444445,
          427499.5941666667,
          427568.01472222223,
          427599.41194444447,
          427661.45972222224,
          427677.675,
          427699.3152777778,
          427711.6588888889
         ],
         "y": [
          123496.08161999991,
          4267.512739999999,
          92503.78526000003,
          63234.23038000005,
          49803.24369,
          100988.65822999997,
          6939.806799999999,
          28391.36435,
          14970.28218,
          38680.87755
         ]
        },
        {
         "mode": "lines",
         "name": "Linear fit",
         "type": "scatter",
         "x": [
          427367.4430555556,
          427405.68925925926,
          427443.93546296295,
          427482.1816666667,
          427520.4278703704,
          427558.6740740741,
          427596.92027777777,
          427635.1664814815,
          427673.4126851852,
          427711.6588888889
         ],
         "y": [
          84725.02085381746,
          78393.92428129911,
          72062.82770879567,
          65731.73113626242,
          59400.63456374407,
          53069.53799124062,
          46738.44141872227,
          40407.34484618902,
          34076.248273685575,
          27745.151701167226
         ]
        }
       ],
       "layout": {
        "template": {
         "data": {
          "bar": [
           {
            "error_x": {
             "color": "#2a3f5f"
            },
            "error_y": {
             "color": "#2a3f5f"
            },
            "marker": {
             "line": {
              "color": "white",
              "width": 0.5
             }
            },
            "type": "bar"
           }
          ],
          "barpolar": [
           {
            "marker": {
             "line": {
              "color": "white",
              "width": 0.5
             }
            },
            "type": "barpolar"
           }
          ],
          "carpet": [
           {
            "aaxis": {
             "endlinecolor": "#2a3f5f",
             "gridcolor": "#C8D4E3",
             "linecolor": "#C8D4E3",
             "minorgridcolor": "#C8D4E3",
             "startlinecolor": "#2a3f5f"
            },
            "baxis": {
             "endlinecolor": "#2a3f5f",
             "gridcolor": "#C8D4E3",
             "linecolor": "#C8D4E3",
             "minorgridcolor": "#C8D4E3",
             "startlinecolor": "#2a3f5f"
            },
            "type": "carpet"
           }
          ],
          "choropleth": [
           {
            "colorbar": {
             "outlinewidth": 0,
             "ticks": ""
            },
            "type": "choropleth"
           }
          ],
          "contour": [
           {
            "colorbar": {
             "outlinewidth": 0,
             "ticks": ""
            },
            "colorscale": [
             [
              0,
              "#0d0887"
             ],
             [
              0.1111111111111111,
              "#46039f"
             ],
             [
              0.2222222222222222,
              "#7201a8"
             ],
             [
              0.3333333333333333,
              "#9c179e"
             ],
             [
              0.4444444444444444,
              "#bd3786"
             ],
             [
              0.5555555555555556,
              "#d8576b"
             ],
             [
              0.6666666666666666,
              "#ed7953"
             ],
             [
              0.7777777777777778,
              "#fb9f3a"
             ],
             [
              0.8888888888888888,
              "#fdca26"
             ],
             [
              1,
              "#f0f921"
             ]
            ],
            "type": "contour"
           }
          ],
          "contourcarpet": [
           {
            "colorbar": {
             "outlinewidth": 0,
             "ticks": ""
            },
            "type": "contourcarpet"
           }
          ],
          "heatmap": [
           {
            "colorbar": {
             "outlinewidth": 0,
             "ticks": ""
            },
            "colorscale": [
             [
              0,
              "#0d0887"
             ],
             [
              0.1111111111111111,
              "#46039f"
             ],
             [
              0.2222222222222222,
              "#7201a8"
             ],
             [
              0.3333333333333333,
              "#9c179e"
             ],
             [
              0.4444444444444444,
              "#bd3786"
             ],
             [
              0.5555555555555556,
              "#d8576b"
             ],
             [
              0.6666666666666666,
              "#ed7953"
             ],
             [
              0.7777777777777778,
              "#fb9f3a"
             ],
             [
              0.8888888888888888,
              "#fdca26"
             ],
             [
              1,
              "#f0f921"
             ]
            ],
            "type": "heatmap"
           }
          ],
          "heatmapgl": [
           {
            "colorbar": {
             "outlinewidth": 0,
             "ticks": ""
            },
            "colorscale": [
             [
              0,
              "#0d0887"
             ],
             [
              0.1111111111111111,
              "#46039f"
             ],
             [
              0.2222222222222222,
              "#7201a8"
             ],
             [
              0.3333333333333333,
              "#9c179e"
             ],
             [
              0.4444444444444444,
              "#bd3786"
             ],
             [
              0.5555555555555556,
              "#d8576b"
             ],
             [
              0.6666666666666666,
              "#ed7953"
             ],
             [
              0.7777777777777778,
              "#fb9f3a"
             ],
             [
              0.8888888888888888,
              "#fdca26"
             ],
             [
              1,
              "#f0f921"
             ]
            ],
            "type": "heatmapgl"
           }
          ],
          "histogram": [
           {
            "marker": {
             "colorbar": {
              "outlinewidth": 0,
              "ticks": ""
             }
            },
            "type": "histogram"
           }
          ],
          "histogram2d": [
           {
            "colorbar": {
             "outlinewidth": 0,
             "ticks": ""
            },
            "colorscale": [
             [
              0,
              "#0d0887"
             ],
             [
              0.1111111111111111,
              "#46039f"
             ],
             [
              0.2222222222222222,
              "#7201a8"
             ],
             [
              0.3333333333333333,
              "#9c179e"
             ],
             [
              0.4444444444444444,
              "#bd3786"
             ],
             [
              0.5555555555555556,
              "#d8576b"
             ],
             [
              0.6666666666666666,
              "#ed7953"
             ],
             [
              0.7777777777777778,
              "#fb9f3a"
             ],
             [
              0.8888888888888888,
              "#fdca26"
             ],
             [
              1,
              "#f0f921"
             ]
            ],
            "type": "histogram2d"
           }
          ],
          "histogram2dcontour": [
           {
            "colorbar": {
             "outlinewidth": 0,
             "ticks": ""
            },
            "colorscale": [
             [
              0,
              "#0d0887"
             ],
             [
              0.1111111111111111,
              "#46039f"
             ],
             [
              0.2222222222222222,
              "#7201a8"
             ],
             [
              0.3333333333333333,
              "#9c179e"
             ],
             [
              0.4444444444444444,
              "#bd3786"
             ],
             [
              0.5555555555555556,
              "#d8576b"
             ],
             [
              0.6666666666666666,
              "#ed7953"
             ],
             [
              0.7777777777777778,
              "#fb9f3a"
             ],
             [
              0.8888888888888888,
              "#fdca26"
             ],
             [
              1,
              "#f0f921"
             ]
            ],
            "type": "histogram2dcontour"
           }
          ],
          "mesh3d": [
           {
            "colorbar": {
             "outlinewidth": 0,
             "ticks": ""
            },
            "type": "mesh3d"
           }
          ],
          "parcoords": [
           {
            "line": {
             "colorbar": {
              "outlinewidth": 0,
              "ticks": ""
             }
            },
            "type": "parcoords"
           }
          ],
          "pie": [
           {
            "automargin": true,
            "type": "pie"
           }
          ],
          "scatter": [
           {
            "marker": {
             "colorbar": {
              "outlinewidth": 0,
              "ticks": ""
             }
            },
            "type": "scatter"
           }
          ],
          "scatter3d": [
           {
            "line": {
             "colorbar": {
              "outlinewidth": 0,
              "ticks": ""
             }
            },
            "marker": {
             "colorbar": {
              "outlinewidth": 0,
              "ticks": ""
             }
            },
            "type": "scatter3d"
           }
          ],
          "scattercarpet": [
           {
            "marker": {
             "colorbar": {
              "outlinewidth": 0,
              "ticks": ""
             }
            },
            "type": "scattercarpet"
           }
          ],
          "scattergeo": [
           {
            "marker": {
             "colorbar": {
              "outlinewidth": 0,
              "ticks": ""
             }
            },
            "type": "scattergeo"
           }
          ],
          "scattergl": [
           {
            "marker": {
             "colorbar": {
              "outlinewidth": 0,
              "ticks": ""
             }
            },
            "type": "scattergl"
           }
          ],
          "scattermapbox": [
           {
            "marker": {
             "colorbar": {
              "outlinewidth": 0,
              "ticks": ""
             }
            },
            "type": "scattermapbox"
           }
          ],
          "scatterpolar": [
           {
            "marker": {
             "colorbar": {
              "outlinewidth": 0,
              "ticks": ""
             }
            },
            "type": "scatterpolar"
           }
          ],
          "scatterpolargl": [
           {
            "marker": {
             "colorbar": {
              "outlinewidth": 0,
              "ticks": ""
             }
            },
            "type": "scatterpolargl"
           }
          ],
          "scatterternary": [
           {
            "marker": {
             "colorbar": {
              "outlinewidth": 0,
              "ticks": ""
             }
            },
            "type": "scatterternary"
           }
          ],
          "surface": [
           {
            "colorbar": {
             "outlinewidth": 0,
             "ticks": ""
            },
            "colorscale": [
             [
              0,
              "#0d0887"
             ],
             [
              0.1111111111111111,
              "#46039f"
             ],
             [
              0.2222222222222222,
              "#7201a8"
             ],
             [
              0.3333333333333333,
              "#9c179e"
             ],
             [
              0.4444444444444444,
              "#bd3786"
             ],
             [
              0.5555555555555556,
              "#d8576b"
             ],
             [
              0.6666666666666666,
              "#ed7953"
             ],
             [
              0.7777777777777778,
              "#fb9f3a"
             ],
             [
              0.8888888888888888,
              "#fdca26"
             ],
             [
              1,
              "#f0f921"
             ]
            ],
            "type": "surface"
           }
          ],
          "table": [
           {
            "cells": {
             "fill": {
              "color": "#EBF0F8"
             },
             "line": {
              "color": "white"
             }
            },
            "header": {
             "fill": {
              "color": "#C8D4E3"
             },
             "line": {
              "color": "white"
             }
            },
            "type": "table"
           }
          ]
         },
         "layout": {
          "annotationdefaults": {
           "arrowcolor": "#2a3f5f",
           "arrowhead": 0,
           "arrowwidth": 1
          },
          "coloraxis": {
           "colorbar": {
            "outlinewidth": 0,
            "ticks": ""
           }
          },
          "colorscale": {
           "diverging": [
            [
             0,
             "#8e0152"
            ],
            [
             0.1,
             "#c51b7d"
            ],
            [
             0.2,
             "#de77ae"
            ],
            [
             0.3,
             "#f1b6da"
            ],
            [
             0.4,
             "#fde0ef"
            ],
            [
             0.5,
             "#f7f7f7"
            ],
            [
             0.6,
             "#e6f5d0"
            ],
            [
             0.7,
             "#b8e186"
            ],
            [
             0.8,
             "#7fbc41"
            ],
            [
             0.9,
             "#4d9221"
            ],
            [
             1,
             "#276419"
            ]
           ],
           "sequential": [
            [
             0,
             "#0d0887"
            ],
            [
             0.1111111111111111,
             "#46039f"
            ],
            [
             0.2222222222222222,
             "#7201a8"
            ],
            [
             0.3333333333333333,
             "#9c179e"
            ],
            [
             0.4444444444444444,
             "#bd3786"
            ],
            [
             0.5555555555555556,
             "#d8576b"
            ],
            [
             0.6666666666666666,
             "#ed7953"
            ],
            [
             0.7777777777777778,
             "#fb9f3a"
            ],
            [
             0.8888888888888888,
             "#fdca26"
            ],
            [
             1,
             "#f0f921"
            ]
           ],
           "sequentialminus": [
            [
             0,
             "#0d0887"
            ],
            [
             0.1111111111111111,
             "#46039f"
            ],
            [
             0.2222222222222222,
             "#7201a8"
            ],
            [
             0.3333333333333333,
             "#9c179e"
            ],
            [
             0.4444444444444444,
             "#bd3786"
            ],
            [
             0.5555555555555556,
             "#d8576b"
            ],
            [
             0.6666666666666666,
             "#ed7953"
            ],
            [
             0.7777777777777778,
             "#fb9f3a"
            ],
            [
             0.8888888888888888,
             "#fdca26"
            ],
            [
             1,
             "#f0f921"
            ]
           ]
          },
          "colorway": [
           "#636efa",
           "#EF553B",
           "#00cc96",
           "#ab63fa",
           "#FFA15A",
           "#19d3f3",
           "#FF6692",
           "#B6E880",
           "#FF97FF",
           "#FECB52"
          ],
          "font": {
           "color": "#2a3f5f"
          },
          "geo": {
           "bgcolor": "white",
           "lakecolor": "white",
           "landcolor": "white",
           "showlakes": true,
           "showland": true,
           "subunitcolor": "#C8D4E3"
          },
          "hoverlabel": {
           "align": "left"
          },
          "hovermode": "closest",
          "mapbox": {
           "style": "light"
          },
          "paper_bgcolor": "white",
          "plot_bgcolor": "white",
          "polar": {
           "angularaxis": {
            "gridcolor": "#EBF0F8",
            "linecolor": "#EBF0F8",
            "ticks": ""
           },
           "bgcolor": "white",
           "radialaxis": {
            "gridcolor": "#EBF0F8",
            "linecolor": "#EBF0F8",
            "ticks": ""
           }
          },
          "scene": {
           "xaxis": {
            "backgroundcolor": "white",
            "gridcolor": "#DFE8F3",
            "gridwidth": 2,
            "linecolor": "#EBF0F8",
            "showbackground": true,
            "ticks": "",
            "zerolinecolor": "#EBF0F8"
           },
           "yaxis": {
            "backgroundcolor": "white",
            "gridcolor": "#DFE8F3",
            "gridwidth": 2,
            "linecolor": "#EBF0F8",
            "showbackground": true,
            "ticks": "",
            "zerolinecolor": "#EBF0F8"
           },
           "zaxis": {
            "backgroundcolor": "white",
            "gridcolor": "#DFE8F3",
            "gridwidth": 2,
            "linecolor": "#EBF0F8",
            "showbackground": true,
            "ticks": "",
            "zerolinecolor": "#EBF0F8"
           }
          },
          "shapedefaults": {
           "line": {
            "color": "#2a3f5f"
           }
          },
          "ternary": {
           "aaxis": {
            "gridcolor": "#DFE8F3",
            "linecolor": "#A2B1C6",
            "ticks": ""
           },
           "baxis": {
            "gridcolor": "#DFE8F3",
            "linecolor": "#A2B1C6",
            "ticks": ""
           },
           "bgcolor": "white",
           "caxis": {
            "gridcolor": "#DFE8F3",
            "linecolor": "#A2B1C6",
            "ticks": ""
           }
          },
          "title": {
           "x": 0.05
          },
          "xaxis": {
           "automargin": true,
           "gridcolor": "#EBF0F8",
           "linecolor": "#EBF0F8",
           "ticks": "",
           "title": {
            "standoff": 15
           },
           "zerolinecolor": "#EBF0F8",
           "zerolinewidth": 2
          },
          "yaxis": {
           "automargin": true,
           "gridcolor": "#EBF0F8",
           "linecolor": "#EBF0F8",
           "ticks": "",
           "title": {
            "standoff": 15
           },
           "zerolinecolor": "#EBF0F8",
           "zerolinewidth": 2
          }
         }
        },
        "title": {
         "text": "Change in time spend per session over time for user 51"
        },
        "xaxis": {
         "title": {
          "text": "Time stamp in [h]"
         }
        },
        "yaxis": {
         "title": {
          "text": "Sum of lengths per interaction [s]"
         }
        }
       }
      }
     },
     "metadata": {}
    }
   ],
   "source": [
    "# Change of time per session id\n",
    "\"\"\"\n",
    "We want to investigate the change of time spend per session, therefore we extract the sum of the lengths of all interactions or songs played for every session and take the last time stamp recorded for the id of the session. Then we calculate a simple linear fit for each user. If the gradient of the line is positive, the time spend per session is increasing and vice versa. The principle is shown for user 51 who canceled his subscription.\n",
    "\"\"\"\n",
    "\n",
    "canceled_user_ids =np.array(spark.sql(\"SELECT DISTINCT(userId) FROM data_cleaned WHERE userId IN \\\n",
    "                         (SELECT userId FROM data_cleaned WHERE page = 'Cancellation Confirmation')\").collect())\n",
    "non_canceled_user_ids =np.array(spark.sql(\"SELECT DISTINCT(userId) FROM data_cleaned WHERE userId NOT IN \\\n",
    "                         (SELECT userId FROM data_cleaned WHERE page = 'Cancellation Confirmation')\").collect())\n",
    "\n",
    "user = 51\n",
    "arr = np.array(spark.sql(f\"SELECT sessionId, SUM(length), MAX(ts)/1000/3600 FROM data_cleaned WHERE userId = {user} GROUP BY sessionId ORDER BY MAX(ts)\").collect())\n",
    "\n",
    "# Get time spend per individual session, calculate if positive or negative trend (linear regression)\n",
    "model = np.polyfit(arr[:,2], arr[:,1], 1)\n",
    "predict = np.poly1d(model)\n",
    "x_pred = np.linspace(min(arr[:,2]), max(arr[:,2]),10)\n",
    "y_pred = predict(x_pred)\n",
    "\n",
    "fig = go.Figure()\n",
    "fig.add_trace(go.Scatter(x=arr[:,2], y=arr[:,1], mode=\"lines+markers\", name=f\"Time spend per session user {user}\"))\n",
    "fig.add_trace(go.Scatter(x=x_pred, y=y_pred, mode=\"lines\", name=f\"Linear fit\"))\n",
    "fig.update_yaxes(title_text='Sum of lengths per interaction [s]')\n",
    "fig.update_xaxes(title_text='Time stamp in [h]')\n",
    "fig.update_layout(title_text=f\"Change in time spend per session over time for user {user}\",\n",
    "                  template='plotly_white')\n",
    "fig.show()\n"
   ]
  },
  {
   "cell_type": "markdown",
   "metadata": {},
   "source": [
    "For this cancelling user the time spend per session is decreasing, the gradient of the line therefore negative. The gradients are now calculated for all individual users"
   ]
  },
  {
   "cell_type": "code",
   "execution_count": 193,
   "metadata": {},
   "outputs": [
    {
     "output_type": "stream",
     "name": "stderr",
     "text": "100%|██████████| 52/52 [00:48<00:00,  1.08it/s]\n100%|██████████| 173/173 [02:46<00:00,  1.04it/s]\n"
    },
    {
     "output_type": "display_data",
     "data": {
      "application/vnd.plotly.v1+json": {
       "config": {
        "plotlyServerURL": "https://plot.ly"
       },
       "data": [
        {
         "name": "cancelling users",
         "type": "box",
         "y": [
          0,
          -165.53529394877074,
          null,
          -3.8720082446644497,
          98.81557438187228,
          23.485502448083334,
          3.7722766217999064,
          -27.185634709312374,
          18.16006669687606,
          18.38691607180483,
          null,
          -6.841061024971096,
          50.70516027269422,
          0,
          0,
          148.1718894520056,
          -4.871702109998971,
          null,
          305.0493190175438,
          1.2565034299295108,
          null,
          24.551278419042482,
          -2.3783225539433497,
          19.979091978447176,
          238.35313807373748,
          null,
          0,
          null,
          null,
          18.01208437646877,
          40.098960028269694,
          0,
          156.22872120281838,
          null,
          25.349542926077742,
          11.928439759551578,
          null,
          4.741910911775156,
          4.064508789631911,
          24.80575407925568,
          null,
          154.96130461380815,
          -7.931242365223283,
          -10.19633828540384,
          null,
          0,
          59.57185360783739,
          -3.855836182865333,
          null,
          null,
          null,
          -116.00635657473207
         ]
        },
        {
         "name": "non cancelling users",
         "type": "box",
         "y": [
          5.739941064301551,
          26.01312609154766,
          null,
          -0.7906687095064776,
          null,
          70.38107203948016,
          20.82947704918427,
          0.5073105816065466,
          11.55484912597597,
          61.51374933448005,
          null,
          12.217747088357362,
          null,
          null,
          12.398101126049436,
          -20.90018036541242,
          null,
          null,
          -1.3974516155682972,
          0,
          null,
          0.9745800716015531,
          -23.42985903002606,
          -17.56761163508533,
          15.76472702069649,
          null,
          36.49786719545544,
          null,
          26.059840727414464,
          null,
          -26.898546831206207,
          -8.764131368875173,
          -20.322332546983105,
          22.815611653078435,
          10.921988262808746,
          14.201328340865787,
          null,
          42.31520976694063,
          0.030422886484527893,
          -16.23621140819321,
          22.4298646083972,
          41.7075924742555,
          17.90180693272752,
          -11.254137138670243,
          null,
          null,
          null,
          2.9020170847688243,
          -5.679659144465427,
          null,
          null,
          null,
          -4.808954635319675,
          -24.14305990100028,
          null,
          14.080867271521111,
          32.21127540014779,
          null,
          -5.762988733265827,
          -0.9512705987779341,
          null,
          38.46248866837563,
          null,
          null,
          -3.284119682043338,
          16.349216146218925,
          39.517805765923065,
          null,
          null,
          7.351050391256809,
          3.625230917996276,
          -0.9089790597512479,
          null,
          null,
          0,
          0.6856977921199043,
          0,
          -3.0442452203722374,
          null,
          200.90309106570263,
          -3.0343070778766825,
          19.789499493013665,
          8.805017223783919,
          49.35939428112776,
          7.71358744813242,
          null,
          -2.8085845272458867,
          22.55162390142355,
          36.13993407314098,
          -7.948286936659023,
          -17.456539651499583,
          -11.171642203721753,
          0,
          133.72740062117418,
          0,
          null,
          -51.82543987230355,
          null,
          null,
          null,
          -0.5260528075445458,
          21.704703854588733,
          0.6180077194345232,
          21.02697358370491,
          null,
          19.677797854903016,
          21.018658233639776,
          null,
          null,
          null,
          0,
          -99.1996084572471,
          null,
          -5.075722352827487,
          21.429701837351285,
          null,
          -5.966927732375119,
          -14.72112967729938,
          2.9835100650717905,
          null,
          null,
          -5.966501377774638,
          null,
          29.715977553110235,
          -0.17100992675364385,
          -18.844248686008516,
          null,
          -3.074826540209992,
          -19.64988483475382,
          null,
          25.609849492809044,
          null,
          -20.188091377463678,
          -25.316398172314905,
          null,
          -15.022483878757253,
          -38.07541974182465,
          -2.9120882584383114,
          null,
          -21.839048608566365,
          0,
          1.8212836718598597,
          null,
          14.088167264632892,
          null,
          60.47886152632609,
          29.252028956378727,
          null,
          -2.982182474849245,
          -0.08422254746703156,
          -13.484465511020678,
          9.972496791302772,
          -16.106024931981025,
          17.369135454161892,
          -16.279026924142816,
          null,
          -1.4036138212283236,
          83.25631656977635,
          null,
          17.8086680018191,
          0,
          null,
          0,
          3.187156390081012,
          -53.66761925477492,
          7.887919227232831,
          null,
          7.671533730142436,
          12.772465971050798,
          null,
          null,
          -2.945399628530279,
          -5.2534886694760425
         ]
        }
       ],
       "layout": {
        "template": {
         "data": {
          "bar": [
           {
            "error_x": {
             "color": "#2a3f5f"
            },
            "error_y": {
             "color": "#2a3f5f"
            },
            "marker": {
             "line": {
              "color": "white",
              "width": 0.5
             }
            },
            "type": "bar"
           }
          ],
          "barpolar": [
           {
            "marker": {
             "line": {
              "color": "white",
              "width": 0.5
             }
            },
            "type": "barpolar"
           }
          ],
          "carpet": [
           {
            "aaxis": {
             "endlinecolor": "#2a3f5f",
             "gridcolor": "#C8D4E3",
             "linecolor": "#C8D4E3",
             "minorgridcolor": "#C8D4E3",
             "startlinecolor": "#2a3f5f"
            },
            "baxis": {
             "endlinecolor": "#2a3f5f",
             "gridcolor": "#C8D4E3",
             "linecolor": "#C8D4E3",
             "minorgridcolor": "#C8D4E3",
             "startlinecolor": "#2a3f5f"
            },
            "type": "carpet"
           }
          ],
          "choropleth": [
           {
            "colorbar": {
             "outlinewidth": 0,
             "ticks": ""
            },
            "type": "choropleth"
           }
          ],
          "contour": [
           {
            "colorbar": {
             "outlinewidth": 0,
             "ticks": ""
            },
            "colorscale": [
             [
              0,
              "#0d0887"
             ],
             [
              0.1111111111111111,
              "#46039f"
             ],
             [
              0.2222222222222222,
              "#7201a8"
             ],
             [
              0.3333333333333333,
              "#9c179e"
             ],
             [
              0.4444444444444444,
              "#bd3786"
             ],
             [
              0.5555555555555556,
              "#d8576b"
             ],
             [
              0.6666666666666666,
              "#ed7953"
             ],
             [
              0.7777777777777778,
              "#fb9f3a"
             ],
             [
              0.8888888888888888,
              "#fdca26"
             ],
             [
              1,
              "#f0f921"
             ]
            ],
            "type": "contour"
           }
          ],
          "contourcarpet": [
           {
            "colorbar": {
             "outlinewidth": 0,
             "ticks": ""
            },
            "type": "contourcarpet"
           }
          ],
          "heatmap": [
           {
            "colorbar": {
             "outlinewidth": 0,
             "ticks": ""
            },
            "colorscale": [
             [
              0,
              "#0d0887"
             ],
             [
              0.1111111111111111,
              "#46039f"
             ],
             [
              0.2222222222222222,
              "#7201a8"
             ],
             [
              0.3333333333333333,
              "#9c179e"
             ],
             [
              0.4444444444444444,
              "#bd3786"
             ],
             [
              0.5555555555555556,
              "#d8576b"
             ],
             [
              0.6666666666666666,
              "#ed7953"
             ],
             [
              0.7777777777777778,
              "#fb9f3a"
             ],
             [
              0.8888888888888888,
              "#fdca26"
             ],
             [
              1,
              "#f0f921"
             ]
            ],
            "type": "heatmap"
           }
          ],
          "heatmapgl": [
           {
            "colorbar": {
             "outlinewidth": 0,
             "ticks": ""
            },
            "colorscale": [
             [
              0,
              "#0d0887"
             ],
             [
              0.1111111111111111,
              "#46039f"
             ],
             [
              0.2222222222222222,
              "#7201a8"
             ],
             [
              0.3333333333333333,
              "#9c179e"
             ],
             [
              0.4444444444444444,
              "#bd3786"
             ],
             [
              0.5555555555555556,
              "#d8576b"
             ],
             [
              0.6666666666666666,
              "#ed7953"
             ],
             [
              0.7777777777777778,
              "#fb9f3a"
             ],
             [
              0.8888888888888888,
              "#fdca26"
             ],
             [
              1,
              "#f0f921"
             ]
            ],
            "type": "heatmapgl"
           }
          ],
          "histogram": [
           {
            "marker": {
             "colorbar": {
              "outlinewidth": 0,
              "ticks": ""
             }
            },
            "type": "histogram"
           }
          ],
          "histogram2d": [
           {
            "colorbar": {
             "outlinewidth": 0,
             "ticks": ""
            },
            "colorscale": [
             [
              0,
              "#0d0887"
             ],
             [
              0.1111111111111111,
              "#46039f"
             ],
             [
              0.2222222222222222,
              "#7201a8"
             ],
             [
              0.3333333333333333,
              "#9c179e"
             ],
             [
              0.4444444444444444,
              "#bd3786"
             ],
             [
              0.5555555555555556,
              "#d8576b"
             ],
             [
              0.6666666666666666,
              "#ed7953"
             ],
             [
              0.7777777777777778,
              "#fb9f3a"
             ],
             [
              0.8888888888888888,
              "#fdca26"
             ],
             [
              1,
              "#f0f921"
             ]
            ],
            "type": "histogram2d"
           }
          ],
          "histogram2dcontour": [
           {
            "colorbar": {
             "outlinewidth": 0,
             "ticks": ""
            },
            "colorscale": [
             [
              0,
              "#0d0887"
             ],
             [
              0.1111111111111111,
              "#46039f"
             ],
             [
              0.2222222222222222,
              "#7201a8"
             ],
             [
              0.3333333333333333,
              "#9c179e"
             ],
             [
              0.4444444444444444,
              "#bd3786"
             ],
             [
              0.5555555555555556,
              "#d8576b"
             ],
             [
              0.6666666666666666,
              "#ed7953"
             ],
             [
              0.7777777777777778,
              "#fb9f3a"
             ],
             [
              0.8888888888888888,
              "#fdca26"
             ],
             [
              1,
              "#f0f921"
             ]
            ],
            "type": "histogram2dcontour"
           }
          ],
          "mesh3d": [
           {
            "colorbar": {
             "outlinewidth": 0,
             "ticks": ""
            },
            "type": "mesh3d"
           }
          ],
          "parcoords": [
           {
            "line": {
             "colorbar": {
              "outlinewidth": 0,
              "ticks": ""
             }
            },
            "type": "parcoords"
           }
          ],
          "pie": [
           {
            "automargin": true,
            "type": "pie"
           }
          ],
          "scatter": [
           {
            "marker": {
             "colorbar": {
              "outlinewidth": 0,
              "ticks": ""
             }
            },
            "type": "scatter"
           }
          ],
          "scatter3d": [
           {
            "line": {
             "colorbar": {
              "outlinewidth": 0,
              "ticks": ""
             }
            },
            "marker": {
             "colorbar": {
              "outlinewidth": 0,
              "ticks": ""
             }
            },
            "type": "scatter3d"
           }
          ],
          "scattercarpet": [
           {
            "marker": {
             "colorbar": {
              "outlinewidth": 0,
              "ticks": ""
             }
            },
            "type": "scattercarpet"
           }
          ],
          "scattergeo": [
           {
            "marker": {
             "colorbar": {
              "outlinewidth": 0,
              "ticks": ""
             }
            },
            "type": "scattergeo"
           }
          ],
          "scattergl": [
           {
            "marker": {
             "colorbar": {
              "outlinewidth": 0,
              "ticks": ""
             }
            },
            "type": "scattergl"
           }
          ],
          "scattermapbox": [
           {
            "marker": {
             "colorbar": {
              "outlinewidth": 0,
              "ticks": ""
             }
            },
            "type": "scattermapbox"
           }
          ],
          "scatterpolar": [
           {
            "marker": {
             "colorbar": {
              "outlinewidth": 0,
              "ticks": ""
             }
            },
            "type": "scatterpolar"
           }
          ],
          "scatterpolargl": [
           {
            "marker": {
             "colorbar": {
              "outlinewidth": 0,
              "ticks": ""
             }
            },
            "type": "scatterpolargl"
           }
          ],
          "scatterternary": [
           {
            "marker": {
             "colorbar": {
              "outlinewidth": 0,
              "ticks": ""
             }
            },
            "type": "scatterternary"
           }
          ],
          "surface": [
           {
            "colorbar": {
             "outlinewidth": 0,
             "ticks": ""
            },
            "colorscale": [
             [
              0,
              "#0d0887"
             ],
             [
              0.1111111111111111,
              "#46039f"
             ],
             [
              0.2222222222222222,
              "#7201a8"
             ],
             [
              0.3333333333333333,
              "#9c179e"
             ],
             [
              0.4444444444444444,
              "#bd3786"
             ],
             [
              0.5555555555555556,
              "#d8576b"
             ],
             [
              0.6666666666666666,
              "#ed7953"
             ],
             [
              0.7777777777777778,
              "#fb9f3a"
             ],
             [
              0.8888888888888888,
              "#fdca26"
             ],
             [
              1,
              "#f0f921"
             ]
            ],
            "type": "surface"
           }
          ],
          "table": [
           {
            "cells": {
             "fill": {
              "color": "#EBF0F8"
             },
             "line": {
              "color": "white"
             }
            },
            "header": {
             "fill": {
              "color": "#C8D4E3"
             },
             "line": {
              "color": "white"
             }
            },
            "type": "table"
           }
          ]
         },
         "layout": {
          "annotationdefaults": {
           "arrowcolor": "#2a3f5f",
           "arrowhead": 0,
           "arrowwidth": 1
          },
          "coloraxis": {
           "colorbar": {
            "outlinewidth": 0,
            "ticks": ""
           }
          },
          "colorscale": {
           "diverging": [
            [
             0,
             "#8e0152"
            ],
            [
             0.1,
             "#c51b7d"
            ],
            [
             0.2,
             "#de77ae"
            ],
            [
             0.3,
             "#f1b6da"
            ],
            [
             0.4,
             "#fde0ef"
            ],
            [
             0.5,
             "#f7f7f7"
            ],
            [
             0.6,
             "#e6f5d0"
            ],
            [
             0.7,
             "#b8e186"
            ],
            [
             0.8,
             "#7fbc41"
            ],
            [
             0.9,
             "#4d9221"
            ],
            [
             1,
             "#276419"
            ]
           ],
           "sequential": [
            [
             0,
             "#0d0887"
            ],
            [
             0.1111111111111111,
             "#46039f"
            ],
            [
             0.2222222222222222,
             "#7201a8"
            ],
            [
             0.3333333333333333,
             "#9c179e"
            ],
            [
             0.4444444444444444,
             "#bd3786"
            ],
            [
             0.5555555555555556,
             "#d8576b"
            ],
            [
             0.6666666666666666,
             "#ed7953"
            ],
            [
             0.7777777777777778,
             "#fb9f3a"
            ],
            [
             0.8888888888888888,
             "#fdca26"
            ],
            [
             1,
             "#f0f921"
            ]
           ],
           "sequentialminus": [
            [
             0,
             "#0d0887"
            ],
            [
             0.1111111111111111,
             "#46039f"
            ],
            [
             0.2222222222222222,
             "#7201a8"
            ],
            [
             0.3333333333333333,
             "#9c179e"
            ],
            [
             0.4444444444444444,
             "#bd3786"
            ],
            [
             0.5555555555555556,
             "#d8576b"
            ],
            [
             0.6666666666666666,
             "#ed7953"
            ],
            [
             0.7777777777777778,
             "#fb9f3a"
            ],
            [
             0.8888888888888888,
             "#fdca26"
            ],
            [
             1,
             "#f0f921"
            ]
           ]
          },
          "colorway": [
           "#636efa",
           "#EF553B",
           "#00cc96",
           "#ab63fa",
           "#FFA15A",
           "#19d3f3",
           "#FF6692",
           "#B6E880",
           "#FF97FF",
           "#FECB52"
          ],
          "font": {
           "color": "#2a3f5f"
          },
          "geo": {
           "bgcolor": "white",
           "lakecolor": "white",
           "landcolor": "white",
           "showlakes": true,
           "showland": true,
           "subunitcolor": "#C8D4E3"
          },
          "hoverlabel": {
           "align": "left"
          },
          "hovermode": "closest",
          "mapbox": {
           "style": "light"
          },
          "paper_bgcolor": "white",
          "plot_bgcolor": "white",
          "polar": {
           "angularaxis": {
            "gridcolor": "#EBF0F8",
            "linecolor": "#EBF0F8",
            "ticks": ""
           },
           "bgcolor": "white",
           "radialaxis": {
            "gridcolor": "#EBF0F8",
            "linecolor": "#EBF0F8",
            "ticks": ""
           }
          },
          "scene": {
           "xaxis": {
            "backgroundcolor": "white",
            "gridcolor": "#DFE8F3",
            "gridwidth": 2,
            "linecolor": "#EBF0F8",
            "showbackground": true,
            "ticks": "",
            "zerolinecolor": "#EBF0F8"
           },
           "yaxis": {
            "backgroundcolor": "white",
            "gridcolor": "#DFE8F3",
            "gridwidth": 2,
            "linecolor": "#EBF0F8",
            "showbackground": true,
            "ticks": "",
            "zerolinecolor": "#EBF0F8"
           },
           "zaxis": {
            "backgroundcolor": "white",
            "gridcolor": "#DFE8F3",
            "gridwidth": 2,
            "linecolor": "#EBF0F8",
            "showbackground": true,
            "ticks": "",
            "zerolinecolor": "#EBF0F8"
           }
          },
          "shapedefaults": {
           "line": {
            "color": "#2a3f5f"
           }
          },
          "ternary": {
           "aaxis": {
            "gridcolor": "#DFE8F3",
            "linecolor": "#A2B1C6",
            "ticks": ""
           },
           "baxis": {
            "gridcolor": "#DFE8F3",
            "linecolor": "#A2B1C6",
            "ticks": ""
           },
           "bgcolor": "white",
           "caxis": {
            "gridcolor": "#DFE8F3",
            "linecolor": "#A2B1C6",
            "ticks": ""
           }
          },
          "title": {
           "x": 0.05
          },
          "xaxis": {
           "automargin": true,
           "gridcolor": "#EBF0F8",
           "linecolor": "#EBF0F8",
           "ticks": "",
           "title": {
            "standoff": 15
           },
           "zerolinecolor": "#EBF0F8",
           "zerolinewidth": 2
          },
          "yaxis": {
           "automargin": true,
           "gridcolor": "#EBF0F8",
           "linecolor": "#EBF0F8",
           "ticks": "",
           "title": {
            "standoff": 15
           },
           "zerolinecolor": "#EBF0F8",
           "zerolinewidth": 2
          }
         }
        },
        "title": {
         "text": "Comparison of trend of time spend per session"
        },
        "yaxis": {
         "title": {
          "text": "Trend of time spend per session"
         }
        }
       }
      }
     },
     "metadata": {}
    }
   ],
   "source": [
    "# Calculate for all users\n",
    "canceled_users_length_change = []\n",
    "non_canceled_users_length_change = []\n",
    "\n",
    "# Cancelling users\n",
    "\n",
    "for user in tqdm(canceled_user_ids):\n",
    "    user = int(user[0])\n",
    "    arr = np.array(spark.sql(f\"SELECT sessionId, SUM(length), MAX(ts)/1000/3600 FROM data_cleaned WHERE userId = {user} GROUP BY                                        sessionId ORDER BY MAX(ts)\").collect())\n",
    "    if len(arr)>1:\n",
    "        model = np.polyfit(arr[:,2].astype(float), arr[:,1].astype(float), 1)\n",
    "        canceled_users_length_change.append((user,model[0]))\n",
    "    else:\n",
    "        canceled_users_length_change.append((user,0))\n",
    "\n",
    "# Non canceling users\n",
    "\n",
    "for user in tqdm(non_canceled_user_ids):\n",
    "    user = int(user[0])\n",
    "    arr = np.array(spark.sql(f\"SELECT sessionId, SUM(length), MAX(ts)/1000/3600 FROM data_cleaned WHERE userId = {user} GROUP BY                                        sessionId ORDER BY MAX(ts)\").collect())\n",
    "    if len(arr)>1:\n",
    "        model = np.polyfit(arr[:,2].astype(float), arr[:,1].astype(float), 1)\n",
    "        non_canceled_users_length_change.append((user,model[0]))\n",
    "    else:\n",
    "        non_canceled_users_length_change.append((user,0))\n",
    "\n",
    "canceled_users_length_change = np.array(canceled_users_length_change)\n",
    "non_canceled_users_length_change = np.array(non_canceled_users_length_change)\n",
    "fig = go.Figure()\n",
    "fig.add_trace(go.Box(y=canceled_users_length_change[:,1], name = 'cancelling users', ))  \n",
    "fig.add_trace(go.Box(y=non_canceled_users_length_change[:,1], name = 'non cancelling users', ))\n",
    "fig.update_yaxes(title_text='Trend of time spend per session')\n",
    "fig.update_layout(title_text=\"Comparison of trend of time spend per session\",\n",
    "                  template='plotly_white')\n",
    "fig.show()"
   ]
  },
  {
   "cell_type": "code",
   "execution_count": 166,
   "metadata": {},
   "outputs": [
    {
     "output_type": "stream",
     "name": "stdout",
     "text": "[ 7.68211971e-01 -3.28324505e+05]\n"
    },
    {
     "output_type": "display_data",
     "data": {
      "application/vnd.plotly.v1+json": {
       "config": {
        "plotlyServerURL": "https://plot.ly"
       },
       "data": [
        {
         "mode": "lines+markers",
         "name": "Time spend per session user 121",
         "type": "scatter",
         "x": [
          427711.035,
          427710.93583333335,
          427710.8547222222,
          427710.78055555554,
          427710.7077777778,
          427710.6566666667,
          427710.58972222224,
          427710.4711111111,
          427710.4136111111,
          427710.355,
          427710.2944444445,
          427710.2286111111,
          427710.0988888889,
          427710.03694444447,
          427709.96194444445,
          427709.90277777775,
          427709.8205555556,
          427709.75638888887,
          427709.71194444445,
          427709.6433333333,
          427709.5825,
          427709.51916666667,
          427709.445,
          427709.3611111111,
          427709.31694444444,
          427709.2725,
          427709.205,
          427709.175,
          427709.0936111111,
          427709.0072222222,
          427708.9483333333,
          427708.87166666664,
          427708.8280555556,
          427708.7397222222,
          427708.6747222222,
          427708.6355555556,
          427708.5336111111,
          427708.47555555555,
          427708.4066666667,
          427708.3572222222,
          427708.30861111113,
          427708.2469444444,
          427708.1722222222,
          427708.1016666667,
          427708.0525,
          427707.99083333334,
          427707.9238888889,
          427707.85777777777,
          427707.8063888889,
          427707.62444444443,
          427707.5680555556,
          427707.4822222222,
          427707.42055555555,
          427707.3411111111,
          427707.2477777778,
          427707.1825,
          427707.1022222222,
          427707.02972222224,
          427706.9725,
          427706.91027777776,
          427706.86083333334,
          427706.7936111111,
          427706.73305555555,
          427706.6719444444,
          427706.60527777777,
          427706.54055555555,
          427706.4813888889,
          427706.43055555556,
          427706.3936111111,
          427706.3230555556,
          427706.2727777778,
          427706.2161111111,
          427706.1513888889,
          427706.10583333333,
          427706.0494444444,
          427705.97222222225,
          427705.9325,
          427705.84944444447,
          427705.7761111111,
          427705.71305555553,
          427705.6566666667,
          427705.60333333333,
          427705.52694444446,
          427705.47833333333,
          427705.3197222222,
          427705.2638888889,
          427705.1852777778,
          427705.09805555554,
          427705.0136111111,
          427704.96722222224,
          427704.8588888889,
          427704.77194444445,
          427704.72055555554,
          427704.64694444445,
          427704.58,
          427704.5211111111,
          427704.4838888889,
          427704.4325,
          427704.3847222222,
          427704.32194444444,
          427704.2613888889,
          427704.21194444445,
          427704.1566666667,
          427704.0958333333,
          427704.0486111111,
          427703.9716666667,
          427703.8888888889,
          427703.83194444445,
          427703.8152777778,
          427703.73305555555,
          427703.66777777777,
          427703.5958333333,
          427703.5436111111,
          427703.4338888889,
          427703.3594444444,
          427703.28833333333,
          427703.22944444447,
          427703.1141666667,
          427703.0680555556,
          427702.99333333335,
          427702.93944444443,
          427702.90277777775,
          427702.85277777776,
          427702.7166666667,
          427702.64916666667,
          427702.5886111111,
          427702.5388888889,
          427702.4877777778,
          427702.3152777778,
          427702.24916666665,
          427702.1844444444,
          427702.13666666666,
          427702.07666666666,
          427702.0225,
          427701.9638888889,
          427701.9252777778,
          427701.8566666667,
          427701.81583333336,
          427701.7636111111,
          427701.67305555556,
          427701.5686111111,
          427701.5086111111,
          427701.43555555557,
          427701.3663888889,
          427701.3325,
          427701.2775,
          427701.2111111111,
          427701.1636111111,
          427701.1016666667,
          427701.0047222222,
          427700.9538888889,
          427700.8669444444,
          427700.81388888886,
          427700.74361111113,
          427700.6877777778,
          427700.5494444444,
          427700.49805555557,
          427700.4708333333,
          427700.4241666667,
          427700.3483333333,
          427700.2775,
          427700.2111111111,
          427700.1558333333,
          427700.11916666664,
          427700.0569444444,
          427699.9869444444,
          427699.89944444445,
          427699.79277777777,
          427699.7263888889,
          427699.6563888889,
          427699.5538888889,
          427699.525,
          427699.4708333333,
          427699.39166666666,
          427699.33472222224,
          427699.2525,
          427699.2008333333,
          427699.08666666667,
          427699.03555555554,
          427698.9786111111,
          427698.9038888889,
          427698.8180555556,
          427698.7388888889,
          427698.68111111113,
          427698.62416666665,
          427698.5652777778,
          427698.46472222224,
          427698.3925,
          427698.3102777778,
          427698.25166666665,
          427698.18333333335,
          427698.1483333333,
          427698.08305555553,
          427698.0122222222,
          427697.9422222222,
          427697.88694444444,
          427697.83222222223,
          427697.7661111111,
          427697.69083333336,
          427697.63333333336,
          427697.5747222222,
          427697.50333333336,
          427697.43944444443,
          427697.37944444444,
          427697.3122222222,
          427697.2661111111,
          427697.22222222225,
          427697.1641666667,
          427697.1,
          427697.0466666667,
          427696.93,
          427696.84722222225,
          427696.7888888889,
          427696.725,
          427696.6672222222,
          427696.60083333333,
          427696.53555555554,
          427696.4861111111,
          427696.41777777777,
          427696.3513888889,
          427696.2736111111,
          427696.1977777778,
          427696.12333333335,
          427696.0652777778,
          427695.99166666664,
          427695.93055555556,
          427695.8488888889,
          427695.7858333333,
          427695.7313888889,
          427695.6563888889,
          427695.5908333333,
          427695.5386111111
         ],
         "y": [
          297.9522,
          357.72036,
          292.362,
          267.91138,
          262.42567,
          184.65914,
          241.55383,
          427.15383,
          207.85587,
          211.77424,
          218.06975,
          237.89669,
          467.27791,
          223.00689,
          270.47138,
          213.68118,
          296.04526,
          231.31383,
          160.05179,
          247.97995,
          219.16689,
          228.25751,
          267.96363,
          302.13179,
          159.76444,
          160.05179,
          243.56526,
          108.48608,
          293.8771,
          311.11791,
          212.08771,
          276.74077,
          157.49179,
          318.30159,
          234.9971,
          141.13914,
          367.98649,
          209.37098,
          248.29342,
          178.88608,
          175.25506,
          222.32771,
          269.81832,
          254.09261,
          177.84118,
          222.69342,
          241.52771,
          238.18404,
          185.75628,
          655.77751,
          203.75465,
          309.62893,
          222.6673,
          286.37995,
          336.40444,
          235.85914,
          289.72363,
          261.90322,
          206.05342,
          224.15628,
          178.75546,
          242.59873,
          218.25261,
          220.39465,
          240.61342,
          233.40363,
          213.34159,
          183.27465,
          133.14567,
          254.92853,
          181.41995,
          204.64281,
          233.69098,
          164.15302,
          203.49342,
          278.07302,
          143.56853,
          299.12771,
          264.80281,
          227.57832,
          203.17995,
          192.44363,
          275.27791,
          175.15057,
          571.79383,
          201.79546,
          283.84608,
          314.20036,
          304.84853,
          167.47057,
          390.21669,
          313.39057,
          185.44281,
          265.16853,
          241.8673,
          212.79302,
          134.94812,
          185.20771,
          172.042,
          226.53342,
          218.72281,
          178.70322,
          199.65342,
          219.37587,
          170.31791,
          277.83791,
          298.00444,
          205.89669,
          60.73424,
          296.64608,
          235.07546,
          259.57832,
          188.39465,
          395.54567,
          268.61669,
          256.36526,
          212.61016,
          415.16363,
          166.03383,
          269.71383,
          194.87302,
          132.23138,
          180.45342,
          490.21342,
          243.80036,
          218.22649,
          179.30404,
          184.2673,
          621.45261,
          238.70649,
          233.89995,
          172.9824,
          216.76363,
          195.34322,
          211.12118,
          139.12771,
          247.01342,
          147.46077,
          188.29016,
          326.00771,
          376.52853,
          216.24118,
          263.57506,
          249.62567,
          122.72281,
          198.08608,
          239.69914,
          171.04934,
          223.11138,
          349.93587,
          183.71873,
          313.28608,
          191.76444,
          253.85751,
          201.79546,
          498.33751,
          185.12934,
          98.16771,
          168.64608,
          273.47546,
          255.65995,
          239.82975,
          199.05261,
          132.91057,
          224.23465,
          252.94322,
          315.66322,
          384.23465,
          239.82975,
          252.21179,
          369.29261,
          104.9073,
          195.34322,
          285.70077,
          205.84444,
          296.64608,
          186.64444,
          411.74159,
          184.39791,
          205.47873,
          269.71383,
          309.86404,
          285.80526,
          208.90077,
          205.26975,
          212.74077,
          362.39628,
          260.17914,
          296.64608,
          211.87873,
          246.85669,
          126.82404,
          235.7024,
          255.60771,
          252.52526,
          199.73179,
          197.53751,
          238.07955,
          271.3073,
          207.72526,
          211.43465,
          257.27955,
          230.16444,
          216.08444,
          242.99057,
          166.00771,
          158.24934,
          209.68444,
          231.05261,
          192.57424,
          420.46649,
          298.73587,
          210.83383,
          230.97424,
          208.14322,
          239.96036,
          235.54567,
          178.02404,
          246.07302,
          239.3073,
          280.00608,
          273.00526,
          268.38159,
          209.00526,
          265.76934,
          220.31628,
          294.55628,
          227.36934,
          196.20526,
          270.99383,
          236.09424,
          188.39465
         ]
        },
        {
         "mode": "lines",
         "name": "Linear fit",
         "type": "scatter",
         "x": [
          427695.5386111111,
          427697.26043209876,
          427698.9822530864,
          427700.70407407405,
          427702.4258950617,
          427704.1477160494,
          427705.86953703704,
          427707.5913580247,
          427709.31317901233,
          427711.035
         ],
         "y": [
          236.32753938005771,
          237.65026287542423,
          238.97298637079075,
          240.29570986615727,
          241.618433361582,
          242.94115685700672,
          244.26388035237323,
          245.58660384773975,
          246.90932734310627,
          248.2320508384728
         ]
        }
       ],
       "layout": {
        "template": {
         "data": {
          "bar": [
           {
            "error_x": {
             "color": "#2a3f5f"
            },
            "error_y": {
             "color": "#2a3f5f"
            },
            "marker": {
             "line": {
              "color": "white",
              "width": 0.5
             }
            },
            "type": "bar"
           }
          ],
          "barpolar": [
           {
            "marker": {
             "line": {
              "color": "white",
              "width": 0.5
             }
            },
            "type": "barpolar"
           }
          ],
          "carpet": [
           {
            "aaxis": {
             "endlinecolor": "#2a3f5f",
             "gridcolor": "#C8D4E3",
             "linecolor": "#C8D4E3",
             "minorgridcolor": "#C8D4E3",
             "startlinecolor": "#2a3f5f"
            },
            "baxis": {
             "endlinecolor": "#2a3f5f",
             "gridcolor": "#C8D4E3",
             "linecolor": "#C8D4E3",
             "minorgridcolor": "#C8D4E3",
             "startlinecolor": "#2a3f5f"
            },
            "type": "carpet"
           }
          ],
          "choropleth": [
           {
            "colorbar": {
             "outlinewidth": 0,
             "ticks": ""
            },
            "type": "choropleth"
           }
          ],
          "contour": [
           {
            "colorbar": {
             "outlinewidth": 0,
             "ticks": ""
            },
            "colorscale": [
             [
              0,
              "#0d0887"
             ],
             [
              0.1111111111111111,
              "#46039f"
             ],
             [
              0.2222222222222222,
              "#7201a8"
             ],
             [
              0.3333333333333333,
              "#9c179e"
             ],
             [
              0.4444444444444444,
              "#bd3786"
             ],
             [
              0.5555555555555556,
              "#d8576b"
             ],
             [
              0.6666666666666666,
              "#ed7953"
             ],
             [
              0.7777777777777778,
              "#fb9f3a"
             ],
             [
              0.8888888888888888,
              "#fdca26"
             ],
             [
              1,
              "#f0f921"
             ]
            ],
            "type": "contour"
           }
          ],
          "contourcarpet": [
           {
            "colorbar": {
             "outlinewidth": 0,
             "ticks": ""
            },
            "type": "contourcarpet"
           }
          ],
          "heatmap": [
           {
            "colorbar": {
             "outlinewidth": 0,
             "ticks": ""
            },
            "colorscale": [
             [
              0,
              "#0d0887"
             ],
             [
              0.1111111111111111,
              "#46039f"
             ],
             [
              0.2222222222222222,
              "#7201a8"
             ],
             [
              0.3333333333333333,
              "#9c179e"
             ],
             [
              0.4444444444444444,
              "#bd3786"
             ],
             [
              0.5555555555555556,
              "#d8576b"
             ],
             [
              0.6666666666666666,
              "#ed7953"
             ],
             [
              0.7777777777777778,
              "#fb9f3a"
             ],
             [
              0.8888888888888888,
              "#fdca26"
             ],
             [
              1,
              "#f0f921"
             ]
            ],
            "type": "heatmap"
           }
          ],
          "heatmapgl": [
           {
            "colorbar": {
             "outlinewidth": 0,
             "ticks": ""
            },
            "colorscale": [
             [
              0,
              "#0d0887"
             ],
             [
              0.1111111111111111,
              "#46039f"
             ],
             [
              0.2222222222222222,
              "#7201a8"
             ],
             [
              0.3333333333333333,
              "#9c179e"
             ],
             [
              0.4444444444444444,
              "#bd3786"
             ],
             [
              0.5555555555555556,
              "#d8576b"
             ],
             [
              0.6666666666666666,
              "#ed7953"
             ],
             [
              0.7777777777777778,
              "#fb9f3a"
             ],
             [
              0.8888888888888888,
              "#fdca26"
             ],
             [
              1,
              "#f0f921"
             ]
            ],
            "type": "heatmapgl"
           }
          ],
          "histogram": [
           {
            "marker": {
             "colorbar": {
              "outlinewidth": 0,
              "ticks": ""
             }
            },
            "type": "histogram"
           }
          ],
          "histogram2d": [
           {
            "colorbar": {
             "outlinewidth": 0,
             "ticks": ""
            },
            "colorscale": [
             [
              0,
              "#0d0887"
             ],
             [
              0.1111111111111111,
              "#46039f"
             ],
             [
              0.2222222222222222,
              "#7201a8"
             ],
             [
              0.3333333333333333,
              "#9c179e"
             ],
             [
              0.4444444444444444,
              "#bd3786"
             ],
             [
              0.5555555555555556,
              "#d8576b"
             ],
             [
              0.6666666666666666,
              "#ed7953"
             ],
             [
              0.7777777777777778,
              "#fb9f3a"
             ],
             [
              0.8888888888888888,
              "#fdca26"
             ],
             [
              1,
              "#f0f921"
             ]
            ],
            "type": "histogram2d"
           }
          ],
          "histogram2dcontour": [
           {
            "colorbar": {
             "outlinewidth": 0,
             "ticks": ""
            },
            "colorscale": [
             [
              0,
              "#0d0887"
             ],
             [
              0.1111111111111111,
              "#46039f"
             ],
             [
              0.2222222222222222,
              "#7201a8"
             ],
             [
              0.3333333333333333,
              "#9c179e"
             ],
             [
              0.4444444444444444,
              "#bd3786"
             ],
             [
              0.5555555555555556,
              "#d8576b"
             ],
             [
              0.6666666666666666,
              "#ed7953"
             ],
             [
              0.7777777777777778,
              "#fb9f3a"
             ],
             [
              0.8888888888888888,
              "#fdca26"
             ],
             [
              1,
              "#f0f921"
             ]
            ],
            "type": "histogram2dcontour"
           }
          ],
          "mesh3d": [
           {
            "colorbar": {
             "outlinewidth": 0,
             "ticks": ""
            },
            "type": "mesh3d"
           }
          ],
          "parcoords": [
           {
            "line": {
             "colorbar": {
              "outlinewidth": 0,
              "ticks": ""
             }
            },
            "type": "parcoords"
           }
          ],
          "pie": [
           {
            "automargin": true,
            "type": "pie"
           }
          ],
          "scatter": [
           {
            "marker": {
             "colorbar": {
              "outlinewidth": 0,
              "ticks": ""
             }
            },
            "type": "scatter"
           }
          ],
          "scatter3d": [
           {
            "line": {
             "colorbar": {
              "outlinewidth": 0,
              "ticks": ""
             }
            },
            "marker": {
             "colorbar": {
              "outlinewidth": 0,
              "ticks": ""
             }
            },
            "type": "scatter3d"
           }
          ],
          "scattercarpet": [
           {
            "marker": {
             "colorbar": {
              "outlinewidth": 0,
              "ticks": ""
             }
            },
            "type": "scattercarpet"
           }
          ],
          "scattergeo": [
           {
            "marker": {
             "colorbar": {
              "outlinewidth": 0,
              "ticks": ""
             }
            },
            "type": "scattergeo"
           }
          ],
          "scattergl": [
           {
            "marker": {
             "colorbar": {
              "outlinewidth": 0,
              "ticks": ""
             }
            },
            "type": "scattergl"
           }
          ],
          "scattermapbox": [
           {
            "marker": {
             "colorbar": {
              "outlinewidth": 0,
              "ticks": ""
             }
            },
            "type": "scattermapbox"
           }
          ],
          "scatterpolar": [
           {
            "marker": {
             "colorbar": {
              "outlinewidth": 0,
              "ticks": ""
             }
            },
            "type": "scatterpolar"
           }
          ],
          "scatterpolargl": [
           {
            "marker": {
             "colorbar": {
              "outlinewidth": 0,
              "ticks": ""
             }
            },
            "type": "scatterpolargl"
           }
          ],
          "scatterternary": [
           {
            "marker": {
             "colorbar": {
              "outlinewidth": 0,
              "ticks": ""
             }
            },
            "type": "scatterternary"
           }
          ],
          "surface": [
           {
            "colorbar": {
             "outlinewidth": 0,
             "ticks": ""
            },
            "colorscale": [
             [
              0,
              "#0d0887"
             ],
             [
              0.1111111111111111,
              "#46039f"
             ],
             [
              0.2222222222222222,
              "#7201a8"
             ],
             [
              0.3333333333333333,
              "#9c179e"
             ],
             [
              0.4444444444444444,
              "#bd3786"
             ],
             [
              0.5555555555555556,
              "#d8576b"
             ],
             [
              0.6666666666666666,
              "#ed7953"
             ],
             [
              0.7777777777777778,
              "#fb9f3a"
             ],
             [
              0.8888888888888888,
              "#fdca26"
             ],
             [
              1,
              "#f0f921"
             ]
            ],
            "type": "surface"
           }
          ],
          "table": [
           {
            "cells": {
             "fill": {
              "color": "#EBF0F8"
             },
             "line": {
              "color": "white"
             }
            },
            "header": {
             "fill": {
              "color": "#C8D4E3"
             },
             "line": {
              "color": "white"
             }
            },
            "type": "table"
           }
          ]
         },
         "layout": {
          "annotationdefaults": {
           "arrowcolor": "#2a3f5f",
           "arrowhead": 0,
           "arrowwidth": 1
          },
          "coloraxis": {
           "colorbar": {
            "outlinewidth": 0,
            "ticks": ""
           }
          },
          "colorscale": {
           "diverging": [
            [
             0,
             "#8e0152"
            ],
            [
             0.1,
             "#c51b7d"
            ],
            [
             0.2,
             "#de77ae"
            ],
            [
             0.3,
             "#f1b6da"
            ],
            [
             0.4,
             "#fde0ef"
            ],
            [
             0.5,
             "#f7f7f7"
            ],
            [
             0.6,
             "#e6f5d0"
            ],
            [
             0.7,
             "#b8e186"
            ],
            [
             0.8,
             "#7fbc41"
            ],
            [
             0.9,
             "#4d9221"
            ],
            [
             1,
             "#276419"
            ]
           ],
           "sequential": [
            [
             0,
             "#0d0887"
            ],
            [
             0.1111111111111111,
             "#46039f"
            ],
            [
             0.2222222222222222,
             "#7201a8"
            ],
            [
             0.3333333333333333,
             "#9c179e"
            ],
            [
             0.4444444444444444,
             "#bd3786"
            ],
            [
             0.5555555555555556,
             "#d8576b"
            ],
            [
             0.6666666666666666,
             "#ed7953"
            ],
            [
             0.7777777777777778,
             "#fb9f3a"
            ],
            [
             0.8888888888888888,
             "#fdca26"
            ],
            [
             1,
             "#f0f921"
            ]
           ],
           "sequentialminus": [
            [
             0,
             "#0d0887"
            ],
            [
             0.1111111111111111,
             "#46039f"
            ],
            [
             0.2222222222222222,
             "#7201a8"
            ],
            [
             0.3333333333333333,
             "#9c179e"
            ],
            [
             0.4444444444444444,
             "#bd3786"
            ],
            [
             0.5555555555555556,
             "#d8576b"
            ],
            [
             0.6666666666666666,
             "#ed7953"
            ],
            [
             0.7777777777777778,
             "#fb9f3a"
            ],
            [
             0.8888888888888888,
             "#fdca26"
            ],
            [
             1,
             "#f0f921"
            ]
           ]
          },
          "colorway": [
           "#636efa",
           "#EF553B",
           "#00cc96",
           "#ab63fa",
           "#FFA15A",
           "#19d3f3",
           "#FF6692",
           "#B6E880",
           "#FF97FF",
           "#FECB52"
          ],
          "font": {
           "color": "#2a3f5f"
          },
          "geo": {
           "bgcolor": "white",
           "lakecolor": "white",
           "landcolor": "white",
           "showlakes": true,
           "showland": true,
           "subunitcolor": "#C8D4E3"
          },
          "hoverlabel": {
           "align": "left"
          },
          "hovermode": "closest",
          "mapbox": {
           "style": "light"
          },
          "paper_bgcolor": "white",
          "plot_bgcolor": "white",
          "polar": {
           "angularaxis": {
            "gridcolor": "#EBF0F8",
            "linecolor": "#EBF0F8",
            "ticks": ""
           },
           "bgcolor": "white",
           "radialaxis": {
            "gridcolor": "#EBF0F8",
            "linecolor": "#EBF0F8",
            "ticks": ""
           }
          },
          "scene": {
           "xaxis": {
            "backgroundcolor": "white",
            "gridcolor": "#DFE8F3",
            "gridwidth": 2,
            "linecolor": "#EBF0F8",
            "showbackground": true,
            "ticks": "",
            "zerolinecolor": "#EBF0F8"
           },
           "yaxis": {
            "backgroundcolor": "white",
            "gridcolor": "#DFE8F3",
            "gridwidth": 2,
            "linecolor": "#EBF0F8",
            "showbackground": true,
            "ticks": "",
            "zerolinecolor": "#EBF0F8"
           },
           "zaxis": {
            "backgroundcolor": "white",
            "gridcolor": "#DFE8F3",
            "gridwidth": 2,
            "linecolor": "#EBF0F8",
            "showbackground": true,
            "ticks": "",
            "zerolinecolor": "#EBF0F8"
           }
          },
          "shapedefaults": {
           "line": {
            "color": "#2a3f5f"
           }
          },
          "ternary": {
           "aaxis": {
            "gridcolor": "#DFE8F3",
            "linecolor": "#A2B1C6",
            "ticks": ""
           },
           "baxis": {
            "gridcolor": "#DFE8F3",
            "linecolor": "#A2B1C6",
            "ticks": ""
           },
           "bgcolor": "white",
           "caxis": {
            "gridcolor": "#DFE8F3",
            "linecolor": "#A2B1C6",
            "ticks": ""
           }
          },
          "title": {
           "x": 0.05
          },
          "xaxis": {
           "automargin": true,
           "gridcolor": "#EBF0F8",
           "linecolor": "#EBF0F8",
           "ticks": "",
           "title": {
            "standoff": 15
           },
           "zerolinecolor": "#EBF0F8",
           "zerolinewidth": 2
          },
          "yaxis": {
           "automargin": true,
           "gridcolor": "#EBF0F8",
           "linecolor": "#EBF0F8",
           "ticks": "",
           "title": {
            "standoff": 15
           },
           "zerolinecolor": "#EBF0F8",
           "zerolinewidth": 2
          }
         }
        },
        "title": {
         "text": "Change in time spend per session over time for user 121"
        },
        "xaxis": {
         "title": {
          "text": "Time stamp in [h]"
         }
        },
        "yaxis": {
         "title": {
          "text": "Sum of lengths per interaction [s]"
         }
        }
       }
      }
     },
     "metadata": {}
    }
   ],
   "source": [
    "# Change of length of interaction for last session\n",
    "\"\"\"\n",
    "We want to investigate the change of time spend per session item for the last session, therefore we extract lengths of all interactions or songs played for the session id with the highest time stamp. Then we calculate a simple linear fit for each user. If the gradient of the line is positive, the time spend per interaction is increasing and vice versa. The principle is shown for user 51 who canceled his subscription.\n",
    "\"\"\"\n",
    "user = 121\n",
    "arr = np.array(spark.sql(f\"SELECT sessionId, ts/1000/3600, length FROM data_cleaned WHERE userId = {user} AND \\\n",
    "            sessionId = (SELECT MAX(sessionId) FROM data_cleaned WHERE userId = {user}) AND length IS NOT NULL \\\n",
    "            ORDER BY ts DESC\").collect())\n",
    "\n",
    "# Get time spend per individual session, calculate if positive or negative trend (linear regression)\n",
    "model = np.polyfit(arr[:,1], arr[:,2], 1)\n",
    "\n",
    "predict = np.poly1d(model)\n",
    "x_pred = np.linspace(min(arr[:,1]), max(arr[:,1]),10)\n",
    "y_pred = predict(x_pred)\n",
    "\n",
    "fig = go.Figure()\n",
    "fig.add_trace(go.Scatter(x=arr[:,1], y=arr[:,2], mode=\"lines+markers\", name=f\"Time spend per session user {user}\"))\n",
    "fig.add_trace(go.Scatter(x=x_pred, y=y_pred, mode=\"lines\", name=f\"Linear fit\"))\n",
    "fig.update_yaxes(title_text='Sum of lengths per interaction [s]')\n",
    "fig.update_xaxes(title_text='Time stamp in [h]')\n",
    "fig.update_layout(title_text=f\"Change in time spend per session over time for user {user}\",\n",
    "                  template='plotly_white')\n",
    "fig.show()"
   ]
  },
  {
   "cell_type": "code",
   "execution_count": 194,
   "metadata": {},
   "outputs": [
    {
     "output_type": "stream",
     "name": "stderr",
     "text": "100%|██████████| 52/52 [01:54<00:00,  2.20s/it]\n100%|██████████| 173/173 [06:37<00:00,  2.30s/it]\n"
    },
    {
     "output_type": "display_data",
     "data": {
      "application/vnd.plotly.v1+json": {
       "config": {
        "plotlyServerURL": "https://plot.ly"
       },
       "data": [
        {
         "name": "cancelling users",
         "type": "box",
         "y": [
          -53.934459402857456,
          -1.163166178159458,
          -2.889581952645459,
          5.29289529715784,
          -0.4297976108693773,
          -5.4158177435935055,
          25.182002353449136,
          -1027.6940886688828,
          -4.085105949103457,
          23.205029425233178,
          -1.6979335785614333,
          -79.66975500491093,
          15.615019831635767,
          1.4246917983180925,
          10.28830653000649,
          0.52314996919964,
          -6.5149493325795955,
          -7.1823490861826045,
          -0.39797964546908565,
          -3.0593743568910465,
          -0.8158917618114871,
          -32.24615445811815,
          4.454374296807877,
          5.057868992987788,
          4.662663647163896,
          190.12507829205958,
          -12.525067191673072,
          9.293267998821216,
          0.8240036277997811,
          1.1613652119953801,
          12.822327387845931,
          -146.30358143101864,
          -35.805802228445394,
          -7.540263960923561,
          11.45021317763933,
          0.6346400143134062,
          -45.29948976558849,
          -56.956809993247155,
          -24.506242007354462,
          12.050174045676249,
          -518.6667841764084,
          1.174217954799706,
          316.97961835250993,
          -70.46560692981424,
          -12.380690242228113,
          -3.681991727855914,
          0.7682119714344195,
          8.95907239456894,
          -30.123387497432795,
          55.36437903407899,
          -2.2103629869225583,
          40.457602537813415
         ]
        },
        {
         "name": "non cancelling users",
         "type": "box",
         "y": [
          8.287246064268937,
          -4.632479432542232,
          0,
          350.55819846620597,
          -0.7574950299211872,
          -1.5794104725429954,
          2.2897268278053313,
          -67.35777078772419,
          28.359138847861086,
          -0.11664149456740684,
          13.094090950878064,
          -114.13344934597797,
          -2.4435177473634133,
          19.73394108477444,
          -14.467835241951722,
          0,
          0.5462124927709029,
          28.699245408853063,
          -10.756781634178019,
          -8.46645857799341,
          3.464274007839819,
          10.806048419969262,
          173.09840008292133,
          -97.60061365979516,
          38.582923882432276,
          0,
          -0.6249226187698701,
          -1.4714523947393252,
          -2.3787640801759227,
          -9.600810614888893,
          3.0879426134049024,
          -7.478348322905454,
          -9.647859937537632,
          2.9544157747532127,
          139.64893855868704,
          -0.9216265659569117,
          776.2721659627555,
          -12.79905814762223,
          -38.119374888231896,
          -55.11462324348853,
          -1.0196203100073782,
          0.28589573665811746,
          -60.545990528865,
          5.4106792330204945,
          8.401462240555558,
          -0.35367658654319933,
          -386.8611738513849,
          12.949457677797145,
          5.824368797386394,
          0,
          -3.6666885982743422,
          183.56184655021744,
          -4.448992064756639,
          7.582792654824435,
          -1.7462650678348184,
          0.049137755872331774,
          0.7084074113386282,
          92.46181868748182,
          -233.06153805499292,
          -0.05422716583842786,
          2.031595861960145,
          15.89168148625138,
          2.5494976379563874,
          -0.24070867322679076,
          -35.16005060063789,
          2.6557714766069247,
          -0.2863596421453485,
          5.193611783491851,
          -60.994843563315975,
          8.680514713084891,
          -10.795647217987657,
          48.71782011218257,
          0.8331949306598927,
          -1.8830298275051363,
          -1.8961320915233195,
          -41.18074761021574,
          -14.573572016084933,
          -4.503616637216809,
          2.7701148516326946,
          -0.7802557404490317,
          20.20182596795056,
          3.4304897429284202,
          -2.807045323768965,
          -0.3490363523996085,
          -2.554680125389844,
          95.54023434803105,
          -3.8713861617434078,
          1.2387110397456773,
          -1.891434470134681,
          35.41876195065013,
          491.6518838221755,
          8.770504943713526,
          -17.472447225461693,
          0.04549969233121941,
          418.6868251495294,
          -18.14341629459678,
          -7.762136665006217,
          -6.308110486958595,
          0.08723676178365422,
          44.87828403148406,
          13.675188102137485,
          0,
          1.9074151038379308,
          1.796968143264582,
          41.408090856372596,
          5.12386152019781,
          -2.0860778250412135,
          -2.601705415999393,
          -1390.5706748010348,
          -32.63568799690225,
          -21.70312139272919,
          9.18012569864014,
          0,
          -301.2828751443315,
          16.378502683577945,
          -15.952133239809628,
          41.00995714975705,
          -17.933457966731222,
          2.735130522394938,
          0,
          -0.8584619335429217,
          -11.142112573940441,
          -16.55248055373764,
          -377.6761824734968,
          -44.727593866369446,
          -6.069575184049233,
          -5.462092340256616,
          589.6763184731012,
          -1.6634379394875214,
          6.956400669016342,
          -1.8745014658335413,
          -0.9153527302443168,
          -48.383341734688514,
          -1.3909278394059845,
          -0.15345666082821777,
          -44.18837461362424,
          -25.995286984986688,
          28.434284667535135,
          315.5092055441513,
          -90.87972304718575,
          -9.061483210297794,
          24.7025836211749,
          4.3130111615648,
          -4.80169786443382,
          -15.747533935517609,
          -11.075536964026501,
          1.0345050299227314,
          96.79967626990012,
          -169.0121057658919,
          31.263021476901873,
          42.262009718802226,
          1.2658436201294894,
          24.724658442380587,
          1.3724187926466858,
          0.19102154241156888,
          2.3429895003925747,
          -2.580248032018393,
          36.30174773282735,
          11.83169609033753,
          -2.067508145895836,
          1.4841362017177888,
          130.21021288106155,
          1.646351526433863,
          -6.681708128138773,
          4.752161724633828,
          3.1637608904786285,
          -18.528558370081704,
          0,
          -7.199446837024883,
          -0.4565780768618018,
          2.4919393423457334,
          36.76031142557137,
          77.46079254306235
         ]
        }
       ],
       "layout": {
        "template": {
         "data": {
          "bar": [
           {
            "error_x": {
             "color": "#2a3f5f"
            },
            "error_y": {
             "color": "#2a3f5f"
            },
            "marker": {
             "line": {
              "color": "white",
              "width": 0.5
             }
            },
            "type": "bar"
           }
          ],
          "barpolar": [
           {
            "marker": {
             "line": {
              "color": "white",
              "width": 0.5
             }
            },
            "type": "barpolar"
           }
          ],
          "carpet": [
           {
            "aaxis": {
             "endlinecolor": "#2a3f5f",
             "gridcolor": "#C8D4E3",
             "linecolor": "#C8D4E3",
             "minorgridcolor": "#C8D4E3",
             "startlinecolor": "#2a3f5f"
            },
            "baxis": {
             "endlinecolor": "#2a3f5f",
             "gridcolor": "#C8D4E3",
             "linecolor": "#C8D4E3",
             "minorgridcolor": "#C8D4E3",
             "startlinecolor": "#2a3f5f"
            },
            "type": "carpet"
           }
          ],
          "choropleth": [
           {
            "colorbar": {
             "outlinewidth": 0,
             "ticks": ""
            },
            "type": "choropleth"
           }
          ],
          "contour": [
           {
            "colorbar": {
             "outlinewidth": 0,
             "ticks": ""
            },
            "colorscale": [
             [
              0,
              "#0d0887"
             ],
             [
              0.1111111111111111,
              "#46039f"
             ],
             [
              0.2222222222222222,
              "#7201a8"
             ],
             [
              0.3333333333333333,
              "#9c179e"
             ],
             [
              0.4444444444444444,
              "#bd3786"
             ],
             [
              0.5555555555555556,
              "#d8576b"
             ],
             [
              0.6666666666666666,
              "#ed7953"
             ],
             [
              0.7777777777777778,
              "#fb9f3a"
             ],
             [
              0.8888888888888888,
              "#fdca26"
             ],
             [
              1,
              "#f0f921"
             ]
            ],
            "type": "contour"
           }
          ],
          "contourcarpet": [
           {
            "colorbar": {
             "outlinewidth": 0,
             "ticks": ""
            },
            "type": "contourcarpet"
           }
          ],
          "heatmap": [
           {
            "colorbar": {
             "outlinewidth": 0,
             "ticks": ""
            },
            "colorscale": [
             [
              0,
              "#0d0887"
             ],
             [
              0.1111111111111111,
              "#46039f"
             ],
             [
              0.2222222222222222,
              "#7201a8"
             ],
             [
              0.3333333333333333,
              "#9c179e"
             ],
             [
              0.4444444444444444,
              "#bd3786"
             ],
             [
              0.5555555555555556,
              "#d8576b"
             ],
             [
              0.6666666666666666,
              "#ed7953"
             ],
             [
              0.7777777777777778,
              "#fb9f3a"
             ],
             [
              0.8888888888888888,
              "#fdca26"
             ],
             [
              1,
              "#f0f921"
             ]
            ],
            "type": "heatmap"
           }
          ],
          "heatmapgl": [
           {
            "colorbar": {
             "outlinewidth": 0,
             "ticks": ""
            },
            "colorscale": [
             [
              0,
              "#0d0887"
             ],
             [
              0.1111111111111111,
              "#46039f"
             ],
             [
              0.2222222222222222,
              "#7201a8"
             ],
             [
              0.3333333333333333,
              "#9c179e"
             ],
             [
              0.4444444444444444,
              "#bd3786"
             ],
             [
              0.5555555555555556,
              "#d8576b"
             ],
             [
              0.6666666666666666,
              "#ed7953"
             ],
             [
              0.7777777777777778,
              "#fb9f3a"
             ],
             [
              0.8888888888888888,
              "#fdca26"
             ],
             [
              1,
              "#f0f921"
             ]
            ],
            "type": "heatmapgl"
           }
          ],
          "histogram": [
           {
            "marker": {
             "colorbar": {
              "outlinewidth": 0,
              "ticks": ""
             }
            },
            "type": "histogram"
           }
          ],
          "histogram2d": [
           {
            "colorbar": {
             "outlinewidth": 0,
             "ticks": ""
            },
            "colorscale": [
             [
              0,
              "#0d0887"
             ],
             [
              0.1111111111111111,
              "#46039f"
             ],
             [
              0.2222222222222222,
              "#7201a8"
             ],
             [
              0.3333333333333333,
              "#9c179e"
             ],
             [
              0.4444444444444444,
              "#bd3786"
             ],
             [
              0.5555555555555556,
              "#d8576b"
             ],
             [
              0.6666666666666666,
              "#ed7953"
             ],
             [
              0.7777777777777778,
              "#fb9f3a"
             ],
             [
              0.8888888888888888,
              "#fdca26"
             ],
             [
              1,
              "#f0f921"
             ]
            ],
            "type": "histogram2d"
           }
          ],
          "histogram2dcontour": [
           {
            "colorbar": {
             "outlinewidth": 0,
             "ticks": ""
            },
            "colorscale": [
             [
              0,
              "#0d0887"
             ],
             [
              0.1111111111111111,
              "#46039f"
             ],
             [
              0.2222222222222222,
              "#7201a8"
             ],
             [
              0.3333333333333333,
              "#9c179e"
             ],
             [
              0.4444444444444444,
              "#bd3786"
             ],
             [
              0.5555555555555556,
              "#d8576b"
             ],
             [
              0.6666666666666666,
              "#ed7953"
             ],
             [
              0.7777777777777778,
              "#fb9f3a"
             ],
             [
              0.8888888888888888,
              "#fdca26"
             ],
             [
              1,
              "#f0f921"
             ]
            ],
            "type": "histogram2dcontour"
           }
          ],
          "mesh3d": [
           {
            "colorbar": {
             "outlinewidth": 0,
             "ticks": ""
            },
            "type": "mesh3d"
           }
          ],
          "parcoords": [
           {
            "line": {
             "colorbar": {
              "outlinewidth": 0,
              "ticks": ""
             }
            },
            "type": "parcoords"
           }
          ],
          "pie": [
           {
            "automargin": true,
            "type": "pie"
           }
          ],
          "scatter": [
           {
            "marker": {
             "colorbar": {
              "outlinewidth": 0,
              "ticks": ""
             }
            },
            "type": "scatter"
           }
          ],
          "scatter3d": [
           {
            "line": {
             "colorbar": {
              "outlinewidth": 0,
              "ticks": ""
             }
            },
            "marker": {
             "colorbar": {
              "outlinewidth": 0,
              "ticks": ""
             }
            },
            "type": "scatter3d"
           }
          ],
          "scattercarpet": [
           {
            "marker": {
             "colorbar": {
              "outlinewidth": 0,
              "ticks": ""
             }
            },
            "type": "scattercarpet"
           }
          ],
          "scattergeo": [
           {
            "marker": {
             "colorbar": {
              "outlinewidth": 0,
              "ticks": ""
             }
            },
            "type": "scattergeo"
           }
          ],
          "scattergl": [
           {
            "marker": {
             "colorbar": {
              "outlinewidth": 0,
              "ticks": ""
             }
            },
            "type": "scattergl"
           }
          ],
          "scattermapbox": [
           {
            "marker": {
             "colorbar": {
              "outlinewidth": 0,
              "ticks": ""
             }
            },
            "type": "scattermapbox"
           }
          ],
          "scatterpolar": [
           {
            "marker": {
             "colorbar": {
              "outlinewidth": 0,
              "ticks": ""
             }
            },
            "type": "scatterpolar"
           }
          ],
          "scatterpolargl": [
           {
            "marker": {
             "colorbar": {
              "outlinewidth": 0,
              "ticks": ""
             }
            },
            "type": "scatterpolargl"
           }
          ],
          "scatterternary": [
           {
            "marker": {
             "colorbar": {
              "outlinewidth": 0,
              "ticks": ""
             }
            },
            "type": "scatterternary"
           }
          ],
          "surface": [
           {
            "colorbar": {
             "outlinewidth": 0,
             "ticks": ""
            },
            "colorscale": [
             [
              0,
              "#0d0887"
             ],
             [
              0.1111111111111111,
              "#46039f"
             ],
             [
              0.2222222222222222,
              "#7201a8"
             ],
             [
              0.3333333333333333,
              "#9c179e"
             ],
             [
              0.4444444444444444,
              "#bd3786"
             ],
             [
              0.5555555555555556,
              "#d8576b"
             ],
             [
              0.6666666666666666,
              "#ed7953"
             ],
             [
              0.7777777777777778,
              "#fb9f3a"
             ],
             [
              0.8888888888888888,
              "#fdca26"
             ],
             [
              1,
              "#f0f921"
             ]
            ],
            "type": "surface"
           }
          ],
          "table": [
           {
            "cells": {
             "fill": {
              "color": "#EBF0F8"
             },
             "line": {
              "color": "white"
             }
            },
            "header": {
             "fill": {
              "color": "#C8D4E3"
             },
             "line": {
              "color": "white"
             }
            },
            "type": "table"
           }
          ]
         },
         "layout": {
          "annotationdefaults": {
           "arrowcolor": "#2a3f5f",
           "arrowhead": 0,
           "arrowwidth": 1
          },
          "coloraxis": {
           "colorbar": {
            "outlinewidth": 0,
            "ticks": ""
           }
          },
          "colorscale": {
           "diverging": [
            [
             0,
             "#8e0152"
            ],
            [
             0.1,
             "#c51b7d"
            ],
            [
             0.2,
             "#de77ae"
            ],
            [
             0.3,
             "#f1b6da"
            ],
            [
             0.4,
             "#fde0ef"
            ],
            [
             0.5,
             "#f7f7f7"
            ],
            [
             0.6,
             "#e6f5d0"
            ],
            [
             0.7,
             "#b8e186"
            ],
            [
             0.8,
             "#7fbc41"
            ],
            [
             0.9,
             "#4d9221"
            ],
            [
             1,
             "#276419"
            ]
           ],
           "sequential": [
            [
             0,
             "#0d0887"
            ],
            [
             0.1111111111111111,
             "#46039f"
            ],
            [
             0.2222222222222222,
             "#7201a8"
            ],
            [
             0.3333333333333333,
             "#9c179e"
            ],
            [
             0.4444444444444444,
             "#bd3786"
            ],
            [
             0.5555555555555556,
             "#d8576b"
            ],
            [
             0.6666666666666666,
             "#ed7953"
            ],
            [
             0.7777777777777778,
             "#fb9f3a"
            ],
            [
             0.8888888888888888,
             "#fdca26"
            ],
            [
             1,
             "#f0f921"
            ]
           ],
           "sequentialminus": [
            [
             0,
             "#0d0887"
            ],
            [
             0.1111111111111111,
             "#46039f"
            ],
            [
             0.2222222222222222,
             "#7201a8"
            ],
            [
             0.3333333333333333,
             "#9c179e"
            ],
            [
             0.4444444444444444,
             "#bd3786"
            ],
            [
             0.5555555555555556,
             "#d8576b"
            ],
            [
             0.6666666666666666,
             "#ed7953"
            ],
            [
             0.7777777777777778,
             "#fb9f3a"
            ],
            [
             0.8888888888888888,
             "#fdca26"
            ],
            [
             1,
             "#f0f921"
            ]
           ]
          },
          "colorway": [
           "#636efa",
           "#EF553B",
           "#00cc96",
           "#ab63fa",
           "#FFA15A",
           "#19d3f3",
           "#FF6692",
           "#B6E880",
           "#FF97FF",
           "#FECB52"
          ],
          "font": {
           "color": "#2a3f5f"
          },
          "geo": {
           "bgcolor": "white",
           "lakecolor": "white",
           "landcolor": "white",
           "showlakes": true,
           "showland": true,
           "subunitcolor": "#C8D4E3"
          },
          "hoverlabel": {
           "align": "left"
          },
          "hovermode": "closest",
          "mapbox": {
           "style": "light"
          },
          "paper_bgcolor": "white",
          "plot_bgcolor": "white",
          "polar": {
           "angularaxis": {
            "gridcolor": "#EBF0F8",
            "linecolor": "#EBF0F8",
            "ticks": ""
           },
           "bgcolor": "white",
           "radialaxis": {
            "gridcolor": "#EBF0F8",
            "linecolor": "#EBF0F8",
            "ticks": ""
           }
          },
          "scene": {
           "xaxis": {
            "backgroundcolor": "white",
            "gridcolor": "#DFE8F3",
            "gridwidth": 2,
            "linecolor": "#EBF0F8",
            "showbackground": true,
            "ticks": "",
            "zerolinecolor": "#EBF0F8"
           },
           "yaxis": {
            "backgroundcolor": "white",
            "gridcolor": "#DFE8F3",
            "gridwidth": 2,
            "linecolor": "#EBF0F8",
            "showbackground": true,
            "ticks": "",
            "zerolinecolor": "#EBF0F8"
           },
           "zaxis": {
            "backgroundcolor": "white",
            "gridcolor": "#DFE8F3",
            "gridwidth": 2,
            "linecolor": "#EBF0F8",
            "showbackground": true,
            "ticks": "",
            "zerolinecolor": "#EBF0F8"
           }
          },
          "shapedefaults": {
           "line": {
            "color": "#2a3f5f"
           }
          },
          "ternary": {
           "aaxis": {
            "gridcolor": "#DFE8F3",
            "linecolor": "#A2B1C6",
            "ticks": ""
           },
           "baxis": {
            "gridcolor": "#DFE8F3",
            "linecolor": "#A2B1C6",
            "ticks": ""
           },
           "bgcolor": "white",
           "caxis": {
            "gridcolor": "#DFE8F3",
            "linecolor": "#A2B1C6",
            "ticks": ""
           }
          },
          "title": {
           "x": 0.05
          },
          "xaxis": {
           "automargin": true,
           "gridcolor": "#EBF0F8",
           "linecolor": "#EBF0F8",
           "ticks": "",
           "title": {
            "standoff": 15
           },
           "zerolinecolor": "#EBF0F8",
           "zerolinewidth": 2
          },
          "yaxis": {
           "automargin": true,
           "gridcolor": "#EBF0F8",
           "linecolor": "#EBF0F8",
           "ticks": "",
           "title": {
            "standoff": 15
           },
           "zerolinecolor": "#EBF0F8",
           "zerolinewidth": 2
          }
         }
        },
        "title": {
         "text": "Comparison of trend of time spend per interaction in last session"
        },
        "yaxis": {
         "title": {
          "text": "Trend of time spend per interation"
         }
        }
       }
      }
     },
     "metadata": {}
    }
   ],
   "source": [
    "# Calculate for all users\n",
    "canceled_users_length_change_last_sess = []\n",
    "non_canceled_users_length_change_last_sess = []\n",
    "\n",
    "# Cancelling users\n",
    "\n",
    "for user in tqdm(canceled_user_ids):\n",
    "    user = int(user[0])\n",
    "    arr = np.array(spark.sql(f\"SELECT sessionId, ts/1000/3600, length FROM data_cleaned WHERE userId = {user} AND \\\n",
    "            sessionId = (SELECT MAX(sessionId) FROM data_cleaned WHERE userId = {user}) AND length IS NOT NULL \\\n",
    "            ORDER BY ts DESC\").collect())\n",
    "    if len(arr)>1:\n",
    "        model = np.polyfit(arr[:,1].astype(float), arr[:,2].astype(float), 1)\n",
    "        canceled_users_length_change_last_sess.append((user,model[0]))\n",
    "    else:\n",
    "        canceled_users_length_change_last_sess.append((user,0))\n",
    "\n",
    "# Non canceling users\n",
    "\n",
    "for user in tqdm(non_canceled_user_ids):\n",
    "    user = int(user[0])\n",
    "    arr = np.array(spark.sql(f\"SELECT sessionId, ts/1000/3600, length FROM data_cleaned WHERE userId = {user} AND \\\n",
    "            sessionId = (SELECT MAX(sessionId) FROM data_cleaned WHERE userId = {user}) AND length IS NOT NULL \\\n",
    "            ORDER BY ts DESC\").collect())\n",
    "    if len(arr)>1:\n",
    "        model = np.polyfit(arr[:,1].astype(float), arr[:,2].astype(float), 1)\n",
    "        non_canceled_users_length_change_last_sess.append((user,model[0]))\n",
    "    else:\n",
    "        non_canceled_users_length_change_last_sess.append((user,0))\n",
    "\n",
    "canceled_users_length_change_last_sess = np.array(canceled_users_length_change_last_sess)\n",
    "non_canceled_users_length_change_last_sess = np.array(non_canceled_users_length_change_last_sess)\n",
    "fig = go.Figure()\n",
    "fig.add_trace(go.Box(y=canceled_users_length_change_last_sess[:,1], name = 'cancelling users', ))  \n",
    "fig.add_trace(go.Box(y=non_canceled_users_length_change_last_sess[:,1], name = 'non cancelling users', ))\n",
    "fig.update_yaxes(title_text='Trend of time spend per interation')\n",
    "fig.update_layout(title_text=\"Comparison of trend of time spend per interaction in last session\",\n",
    "                  template='plotly_white')\n",
    "fig.show()"
   ]
  },
  {
   "cell_type": "markdown",
   "metadata": {},
   "source": [
    "## Chosen features:\n",
    "- ### Time difference between registration and last time stamp:\n",
    "    To consider influence of time since registration\n",
    "- ### Gender\n",
    "    To consider influence of gender\n",
    "- ### Radio of Thumps up to thumps down\n",
    "    To consider overall liking of the offered music and the mood\n",
    "- ### Number of Friends\n",
    "    To consider the network aspect of the platform\n",
    "- ### Number of interactions with error page\n",
    "    To consider effect of malfunctions of the plaform\n",
    "- ### Trend of time spend per session\n",
    "    To consider decrease of long-term intrest in the platform for users with a lot of interactions\n",
    "- ### Trend time spend per interaction\n",
    "    To consider decrease of short-term intrest in the platform e.g. users that only use the platform for 1 or two session"
   ]
  },
  {
   "cell_type": "markdown",
   "metadata": {},
   "source": [
    "# Feature Engineering\n",
    "Once you've familiarized yourself with the data, build out the features you find promising to train your model on. To work with the full dataset, you can follow the following steps.\n",
    "- Write a script to extract the necessary features from the smaller subset of data\n",
    "- Ensure that your script is scalable, using the best practices discussed in Lesson 3\n",
    "- Try your script on the full data set, debugging your script if necessary\n",
    "\n",
    "If you are working in the classroom workspace, you can just extract features based on the small subset of data contained here. Be sure to transfer over this work to the larger dataset when you work on your Spark cluster."
   ]
  },
  {
   "cell_type": "code",
   "execution_count": 35,
   "metadata": {},
   "outputs": [
    {
     "output_type": "stream",
     "name": "stdout",
     "text": "+--------------------+---------+---------+------+-------------+--------+---------+-----+--------------------+------+---------------+-------------+---------+--------------------+------+-------------+--------------------+------+--------------+\n|              artist|     auth|firstName|gender|itemInSession|lastName|   length|level|            location|method|           page| registration|sessionId|                song|status|           ts|           userAgent|userId|TimeDifference|\n+--------------------+---------+---------+------+-------------+--------+---------+-----+--------------------+------+---------------+-------------+---------+--------------------+------+-------------+--------------------+------+--------------+\n|      Martha Tilston|Logged In|    Colin|     M|           50| Freeman|277.89016| paid|     Bakersfield, CA|   PUT|       NextSong|1538173362000|       29|           Rockpools|   200|1538352117000|Mozilla/5.0 (Wind...|    30|  1.78755008E8|\n|    Five Iron Frenzy|Logged In|    Micah|     M|           79|    Long|236.09424| free|Boston-Cambridge-...|   PUT|       NextSong|1538331630000|        8|              Canada|   200|1538352180000|\"Mozilla/5.0 (Win...|     9|       2.055E7|\n|        Adam Lambert|Logged In|    Colin|     M|           51| Freeman| 282.8273| paid|     Bakersfield, CA|   PUT|       NextSong|1538173362000|       29|   Time For Miracles|   200|1538352394000|Mozilla/5.0 (Wind...|    30|     1.79032E8|\n|              Enigma|Logged In|    Micah|     M|           80|    Long|262.71302| free|Boston-Cambridge-...|   PUT|       NextSong|1538331630000|        8|Knocking On Forbi...|   200|1538352416000|\"Mozilla/5.0 (Win...|     9|      2.0786E7|\n|           Daft Punk|Logged In|    Colin|     M|           52| Freeman|223.60771| paid|     Bakersfield, CA|   PUT|       NextSong|1538173362000|       29|Harder Better Fas...|   200|1538352676000|Mozilla/5.0 (Wind...|    30|     1.79314E8|\n|The All-American ...|Logged In|    Micah|     M|           81|    Long|208.29995| free|Boston-Cambridge-...|   PUT|       NextSong|1538331630000|        8|      Don't Leave Me|   200|1538352678000|\"Mozilla/5.0 (Win...|     9|      2.1048E7|\n|The Velvet Underg...|Logged In|    Micah|     M|           82|    Long|260.46649| free|Boston-Cambridge-...|   PUT|       NextSong|1538331630000|        8|         Run Run Run|   200|1538352886000|\"Mozilla/5.0 (Win...|     9|      2.1256E7|\n|        Starflyer 59|Logged In|    Colin|     M|           53| Freeman|185.44281| paid|     Bakersfield, CA|   PUT|       NextSong|1538173362000|       29|Passengers (Old A...|   200|1538352899000|Mozilla/5.0 (Wind...|    30|  1.79536992E8|\n|                null|Logged In|    Colin|     M|           54| Freeman|     null| paid|     Bakersfield, CA|   PUT|Add to Playlist|1538173362000|       29|                null|   200|1538352905000|Mozilla/5.0 (Wind...|    30|  1.79543008E8|\n|            Frumpies|Logged In|    Colin|     M|           55| Freeman|134.47791| paid|     Bakersfield, CA|   PUT|       NextSong|1538173362000|       29|          Fuck Kitty|   200|1538353084000|Mozilla/5.0 (Wind...|    30|     1.79722E8|\n|        Britt Nicole|Logged In|    Micah|     M|           83|    Long| 229.8771| free|Boston-Cambridge-...|   PUT|       NextSong|1538331630000|        8|   Walk On The Water|   200|1538353146000|\"Mozilla/5.0 (Win...|     9|      2.1516E7|\n|                null|Logged In|    Micah|     M|           84|    Long|     null| free|Boston-Cambridge-...|   GET|    Roll Advert|1538331630000|        8|                null|   200|1538353150000|\"Mozilla/5.0 (Win...|     9|       2.152E7|\n|Edward Sharpe & T...|Logged In|    Colin|     M|           56| Freeman|223.58159| paid|     Bakersfield, CA|   PUT|       NextSong|1538173362000|       29|                Jade|   200|1538353218000|Mozilla/5.0 (Wind...|    30|     1.79856E8|\n|               Tesla|Logged In|    Micah|     M|           85|    Long|201.06404| free|Boston-Cambridge-...|   PUT|       NextSong|1538331630000|        8|      Gettin' Better|   200|1538353375000|\"Mozilla/5.0 (Win...|     9|      2.1745E7|\n|                null|Logged In|    Micah|     M|           86|    Long|     null| free|Boston-Cambridge-...|   PUT|      Thumbs Up|1538331630000|        8|                null|   307|1538353376000|\"Mozilla/5.0 (Win...|     9|      2.1746E7|\n|         Stan Mosley|Logged In|    Colin|     M|           57| Freeman|246.69995| paid|     Bakersfield, CA|   PUT|       NextSong|1538173362000|       29|   So-Called Friends|   200|1538353441000|Mozilla/5.0 (Wind...|    30|  1.80079008E8|\n|Florence + The Ma...|Logged In|    Micah|     M|           87|    Long|168.64608| free|Boston-Cambridge-...|   PUT|       NextSong|1538331630000|        8| You've Got The Love|   200|1538353576000|\"Mozilla/5.0 (Win...|     9|      2.1946E7|\n|   Tokyo Police Club|Logged In|  Ashlynn|     F|            0|Williams| 166.1122| free|     Tallahassee, FL|   PUT|       NextSong|1537365219000|      217|Citizens Of Tomorrow|   200|1538353668000|\"Mozilla/5.0 (Mac...|    74|   9.8844902E8|\n|             Orishas|Logged In|    Colin|     M|           58| Freeman|222.22322| paid|     Bakersfield, CA|   PUT|       NextSong|1538173362000|       29|           Represent|   200|1538353687000|Mozilla/5.0 (Wind...|    30|  1.80324992E8|\n|             Ratatat|Logged In|    Micah|     M|           88|    Long|229.77261| free|Boston-Cambridge-...|   PUT|       NextSong|1538331630000|        8|              Swisha|   200|1538353744000|\"Mozilla/5.0 (Win...|     9|      2.2114E7|\n+--------------------+---------+---------+------+-------------+--------+---------+-----+--------------------+------+---------------+-------------+---------+--------------------+------+-------------+--------------------+------+--------------+\nonly showing top 20 rows\n\n"
    }
   ],
   "source": [
    "# Add Churn column\n",
    "def valueToCategory(value):\n",
    "   if   value == 'Cancellation Confirmation': return 1\n",
    "   else : return 0\n",
    "# Calculate time between registration and timestamp\n",
    "def timeDifference(registration,ts):\n",
    "    return float(ts)-float(registration)\n",
    "# Calculate number of interactions with error page for users\n",
    "def errorPageInteractions(userId):\n",
    "    return data_feat_eng[(data_feat_eng['page']=='Error') & (data_feat_eng['userId']==userId)].count()\n",
    "# Calculate avg. number of Session items\n",
    "# Calculate avg. session length\n",
    "\n",
    "from pyspark.sql.functions import udf\n",
    "from pyspark.sql.types import *\n",
    "\n",
    "timeDifference = udf(timeDifference, FloatType())\n",
    "data_feat_eng = data_cleaned.withColumn(\"Churn\", udfValueToCategory('page'))\n",
    "data_feat_eng = data_cleaned.withColumn(\"TimeDifference\", timeDifference('registration','ts'))\n",
    "data_feat_eng.show()"
   ]
  },
  {
   "cell_type": "code",
   "execution_count": 313,
   "metadata": {},
   "outputs": [],
   "source": [
    "# Create data frame with chose features\n",
    "canceled_users_length_change = np.nan_to_num(canceled_users_length_change)\n",
    "non_canceled_users_length_change = np.nan_to_num(non_canceled_users_length_change)\n",
    "canceled_users_length_change_last_sess = np.nan_to_num(canceled_users_length_change_last_sess)\n",
    "non_canceled_users_length_change_last_sess = np.nan_to_num(non_canceled_users_length_change_last_sess)\n",
    "\n",
    "data_feat_eng = spark.sql(\"\"\" SELECT\n",
    "                 userId, \n",
    "                 (MAX(ts)-MIN(registration))/1000/3600 AS time_since_reg,\n",
    "                 MAX(CASE WHEN gender = 'M' Then 1 ELSE 0 END) AS gender,\n",
    "                 SUM(CASE WHEN page = 'Add Friend' THEN 1 ELSE 0 END) AS num_friends,\n",
    "                 NVL(SUM(CASE WHEN page = 'Thumbs Up' THEN 1 ELSE 0 END)/SUM(CASE WHEN page = 'Thumbs Down' THEN 1 ELSE 0 END),0) AS TU_TD_ratio,\n",
    "                 SUM(CASE WHEN page = 'Error' THEN 1 ELSE 0 END) AS error_page_inter,\n",
    "                 MAX(CASE WHEN page = 'Cancellation Confirmation' THEN 1 ELSE 0 END) AS churn\n",
    "                 FROM data_cleaned GROUP BY userId\n",
    "                \"\"\")\n",
    "\n",
    "def length_trend(value):\n",
    "    if float(value) in canceled_users_length_change[:, 0]: return float(round(canceled_users_length_change[np.where(canceled_users_length_change[:, 0]==float(value))[0][0],1],2))\n",
    "    elif float(value) in non_canceled_users_length_change[:, 0]: return float(round(non_canceled_users_length_change[np.where(non_canceled_users_length_change[:, 0]==float(value))[0][0],1],2))\n",
    "    else: None\n",
    "def length_trend_last_session(value):\n",
    "    if float(value) in canceled_users_length_change_last_sess[:, 0]: return float(round(canceled_users_length_change_last_sess[np.where(canceled_users_length_change_last_sess[:, 0]==float(value))[0][0],1],2))\n",
    "    elif float(value) in non_canceled_users_length_change_last_sess[:, 0]: return float(round(non_canceled_users_length_change_last_sess[np.where(non_canceled_users_length_change_last_sess[:, 0]==float(value))[0][0],1],2))\n",
    "    else: None\n",
    "\n",
    "\n",
    "from pyspark.sql.functions import udf\n",
    "from pyspark.sql.types import *\n",
    "length_trend = udf(length_trend, StringType())\n",
    "length_trend_last_session = udf(length_trend_last_session, StringType())\n",
    "data_feat_eng = data_feat_eng.withColumn(\"length_change\", length_trend('userId'))\n",
    "data_feat_eng = data_feat_eng.withColumn(\"length_change_last_sess\", length_trend_last_session('userId'))\n",
    "# reorder columns\n",
    "data_feat_eng = data_feat_eng.select(\"userId\", \"time_since_reg\", \"gender\", \"num_friends\", \"TU_TD_ratio\" , \"error_page_inter\", \"length_change\", \"length_change_last_sess\", \"churn\")"
   ]
  },
  {
   "cell_type": "code",
   "execution_count": 314,
   "metadata": {},
   "outputs": [
    {
     "output_type": "stream",
     "name": "stdout",
     "text": "+------+------------------+------+-----------+------------------+----------------+-------------+-----------------------+-----+\n|userId|    time_since_reg|gender|num_friends|       TU_TD_ratio|error_page_inter|length_change|length_change_last_sess|churn|\n+------+------------------+------+-----------+------------------+----------------+-------------+-----------------------+-----+\n|100010|1335.4477777777777|     0|          4|               3.4|               0|         5.74|                   8.29|    0|\n|200002|1681.7911111111111|     1|          4|               3.5|               0|        26.01|                  -4.63|    0|\n|   125|1711.6052777777777|     1|          0|               0.0|               0|          0.0|                 -53.93|    1|\n|    51| 466.9402777777778|     1|         28| 4.761904761904762|               1|      -165.54|                  -1.16|    1|\n|   124|3157.3419444444444|     0|         74| 4.170731707317073|               6|          0.0|                    0.0|    0|\n|     7|1746.6763888888888|     1|          1|               7.0|               1|        -0.79|                 350.56|    0|\n|    54|2658.0405555555553|     0|         33| 5.620689655172414|               1|          0.0|                  -2.89|    1|\n|    15|1356.3258333333333|     1|         31| 5.785714285714286|               2|          0.0|                  -0.76|    0|\n|   155| 565.3444444444444|     0|         11|19.333333333333332|               3|        70.38|                  -1.58|    0|\n|   132| 1605.338611111111|     0|         41| 5.647058823529412|               3|        20.83|                   2.29|    0|\n|   154| 572.9288888888889|     0|          3|               0.0|               0|         0.51|                 -67.36|    0|\n|100014|2042.0016666666668|     1|          6| 5.666666666666667|               0|        -3.87|                   5.29|    1|\n|   101|         1295.1825|     1|         29|             5.375|               3|        98.82|                  -0.43|    1|\n|    11|2987.4780555555553|     0|          6| 4.444444444444445|               1|        11.55|                  28.36|    0|\n|   138|1599.0405555555556|     1|         41|3.9583333333333335|               1|        61.51|                  -0.12|    0|\n|300017|1784.6044444444444|     0|         63|10.821428571428571|               5|          0.0|                  13.09|    0|\n|    29|1442.4972222222223|     1|         47|               7.0|               0|         3.77|                  25.18|    1|\n|    69|1714.1866666666667|     0|         12|               8.0|               4|        12.22|                -114.13|    0|\n|100021|1553.7327777777778|     1|          7|               2.2|               2|        23.49|                  -5.42|    1|\n|    42|         1610.7275|     0|         52|              6.64|               7|          0.0|                  -2.44|    0|\n+------+------------------+------+-----------+------------------+----------------+-------------+-----------------------+-----+\nonly showing top 20 rows\n\n"
    }
   ],
   "source": [
    "data_feat_eng.show()"
   ]
  },
  {
   "cell_type": "markdown",
   "metadata": {},
   "source": [
    "# Modeling\n",
    "Split the full dataset into train, test, and validation sets. Test out several of the machine learning methods you learned. Evaluate the accuracy of the various models, tuning parameters as necessary. Determine your winning model based on test accuracy and report results on the validation set. Since the churned users are a fairly small subset, I suggest using F1 score as the metric to optimize."
   ]
  },
  {
   "cell_type": "code",
   "execution_count": 322,
   "metadata": {},
   "outputs": [],
   "source": [
    "# Import mllip packages\n",
    "from pyspark.ml.tuning import CrossValidator, ParamGridBuilder, CrossValidatorModel\n",
    "from pyspark.ml.classification import LogisticRegression, DecisionTreeClassifier\n",
    "from pyspark.ml.feature import VectorAssembler, Normalizer\n",
    "from pyspark.ml.evaluation import BinaryClassificationEvaluator"
   ]
  },
  {
   "cell_type": "code",
   "execution_count": 317,
   "metadata": {},
   "outputs": [
    {
     "output_type": "stream",
     "name": "stdout",
     "text": "+------+------------------+------+-----------+------------------+----------------+-------------+-----------------------+-----+\n|userId|    time_since_reg|gender|num_friends|       TU_TD_ratio|error_page_inter|length_change|length_change_last_sess|churn|\n+------+------------------+------+-----------+------------------+----------------+-------------+-----------------------+-----+\n|100010|1335.4477777777777|     0|          4|               3.4|               0|         5.74|                   8.29|    0|\n|   125|1711.6052777777777|     1|          0|               0.0|               0|          0.0|                 -53.93|    1|\n|   124|3157.3419444444444|     0|         74| 4.170731707317073|               6|          0.0|                    0.0|    0|\n|     7|1746.6763888888888|     1|          1|               7.0|               1|        -0.79|                 350.56|    0|\n|    54|2658.0405555555553|     0|         33| 5.620689655172414|               1|          0.0|                  -2.89|    1|\n|   155| 565.3444444444444|     0|         11|19.333333333333332|               3|        70.38|                  -1.58|    0|\n|100014|2042.0016666666668|     1|          6| 5.666666666666667|               0|        -3.87|                   5.29|    1|\n|   132| 1605.338611111111|     0|         41| 5.647058823529412|               3|        20.83|                   2.29|    0|\n|   154| 572.9288888888889|     0|          3|               0.0|               0|         0.51|                 -67.36|    0|\n|   101|         1295.1825|     1|         29|             5.375|               3|        98.82|                  -0.43|    1|\n|    11|2987.4780555555553|     0|          6| 4.444444444444445|               1|        11.55|                  28.36|    0|\n|   138|1599.0405555555556|     1|         41|3.9583333333333335|               1|        61.51|                  -0.12|    0|\n|300017|1784.6044444444444|     0|         63|10.821428571428571|               5|          0.0|                  13.09|    0|\n|100021|1553.7327777777778|     1|          7|               2.2|               2|        23.49|                  -5.42|    1|\n|    29|1442.4972222222223|     1|         47|               7.0|               0|         3.77|                  25.18|    1|\n|    69|1714.1866666666667|     0|         12|               8.0|               4|        12.22|                -114.13|    0|\n|    73|           1194.29|     0|         11|               2.0|               1|       -27.19|               -1027.69|    1|\n|    87|1419.0205555555556|     1|         27|               6.4|               0|        18.16|                  -4.09|    1|\n|200010| 915.4197222222223|     0|          8|               2.0|               1|        -20.9|                    0.0|    0|\n|    64|1179.6586111111112|     1|          5|               0.0|               0|         12.4|                 -14.47|    0|\n+------+------------------+------+-----------+------------------+----------------+-------------+-----------------------+-----+\nonly showing top 20 rows\n\n"
    }
   ],
   "source": [
    "# Shuffle data\n",
    "cv_data, hold_off_data= data_feat_eng.randomSplit([0.75, 0.25], seed=42)\n",
    "\n",
    "# Split data in data for cross validation and hold-off data\n",
    "cv_data.show()"
   ]
  },
  {
   "cell_type": "code",
   "execution_count": null,
   "metadata": {},
   "outputs": [],
   "source": [
    "clf = LogisticRegression()\n",
    "\n",
    "cv_grid = ParamGridBuilder() \\\n",
    "    .addGrid(lr.elasticNetParam,[0.0, 0.1]) \\\n",
    "    .addGrid(lr.regParam,[0.0, 0.1]) \\\n",
    "    .build()\n",
    "\n",
    "cross_val =CrossValidator(esimator = clf,\n",
    "                          estimatorParamMaps = cv_grid,\n",
    "                          evaluator = ,\n",
    "                          numFolds = 3)"
   ]
  },
  {
   "cell_type": "markdown",
   "metadata": {},
   "source": [
    "# Final Steps\n",
    "Clean up your code, adding comments and renaming variables to make the code easier to read and maintain. Refer to the Spark Project Overview page and Data Scientist Capstone Project Rubric to make sure you are including all components of the capstone project and meet all expectations. Remember, this includes thorough documentation in a README file in a Github repository, as well as a web app or blog post."
   ]
  },
  {
   "cell_type": "code",
   "execution_count": null,
   "metadata": {},
   "outputs": [],
   "source": []
  }
 ],
 "metadata": {
  "kernelspec": {
   "display_name": "sparkify",
   "language": "python",
   "name": "sparkify"
  },
  "language_info": {
   "codemirror_mode": {
    "name": "ipython",
    "version": 3
   },
   "file_extension": ".py",
   "mimetype": "text/x-python",
   "name": "python",
   "nbconvert_exporter": "python",
   "pygments_lexer": "ipython3",
   "version": "3.7.3-final"
  }
 },
 "nbformat": 4,
 "nbformat_minor": 2
}